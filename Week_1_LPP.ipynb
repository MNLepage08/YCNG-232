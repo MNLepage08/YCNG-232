{
  "nbformat": 4,
  "nbformat_minor": 0,
  "metadata": {
    "colab": {
      "provenance": []
    },
    "kernelspec": {
      "name": "python3",
      "display_name": "Python 3"
    },
    "language_info": {
      "name": "python"
    }
  },
  "cells": [
    {
      "cell_type": "markdown",
      "source": [
        "**1.\tWhat data did you use? If it is a book from Gutenberg, which one?**"
      ],
      "metadata": {
        "id": "qaPCf46QVLma"
      }
    },
    {
      "cell_type": "markdown",
      "source": [
        "Load the text file Le Petit Prince from the Web"
      ],
      "metadata": {
        "id": "SGLQ7hBY9X-d"
      }
    },
    {
      "cell_type": "code",
      "execution_count": 1,
      "metadata": {
        "colab": {
          "base_uri": "https://localhost:8080/",
          "height": 34
        },
        "id": "H5M3YY7m0IBD",
        "outputId": "43887c36-a4a5-46cb-d809-fbc8a32f0130"
      },
      "outputs": [
        {
          "output_type": "execute_result",
          "data": {
            "text/plain": [
              "\"lepetitprinceexupery.free.fr\\n****************************\\n\\n\\nChapitre 1\\n\\nLorsque j'avais six ans j'ai\""
            ],
            "application/vnd.google.colaboratory.intrinsic+json": {
              "type": "string"
            }
          },
          "metadata": {},
          "execution_count": 1
        }
      ],
      "source": [
        "from urllib.request import urlopen\n",
        "url = \"http://lepetitprinceexupery.free.fr/telecharger/le-petit-prince--antoine-de-saint-exupery.txt\"\n",
        "text = urlopen(url).read().decode(\"Windows-1252\")\n",
        "text[:100]"
      ]
    },
    {
      "cell_type": "markdown",
      "source": [
        "Take only the text"
      ],
      "metadata": {
        "id": "a7_EeY6bHYve"
      }
    },
    {
      "cell_type": "code",
      "source": [
        "marker = 'lepetitprinceexupery.free.fr\\n****************************\\n\\n\\n'\n",
        "startPosition = text.index(marker) + len(marker)\n",
        "content = text[startPosition:]"
      ],
      "metadata": {
        "id": "eor4J4mb0NT8"
      },
      "execution_count": 2,
      "outputs": []
    },
    {
      "cell_type": "code",
      "source": [
        "marker = '\\n\\n\\n\\n\\n****************************\\nlepetitprinceexupery.free.fr'\n",
        "endPosition = text.index(marker) - len(marker)\n",
        "content1 = content[:endPosition]\n",
        "content1[-600:]"
      ],
      "metadata": {
        "colab": {
          "base_uri": "https://localhost:8080/",
          "height": 83
        },
        "id": "zci6GXgMAZQK",
        "outputId": "f29fa343-1aa3-4af3-dfa6-28a58006192c"
      },
      "execution_count": 3,
      "outputs": [
        {
          "output_type": "execute_result",
          "data": {
            "text/plain": [
              "'l\\'autre, et ça suffit ! Il a oublié, un soir, le globe de verre, ou bien le mouton est sorti sans bruit pendant la nuit...\"Alors les grelots se changent tous en larmes ! ...\\n\\nC\\'est là un bien grand mystère. Pour vous qui aimez aussi le petit prince, comme pour moi, rien de l\\'univers n\\'est semblable si quelque part, on ne sait où, un mouton que nous ne connaissons pas a, oui ou non, mangé une rose...\\n\\nRegardez le ciel. Demandez-vous : Le mouton oui ou non a-t-il mangé la fleur ? Et vous verrez comme tout change...\\n\\nEt aucune grande personne ne comprendra jamais que ça a tellement d\\'importance !'"
            ],
            "application/vnd.google.colaboratory.intrinsic+json": {
              "type": "string"
            }
          },
          "metadata": {},
          "execution_count": 3
        }
      ]
    },
    {
      "cell_type": "code",
      "source": [
        "content1"
      ],
      "metadata": {
        "colab": {
          "base_uri": "https://localhost:8080/",
          "height": 116
        },
        "id": "lSXLUm42hZqd",
        "outputId": "23246196-3e5c-45b7-9f61-4c70e4b9643f"
      },
      "execution_count": 4,
      "outputs": [
        {
          "output_type": "execute_result",
          "data": {
            "text/plain": [
              "'Chapitre 1\\n\\nLorsque j\\'avais six ans j\\'ai vu, une fois, une magnifique image, dans un livre sur la Forêt Vierge qui s\\'appelait\"Histoires Vécues\". Ça représentait un serpent boa qui avalait un fauve. Voilà la copie du dessin.\\n\\nOn disait dans le livre :\"Les serpents boas avalent leur proie tout entière, sans la mâcher. Ensuite ils ne peuvent plus bouger et ils dorment pendant les six mois de leur digestion.\"\\n\\nJ\\'ai alors beaucoup réfléchi sur les aventures de la jungle et, à mon tour, j\\'ai réussi, avec un crayon de couleur, à tracer mon premier dessin. Mon dessin numéro i. Il était comme ça :\\n\\nJ\\'ai montré mon chef-d\\'oeuvre aux grandes personnes et je leur ai demandé si mon dessin leur faisait peur.\\nElles m\\'ont répondu :\"Pourquoi un chapeau ferait-il peur ?\"\\n\\nMon dessin ne représentait pas un chapeau. Il représentait un serpent boa qui digérait un éléphant. J\\'ai alors dessiné l\\'intérieur du serpent boa, afin que les grandes personnes puissent comprendre. Elles ont toujours besoin d\\'explications. Mon dessin numéro 2 était comme ça:\\n\\nLes grandes personnes m\\'ont conseillé de laisser de côté les dessins de serpents boas ouverts ou fermés, et de m\\'intéresser plutôt à la géographie, à l\\'histoire, au calcul et à la grammaire. C\\'est ainsi que j\\'ai abandonné, à l\\'âge de six ans, une magnifique carrière de peintre. J\\'avais été découragé par l\\'insuccès de mon dessin numéro i et de mon dessin numéro 2. Les grandes personnes ne comprennent jamais rien toutes seules, et c\\'est fatigant, pour les enfants, de toujours et toujours leur donner des explications.\\n\\nJ\\'ai donc dû choisir un autre métier et j\\'ai appris à piloter des avions. J\\'ai volé un peu partout dans le monde. Et la géographie, c\\'est exact, m\\'a beaucoup servi. Je savais reconnaître, du premier coup d\\'oeil la Chine de l\\'Arizona. C\\'est très utile, si l\\'on est égaré pendant la nuit.\\n\\nJ\\'ai ainsi eu, au cours de ma vie, des tas de contacts avec des tas de gens sérieux. J\\'ai beaucoup vécu chez les grandes personnes. Je les ai vues de très près. Ça n\\'a pas trop amélioré mon opinion.\\n\\nQuand j\\'en rencontrais une qui me paraissait un peu lucide, je faisais l\\'expérience sur elle de mon dessin numéro i que j\\'ai toujours conservé. Je voulais savoir si elle était vraiment compréhensive. Mais toujours elle me répondait :\"C\\'e§t un chapeau.\"Alors je ne lui parlais ni de serpents boas, ni de forêts vierges, ni d\\'étoiles. Je me mettais à sa portée. Je lui parlais de bridge, de golf, de politique et de cravates. Et la grande personne était bien contente de connaître un homme aussi raisonnable.\\n\\n\\n\\nChapitre 2\\n\\nJ\\'ai ainsi vécu seul, sans personne avec qui parler \\'véritablement, jusqu\\'à une panne dans le désert du Sahara, il y a six ans. Quelque chose s\\'était cassée dans mon moteur. Et comme je n\\'avais avec moi ni mécanicien, ni passagers, je me préparai à essayer de réussir, tout seul, une réparation difficile. C\\'était pour moi une question de vie ou de mort. J\\'avais à peine de l\\'eau à boire pour huit jours,\\n\\nLe premier soir je me suis donc endormi sur le sable à mille milles de toute terre habitée. J\\'étais bien plus isolé qu\\'un naufragé sur un radeau au milieu de l\\'Océan. Alors vous imaginez ma surprise, au lever du jour, quand une drôle de petite voix m\\'a réveillé. Elle disait :\\n\\n- S\\'il vous plaît... dessine-moi un mouton !\\n\\n- Dessine-moi un mouton...\\n\\nJ\\'ai sauté sur mes pieds comme si j\\'avais été frappé par la foudre. J\\'ai bien frotté mes yeux. J\\'ai bien regardé. Et j\\'ai vu un petit bonhomme tout à fait extraordinaire qui me considérait gravement. Voilà le meilleur portrait que, plus tard, j\\'ai réussi à faire de lui. Mais mon dessin, bien sûr, est beaucoup moins ravissant que le modèle. Ce n\\'est pas ma faute. J\\'avais été découragé dans ma carrière de peintre par les grandes personnes, à l\\'âge de six ans, et je n\\'avais rien appris à dessiner, sauf les boas fermés et les boas ouverts.\\n\\nje regardai donc cette apparition avec des yeux tout ronds d\\'étonnement. N\\'oubliez pas que je me trouvais à mille milles de toute région habitée. Or mon petit bonhomme ne me semblait ni égaré, ni mort de fatigue, ni mort de faim, ni mort de soif, ni mort de peur. Il n\\'avait en rien l\\'apparence d\\'un enfant perdu au milieu du désert, à mille milles de toute région habitée. Quand je réussis enfin à parler, je lui dis :\\n\\n- Mais... qu\\'est-ce que tu fais là ?\\n\\nEt il me répéta alors, tout doucement, comme une chose très sérieuse :\\n\\n- S\\'il vous plaît... dessine-moi un mouton...\\n\\nQuand le mystère est trop impressionnant, on n\\'ose pas désobéir. Aussi absurde que cela me semblât à mille milles de tous les endroits habités et en danger de mort, je sortis de ma poche une feuille de papier et un stylographe. Mais je me rappelai alors que j\\'avais surtout étudié la géographie, l\\'histoire, le calcul et la grammaire et je dis au petit bonhomme (avec un peu de mauvaise humeur) que je ne savais pas dessiner. Il me répondit :\\n\\n- ça ne fait rien. Dessine-moi un mouton.\\n\\nComme je n\\'avais jamais dessiné un mouton je refis, pour lui, l\\'un des deux seuls dessins dont j\\'étais capable. Celui du boa fermé. Et je fus stupéfait d\\'entendre le petit bonhomme me répondre :\\n\\n- Non ! Non 1 je ne veux pas d\\'un éléphant dans un boa. Un boa c\\'est très dangereux, et un éléphant c\\'est très encombrant. Chez moi c\\'est tout petit. J\\'ai besoin d\\'un mouton. Dessine-moi un mouton.\\n\\nAlors j\\'ai dessiné.\\n\\nIl regarda attentivement, puis\\n\\n- Non! Celui-là est déjà très malade. Fais-en un autre.\\n\\nJe dessinai :\\n\\nMon ami sourit gentiment, avec indulgence :\\n\\n- Tu vois bien... ce n\\'est pas un mouton, c\\'est un bélier. Il a des cornes...\\n\\nJe refis donc encore mon dessin :\\n\\nMais il fut refusé, comme les précédents :\\n\\n- Celui-là est trop vieux. je veux un mouton qui vive longtemps.\\n\\nAlors, faute de patience, comme j\\'avais hâte de commencer le démontage de mon moteur, je griffonnai ce dessin-ci.\\n\\nEt je lançai :\\n\\n- ça c\\'est la caisse. Le mouton que tu veux est dedans.\\n\\nMais je fus bien surpris de voir s\\'illuminer le visage de mon jeune juge :\\n\\n- C\\'est tout à fait comme ça que je le\\n\\nVoulais ! Crois-tu qu\\'il faille beaucoup d\\'herbe à ce mouton ?\\n\\n- Pourquoi ?\\n\\n- Parce que chez moi c\\'est tout petit...\\n\\n- Ça suffira sûrement. je t\\'ai donné un tout petit mouton.\\n\\nIl pencha la tête vers le dessin\\n\\n- Pas si petit que ça... Tiens Il s\\'est endormi...\\n\\nEt c\\'est ainsi que je fis la connaissance du petit prince.\\n\\n\\nChapitre 3\\n\\nIl me fallut longtemps pour comprendre d\\'où il venait.\\n\\nLe petit prince, qui me posait beaucoup de questions, ne semblait jamais entendre les miennes. Ce sont des mots prononcés par hasard qui, peu à peu, m\\'ont tout révélé. Ainsi, quand il aperçut pour la première fois mon avion (je ne dessinerai pas mon avion, c\\'est un dessin beaucoup trop compliqué pour moi) il me demanda :\\n\\n- Qu\\'est-ce que c\\'est que cette chose-là ?\\n\\n- Ce n\\'est pas une chose. Ça vole. C\\'est un avion. C\\'est mon avion.\\n\\nEt j\\'étais fier de lui apprendre que je volais. Alors il s\\'écria\\n\\n- Comment ! Tu es tombé du ciel ?\\n\\n- Oui, fis-je modestement.\\n\\n- Ah 1 ça c\\'est drôle...\\n\\nEt le petit prince eut un très joli éclat de rire qui m\\'irrita beaucoup. Je désire que l\\'on prenne mes malheurs au sérieux. Puis il ajouta :\\n\\n- Alors, toi aussi tu viens du ciel 1 De quelle planète es-tu ?\\n\\nJ\\'entrevis aussitôt une lueur, dans le mystère de sa présence, et j\\'interrogeai brusquement :\\n\\n- Tu viens donc d\\'une autre planète ?\\n\\nMais il ne me répondit pas. Il hochait la tête doucement tout en regardant mon avion :\\n\\n- C\\'est vrai que, là-dessus, tu ne peux pas venir de bien loin...\\n\\nEt il s\\'enfonça dans une rêverie qui dura longtemps. Puis, sortant mon mouton de sa poche, il se plongea dans la contemplation de son trésor.\\n\\nVous imaginez combien j\\'avais pu être intrigué par cette demi confidence sur\"les autres planètes\". Je m\\'efforçai donc d\\'en savoir plus long :\\n\\n- D\\'où viens-tu, mon petit bonhomme ? Où est-ce\"chez toi\"? Où veux-tu emporter mon mouton ?\\n\\nIl me répondit après un silence méditatif :\\n\\n- Ce qui est bien, avec la caisse que tu m\\'as donnée, c\\'est que, la nuit, ça lui servira de maison.\\n\\n- Bien sûr. Et si tu es gentil, je te donnerai aussi une corde pour l\\'attacher pendant le jour. Et un piquet.\\n\\nLa proposition parut choquer le petit prince\\n\\n- L\\'attacher ? Quelle drôle d\\'idée !\\n\\n- Mais si tu ne l\\'attaches pas, il ira n\\'importe où, et il se perdra...\\n\\nEt mon ami eut un nouvel éclat de rire\\n- Mais où veux-tu qu\\'il aille ?\\n- N\\'importe où. Droit devant lui...\\nAlors le petit prince remarqua gravement\\n- ça ne fait rien, c\\'est tellement petit, chez moi\\nEt, avec un peu de mélancolie, peut-être, il ajouta\\n- Droit devant soi on ne peut pas aller bien loin...\\n\\nchapitre 4\\n\\nJ\\'avais ainsi appris une seconde chose très importante : C\\'est que sa planète d\\'origine était à peine plus grande qu\\'une maison !\\n\\nÇa ne pouvait pas m\\'étonner beaucoup. Je savais bien qu\\'en dehors des grosses planètes comme la Terre, Jupiter, Mars, Vénus, auxquelles on a donné des noms, il y en a des centaines d\\'autres qui \\tsont quelquefois si petites qu\\'on a beaucoup de mal à les apercevoir au télescope. Quand un astronome découvre l\\'une d\\'elles, il lui donne pour nom un numéro. Il l\\'appelle par exemple :\"l\\'astéroïde 3251\".\\n\\nJ\\'ai de sérieuses raisons de croire que la planète d\\'où venait le petit prince est l\\'astéroïde B 612. Cet astéroïde n\\'a été aperçu qu\\'une fois au télescope, en 1909 par un astronome turc.\\n\\nIl avait fait alors une grande démonstration de sa découverte à un Congrès International d\\'Astronomie. Mais personne ne l\\'avait cru à cause de son costume. Les grandes personnes sont comme ça.\\n\\nHeureusement pour la réputation de l\\'astéroïde B 612 un dictateur turc imposa à son peuple, sous peine de mort, de s\\'habiller à l\\'européenne. L\\'astronome refit sa démonstration en 1920 dans un habit très élégant. Et cette fois-ci tout le monde fut de son avis.\\n\\nSi je vous ai raconté ces détails sur l\\'astéroïde B 612 et si je vous ai confié son numéro, c\\'est à cause des grandes personnes. Les grandes personnes aiment les chiffres. Quand vous leur parlez d\\'un nouvel ami, elles ne vous questionnent jamais sur l\\'essentiel. Elles ne vous disent jamais:\"Quel est le son de sa voix ? Quels sont les jeux qu\\'il préfère ? Est-ce qu\\'il collectionne les papillons ?\"Elles vous demandent:\"Quel âge a-t-il ? Combien a-t-il de frères ? Combien pèse-t-il ? Combien gagne son père ?\"Alors seulement elles croient le connaître. Si vous dites aux grandes personnes :\"J\\'ai vu une belle maison en briques roses, avec des géraniums aux fenêtres et des colombes sur le toit...\"Elles ne parviennent pas à s\\'imaginer cette maison. Il faut leur dire :\"J\\'ai vu une maison de cent mille francs.\"Alors elles s\\'écrient :\"Comme c\\'est joli !\"\\n\\nAinsi, si vous leur dites :\"La preuve que le petit prince a existé c\\'est qu\\'il était ravissant, qu\\'il riait, et qu\\'il voulait un mouton. Quand on veut un mouton, c\\'est la preuve qu\\'on existe\", elles hausseront les épaules et vous traiteront d\\'enfant! Mais si vous leur dites :\"La planète d\\'où il venait est l\\'astéroïde B 612\", alors elles seront convaincues, et elles vous laisseront tranquille avec leurs questions. Elles sont comme ça. Il ne faut pas leur en vouloir. Les enfants doivent être très indulgents envers les grandes personnes.\\n\\nMais, bien sûr, nous qui comprenons la vie, nous nous moquons bien des numéros ! J\\'aurais aimé commencer cette histoire à la façon des contes de fées. J\\'aurais aimé dire :\\n\\n\"Il était une fois un petit prince qui habitait une planète à peine plus grande que lui, et qui avait besoin d\\'un ami...\"Pour ceux qui comprennent la vie, ça aurait eu l\\'air beaucoup plus vrai.\\n\\nCar je n\\'aime pas qu\\'on lise mon livre à la légère. J\\'éprouve tant de chagrin à raconter ces souvenirs. Il y a six ans déjà que mon ami s\\'en est allé avec son mouton. Si j\\'essaie ici de le décrire, c\\'est afin de ne pas l\\'oublier. C\\'est triste d\\'oublier un ami. Tout le monde n\\'a pas eu un ami. Et je puis devenir comme les grandes personnes qui ne s\\'intéressent plus qu\\'aux chiffres. C\\'est donc pour ça encore que j\\'ai acheté une boîte de couleurs et des crayons. C\\'est dur de se remettre au dessin, à mon âge, quand on n\\'a jamais fait d\\'autres tentatives que celle d\\'un boa fermé et celle d\\'un boa ouvert, à l\\'âge de six ans ! J\\'essaierai, bien sûr, de faire des portraits le plus ressemblants possible. Mais je ne suis pas tout à fait certain de réussir. Un dessin va, et l\\'autre ne ressemble plus. Je me trompe un peu aussi sur la taille. Ici le petit prince est trop grand. Là il est trop petit. J\\'hésite aussi sur la couleur de son costume. Alors je tâtonne comme ci et comme ça, tant bien que mal. Je me tromperai enfin sur certains détails plus importants. Mais ça, il faudra me le pardonner. Mon ami ne donnait jamais d\\'explications. Il me croyait peut-être semblable à lui. Mais moi, malheureusement, je ne sais pas voir les moutons à travers les caisses. Je suis peut-être un peu comme les grandes personnes. J\\'ai dû vieillir.\\n\\n\\nChapitre 5\\n\\nChaque jour j\\'apprenais quelque chose sur la planète, sur le départ, sur le voyage. Ça venait tout doucement, au hasard des réflexions. C\\'est ainsi que, le troisième jour, je connus le drame des baobabs.\\n\\nCette fois-ci encore ce fut grâce au mouton, car brusquement le petit prince m\\'interrogea, comme pris d\\'un doute grave :\\n\\n- C\\'est bien vrai, n\\'est-ce pas, que les moutons mangent les arbustes ?\\n\\n- Oui. C\\'est vrai.\\n\\n- Ah ! Je suis content.\\n\\nJe ne compris pas pourquoi il était si important que les moutons mangeassent les arbustes. Mais le petit prince ajouta :\\n\\n- Par conséquent ils mangent aussi les baobabs ?\\n\\nJe fis remarquer au petit prince que les baobabs ne sont pas des arbustes, mais des arbres grands comme des églises et que, si même il emportait avec lui tout un troupeau d\\'éléphants, ce troupeau ne viendrait pas à bout d\\'un seul baobab.\\n\\nL\\'idée du troupeau d\\'éléphants fit rire le petit prince\\n\\n- Il faudrait les mettre les uns sur les autres...\\n\\nMais il remarqua avec sagesse :\\n\\n- Les baobabs, avant de grandir, ça commence par être petit.\\n\\n- C\\'est exact ! Mais pourquoi veux-tu que tes moutons mangent les petits baobabs ?\\n\\nIl me répondit:\"Ben! Voyons!\"Comme s\\'il s\\'agissait là d\\'une évidence. Et il me fallut un grand effort d\\'intelligence pour comprendre à moi seul ce problème.\\n\\nEt en effet, sur la planète du petit prince, il y avait comme sur toutes les planètes, de bonnes herbes et de mauvaises herbes. Par conséquent de bonnes graines de bonnes herbes et de mauvaises graines de mauvaises herbes. Mais les graines sont invisibles. Elles dorment dans le secret de la terre jusqu\\'à ce qu\\'il prenne fantaisie à l\\'une d\\'elles de se réveiller... Alors elle s\\'étire, et pousse d\\'abord timidement vers le soleil une ravissante petite brindille inoffensive. S\\'il s\\'agit d\\'une brindille de radis ou de rosier, on peut la laisser pousser comme elle veut. Mais s\\'il s\\'agit d\\'une mauvaise plante, il faut arracher la plante aussitôt, dès qu\\'on a su la reconnaître. Or il y avait des graines terribles sur la planète du petit prince... c\\'étaient les graines de baobabs. Le sol de la planète en était infesté. Or un baobab, si l\\'on s\\'y prend trop tard, on ne peut jamais plus s\\'en débarrasser. Il encombre toute la planète. Il la perfore de ses racines. Et si la planète est trop petite, et si les baobabs sont trop nombreux, ils la font éclater.\\n\\n\"C\\'est une question de discipline, me disait plus tard le petit prince. Quand on a terminé sa toilette du matin, il faut faire soigneusement la toilette de la planète. Il faut s\\'astreindre régulièrement à arracher les baobabs dès qu\\'on les distingue d\\'avec les rosiers auxquels ils ressemblent beaucoup quand ils sont très jeunes. C\\'est un travail très ennuyeux, mais très facile.\"\\n\\nEt un jour il me conseilla de m\\'appliquer à réussir un beau dessin, pour bien faire entrer ça dans la tête des enfants de chez moi.\"S\\'ils voyagent un jour, me disait-il, ça pourra leur servir. Il est quelquefois sans inconvénient de remettre à plus tard son travail. Mais, s\\'il s\\'agit des baobabs, c\\'est toujours une catastrophe. J\\'ai connu une planète, habitée par un paresseux. Il avait négligé trois arbustes...\"\\n\\nEt, sur les indications du petit prince, j\\'ai dessiné cette planète-là. Je n\\'aime guère prendre le ton d\\'un moraliste. Mais le danger des baobabs est si peu connu, et les risques courus par celui qui s\\'égarerait dans un astéroïde sont si considérables, que, pour une fois, je fais exception à ma réserve. Je dis:\"Enfants 1 Faites attention aux baobabs 1\"C\\'est pour avertir mes amis d\\'un danger qu\\'ils frôlaient depuis longtemps, comme moi-même, sans le connaître, que j\\'ai tant travaillé ce dessin-là. La leçon que je donnais en valait la peine. Vous vous demanderez peut-être : Pourquoi n\\'y a-t-il pas, dans ce livre, d\\'autres dessins aussi grandioses que le dessin des baobabs ? La réponse est bien simple : J\\'ai essayé mais je n\\'ai pas pu réussir. Quand j\\'ai dessiné les baobabs j\\'ai été animé par le sentiment de l\\'urgence.\\n\\n\\nChapitre 6\\n\\nAh ! petit prince, j\\'ai compris, peu à peu, ainsi, ta petite vie mélancolique. Tu n\\'avais eu longtemps pour distraction que la douceur des couchers de soleil. J\\'ai appris ce détail nouveau, le quatrième jour au matin, quand tu m\\'a dit :\\n\\nJ\\'aime bien les couchers de soleil. Allons voir un coucher de soleil...\\n\\n- Mais il faut attendre...\\n\\n- Attendre quoi ?\\n\\n- Attendre que le soleil se couche.\\n\\nTu as eu J\\'air très surpris d\\'abord, et puis tu as ri de toi-même. Et tu m\\'as dit :\\n\\n- Je me crois toujours chez moi\\n\\nEn effet. Quand il est midi aux États-Unis, le soleil, tout le monde le sait, se couche sur la France. Il suffirait de pouvoir aller en France en une minute pour assister au coucher de soleil. Malheureusement la France est bien trop éloignée. Mais, sur ta si petite planète, il te suffisait de tirer ta chaise de quelques pas. Et tu regardais le crépuscule chaque fois que tu le désirais...\\n\\n- Un jour, j\\'ai vu le soleil se coucher quarante-trois fois !\\n\\nEt un peu plus tard tu ajoutais\\n\\nTu sais... quand on est tellement triste on aime les couchers de soleil...\\n\\n- Le jour des quarante-trois fois tu étais donc tellement triste ?\\n\\nMais le petit prince ne répondit pas.\\n\\n\\nChapitre 7\\n\\nLe cinquième jour, toujours grâce au mouton, ce secret de la vie du petit prince me fut révélé. Il me demanda avec brusquerie, sans préambule, comme le fruit d\\'un problème longtemps médité en silence :\\n\\n- Un mouton, s\\'il mange les arbustes, il mange aussi les fleurs ?\\n\\n- Un mouton mange tout ce qu\\'il rencontre.\\n\\n- Même les fleurs qui ont des épines ?\\n\\n- Oui. Même les fleurs qui ont des épines.\\n\\n- Alors les épines, à quoi servent-elles ?\\n\\nJe ne le savais pas. J\\'étais alors très occupé à essayer de dévisser un boulon trop serré de mon moteur. J\\'étais très soucieux car ma panne commençait de m\\'apparaître comme très grave, et l\\'eau à boire qui s\\'épuisait me faisait craindre le pire.\\n\\n- Les épines, à quoi servent-elles ?\\n\\nLe petit prince ne renonçait jamais à une question, une fois qu\\'il l\\'avait posée. J\\'étais irrité par mon boulon et je répondis n\\'importe quoi :\\n\\n- Les épines, ça ne sert à rien, c\\'est de la pure méchanceté de la part des fleurs\\n\\n- Oh !\\n\\nMais après un silence il me lança, avec une sorte de rancune :\\n\\n- Je ne te crois pas ! Les fleurs sont faibles. Elles sont naïves. Elles se rassurent comme elles peuvent. Elles se croient terribles avec leurs épines...\\n\\nJe ne répondis rien. À cet instant-là je me disais :\"Si ce boulon résiste encore, je le ferai sauter d\\'un coup de marteau.\"Le petit prince dérangea de nouveau mes réflexions :\\n\\n- Et tu crois, toi, que les fleurs...\\n\\n- Mais non ! Mais non ! Je ne crois rien ! J\\'ai répondu n\\'importe quoi. Je m\\'occupe, moi, de choses sérieuses !\\n\\nIl me regarda stupéfait.\\n\\n- De choses sérieuses\\n\\nIl me voyait, mon marteau à la main, et les doigts noirs de cambouis, penché sur un objet qui lui semblait très laid.\\n\\n- Tu parles comme les grandes personnes !\\n\\nÇa me fit un peu honte. Mais, impitoyable, il ajouta\\n\\n- Tu confonds tout... tu mélanges tout !\\n\\nIl était vraiment très irrité. Il secouait au vent des cheveux tout dorés :\\n\\n- Je connais une planète où il y a un Monsieur cramoisi. Il n\\'a jamais respiré une fleur. Il n\\'a jamais regardé une étoile. Il n\\'a jamais aimé personne. Il n\\'a jamais rien fait d\\'autre que des additions. Et toute la journée il répète comme toi :\"Je suis un homme sérieux ! Je suis un homme sérieux !\"et ça le fait gonfler d\\'orgueil. Mais ce n\\'est pas un homme, c\\'est un champignon!\\n\\n- Un quoi ?\\n\\n- Un champignon\\n\\nLe petit prince était maintenant tout pâle de colère.\\n\\n- Il y a des millions d\\'années que les fleurs fabriquent des épines. Il y a des millions d\\'années que les moutons mangent quand même les fleurs. Et ce n\\'est pas sérieux de chercher à comprendre pourquoi elles se donnent tant de mal pour se fabriquer des épines qui ne servent jamais à rien ? Ce n\\'est pas important la guerre des moutons et des fleurs ? Ce n\\'est pas plus sérieux et plus important que les additions d\\'un gros Monsieur rouge ? Et si je connais, moi, une fleur unique au monde, qui n\\'existe nulle part, sauf dans ma planète, et qu\\'un petit mouton peut anéantir d\\'un seul coup, comme ça, un matin, sans se rendre compte de ce qu\\'il fait, ce n\\'est pas important ça\\n\\nIl rougit, puis reprit :\\n\\n- Si quelqu\\'un aime une fleur qui n\\'existe qu\\'à un exemplaire dans les millions et les millions d\\'étoiles, ça suffit pour qu\\'il soit heureux quand il les regarde. Il se dit:\"Ma fleur est là quelque part...\"Mais si le mouton mange la fleur, c\\'est pour lui comme si, brusquement, toutes les étoiles s\\'éteignaient ! Et ce n\\'est pas important ça !\\n\\nIl ne put rien dire de plus. Il éclata brusquement en sanglots. La nuit était tombée. J\\'avais lâché mes outils. Je me moquais bien de mon marteau, de mon boulon, de la soif et de la mort. Il y avait, sur une étoile, une planète, la mienne, la Terre, un petit prince à consoler ! Je le pris dans les bras. Je le berçai. Je lui disais :\"La fleur que tu aimes n\\'est pas en danger... Je lui dessinerai une muselière, à ton mouton... Je te dessinerai une armure pour ta fleur... Je...\"Je ne savais pas trop quoi dire. Je me sentais très maladroit. Je ne savais comment l\\'atteindre, où le rejoindre... C\\'est tellement mystérieux, le pays des larmes.\\n\\n\\nChapitre 8\\n\\nJ\\'appris bien vite à mieux connaître cette fleur. Il y \\'avait toujours eu, sur la planète du petit prince, des fleurs très simples, ornées d\\'un seul rang de pétales, et qui ne tenaient point de place, et qui ne dérangeaient personne. Elles apparaissaient un matin dans l\\'herbe, et puis elles s\\'éteignaient le soir. Mais celle-là avait germé un jour, d\\'une graine apportée d\\'on ne sait où, et le petit prince avait surveillé de très près cette brindille qui ne ressemblait pas aux autres brindilles. Ça pouvait être un nouveau genre de baobab. Mais l\\'arbuste cessa vite de croître, et commença de préparer une fleur. Le petit prince, qui assistait à l\\'installation d\\'un bouton énorme, sentait bien qu\\'il en sortirait une apparition miraculeuse, mais la fleur n\\'en finissait pas de se préparer à être belle, à l\\'abri de sa chambre verte. Elle choisissait avec soin ses couleurs. Elle s\\'habillait lentement, elle ajustait un à un ses pétales. Elle ne voulait pas sortir toute fripée comme les coquelicots. Elle ne voulait apparaître que dans le plein rayonnement de sa beauté. Eh ! oui. Elle était très coquette ! Sa toilette mystérieuse avait donc duré des jours et des jours. Et puis voici qu\\'un matin, justement à l\\'heure du lever du soleil, elle s\\'était montrée.\\n\\nEt elle, qui avait travaillé avec tant de précision, dit en bâillant :\\n\\n- Ah ! Je me réveille à peine... Je vous demande pardon... Je suis encore toute décoiffée...\\n\\nLe petit prince, alors, ne put contenir son admiration\\n\\n- Que vous êtes belle !\\n\\n- N\\'est-ce pas, répondit doucement la fleur. Et je suis née en même temps que le soleil...\\n\\nLe petit prince devina bien qu\\'elle n\\'était pas trop modeste, mais elle était si émouvante !\\n\\n- C\\'est l\\'heure, je crois, du petit déjeuner, avait elle bientôt ajouté, auriez vous la bonté de penser à moi...\\n\\nEt le petit prince, tout confus, ayant été chercher un arrosoir d\\'eau fraîche, avait servi la fleur.\\n\\nAinsi l\\'avait-elle bien vite tourmenté par sa vanité un peu ombrageuse. Un jour, par exemple, parlant de ses quatre épines, elle avait dit au petit prince\\n\\nIls peuvent venir, les tigres, avec leurs griffes\\n\\nIl n\\'y a pas de tigres sur ma planète, avait objecté le petit prince, et puis les tigres ne mangent pas l\\'herbe.\\n\\n- Je ne suis pas une herbe, avait doucement répondu la fleur.\\n\\n- Pardonnez-moi...\\n\\n- Je ne crains rien des tigres, mais j\\'ai horreur des courants d\\'air. Vous n\\'auriez pas un paravent ?\\n\\n\"Horreur des courants d\\'air... ce n\\'est pas de chance, pour une plante, avait remarqué le petit prince. Cette fleur est bien compliquée...\"\\n\\n- Le soir vous me mettrez sous globe. Il fait très froid chez vous. C\\'est mal installé. Là d\\'où je viens...\\n\\nMais elle s\\'était interrompue. Elle était venue sous forme de graine, elle n\\'avait rien pu connaître des autres mondes. Humiliée de s\\'être laissé surprendre à préparer un mensonge aussi naïf, elle avait toussé deux ou trois fois, pour mettre le petit prince dans son tort\\n\\n- Ce paravent ?...\\n\\n- J\\'allais le chercher mais vous me parliez !\\n\\nAlors elle avait forcé sa toux pour lui infliger quand même des remords.\\n\\nAinsi le petit prince, malgré la bonne volonté de son amour, avait vite douté d\\'elle. Il avait pris au sérieux des mots sans importance, et était devenu très malheureux.\\n\\n\"J\\'aurais dû ne pas l\\'écouter, me confia-t-il un jour, il ne faut jamais écouter les fleurs. Il faut les regarder et les respirer. La mienne embaumait ma planète, mais je ne savais pas m\\'en réjouir. Cette histoire de griffes, qui m\\'avait tellement agacé, eût dû m\\'attendrir...\"\\n\\nIl me confia encore :\\n\\n\"Je n\\'ai alors rien su comprendre J\\'aurais dû la juger sur les actes et non sur les mots. Elle m\\'embaumait et m\\'éclairait. Je n\\'aurais jamais dû m\\'enfuir ! J\\'aurais dû deviner sa tendresse derrière ses pauvres ruses. Les fleurs sont si contradictoires ! Mais j\\'étais trop jeune pour savoir l\\'aimer.\"\\n\\n\\nChapitre 9\\n\\nJe crois qu\\'il profita, pour son évasion, d\\'une migration d\\'oiseaux sauvages. Au matin du départ il mit sa planète bien en ordre. Il ramona soigneusement ses volcans en activité. Il possédait deux volcans en activité. Et c\\'était bien commode pour faire chauffer le petit déjeuner du matin. Il possédait aussi un volcan éteint. Mais, comme il disait :\"On ne sait jamais !\"Il ramona donc également le volcan éteint. S\\'ils sont bien ramonés, les volcans brûlent doucement et régulièrement, sans éruptions. Les éruptions volcaniques sont comme des feux de cheminée. Évidemment sur notre terre nous sommes beaucoup trop petits pour ramoner nos volcans. C\\'est pourquoi ils nous causent des tas d\\'ennuis.\\n\\nLe petit prince arracha aussi, avec un peu de mélancolie, les dernières pousses de baobabs. Il croyait ne jamais devoir revenir. Mais tous ces travaux familiers lui parurent, ce matin-là, extrêmement doux. Et, quand il arrosa une dernière fois la fleur, et se prépara à la mettre à l\\'abri sous son globe, il se découvrit l\\'envie de pleurer.\\n\\n- Adieu, dit-il à la fleur.\\n\\nMais elle ne lui répondit pas.\\n\\n- Adieu, répéta-t-il.\\n\\nLa fleur toussa. Mais ce n\\'était pas à cause de son rhume.\\n\\nJ\\'ai été sotte, lui dit-elle enfin. Je te demande pardon. Tâche d\\'être heureux.\\n\\nIl fut surpris par l\\'absence de reproches. Il restait là tout déconcerté, le globe en l\\'air. Il ne comprenait pas cette douceur calme.\\n\\n- Mais oui, je t\\'aime, lui dit la fleur. Tu n\\'en as rien su, par ma faute. Cela n\\'a aucune importance. Mais tu as été aussi sot que moi. Tâche d\\'être heureux... Laisse ce globe tranquille. Je n\\'en veux plus.\\n\\n- Mais le vent...\\n\\n- je ne suis pas si enrhumée que ça... L\\'air frais de la nuit me fera du bien. Je suis une fleur.\\n\\n- Mais les bêtes...\\n\\n- Il faut bien que je supporte deux ou trois chenilles si je veux connaître les papillons. Il paraît que c\\'est tellement beau. Sinon qui me rendra visite ? Tu seras loin, toi. Quant aux grosses bêtes, je ne crains rien. J\\'ai mes griffes.\\n\\nEt elle montrait naïvement ses quatre épines. Puis elle ajouta :\\n\\n- Ne traîne pas comme ça, c\\'est agaçant. Tu as décidé de partir. Va-t\\'en.\\n\\nCar elle ne voulait pas qu\\'il la vît pleurer. C\\'était une fleur tellement orgueilleuse...\\n\\n\\nChapitre 10\\n\\nIl se trouvait dans la région des astéroïdes 325, 326, 327, 328, 329 et 330, Il commença donc parles visiter pour y chercher une occupation et pour s\\'instruire.\\n\\nLe premier était habité par un roi. Le roi siégeait, habillé de pourpre et d\\'hermine, sur un trône très simple et cependant majestueux.\\n\\n- Ah ! Voilà un sujet, s\\'écria le roi quand il aperçut le petit prince.\\n\\nEt le petit prince se demanda\\n\\n\"Comment peut-il me reconnaître puisqu\\'il ne m\\'a encore jamais vu ?\"\\n\\nil ne savait pas que, pour les rois, le monde est très simplifié. Tous les hommes sont des sujets.\\n\\n- Approche-toi que je te voie mieux, lui dit le roi qui était tout fier d\\'être enfin roi pour quelqu\\'un.\\n\\nLe petit prince chercha des yeux où s\\'asseoir, mais la planète était tout encombrée par le magnifique manteau d\\'hermine. Il resta donc debout, et, comme il était fatigué, il bâilla.\\n\\n- Il est contraire à l\\'étiquette de bâiller en présence d\\'un roi, lui dit le monarque. Je te l\\'interdis.\\n\\n- Je ne peux pas m\\'en empêcher, répondit le petit prince tout confus. J\\'ai fait un long voyage et je n\\'ai pas dormi...\\n\\n- Alors, lui dit le roi, je t\\'ordonne de bâiller. Je n\\'ai vu personne bâiller depuis des années. Les bâillements sont pour moi des curiosités. Allons ! bâille encore. C\\'est un ordre.\\n\\n- Ça m\\'intimide... je ne peux plus... fit le petit prince tout rougissant.\\n\\n- Hum ! hum ! répondit le roi. Alors je... je t\\'ordonne tantôt de bâiller et tantôt de...\\n\\nIl bredouillait un peu et paraissait vexé.\\n\\nCar le roi tenait essentiellement à ce que son autorité fût respectée. Il ne tolérait pas la désobéissance. C\\'était un monarque absolu. Mais, comme il était très bon, il donnait des ordres raisonnables.\\n\\n\"Si j\\'ordonnais, disait-il couramment, si j\\'ordonnais à un général de se changer en oiseau de mer, et si le général n\\'obéissait pas, ce ne serait pas la faute du général. Ce serait ma faute.\"\\n\\n- Puis-je m\\'asseoir ? S\\'enquit timidement le petit prince.\\n\\n- Je t\\'ordonne de t\\'asseoir, lui répondit le roi, qui ramena majestueusement un pan de son manteau d\\'hermine.\\n\\nMais le petit prince s\\'étonnait. La planète était minuscule. Sur quoi le roi pouvait-il bien régner ?\\n\\n- Sire .... Lui dit-il, je vous demande pardon de vous interroger ...\\n\\n- Je t\\'ordonne de m\\'interroger, se hâta de dire le roi.\\n\\n- Sire... sur quoi régnez-vous ?\\n\\n- Sur tout, répondit le roi, avec une grande simplicité.\\n\\n- Sur tout ?\\n\\nLe roi d\\'un geste discret désigna sa planète, les autres planètes et les étoiles.\\n\\n- Sur tout ça ? dit le petit prince.\\n\\n- Sur tout ça... répondit le roi.\\n\\nCar non seulement c\\'était un monarque absolu mais c\\'était un monarque universel.\\n\\n- Et les étoiles vous obéissent ?\\n\\n- Bien sûr, lui dit le roi. Elles obéissent aussitôt. Je ne tolère pas l\\'indiscipline.\\n\\nUn tel pouvoir émerveilla le petit prince. S\\'il l\\'avait détenu lui-même, il aurait pu assister, non pas à quarante quatre, mais à soixante-douze, ou même a cent, ou même à deux cents couchers de soleil dans la même journée, sans avoir jamais à tirer sa chaise ! Et comme il se sentait un peu triste à cause du souvenir de sa petite planète abandonnée, il s\\'enhardit à solliciter une grâce du roi :\\n\\n- Je voudrais voir un coucher de soleil... Faites-moi plaisir... Ordonnez au soleil de se coucher...\\n\\n- Si j\\'ordonnais à un général de voler d\\'une fleur à l\\'autre à la façon d\\'un papillon, ou d\\'écrire une tragédie, ou de se changer en oiseau de mer, et si le général n\\'exécutait pas l\\'ordre reçu, qui, de lui ou de moi, serait dans son tort ?\\n\\n- Ce serait vous, dit fermement le petit prince.\\n\\n- Exact. Il faut exiger de chacun ce que chacun peut donner, reprit le roi. L\\'autorité repose d\\'abord sur la raison. Si tu ordonnes à ton peuple d\\'aller se jeter à la mer, il fera la révolution. J\\'ai le droit d\\'exiger l\\'obéissance parce que mes ordres sont raisonnables.\\n\\n- Alors mon coucher de soleil? Rappela le petit prince qui jamais n\\'oubliait une question une fois qu\\'il l\\'avait posée.\\n\\n- Ton coucher de soleil tu l\\'auras. Je l\\'exigerai. Mais j\\'attendrai, dans ma science du gouvernement, que les conditions soient favorables.\\n\\n- Quand ça sera-t-il ? S\\'informa le petit prince.\\n\\n- Hem ! hem ! Lui répondit le roi, qui consulta d\\'abord un gros calendrier, hem ! hem ! Ce sera, vers... vers... ce sera ce soir vers sept heures quarante ! Et tu verras comme je suis bien obéi.\\n\\nLe petit prince bâilla. Il regrettait son coucher de soleil manqué, Et puis il s\\'ennuyait déjà un peu :\\n\\n- Je n\\'ai plus rien à faire ici, dit-il au roi. Je vais repartir !\\n\\n- Ne pars pas, répondit le roi qui était si fier d\\'avoir un sujet. Ne pars pas, je te fais ministre\\n\\n- Ministre de quoi ?\\n\\n- De... de la justice\\n\\n- Mais il n\\'y a personne à juger\\n\\n- On ne sait pas, lui dit le roi. Je n\\'ai pas fait encore le tour de mon royaume. Je suis très vieux, je n\\'ai pas de place pour un carrosse, et ça me fatigue de marcher.\\n\\nOh ! Mais j\\'ai déjà vu, dit le petit prince qui se pencha pour jeter encore un coup d\\'oeil sur l\\'autre côté de la planète. Il n\\'y a personne là-bas non plus...\\n\\n- Tu te jugeras donc toi-même, lui répondit le roi. C\\'est le plus difficile. Il est bien plus difficile de se juger soi-même que de juger autrui. Si tu réussis à bien te juger, c\\'est que tu es un véritable sage.\\n\\n- Moi, dit le petit prince, je puis me juger moi-même n\\'importe où. Je n\\'ai pas besoin d\\'habiter ici.\\n\\n- Hem ! hem ! dit le roi, je crois bien que sur ma planète il y a quelque part un vieux rat. Je l\\'entends la nuit. Tu pourras juger ce vieux rat. Tu le condamneras à mort de temps en temps. Ainsi sa vie dépendra de ta justice. Mais tu le gracieras chaque fois pour l\\'économiser. Il n\\'y en a qu\\'un.\\n\\n- Moi, répondit le petit prince, je n\\'aime pas condamner à mort, et je crois bien que je m\\'en vais.\\n\\n- Non, dit le roi.\\n\\nMais le petit prince, ayant achevé ses préparatifs, ne voulut point peiner le vieux monarque :\\n\\n- Si Votre Majesté désirait être obéie ponctuellement, elle pourrait me donner un ordre raisonnable. Elle pourrait m\\'ordonner, par exemple, de partir avant une minute. Il me semble que les conditions sont favorables... .\\n\\nLe roi n\\'ayant rien répondu, le petit prince hésita d\\'abord, puis, avec un soupir, prit le départ.\\n\\n- Je te fais mon ambassadeur, se hâta alors de crier le roi.\\n\\nIl avait un grand air d\\'autorité.\\n\\n\"Les grandes personnes sont bien étranges\", se dit le petit prince, en lui-même, durant son voyage.\\n\\n\\nChapitre 11\\n\\nLa seconde planète était habitée par un vaniteux\\n\\n- Ah ah ! Voilà la visite d\\'un admirateur\\n\\nS\\'écria de loin le vaniteux dès qu\\'il aperçut le petit prince. Car, pour les vaniteux, les autres hommes sont des admirateurs.\\n\\n- Bonjour, dit le petit prince. Vous avez un drôle de chapeau.\\n\\n- C\\'est pour saluer, lui répondit le vaniteux. C\\'est pour saluer quand on m\\'acclame. Malheureusement il ne passe jamais personne par ici.\\n\\n- Ah oui ? dit le petit prince qui ne comprit pas.\\n\\n- Frappe tes mains l\\'une contre l\\'autre, conseilla donc le vaniteux.\\n\\nLe petit prince frappa ses mains l\\'une contre l\\'autre. Le vaniteux salua modestement en soulevant son chapeau.\\n\\nÇa c\\'est plus amusant que la visite au roi, se dit en, lui-même le petit prince. Et il recommença de frapper ses mains l\\'une contre l\\'autre. Le vaniteux recommença de saluer en soulevant son chapeau.\\n\\nAprès cinq minutes d\\'exercice le petit prince se fatigua de la monotonie du jeu\\n\\nEt pour que le chapeau tombe, demanda-t-il, -que faut-il faire ?\\n\\nMais le vaniteux ne l\\'entendit pas. Les vaniteux n\\'entendent jamais que les louanges.\\n\\nEst-ce que tu m\\'admires vraiment beaucoup ? demanda-t-il au petit prince.\\n\\n- Qu\\'est-ce que signifie admirer ?\\n\\n- Admirer signifie reconnaître que je suis l\\'homme le plus beau, le mieux habillé, le plus riche et le plus intelligent de la planète.\\n\\n- Mais tu es seul sur ta planète\\n\\n- Fais-moi ce plaisir. Admire-moi quand même\\n\\n- Je t\\'admire, dit le petit prince, en haussant un peu les épaules, mais en quoi cela peut-il bien t\\'intéresser ?\\n\\nEt le petit prince s\\'en fut.\\n\\n\"Les grandes personnes sont décidément bien bizarres\", se dit-il simplement en lui-même durant son voyage.\\n\\n\\nChapitre 12\\n\\nLa planète suivante était habitée par un buveur. Cette visite fut très courte mais elle plongea le petit prince dans une grande mélancolie :\\n\\n- Que fais-tu là ? dit-il au buveur, qu\\'il trouva installé en silence devant une collection de bouteilles vides et une collection de bouteilles pleines.\\n\\n- Je bois, répondit le buveur, d\\'un air lugubre.\\n\\n- Pourquoi bois-tu ? Lui demanda le petit prince.\\n\\n- Pour oublier, répondit le buveur.\\n\\n- Pour oublier quoi ? S\\'enquit le petit prince qui déjà le plaignait.\\n\\n- Pour oublier que j\\'ai honte, avoua le buveur en baissant la tête.\\n\\n- Honte de quoi ? S\\'informa le petit prince qui désirait le secourir.\\n\\n- Honte de boire ! Acheva le buveur qui s\\'enferma définitivement dans le silence.\\n\\nEt le petit prince s\\'en fut, perplexe.\\n\\n\"Les grandes personnes sont décidément très très bizarres\", se disait-il en lui-même durant le voyage.\\n\\n\\nChapitre 13\\n\\nLa quatrième planète était celle du businessman. Cet homme était si occupé qu\\'il ne leva même pas la tête à l\\'arrivée du petit prince.\\n\\n- Bonjour, lui dit celui-ci. Votre cigarette est éteinte.\\n\\n- Trois et deux font cinq. Cinq et sept douze. Douze et trois quinze. Bonjour. Quinze et sept vingt-deux. Vingt-deux et six vingt-huit. Pas le temps de la rallumer. Vingt-six et cinq trente et un. Ouf ! Ça fait donc cinq cent un millions six cent vingt-deux mille sept cent trente et un.\\n\\n- Cinq cents millions de quoi ?\\n\\n- Hein? Tu es toujours là ? Cinq cent un millions de... je ne sais plus... J\\'ai tellement de travail ! Je suis sérieux, moi, je ne m\\'amuse pas à des balivernes ! Deux et cinq sept...\\n- Cinq cent un millions de quoi ? Répéta le petit prince qui jamais de sa vie n\\'avait renoncé à une question, une fois qu\\'il l\\'avait posée.\\n\\nLe businessman leva la tête\\n\\n- Depuis cinquante-quatre ans que j\\'habite cette planète-ci, je n\\'ai été dérangé que trois fois. La première fois ç\\'a été, il y a vingt-deux ans, par un hanneton qui était tombé Dieu sait d\\'où. Il répandait un bruit épouvantable, et j \\'ai fait quatre erreurs dans une addition. La seconde fois ç\\'a été, il y a onze ans, par une crise de rhumatisme. Je manque d\\'exercice. Je n\\'ai pas le temps de flâner. Je suis sérieux, moi. La troisième fois... la voici ! Je disais donc cinq cent un millions...\\n\\n- Millions de quoi ?\\n\\nLe businessman comprit qu\\'il n\\'était point d\\'espoir de paix :\\n\\n- Millions de ces petites choses que l\\'on voit quelquefois dans le ciel.\\n\\n- Des mouches ?\\n\\n- Mais non, des petites choses qui brillent.\\n\\n- Des abeilles ?\\n\\n- Mais non. Des petites choses dorées qui font rêvasser les fainéants. Mais je suis sérieux, moi ! Je n\\'ai pas le temps de rêvasser.\\n\\n- Ah ! Des étoiles ?\\n\\n- C\\'est bien ça. Des étoiles.\\n\\n- Et que fais-tu de cinq cents millions d\\'étoiles ?\\n\\n- Cinq cent un millions six cent vingt-deux mille sept cent trente et un. Je suis sérieux, moi, je suis précis.\\n\\n- Et que fais-tu de ces étoiles ?\\n\\n- Ce que j\\'en fais ?\\n\\n- Oui.\\n\\n- Rien. Je les possède.\\n\\n- Tu possèdes les étoiles ?\\n\\n- Oui.\\n\\n- Mais j\\'ai déjà vu un roi qui...\\n\\n- Les rois ne possèdent pas. Ils\"règnent\"sur. C\\'est très différent.\\n\\n- Et à quoi cela te sert-il de posséder les étoiles\\n\\n- ça me sert à être riche.\\n\\n- Et à quoi cela te sert-il d\\'être riche ?\\n\\n- À acheter d\\'autres étoiles, si quelqu\\'un en trouve.\\n\\n\"Celui-là, se dit en lui-même le petit prince, il raisonne un peu comme mon ivrogne.\"\\n\\nCependant il posa encore des questions :\\n\\n- Comment peut-on posséder les étoiles ?\\n\\n- À qui sont-elles ? Riposta, grincheux, le businessman.\\n\\n- Je ne sais pas. À personne.\\n\\n- Alors elles sont à moi, car j\\'y ai pensé le premier\\n\\n- Ça suffit ?\\n\\n- Bien sûr. Quand tu trouves un diamant qui n\\'est à personne, il est à toi. Quand tu trouves une île qui n\\'est à personne, elle est à toi. Quand tu as une idée le premier, tu la fais breveter : elle est à toi. Et moi je possède les étoiles, puisque jamais personne avant moi n\\'a songé à les posséder.\\n\\n- Ça c\\'est vrai, dit le petit prince. Et qu\\'en fais-tu ?\\n\\n- Je les gère. Je les compte et je les recompte, dit le businessman. C\\'est difficile. Mais je suis un homme sérieux !\\n\\nLe petit prince n\\'était pas satisfait encore.\\n\\n- Moi, si je possède un foulard, je puis le mettre autour de mon cou et l\\'emporter. Moi, si je possède une fleur, je puis cueillir ma fleur et l\\'emporter. Mais tu ne peux pas cueillir les étoiles !\\n\\n- Non, mais je puis les placer en banque.\\n\\n- Qu\\'est-ce que ça veut dire ?\\n\\n- ça veut dire que j\\'écris sur un petit papier le nombre de mes étoiles. Et puis j\\'enferme à clef ce papier là dans un tiroir.\\n\\n- Et c\\'est tout ?\\n\\n- Ça suffit !\\n\\n\"C\\'est amusant, pensa le petit prince. C\\'est assez poétique. Mais ce n\\'est pas très sérieux.\"\\n\\nLe petit prince avait sur les choses sérieuses des idées très différentes des idées des grandes personnes.\\n\\n- Moi, dit-il encore, je possède une fleur que j\\'arrose tous les jours. Je possède trois volcans que je ramone toutes les semaines. Car je ramone aussi celui qui est éteint. On ne sait jamais. C\\'est utile à mes volcans, et c\\'est utile à ma fleur, que je les possède. Mais tu n\\'es pas utile aux étoiles.\\n\\nLe businessman ouvrit la bouche mais né trouva rien à répondre, et le petit prince s\\'en fut.\\n\\n\"Les grandes personnes sont décidément tout à fait extraordinaires\", se disait-il simplement en lui-même durant le voyage.\\n\\n\\nChapitre 14\\n\\nLa cinquième planète était très curieuse. C\\'était la plus petite de toutes. Il y avait là juste assez de place pour loger un réverbère et un allumeur de réverbères. Le petit prince ne parvenait pas à s\\'expliquer à quoi pouvaient servir, quelque part dans le ciel, sur une planète sans maison, ni population, un réverbère et un allumeur de réverbères. Cependant il se dit en lui-même :\\n\\n\"Peut-être bien que cet homme est absurde. Cependant il est moins absurde que le roi, que le vaniteux, que le businessman et que le buveur. Au moins son travail a-t-il un sens. Quand il allume son réverbère, c\\'est comme s\\'il faisait naître une étoile de plus, ou une fleur. Quand il éteint son réverbère, ça endort la fleur ou l\\'étoile. C\\'est une occupation très jolie. C\\'est véritablement utile puisque c\\'est joli.\"\\n\\nLorsqu\\'il aborda la planète il salua respectueusement l\\'allumeur :\\n\\n- Bonjour. Pourquoi viens-tu d\\'éteindre ton réverbère ?\\n\\n- C\\'est la consigne, répondit l\\'allumeur. Bonjour.\\n\\n- Qu\\'est-ce que la consigne ?\\n\\n- C\\'est d\\'éteindre mon réverbère. Bonsoir. Et il le ralluma.\\n\\n- Mais pourquoi viens-tu de le rallumer ?\\n\\n- C\\'est la consigne, répondit l\\'allumeur.\\n\\n- Je ne comprends pas, dit le petit prince.\\n\\n- Il n\\'y a rien à comprendre, dit l\\'allumeur. La consigne c\\'est la consigne. Bonjour.\\n\\nEt il éteignit son réverbère.\\n\\nPuis il s\\'épongea le front avec un mouchoir à carreaux rouges.\\n\\n- Je fais là un métier terrible. C\\'était raisonnable autrefois. J\\'éteignais le matin et j\\'allumais le soir. J\\'avais le reste du jour pour me reposer, et le reste de la nuit pour dormir...\\n\\n- Et, depuis cette époque, la consigne a changé?\\n\\n- La consigne n\\'a pas changé, dit l\\'allumeur. C\\'est bien là le drame ! La planète d\\'année en année a tourné de plus en plus vite, et la consigne n\\'a pas changé\\n\\n- Alors ? dit le petit prince.\\n\\n- Alors maintenant qu\\'elle fait un tour par minute, je n\\'ai plus une seconde de repos. J\\'allume et j\\'éteins une fois par minute !\\n\\n- Ça c\\'est drôle ! Les jours chez toi durent une minute !\\n\\n- Ce n\\'est pas drôle du tout, dit l\\'allumeur. Ça fait déjà un mois que nous parlons ensemble.\\n\\n- Un mois ?\\n\\nOui. Trente minutes. Trente jours ! Bonsoir.\\n\\nEt il ralluma son réverbère.\\n\\nLe petit prince le regarda et aima cet allumeur qui était tellement fidèle à la consigne. Il se souvint des couchers de soleil que lui-même allait autrefois chercher, en tirant sa chaise. Il voulut aider son ami :\\n\\n- Tu sais... je connais un moyen de te reposer quand tu voudras...\\n\\n- Je veux toujours, dit l\\'allumeur.\\n\\nCar on peut être, à la fois, fidèle et paresseux.\\n\\nLe petit prince poursuivit :\\n\\n- Ta planète est tellement petite que tu en fais le tour en trois enjambées. Tu n\\'as qu\\'à marcher assez lentement pour rester toujours au soleil. Quand tu voudras te reposer tu marcheras... et le jour durera aussi longtemps que tu voudras.\\n\\n- ça ne m\\'avance pas à grand-chose, dit l\\'allumeur. Ce que j\\'aime dans la vie, c\\'est dormir.\\n\\n- Ce n\\'est pas de chance, dit le petit prince.\\n\\n- Ce n\\'est pas de chance, dit l\\'allumeur. Bonjour.\\n\\nEt il éteignit son réverbère.\\n\\n\"Celui-là, se dit le petit prince, tandis qu\\'il poursuivait plus loin son voyage, celui-là serait méprisé par tous les autres, par le roi, par le vaniteux, par le buveur, par le businessman. Cependant, c\\'est le seul qui ne me paraisse pas ridicule. C\\'est, peut-être, parce qu\\'il s\\'occupe d\\'autre chose que de soi-même.\"\\n\\nIl eut un soupir de regret et se dit encore\\n\\n\"Celui-là est le seul dont j\\'eusse pu faire mon ami.\\n\\nMais sa planète est vraiment trop petite. Il n\\'y a pas de place pour deux...\"\\n\\nCe que le petit prince n\\'osait pas s\\'avouer, c\\'est qu\\'il regrettait cette planète bénie à cause, surtout, des mille quatre cent quarante couchers de soleil par vingt-quatre heures !\\n\\n\\nChapitre 15\\n\\nLa sixième planète était une planète dix fois plus vaste. Elle était habitée par un vieux Monsieur qui écrivait d\\'énormes livres.\\n\\n- Tiens ! Voilà un explorateur ! S\\'écria-t-il, quand il aperçut le petit prince.\\n\\nLe petit prince s\\'assit sur la table et souffla un peu. Il avait déjà tant voyagé !\\n\\n- D\\'où viens-tu ? Lui dit le vieux Monsieur.\\n\\n- Quel est ce gros livre ? dit le petit prince. Que faites-vous ici ?\\n\\n- Je suis géographe, dit le vieux Monsieur.\\n\\n- Qu\\'est-ce qu\\'un géographe ?\\n\\n- C\\'est un savant qui connaît où se trouvent les mers, les fleuves, les villes, les montagnes et les déserts.\\n\\n- Ça c\\'est bien intéressant, dit le petit prince. Ça c\\'est enfin un véritable métier ! Et il jeta un coup d\\'oeil autour de lui sur la planète du géographe. Il n\\'avait jamais vu encore une planète aussi majestueuse.\\n\\n- Elle est bien belle, votre planète. Est-ce qu\\'il y a des océans ?\\n\\n- Je ne puis pas le savoir, dit le géographe\\'\\n\\n- Ah ! (Le petit prince était déçu.) Et des montagnes ?\\n\\n- Je ne puis pas le savoir, dit le géographe. \\n\\n- Et des villes et des fleuves et des déserts ?\\n\\n- Je ne puis pas le savoir non plus, dit le géographe.\\n\\n- Mais vous êtes géographe !\\n\\n- C\\'est exact, dit le géographe, mais je ne suis pas explorateur. Je manque absolument d\\'explorateurs. Ce n\\'est pas le géographe qui va faire le compte des villes, des fleuves, des montagnes, des mers, des océans et des déserts. Le géographe est trop important pour flâner. Il ne quitte pas son bureau. Mais il y reçoit les explorateurs. Il les interroge, et il prend en note leurs souvenirs. Et si les souvenirs de l\\'un d\\'entre eux lui paraissent intéressants, le géographe fait faire une enquête sur la moralité de l\\'explorateur.\\n\\n- Pourquoi ça ?\\n\\n- Parce qu\\'un explorateur qui mentirait entraînerait des catastrophes dans les livres de géographie. Et aussi un explorateur qui boirait trop.\\n\\n- Pourquoi ça ? fit le petit prince.\\n\\n- Parce que les ivrognes voient double. Alors le géographe noterait deux montagnes là où il n\\'y en a qu\\'une seule.\\n\\n- Je connais quelqu\\'un, dit le petit prince, qui serait mauvais explorateur.\\n\\n- C\\'est possible. Donc, quand la moralité de l\\'explorateur paraît bonne, on fait une enquête sur sa découverte.\\n\\n- On va voir ?\\n\\n- Non. C\\'est trop compliqué. Mais on exige de l\\'explorateur qu\\'il fournisse des preuves. S\\'il s\\'agit par exemple de la découverte d\\'une grosse montagne, on exige qu\\'il en rapporte de grosses pierres.\\n\\nLe géographe soudain s\\'émut.\\n\\n- Mais toi, tu viens de loin ! Tu es explorateur ! Tu vas me décrire ta planète !\\n\\nEt le géographe, ayant ouvert son registre, tailla son crayon. On note d\\'abord au crayon les récits des explorateurs. On attend, pour noter à l\\'encre, que l\\'explorateur ait fournie des preuves.\\n\\n- Alors ? Interrogea le géographe.\\n\\n- Oh ! Chez moi, dit le petit prince, ce n\\'est pas très intéressant, c\\'est tout petit. J\\'ai trois volcans. Deux volcans en activité, et un volcan éteint. Mais on ne sait jamais.\\n\\n- On ne sait jamais, dit le géographe.\\n\\n- J\\'ai aussi une fleur.\\n\\n- Nous ne notons pas les fleurs, dit le géographe.\\n\\n- Pourquoi ça ! C\\'est le plus joli !\\n\\n- Parce que les fleurs sont éphémères.\\n\\n- Qu\\'est-ce que signifie\"éphémère\"?\\n\\n- Les géographies, dit le géographe, sont les livres les plus précieux de tous les livres. Elles ne se démodent jamais. Il est très rare qu\\'une montagne change de place. Il est très rare qu\\'un océan se vide de son eau. Nous écrivons des choses éternelles. \\n\\n- Mais les volcans éteints peuvent se réveiller, interrompit le petit prince. Qu\\'est-ce que signifie\"éphémère\"?\\n\\n- Que les volcans soient éteints ou soient éveillés, ça revient au même pour nous autres, dit le géographe. Ce qui compte pour nous, c\\'est la montagne. Elle ne change pas.\\n\\n- Mais qu\\'est-ce que signifie\"éphémère\"? répéta le petit prince qui, de sa vie, n\\'avait renoncé à une question, une fois qu\\'il l\\'avait posée.\\n\\n- Ça signifie\"qui est menacé de disparition prochaine\".\\n\\n- Ma fleur est menacée de disparition prochaine ?\\n\\n- Bien sûr.\\n\\n\"Ma fleur est éphémère, se dit le petit prince, et elle n\\'a que quatre épines pour se défendre contre le monde ! Et je l\\'ai laissée toute seule chez moi !\"\\n\\nCe fut là son premier mouvement de regret. Mais il reprit courage :\\n\\nQue me conseillez-vous d\\'aller visiter ? demanda-\\n\\nLa planète Terre, lui répondit le géographe. Elle a une bonne réputation...\\n\\nEt le petit prince s\\'en fut, songeant à sa fleur.\\n\\n\\nChapitre 16\\n\\nLa septième planète fut donc la Terre.\\n\\nLa Terre n\\'est pas une planète quelconque ! On y compte cent onze rois (en n\\'oubliant pas, bien sûr, les rois nègres), sept mille géographes, neuf cent mille businessman, sept millions et demi d\\'ivrognes, trois cent onze millions de vaniteux, c\\'est-à-dire environ deux milliards de grandes personnes.\\n\\nPour vous donner une idée des dimensions de la Terre je vous dirai qu\\'avant l\\'invention de l\\'électricité on y devait entretenir, sur l\\'ensemble des six continents, une véritable armée de quatre cent soixante-deux mille cinq cent onze allumeurs de réverbères.\\n\\nVu d\\'un peu loin ça faisait un effet splendide. Les mouvements de cette armée étaient réglés comme ceux d\\'un ballet d\\'opéra. D\\'abord venait le tour des allumeurs de réverbères de Nouvelle-Zélande et d\\'Australie. Puis ceux-ci, ayant allumé leurs lampions, s\\'en allaient dormir. Alors entraient à leur tour dans la danse les allumeurs de réverbères de Chine et de Sibérie. Puis eux aussi s\\'escamotaient dans les coulisses. Alors venait le tour des allumeurs de réverbères de Russie et des Indes. Puis de ceux d\\'Afrique et d\\'Europe. Puis de ceux d\\'Amérique du Sud. Puis de ceux d\\'Amérique du Nord. Et jamais ils ne se trompaient dans leur ordre d\\'entrée en scène. C\\'était grandiose.\\n\\nSeuls, l\\'allumeur de l\\'unique réverbère du pôle Nord, et son confrère de l\\'unique réverbère du pôle Sud, menaient des vies d\\'oisiveté et de nonchalance : ils travaillaient deux fois par an.\\n\\n\\nChapitre 17\\n\\nQuand on veut faire de l\\'esprit, il arrive que l\\'on mente un peu. Je n\\'ai pas été très honnête en vous parlant des allumeurs de réverbères. Je risque de donner une fausse idée de notre planète à ceux qui ne la connaissent pas. Les hommes occupent très peu de place sur la terre. Si les deux milliards d\\'habitants qui peuplent la terre se tenaient debout et un peu serrés, comme pour un meeting, ils logeraient aisément sur une place publique de vingt milles de long sur vingt milles de large. On pourrait entasser l\\'humanité sur le moindre petit îlot du Pacifique.\\n\\nLes grandes personnes, bien sûr, ne vous croiront pas. Elles s\\'imaginent tenir beaucoup de place. Elles se voient importantes comme des baobabs. Vous leur conseillerez donc de faire le calcul. Elles adorent les chiffres : ça leur plaira. Mais ne perdez pas votre temps à ce pensum. C\\'est inutile. Vous avez confiance en moi.\\n\\nLe petit prince, une fois sur terre, fut donc bien surpris de ne voir personne. Il avait déjà peur de s\\'être trompé de planète, quand un anneau couleur de lune remua dans le sable.\\n\\n- Bonne nuit, fit le petit prince à tout hasard.\\n\\n- Bonne nuit, fit le serpent.\\n\\n- Sur quelle planète suis-je tombé ? demanda le petit prince.\\n\\n- Sur la Terre, en Afrique, répondit le serpent.\\n\\n- Ah ! ... Il n\\'y a donc personne sur la Terre ?\\n\\n- Ici c\\'est le désert. Il n\\'y a personne dans les déserts. La Terre est grande, dit le serpent.\\n\\nLe petit prince s\\'assit sur une pierre et leva les yeux vers le ciel :\\n\\n- Je me demande, dit-il, si les étoiles sont éclairées afin que chacun puisse un jour retrouver la sienne. Regarde ma planète. Elle est juste au-dessus de nous... Mais comme elle est loin !\\n\\n- Elle est belle, dit le serpent. Que viens-tu faire ici ?\\n\\n- J\\'ai des difficultés avec une fleur, dit le petit prince.\\n\\n- Ah ! fit le serpent.\\n\\nEt ils se turent.\\n\\n- Où sont les hommes ? reprit enfin le petit prince. On est un peu seul dans le désert...\\n\\n- On est seul aussi chez les hommes, dit le serpent.\\n\\nLe petit prince le regarda longtemps :\\n\\n- Tu es une drôle de bête, lui dit-il enfin, mince comme un doigt...\\n\\n- Mais je suis plus puissant que le doigt d\\'un roi, dit le serpent.\\n\\nLe petit prince eut un sourire\\n\\n- Tu n\\'es pas bien puissant... tu n\\'as même pas de Pattes... tu ne Peux même pas voyager.\\n\\n- Je puis t\\'emporter plus loin qu\\'un navire, dit le serpent.\\n\\nIl s\\'enroula autour de la cheville du petit prince, comme un bracelet d\\'or :\\n\\n- Celui que je touche, je le rends à la terre dont il est sorti, dit-il encore. Mais tu es pur et tu viens d\\'une étoile...\\n\\nLe petit prince ne répondit rien.\\n\\n- Tu me fais pitié, toi si faible, sur cette Terre de granit. Je puis t\\'aider un jour si tu regrettes trop ta planète. Je puis ...\\n\\n- Oh ! J\\'ai très bien compris, fit le petit prince, mais pourquoi parles-tu toujours par énigmes ?\\n\\n- Je les résous toutes, dit le serpent.\\n\\nEt ils se turent.\\n\\n\\nChapitre 18\\n\\nLe petit prince traversa le désert et ne rencontra qu\\'une fleur. Une fleur à trois pétales, une fleur de rien du tout...\\n\\n- Bonjour, dit le prince.\\n\\n- Bonjour, dit la fleur.\\n\\n- Où sont les hommes ? demanda poliment le petit prince.\\n\\nLa fleur, un jour, avait vu passer une caravane\\n\\n- Les hommes ? Il en existe, je crois, six ou sept. Je les ai aperçus il y a des années. Mais on ne sait jamais où les trouver. Le vent les promène. Ils manquent de racines, ça les gêne beaucoup.\\n\\n- Adieu, fit le petit prince.\\n\\n- Adieu, dit la fleur.\\n\\n\\nChapitre 19\\n\\nLe petit prince fit l\\'ascension d\\'une haute montagne. Les seules montagnes qu\\'il eût jamais connues étaient les trois volcans qui lui arrivaient au genou. Et il se servait du volcan éteint comme d\\'un tabouret.\"D\\'une montagne haute comme celle-ci, se dit-il donc, j\\'apercevrai d\\'un coup toute la planète et tous les hommes...\"Mais il n\\'aperçut rien que des aiguilles de roc bien aiguisées.\\n\\n- Bonjour, dit-il à tout hasard.\\n\\n- Bonjour... bonjour... bonjour... répondit l\\'écho.\\n\\n- Qui êtes-vous ? dit le petit prince.\\n\\n- Qui êtes-vous... qui êtes-vous... qui êtes-vous... répondit l\\'écho.\\n\\n- Soyez mes amis, je suis seul, dit-il.\\t\\n\\n- Je suis seul ... je suis seul... je suis seul ... répondit l\\'écho.\\n\\n\"Quelle drôle de planète ! pensa-t-il alors. Elle est toute sèche, et toute pointue et toute salée. Et les hommes manquent d\\'imagination. Ils répètent ce qu\\'on leur dit ... Chez moi j\\'avais une fleur : elle parlait toujours la première ...\"\\n\\n\\nChapitre 20\\n\\nMais il arriva que le petit prince, ayant longtemps marché à travers les sables, les rocs et les neiges, découvrit enfin une route. Et les routes vont toutes chez les hommes.\\n\\n- Bonjour, dit-il.\\n\\nC\\'était un jardin fleuri de roses.\\n\\n- Bonjour, dirent les roses.\\n\\nLe petit prince les regarda. Elles ressemblaient toutes à sa fleur.\\n\\n- Qui êtes-vous ? Leur demanda-t-il, stupéfait.\\n\\n- Nous sommes des roses, dirent les roses.\\n\\n- Ah ! fit le petit prince...\\n\\nEt il se sentit très malheureux. Sa fleur lui avait raconté qu\\'elle était seule de son espèce dans l\\'univers. Et voici qu\\'il en était cinq mille, toutes semblables, dans un seul jardin !\\n\\n\"Elle serait bien vexée, se dit-il, si elle voyait ça... elle tousserait énormément et ferait semblant de mourir pour échapper au ridicule. Et je serais bien obligé de faire semblant de la soigner, car, sinon, pour m\\'humilier moi aussi, elle se laisserait vraiment mourir...\"\\n\\nPuis il se dit encore :\"Je me croyais riche d\\'une fleur unique, et je ne possède qu\\'une rose ordinaire. Ça et mes trois volcans qui m\\'arrivent au genou, et dont l\\'un, peut-être, est éteint pour toujours, ça ne fait pas de moi un bien grand prince ...\"Et, couché dans l\\'herbe, il pleura.\\n\\n\\nChapitre 21\\n\\nC\\'est alors qu\\'apparut le renard. - Bonjour, dit le renard.\\n\\n- Bonjour, répondit poliment le petit prince, qui se retourna mais ne vit rien.\\n\\n- Je suis là, dit la voix, sous le pommier...\\n\\n- Qui es-tu ? dit le Petit prince. Tu es bien joli...\\n\\n- Je suis un renard, dit le renard.\\n\\n- Viens jouer avec moi, lui proposa le petit prince. Je suis tellement triste...\\n\\n- Je ne puis pas jouer avec toi, dit le renard. Je ne suis pas apprivoisé.\\n\\n- Ah ! Pardon, fit le petit prince.\\n\\nMais, après réflexion, il ajouta :\\n\\n- Qu\\'est-ce que signifie\"apprivoiser\"?\\n\\n- Tu n\\'es pas d\\'ici, dit le renard, que cherches-tu ?\\n\\n- Je cherche les hommes, dit le petit prince. Qu\\'est ce que signifie\"apprivoiser\"?\\n\\n- Les hommes, dit le renard, ils ont des fusils et ils chassent. C\\'est bien gênant ! Ils élèvent aussi des poules. C\\'est leur seul intérêt. Tu cherches des poules ?\\n\\n- Non, dit le petit prince. Je cherche des amis. Qu\\'est-ce que signifie\"apprivoiser\"?\\n\\n- C\\'eft une chose trop oubliée, dit le renard. Ça signifie\"créer des liens...\"\\n\\n- Créer des liens ?\\n\\n- Bien sûr, dit le renard. Tu n\\'es encore pour moi qu\\'un petit garçon tout semblable à cent mille petits garçons. Et je n\\'ai pas besoin de toi. Et tu n\\'as pas besoin de moi non plus. Je ne suis pour toi qu\\'un renard semblable à cent raille renards. Mais, si tu m\\'apprivoises, nous aurons besoin l\\'un de l\\'autre. Tu seras pour moi unique au monde. je serai pour toi unique au monde...\\n\\n- je commence à comprendre, dit le petit prince. Il y a une fleur... je crois qu\\'elle m\\'a apprivoisé...\\n\\n- C\\'est possible, dit le renard. On voit sur la Terre toutes sortes de choses...\\n\\n- Oh ! ce n\\'est pas sur la Terre, dit le petit prince.\\nLe renard parut très intrigué\\n\\n- Sur une autre planète ?\\n\\n- Oui.\\n\\n- Il y a des chasseurs, sur cette planète-là ?\\n\\n- Non.\\n\\n- ça, c\\'est intéressant ! Et des poules ?\\n\\n- Non.\\n\\n- Rien n\\'est parfait, soupira le renard.\\n\\nMais le renard revint à son idée :\\n\\n- Ma vie est monotone. Je chasse les poules, les hommes me chassent. Toutes les poules se ressemblent, et tous les hommes se ressemblent. Je m\\'ennuie donc un peu. Mais, si tu m\\'apprivoises, ma vie sera comme ensoleillée. Je connaîtrai un bruit de pas qui sera différent de tous les autres. Les autres pas me font rentrer sous terre. Le tien m\\'appellera hors du terrier, comme une musique. Et puis regarde ! Tu vois, là-bas, les champs de blé ? Je ne mange pas de pain. Le blé pour moi est inutile. Les champs de blé ne me rappellent rien. Et ça, c\\'est triste ! Mais tu as des cheveux couleur d\\'or. Alors ce sera merveilleux quand tu m\\'auras apprivoisé ! Le blé, qui est doré, me fera souvenir de toi. Et j\\'aimerai le bruit du vent dans le blé...\\n\\nLe renard se tut et regarda longtemps le petit prince :\\n\\n- S\\'il te plaît... apprivoise-moi ! dit-il.\\n\\n- Je veux bien, répondit le petit prince, mais je n\\'ai pas beaucoup de temps. J\\'ai des amis à découvrir et beaucoup de choses à connaître.\\n\\n- On ne connaît que les choses que l\\'on apprivoise, dit le renard. Les hommes n\\'ont plus le temps de rien connaître. Ils achètent des choses toutes faites chez les marchands. Mais comme il n\\'existe point de marchands d\\'amis, les hommes n\\'ont plus d\\'amis. Si tu veux un ami, apprivoise-moi !\\n\\n- Que faut-il faire ? dit le petit prince.\\n\\n- Il faut être très patient, répondit le renard. Tu t\\'assoiras d\\'abord un peu loin de moi, comme ça, dans l\\'herbe. Je te regarderai du coin de l\\'oeil et tu ne diras rien. Le langage est source de malentendus. Mais, chaque jour, tu pourras t\\'asseoir un peu plus près...\\n\\nLe lendemain revint le petit prince.\\n\\n- Il eût mieux valu revenir à la même heure, dit le renard. Si tu viens, par exemple, à quatre heures de l\\'après-midi, dès trois heures je commencerai d\\'être heureux. Plus l\\'heure avancera, plus je me sentirai heureux. À quatre heures, déjà, je m\\'agiterai et m\\'inquiéterai; je découvrirai le prix du bonheur ! Mais si tu viens n\\'importe quand, je ne saurai jamais à quelle heure m\\'habiller le coeur... Il faut des rites.\\n\\n- Qu\\'est-ce qu\\'un rite ? dit le petit prince.\\n\\n- C\\'est aussi quelque chose de trop oublié, dit le renard. C\\'est ce qui fait qu\\'un jour est différent des autres jours, une heure, des autres heures. Il y a un rite, par exemple, chez mes chasseurs. Ils dansent le jeudi avec les filles du village. Alors le jeudi est jour merveilleux ! Je vais me promener jusqu\\'à la vigne. Si les chasseurs dansaient n\\'importe quand, les jours se ressembleraient tous, et je n\\'aurais point de vacances.\\n\\nAinsi le petit prince apprivoisa le renard. Et quand l\\'heure du départ fut proche :\\n\\n- Ah ! dit le renard... Je pleurerai.\\n\\n- C\\'est ta faute, dit le petit prince, je ne te souhaitais point de mal, mais tu as voulu que je t\\'apprivoise...\\n\\nBien sûr, dit le renard.\\n\\n- Mais tu vas pleurer ! dit le petit prince.\\n\\n- Bien sûr, dit le renard.\\n\\n- Alors tu n\\'y gagnes rien !\\n\\n- J\\'y gagne, dit le renard, à cause de la couleur du blé.\\n\\nPuis il ajouta :\\n\\n- Va revoir les roses. Tu comprendras que la tienne est unique au monde. Tu reviendras me dire adieu, et je te ferai cadeau d\\'un secret.\\n\\nLe petit prince s\\'en fut revoir les roses.\\n\\n- Vous n\\'êtes pas du tout semblables à ma rose, vous n\\'êtes rien encore, leur dit-il. Personne ne vous a apprivoisées et vous n\\'avez apprivoisé personne. Vous êtes comme était mon renard. Ce n\\'était qu\\'un renard semblable à cent mille autres. Mais j\\'en ai fait mon ami, et il est maintenant unique au monde.\\n\\nEt les roses étaient gênées.\\n\\n- Vous êtes belles, mais vous êtes vides, leur dit-il encore. On ne peut pas mourir pour vous. Bien sûr, ma rose à moi, un passant ordinaire croirait qu\\'elle vous ressemble. Mais à elle seule elle est plus importante que vous toutes, puisque c\\'est elle que j\\'ai arrosée. Puisque c\\'est elle que j\\'ai mise sous globe. Puisque c\\'est elle que j\\'ai abritée par le paravent. Puisque c\\'est elle dont j\\'ai tué les chenilles (sauf les deux ou trois pour les papillons). Puisque c\\'est elle que j\\'ai écoutée se plaindre, ou se vanter, ou même quelquefois se taire. Puisque c\\'est ma rose.\\n\\nEt il revint vers le renard\\n\\n- Adieu, dit-il...\\n\\n- Adieu, dit le renard. Voici mon secret. Il est très simple : on ne voit bien qu\\'avec le coeur. L\\'essentiel est invisible pour les yeux.\\n\\n- L\\'essentiel est invisible pour les yeux, répéta le petit prince, afin de se souvenir.\\n\\n- C\\'est le temps que tu as perdu pour ta rose qui fait ta rose si importante.\\n\\n- C\\'est le temps que j\\'ai perdu pour ma rose... fit le petit prince, afin de se souvenir.\\n\\n- Les hommes ont oublié cette vérité, dit le renard. Mais tu ne dois pas l\\'oublier. Tu deviens responsable pour toujours de ce que tu as apprivoisé. Tu es responsable de ta rose ...\\n\\n- Je suis responsable de ma rose ... répéta le petit prince, afin de se souvenir.\\n\\n\\nChapitre 22\\n\\n-Bonjour, dit le petit prince.\\n\\n- Bonjour, dit l\\'aiguilleur.\\n\\n- Que fais-tu ici ? dit le petit prince.\\n\\n- Je trie les voyageurs, par paquets de mille, dit l\\'aiguilleur. J\\'expédie les trains qui les emportent, tantôt vers la droite, tantôt vers la gauche.\\n\\nEt un rapide illuminé, grondant comme le tonnerre, fit trembler la cabine d\\'aiguillage.\\n\\n- Ils sont bien pressés, dit le petit prince. Que cherchent-ils ?\\n\\n- L\\'homme de la locomotive l\\'ignore lui-même, dit l\\'aiguilleur.\\n\\nEt gronda, en sens inverse, un second rapide illuminé.\\n\\n- Ils reviennent déjà ? demanda le petit prince...\\n\\n- Ce ne sont pas les mêmes, dit l\\'aiguilleur. C\\'est un échange.\\n\\n- Ils n\\'étaient pas contents, là où ils étaient ?\\n\\n- On n\\'est jamais content là où l\\'on est, dit l\\'aiguilleur.\\n\\nEt gronda le tonnerre d\\'un troisième rapide illuminé. - Ils poursuivent les premiers voyageurs ? demanda le petit prince.\\n\\n- Ils ne poursuivent rien du tout, dit l\\'aiguilleur. Ils dorment là dedans, ou bien ils bâillent. Les enfants seuls écrasent leur nez contre les vitres.\\n\\n- Les enfants seuls savent ce qu\\'ils cherchent, fit le petit prince. Ils perdent du temps pour une poupée de chiffons, et elle devient très importante, et si on la leur enlève, ils pleurent...\\n\\n- Ils ont de la chance, dit l\\'aiguilleur.\\n\\n\\nChapitre 23\\n\\n-Bonjour, dit le petit prince.\\n\\n- Bonjour, dit le marchand.\\n\\nC\\'était un marchand de pilules perfectionnées qui apaisent la soi£ On en avale une par semaine et l\\'on n\\'éprouve plus le besoin de boire.\\n\\n- Pourquoi vends-tu ça ? dit le petit prince.\\n\\n- C\\'est une grosse économie de temps, dit le marchand. Les experts ont fait des calculs. On épargne cinquante-trois minutes par semaine.\\n\\n- Et que fait-on de ces cinquante-trois minutes ?\\n\\n- On en fait ce que l\\'on veut...\\n\\n\"Moi, se dit le petit prince, si j\\'avais cinquante-trois minutes à dépenser, je marcherais tout doucement vers une fontaine...\"\\n\\n\\nChapitre 24\\n\\nNous en étions au huitième jour de ma panne dans le désert, et j\\'avais écouté l\\'histoire du marchand en buvant la dernière goutte de ma provision d\\'eau.\\n\\n- Ah ! Dis-je au petit prince, ils sont bien jolis, tes souvenirs, mais je n\\'ai pas encore réparé mon avion, je n\\'ai plus rien à boire, et je serais heureux, moi aussi, si je pouvais marcher tout doucement vers une fontaine\\n\\n- Mon ami le renard, me dit-il...\\n\\n- Mon petit bonhomme, il ne s\\'agit plus du renard 1\\n\\n- Pourquoi ?\\n\\n- Parce qu\\'on va mourir de soif...\\n\\nIl ne comprit pas mon raisonnement, il me répondit :\\n\\n- C\\'est bien d\\'avoir eu un ami, même si l\\'on va mourir. Moi, je suis bien content d\\'avoir eu un ami renard...\\n\\n\"Il ne mesure pas le danger, me dis-je. Il n\\'a jamais ni faim ni soif. Un peu de soleil lui suffit...\"\\n\\nMais il me regarda et répondit à ma pensée\\n\\n- J\\'ai soif aussi... cherchons un puits...\\n\\nJ\\'eus un geste de lassitude : il est absurde de chercher un puits, au hasard, dans l\\'immensité du désert. Cependant nous nous mîmes en marche.\\n\\nQuand nous eûmes marché, des heures, en silence, la nuit tomba, et les étoiles commencèrent de s\\'éclairer. Je les apercevais comme en rêve, ayant un peu de fièvre, à cause de ma soif. Les mots du petit prince dansaient dans ma mémoire.\\n\\n- Tu as donc soif, toi aussi ? Lui demandai-je.\\n\\nMais il ne répondit pas à ma question. Il me dit simplement :\\n\\n- L\\'eau peut aussi être bonne pour le coeur...\\n\\nje ne compris pas sa réponse mais je me tus... Je savais bien qu\\'il ne fallait pas l\\'interroger.\\n\\nIl était fatigué. Il s\\'assit. Je m\\'assis auprès de lui. Et, après un silence, il dit encore :\\n\\n- Les étoiles sont belles, à cause d\\'une fleur que l\\'on ne voit pas...\\n\\nJe répondis\"bien sûr\"et je regardai, sans parler, les plis du sable sous la lune.\\n\\n- Le désert est beau, ajouta-t-il.\\n\\nEt c\\'était vrai. J\\'ai toujours aimé le désert. On s\\'assoit sur une dune de sable. On ne voit rien. On n\\'entend rien. Et cependant quelque chose rayonne en silence...\\n\\n- Ce qui embellit le désert, dit le petit prince, c\\'est qu\\'il cache un puits quelque part...\\n\\nJe fus surpris de comprendre soudain ce mystérieux rayonnement du sable. Lorsque j\\'étais petit garçon j\\'habitais une maison ancienne, et la légende racontait qu\\'un trésor y était enfoui. Bien sûr, jamais personne n\\'a su le découvrir, ni peut-être même ne l\\'a cherché. Mais il enchantait toute cette maison. Ma maison cachait un secret au fond de son coeur...\\n\\n- Oui, dis-je au petit prince, qu\\'il s\\'agisse de la maison, des étoiles ou du désert, ce qui fait leur beauté est invisible !\\n\\n- Je suis content, dit-il, que tu sois d\\'accord avec mon renard.\\n\\nComme le petit prince s\\'endormait, je le pris dans mes bras, et me remis en route. J\\'étais ému. Il me semblait porter un trésor fragile. Il me semblait même qu\\'il n\\'y eût rien de plus fragile sur la Terre. Je regardais, à la lumière de la lune, ce front pâle, ces yeux clos, ces mèches de cheveux qui tremblaient au vent, et je me disais :\"Ce que je vois là n\\'est qu\\'une écorce. Le plus important est invisible...\"\\n\\nComme ses lèvres entr\\'ouvertes ébauchaient un demisourire je me dis encore :\"Ce qui m\\'émeut si fort de ce petit prince endormi, c\\'est sa fidélité pour une fleur, c\\'est l\\'image d\\'une rose qui rayonne en lui comme la flamme d\\'une lampe, même quand il dort...\"Et je le devinai plus fragile encore. Il faut bien protéger les lampes : un coup de vent peut les éteindre...\\n\\nEt, marchant ainsi, je découvris le puits au lever du jour.\\n\\n\\nChapitre 25\\n\\nLes hommes, dit le petit prince, ils s\\'enfournent dans les rapides, mais ils ne savent plus ce qu\\'ils cherchent. Alors il s\\'agitent et tournent en rond...\\n\\nEt il ajouta :\\n\\n- Ce n\\'est pas la peine...\\n\\nLe puits que nous avions atteint ne ressemblait pas aux puits sahariens. Les puits sahariens sont de simples trous creusés dans le sable. Celui-là ressemblait à un puits de village. Mais il n\\'y avait là aucun village, et je croyais rêver.\\n\\n- C\\'est étrange, dis-je au petit prince, tout est prêt la poulie, le seau et la corde...\\n\\nIl rit, toucha la corde, fit jouer la poulie. Et la poulie gémit comme gémit une vieille girouette quand le vent a longtemps dormi,\\n\\n- Tu entends, dit le petit prince, nous réveillons ce puits et il chante...\\n\\nJe ne voulais pas qu\\'il fît un effort\\n\\n- Laisse-moi faire, lui dis-je, c\\'est trop lourd pour toi.\\n\\nLentement je hissai le seau jusqu\\'à la margelle. Je l\\'y installai bien d\\'aplomb. Dans mes oreilles durait le chant de la poulie et, dans l\\'eau qui tremblait encore, je voyais trembler le soleil.\\n\\n- J\\'ai soif de cette eau-là, dit le petit prince, donne moi à boire...\\n\\nEt je compris ce qu\\'il avait cherché\\n\\nJe soulevai le seau jusqu\\'à ses lèvres. Il but, les yeux fermés. C\\'était doux comme une fête. Cette eau était bien autre chose qu\\'un aliment. Elle était née de la marche sous les étoiles, du chant de la poulie, de l\\'effort de mes bras. Elle était bonne pour le coeur, comme un cadeau. Lorsque j\\'étais petit garçon, la lumière de l\\'arbre de Noël, la musique de la messe de minuit, la douceur des sourires faisaient ainsi tout le rayonnement du cadeau de Noël que je recevais.\\n\\n- Les hommes de chez toi, dit le petit prince, cultivent cinq mille roses dans un même jardin... et ils n\\'y trouvent pas ce qu\\'ils cherchent...\\n\\n- Ils ne le trouvent pas, répondis-je...\\n\\n- Et cependant ce qu\\'ils cherchent pourrait être trouvé dans une seule rose ou un peu d\\'eau...\\n\\n- Bien sûr, répondis-je.\\n\\nEt le petit prince ajouta :\\n\\n- Mais les yeux sont aveugles. Il faut chercher avec le coeur.\\n\\nJ\\'avais bu. Je respirais bien. Le sable, au lever du jour, est couleur de miel. J\\'étais heureux aussi de cette couleur de miel. Pourquoi fallait-il que j\\'eusse de la peine...\\n\\n- Il faut que tu tiennes ta promesse, me dit doucement le petit prince, qui, de nouveau, s\\'était assis auprès de moi.\\n\\n- Quelle promesse?\\n\\n- Tu sais... une muselière pour mon mouton... je suis responsable de cette fleur !\\n\\nJe sortis de ma poche mes ébauches de dessin. Le petit prince les aperçut et dit en riant :\\n\\n- Tes baobabs, ils ressemblent un peu à des choux...\\n\\n- Oh!\\n\\nMoi qui étais si fier des baobabs !\\n\\n- Ton renard... ses oreilles... elles ressemblent un peu à des cornes... et elles sont trop longues\\n\\nEt il rit encore.\\n\\n\\t- Tu es injuste, petit bonhomme, je ne savais rien\\ndessiner que les boas fermés et les  boas ouverts.\\n\\n- Oh ! ça ira, dit-il, les enfants savent.\\n\\nJe crayonnai donc une muselière. Et j\\'eus le coeur serré en la lui donnant :\\n\\n- Tu as des projets que j\\'ignore...\\n\\nMais il ne me répondit pas. Il me dit\\n\\n- Tu sais, ma chute sur la Terre... c\\'en sera demain l\\'anniversaire...\\n\\nPuis, après un silence, il dit encore\\n\\n- J\\'étais tombé tout près d\\'ici...\\n\\nEt il rougit.\\n\\nEt de nouveau, sans comprendre pourquoi, j\\'éprouvai un chagrin bizarre. Cependant une question me vint :\\n\\n- Alors ce n\\'est pas par hasard que, le matin où je t\\'ai connu, il y a huit jours, tu te promenais comme ça, tout seul, à mille milles de toutes les régions habitées ? Tu retournais vers le point de ta chute ?\\n\\nLe petit prince rougit encore.\\n\\nEt j\\'ajoutai, en hésitant :\\n\\n- À cause, peut-être, de l\\'anniversaire ?...\\n\\nLe petit prince rougit de nouveau. Il ne répondait jamais aux questions, mais, quand on rougit, ça signifie\"oui\", n\\'est-ce pas ?\\n\\n- Ah ! lui dis-je, j\\'ai peur...\\n\\nMais il me répondit :\\n\\n- Tu dois maintenant travailler. Tu dois repartir vers ta machine. je t\\'attends ici. Reviens demain soir...\\n\\nMais je n\\'étais pas rassuré. Je me souvenais du renard. On risque de pleurer un peu si l\\'on s\\'est laissé apprivoiser...\\n\\n\\nChapitre 26\\n\\nIl y avait, à côté du puits, une ruine de vieux mur de pierre. Lorsque je revins de mon travail, le lendemain soir, j\\'aperçus de loin mon petit prince assis là-haut, les jambes pendantes. Et je l\\'entendis qui parlait :\\n\\n- Tu ne t\\'en souviens donc pas ? disait-il. Ce n\\'est pas tout à fait ici !\\n\\nUne autre voix lui répondit sans doute, puisqu\\'il répliqua :\\n\\n- Si ! Si ! C\\'est bien le jour, mais ce n\\'est pas ici l\\'endroit...\\n\\nJe poursuivis ma marche vers le mur. Je ne voyais ni n\\'entendais toujours personne. Pourtant le petit prince répliqua de nouveau :\\n\\n- ... Bien sûr. Tu verras où commence ma trace dans le sable. Tu n\\'as qu\\'à m\\'y attendre. J\\'y serai cette nuit.\\n\\nJ\\'étais à vingt mètres du mur et je ne voyais toujours rien.\\n\\nLe petit prince dit encore, après un silence \\n\\n- Tu as du bon venin ? Tu es sûr de ne pas me faire souffrir longtemps ?\\n\\nJe fis halte, le coeur serré, mais je ne comprenais toujours pas.\\n\\n- Maintenant, va-t\\'en, dit-il... je veux redescendre ! Alors j\\'abaissai moi-même les yeux vers le pied du mur, et je fis un bond ! Il était là, dressé vers le petit prince, un de ces serpents jaunes qui vous exécutent en trente secondes. Tout en fouillant ma poche pour en tirer mon revolver, je pris le pas de course, mais, au bruit que je fis, le serpent se laissa doucement couler dans le sable, comme un jet d\\'eau qui meurt, et, sans trop se presser, se faufila entre les pierres avec un léger bruit de métal.\\n\\nJe parvins au mur juste à temps pour y recevoir dans les bras mon petit bonhomme de prince, pâle comme la neige.\\n\\n- Quelle est cette histoire-là ! Tu parles maintenant avec les serpents !\\n\\nJ\\'avais défait son éternel cache-nez d\\'or. Je lui avais mouillé les tempes et l\\'avais fait boire. Et maintenant je n\\'osais plus rien lui demander. Il me regarda gravement et m\\'entoura le cou de ses bras. je sentais battre son coeur comme celui d\\'un oiseau qui meurt, quand on l\\'a tiré à la carabine. Il me dit :\\n\\n,- Je suis content que tu aies trouvé ce qui manquait à ta machine. Tu vas pouvoir rentrer chez toi...\\n\\n- Comment sais-tu ?\\n\\nJe venais justement lui annoncer que, contre toute espérance, j\\'avais réussi mon travail !\\n\\nIl ne répondit rien à ma question, mais il ajouta\\n\\n- Moi aussi, aujourd\\'hui, je rentre chez moi...\\n\\nPuis, mélancolique :\\n\\n- C\\'est bien plus loin... c\\'est bien plus difficile...\\n\\nJe sentais bien qu\\'il se passait quelque chose d\\'extraordinaire. Je le serrais dans les bras comme un petit enfant, et cependant il me semblait qu\\'il coulait verticalement dans un abîme sans que je pusse rien pour le retenir...\\n\\nIl avait le regard sérieux, perdu très loin.\\n\\n- J\\'ai ton mouton. Et j\\'ai la caisse pour le mouton. Et j\\'ai la muselière...\\n\\nEt il sourit avec mélancolie.\\n\\nJ\\'attendis longtemps. Je sentais qu\\'il se réchauffait peu à peu :\\n\\n- Petit bonhomme, tu as eu peur...\\n\\nIl avait eu peur, bien sûr ! Mais il rit doucement\\n\\n- J\\'aurai bien plus peur ce soir...\\n\\nDe nouveau je me sentis glacé par le sentiment de l\\'irréparable. Et je compris que je ne supportais pas l\\'idée de ne plus jamais entendre ce rire. C\\'était pour moi comme une fontaine dans le désert.\\n\\n- Petit bonhomme, je veux encore t\\'entendre rire...\\n\\nMais il me dit :\\n\\n- Cette nuit, ça fera un an. Mon étoile se trouvera juste au-dessus de l\\'endroit où je suis tombé l\\'année dernière...\\n\\n- Petit bonhomme, n\\'est-ce pas que c\\'est un mauvais rêve cette histoire de serpent et de rendez-vous et d\\'étoile...\\n\\nMais il ne répondit pas à ma question. Il me dit\\n\\n- Ce qui est important, ça ne se voit pas...\\n\\n- Bien sûr...\\n\\n- C\\'est comme pour la fleur. Si tu aimes une fleur qui se trouve dans une étoile, c\\'est doux, la nuit, de regarder le ciel. Toutes les étoiles sont fleuries.\\n\\n- Bien sûr...\\n\\n- C\\'est comme pour l\\'eau. Celle que tu m\\'as donnée à boire était comme une musique, à cause de la poulie et de la corde... tu te rappelles... elle était bonne.\\n\\n- Bien sûr...\\n\\n- Tu regarderas, la nuit, les étoiles. C\\'est trop petit chez moi pour que je te montre où se trouve la mienne. C\\'est mieux comme ça. Mon étoile, ça sera pour toi une des étoiles. Alors, toutes les étoiles, tu aimeras les regarder... Elles seront toutes tes amies. Et puis je vais te faire un cadeau...\\n\\nIl rit encore.\\n\\n- Ah! Petit bonhomme, petit bonhomme, j\\'aime entendre ce rire !\\n\\n- Justement ce sera mon cadeau... ce sera comme pour l\\'eau...\\n\\n- Que veux-tu dire ?\\n\\n- Les gens ont des étoiles qui ne sont pas les mêmes. Pour les uns, qui voyagent, les étoiles sont des guides. Pour d\\'autres elles ne sont rien que de petites lumières. Pour d\\'autres, qui sont savants, elles sont des problèmes. Pour mon businessman elles étaient de l\\'or. Mais toutes ces étoiles-là se taisent. Toi, tu auras des étoiles comme personne n\\'en a...\\n\\n- Que veux-tu dire ?\\n\\n- Quand tu regarderas le ciel, la nuit, puisque j\\'habiterai dans l\\'une d\\'elles, puisque je rirai dans l\\'une d\\'elles, alors ce sera pour toi comme si riaient toutes les étoiles. Tu auras, toi, des étoiles qui savent rire\\n\\nEt il rit encore.\\n\\n- Et quand tu seras consolé (on se console toujours) tu seras content de m\\'avoir connu. Tu seras toujours mon ami. Tu auras envie de rire avec moi. Et tu ouvriras parfois ta fenêtre, comme ça, pour le plaisir... Et tes amis seront bien étonnés de te voir rire en regardant le ciel. Alors tu leur diras :\"Oui, les étoiles, ça me fait toujours rire !\"Et ils te croiront fou. Je t\\'aurai joué un bien vilain tour...\\n\\nEt il rit encore.\\n\\n- Ce sera comme si je t\\'avais donné, au lieu d\\'étoiles, des tas de petits grelots qui savent rire...\\n\\nEt il rit encore. Puis il redevint sérieux\\n\\n- Cette nuit... tu sais... ne viens pas.\\n\\n- Je ne te quitterai pas.\\n\\n- J\\'aurai l\\'air d\\'avoir mal... j\\'aurai un peu l\\'air de mourir. C\\'est comme ça. Ne viens pas voir ça, ce n\\'est pas la peine.\\n\\n- Je ne te quitterai pas.\\n\\nMais il était soucieux.\\n\\n- je te dis ça... c\\'est à cause aussi du serpent. Il ne faut pas qu\\'il te morde... Les serpents, c\\'est méchant. Ça peut mordre pour le plaisir...\\n\\n- Je ne te quitterai pas.\\n\\nMais quelque chose le rassura\\n\\n- C\\'est vrai qu\\'ils n\\'ont plus de venin pour la seconde morsure...\\n\\nCette nuit-là je ne le vis pas se mettre en route. Il s\\'était évadé sans bruit. Quand je réussis à le rejoindre il marchait décidé, d\\'un pas rapide. Il me dit seulement :\\n\\n- Ah ! Tu es là...\\n\\nEt il me prit par la main. Mais il se tourmenta encore:\\n\\n- Tu as eu tort. Tu auras de la peine. J\\'aurai l\\'air d\\'être mort et ce ne sera pas vrai...\\n\\nMoi je me taisais.\\n\\n- Tu comprends. C\\'est trop loin. Je ne peux pas emporter ce corps-là. C\\'est trop lourd.\\n\\nMoi je me taisais.\\n\\n- Mais ce sera comme une vieille écorce abandonnée. Ce n\\'est pas triste les vieilles écorces...\\n\\nMoi je me taisais.\\n\\nIl se découragea un peu. Mais il fit encore un effort :\\n\\n- Ce sera gentil, tu sais. Moi aussi je regarderai les étoiles. Toutes les étoiles seront des puits avec une poulie rouillée. Toutes les étoiles me verseront à boire...\\n\\nMoi je me taisais.\\n\\n- Ce sera tellement amusant ! Tu auras cinq cents millions de grelots, j\\'aurai cinq cents millions de fontaines...\\n\\nEt il se tut aussi, parce qu\\'il pleurait...\\n\\n- C\\'est là. Laisse-moi faire un pas tout seul.\\n\\nEt il s\\'assit parce qu\\'il avait peur.\\n\\nIl dit encore :\\n\\n- Tu sais... ma fleur... j\\'en suis responsable ! Et elle est tellement faible ! Et elle est tellement naïve. Elle a quatre épines de rien du tout pour la protéger contre le monde...\\n\\nMoi je m\\'assis parce que je ne pouvais plus me tenir debout. Il dit :\\n\\n- Voilà... C\\'est tout...\\n\\nIl hésita encore un peu, puis il se releva. Il fit un pas. Moi je ne pouvais pas bouger.\\n\\nIl n\\'y eut rien qu\\'un éclair jaune près de sa cheville. Il demeura un instant immobile. Il ne cria pas. Il tomba doucement comme tombe un arbre. Ça ne fit même pas de bruit, à cause du sable.\\n\\n\\nChapitre 27\\n\\nEt maintenant, bien sûr, ça fait six ans déjà... Je n\\'ai jamais encore raconté cette histoire. Les camarades qui m\\'ont revu ont été bien contents de me revoir vivant. J\\'étais triste, mais je leur disais :\"C\\'est la fatigue...\"\\n\\nMaintenant je me suis un peu consolé. C\\'est-à-dire... pas tout à fait. Mais je sais bien qu\\'il est revenu à sa planète, car, au lever du jour, je n\\'ai pas retrouvé son corps. Ce n\\'était pas un corps tellement lourd... Et j\\'aime la nuit écouter les étoiles. C\\'est comme cinq cents millions de grelots...\\n\\nMais voilà qu\\'il se passe quelque chose d\\'extraordinaire. La muselière que j\\'ai dessinée pour le petit prince, j\\'ai oublié d\\'y ajouter la courroie de cuir ! Il n\\'aura jamais pu l\\'attacher au mouton. Alors je me demande :\"Que s\\'est-il passé sur sa planète ? Peut-être bien que le mouton a mangé la fleur...\"\\n\\nTantôt je me dis :\"Sûrement non ! Le petit prince enferme sa fleur toutes les nuits sous son globe de verre, et il surveille bien son mouton...\"Alors je suis heureux. Et toutes les étoiles rient doucement.\\n\\n\\nTantôt je me dis :\"On est distrait une fois ou l\\'autre, et ça suffit ! Il a oublié, un soir, le globe de verre, ou bien le mouton est sorti sans bruit pendant la nuit...\"Alors les grelots se changent tous en larmes ! ...\\n\\nC\\'est là un bien grand mystère. Pour vous qui aimez aussi le petit prince, comme pour moi, rien de l\\'univers n\\'est semblable si quelque part, on ne sait où, un mouton que nous ne connaissons pas a, oui ou non, mangé une rose...\\n\\nRegardez le ciel. Demandez-vous : Le mouton oui ou non a-t-il mangé la fleur ? Et vous verrez comme tout change...\\n\\nEt aucune grande personne ne comprendra jamais que ça a tellement d\\'importance !'"
            ],
            "application/vnd.google.colaboratory.intrinsic+json": {
              "type": "string"
            }
          },
          "metadata": {},
          "execution_count": 4
        }
      ]
    },
    {
      "cell_type": "markdown",
      "source": [
        "Segmentation by chapters"
      ],
      "metadata": {
        "id": "zTmZ-O42Hkj8"
      }
    },
    {
      "cell_type": "code",
      "source": [
        "chapters = content1.split('hapitre ')\n",
        "print(len(chapters), 'chapters ???')\n",
        "# Problem with the chapter 4 (write chapitre and not Chapitre)"
      ],
      "metadata": {
        "colab": {
          "base_uri": "https://localhost:8080/"
        },
        "id": "fVi6-JYCDw6K",
        "outputId": "a63f484d-2891-40ce-a760-f6cddc08a889"
      },
      "execution_count": 5,
      "outputs": [
        {
          "output_type": "stream",
          "name": "stdout",
          "text": [
            "28 chapters ???\n"
          ]
        }
      ]
    },
    {
      "cell_type": "code",
      "source": [
        "import re # a regular-expression library\n",
        "four = re.sub('chapitre 4', 'Chapitre 4', content1)\n",
        "chapters = four.split('Chapitre ')\n",
        "chapters[4]"
      ],
      "metadata": {
        "colab": {
          "base_uri": "https://localhost:8080/",
          "height": 116
        },
        "id": "YHrjQhE6kS-U",
        "outputId": "2efdfcf5-cc04-4860-b4e6-52a010803e14"
      },
      "execution_count": 6,
      "outputs": [
        {
          "output_type": "execute_result",
          "data": {
            "text/plain": [
              "'4\\n\\nJ\\'avais ainsi appris une seconde chose très importante : C\\'est que sa planète d\\'origine était à peine plus grande qu\\'une maison !\\n\\nÇa ne pouvait pas m\\'étonner beaucoup. Je savais bien qu\\'en dehors des grosses planètes comme la Terre, Jupiter, Mars, Vénus, auxquelles on a donné des noms, il y en a des centaines d\\'autres qui \\tsont quelquefois si petites qu\\'on a beaucoup de mal à les apercevoir au télescope. Quand un astronome découvre l\\'une d\\'elles, il lui donne pour nom un numéro. Il l\\'appelle par exemple :\"l\\'astéroïde 3251\".\\n\\nJ\\'ai de sérieuses raisons de croire que la planète d\\'où venait le petit prince est l\\'astéroïde B 612. Cet astéroïde n\\'a été aperçu qu\\'une fois au télescope, en 1909 par un astronome turc.\\n\\nIl avait fait alors une grande démonstration de sa découverte à un Congrès International d\\'Astronomie. Mais personne ne l\\'avait cru à cause de son costume. Les grandes personnes sont comme ça.\\n\\nHeureusement pour la réputation de l\\'astéroïde B 612 un dictateur turc imposa à son peuple, sous peine de mort, de s\\'habiller à l\\'européenne. L\\'astronome refit sa démonstration en 1920 dans un habit très élégant. Et cette fois-ci tout le monde fut de son avis.\\n\\nSi je vous ai raconté ces détails sur l\\'astéroïde B 612 et si je vous ai confié son numéro, c\\'est à cause des grandes personnes. Les grandes personnes aiment les chiffres. Quand vous leur parlez d\\'un nouvel ami, elles ne vous questionnent jamais sur l\\'essentiel. Elles ne vous disent jamais:\"Quel est le son de sa voix ? Quels sont les jeux qu\\'il préfère ? Est-ce qu\\'il collectionne les papillons ?\"Elles vous demandent:\"Quel âge a-t-il ? Combien a-t-il de frères ? Combien pèse-t-il ? Combien gagne son père ?\"Alors seulement elles croient le connaître. Si vous dites aux grandes personnes :\"J\\'ai vu une belle maison en briques roses, avec des géraniums aux fenêtres et des colombes sur le toit...\"Elles ne parviennent pas à s\\'imaginer cette maison. Il faut leur dire :\"J\\'ai vu une maison de cent mille francs.\"Alors elles s\\'écrient :\"Comme c\\'est joli !\"\\n\\nAinsi, si vous leur dites :\"La preuve que le petit prince a existé c\\'est qu\\'il était ravissant, qu\\'il riait, et qu\\'il voulait un mouton. Quand on veut un mouton, c\\'est la preuve qu\\'on existe\", elles hausseront les épaules et vous traiteront d\\'enfant! Mais si vous leur dites :\"La planète d\\'où il venait est l\\'astéroïde B 612\", alors elles seront convaincues, et elles vous laisseront tranquille avec leurs questions. Elles sont comme ça. Il ne faut pas leur en vouloir. Les enfants doivent être très indulgents envers les grandes personnes.\\n\\nMais, bien sûr, nous qui comprenons la vie, nous nous moquons bien des numéros ! J\\'aurais aimé commencer cette histoire à la façon des contes de fées. J\\'aurais aimé dire :\\n\\n\"Il était une fois un petit prince qui habitait une planète à peine plus grande que lui, et qui avait besoin d\\'un ami...\"Pour ceux qui comprennent la vie, ça aurait eu l\\'air beaucoup plus vrai.\\n\\nCar je n\\'aime pas qu\\'on lise mon livre à la légère. J\\'éprouve tant de chagrin à raconter ces souvenirs. Il y a six ans déjà que mon ami s\\'en est allé avec son mouton. Si j\\'essaie ici de le décrire, c\\'est afin de ne pas l\\'oublier. C\\'est triste d\\'oublier un ami. Tout le monde n\\'a pas eu un ami. Et je puis devenir comme les grandes personnes qui ne s\\'intéressent plus qu\\'aux chiffres. C\\'est donc pour ça encore que j\\'ai acheté une boîte de couleurs et des crayons. C\\'est dur de se remettre au dessin, à mon âge, quand on n\\'a jamais fait d\\'autres tentatives que celle d\\'un boa fermé et celle d\\'un boa ouvert, à l\\'âge de six ans ! J\\'essaierai, bien sûr, de faire des portraits le plus ressemblants possible. Mais je ne suis pas tout à fait certain de réussir. Un dessin va, et l\\'autre ne ressemble plus. Je me trompe un peu aussi sur la taille. Ici le petit prince est trop grand. Là il est trop petit. J\\'hésite aussi sur la couleur de son costume. Alors je tâtonne comme ci et comme ça, tant bien que mal. Je me tromperai enfin sur certains détails plus importants. Mais ça, il faudra me le pardonner. Mon ami ne donnait jamais d\\'explications. Il me croyait peut-être semblable à lui. Mais moi, malheureusement, je ne sais pas voir les moutons à travers les caisses. Je suis peut-être un peu comme les grandes personnes. J\\'ai dû vieillir.\\n\\n\\n'"
            ],
            "application/vnd.google.colaboratory.intrinsic+json": {
              "type": "string"
            }
          },
          "metadata": {},
          "execution_count": 6
        }
      ]
    },
    {
      "cell_type": "code",
      "source": [
        "nodigits = re.sub(r'[0-9]+', '', four)\n",
        "#print('No digits:', nodigits[:100])\n",
        "clean = re.compile(r'\\s+') # also combine any kind of repeated whitespace into a single space\n",
        "ok = clean.sub(' ', nodigits)\n",
        "#print('Cleaned:', ok[:100])\n",
        "chapters_split = ok.split('Chapitre ')\n",
        "chapters = [ s for s in chapters_split if len(s) > 0] # keep only the ones with content\n",
        "len(chapters)"
      ],
      "metadata": {
        "colab": {
          "base_uri": "https://localhost:8080/"
        },
        "id": "2Loo_6NeDBeg",
        "outputId": "8814d6bd-58ee-4f55-b60b-52824f2f4efc"
      },
      "execution_count": 7,
      "outputs": [
        {
          "output_type": "execute_result",
          "data": {
            "text/plain": [
              "27"
            ]
          },
          "metadata": {},
          "execution_count": 7
        }
      ]
    },
    {
      "cell_type": "code",
      "source": [
        "chapters[26]"
      ],
      "metadata": {
        "colab": {
          "base_uri": "https://localhost:8080/",
          "height": 116
        },
        "id": "Pw6vMtXbRxk_",
        "outputId": "d14e59e6-4da4-4535-b4da-e625fc0ea924"
      },
      "execution_count": 8,
      "outputs": [
        {
          "output_type": "execute_result",
          "data": {
            "text/plain": [
              "'Et maintenant, bien sûr, ça fait six ans déjà... Je n\\'ai jamais encore raconté cette histoire. Les camarades qui m\\'ont revu ont été bien contents de me revoir vivant. J\\'étais triste, mais je leur disais :\"C\\'est la fatigue...\" Maintenant je me suis un peu consolé. C\\'est-à-dire... pas tout à fait. Mais je sais bien qu\\'il est revenu à sa planète, car, au lever du jour, je n\\'ai pas retrouvé son corps. Ce n\\'était pas un corps tellement lourd... Et j\\'aime la nuit écouter les étoiles. C\\'est comme cinq cents millions de grelots... Mais voilà qu\\'il se passe quelque chose d\\'extraordinaire. La muselière que j\\'ai dessinée pour le petit prince, j\\'ai oublié d\\'y ajouter la courroie de cuir ! Il n\\'aura jamais pu l\\'attacher au mouton. Alors je me demande :\"Que s\\'est-il passé sur sa planète ? Peut-être bien que le mouton a mangé la fleur...\" Tantôt je me dis :\"Sûrement non ! Le petit prince enferme sa fleur toutes les nuits sous son globe de verre, et il surveille bien son mouton...\"Alors je suis heureux. Et toutes les étoiles rient doucement. Tantôt je me dis :\"On est distrait une fois ou l\\'autre, et ça suffit ! Il a oublié, un soir, le globe de verre, ou bien le mouton est sorti sans bruit pendant la nuit...\"Alors les grelots se changent tous en larmes ! ... C\\'est là un bien grand mystère. Pour vous qui aimez aussi le petit prince, comme pour moi, rien de l\\'univers n\\'est semblable si quelque part, on ne sait où, un mouton que nous ne connaissons pas a, oui ou non, mangé une rose... Regardez le ciel. Demandez-vous : Le mouton oui ou non a-t-il mangé la fleur ? Et vous verrez comme tout change... Et aucune grande personne ne comprendra jamais que ça a tellement d\\'importance !'"
            ],
            "application/vnd.google.colaboratory.intrinsic+json": {
              "type": "string"
            }
          },
          "metadata": {},
          "execution_count": 8
        }
      ]
    },
    {
      "cell_type": "markdown",
      "source": [
        "**2.\tCan you estimate how many sentences it contains? What can you do to compute this (conceptually, in Python and/or in R)?**"
      ],
      "metadata": {
        "id": "APZi3QZLoF2F"
      }
    },
    {
      "cell_type": "markdown",
      "source": [
        "Segmentation by sentence"
      ],
      "metadata": {
        "id": "a4rESp4JH2om"
      }
    },
    {
      "cell_type": "code",
      "source": [
        "import nltk\n",
        "from nltk.tokenize import sent_tokenize\n",
        "nltk.download('punkt')"
      ],
      "metadata": {
        "colab": {
          "base_uri": "https://localhost:8080/"
        },
        "id": "6-Dq6Gkd9vrr",
        "outputId": "7026b636-7eac-44f1-8017-d4cfa48254a9"
      },
      "execution_count": 9,
      "outputs": [
        {
          "output_type": "stream",
          "name": "stderr",
          "text": [
            "[nltk_data] Downloading package punkt to /root/nltk_data...\n",
            "[nltk_data]   Unzipping tokenizers/punkt.zip.\n"
          ]
        },
        {
          "output_type": "execute_result",
          "data": {
            "text/plain": [
              "True"
            ]
          },
          "metadata": {},
          "execution_count": 9
        }
      ]
    },
    {
      "cell_type": "code",
      "source": [
        "sent, cnt = [], []\n",
        "for chap in chapters:\n",
        "  s=sent_tokenize(chap)\n",
        "  c=len(s)\n",
        "  sent.append(s)\n",
        "  cnt.append(c)\n",
        "sent[0]"
      ],
      "metadata": {
        "colab": {
          "base_uri": "https://localhost:8080/"
        },
        "id": "Z5XIX_PJRml4",
        "outputId": "e4c25ef9-ab05-48f7-de14-f9c482f8307f"
      },
      "execution_count": 10,
      "outputs": [
        {
          "output_type": "execute_result",
          "data": {
            "text/plain": [
              "['Lorsque j\\'avais six ans j\\'ai vu, une fois, une magnifique image, dans un livre sur la Forêt Vierge qui s\\'appelait\"Histoires Vécues\".',\n",
              " 'Ça représentait un serpent boa qui avalait un fauve.',\n",
              " 'Voilà la copie du dessin.',\n",
              " 'On disait dans le livre :\"Les serpents boas avalent leur proie tout entière, sans la mâcher.',\n",
              " 'Ensuite ils ne peuvent plus bouger et ils dorment pendant les six mois de leur digestion.\"',\n",
              " \"J'ai alors beaucoup réfléchi sur les aventures de la jungle et, à mon tour, j'ai réussi, avec un crayon de couleur, à tracer mon premier dessin.\",\n",
              " \"Mon dessin numéro i. Il était comme ça : J'ai montré mon chef-d'oeuvre aux grandes personnes et je leur ai demandé si mon dessin leur faisait peur.\",\n",
              " 'Elles m\\'ont répondu :\"Pourquoi un chapeau ferait-il peur ?\"',\n",
              " 'Mon dessin ne représentait pas un chapeau.',\n",
              " 'Il représentait un serpent boa qui digérait un éléphant.',\n",
              " \"J'ai alors dessiné l'intérieur du serpent boa, afin que les grandes personnes puissent comprendre.\",\n",
              " \"Elles ont toujours besoin d'explications.\",\n",
              " \"Mon dessin numéro était comme ça: Les grandes personnes m'ont conseillé de laisser de côté les dessins de serpents boas ouverts ou fermés, et de m'intéresser plutôt à la géographie, à l'histoire, au calcul et à la grammaire.\",\n",
              " \"C'est ainsi que j'ai abandonné, à l'âge de six ans, une magnifique carrière de peintre.\",\n",
              " \"J'avais été découragé par l'insuccès de mon dessin numéro i et de mon dessin numéro .\",\n",
              " \"Les grandes personnes ne comprennent jamais rien toutes seules, et c'est fatigant, pour les enfants, de toujours et toujours leur donner des explications.\",\n",
              " \"J'ai donc dû choisir un autre métier et j'ai appris à piloter des avions.\",\n",
              " \"J'ai volé un peu partout dans le monde.\",\n",
              " \"Et la géographie, c'est exact, m'a beaucoup servi.\",\n",
              " \"Je savais reconnaître, du premier coup d'oeil la Chine de l'Arizona.\",\n",
              " \"C'est très utile, si l'on est égaré pendant la nuit.\",\n",
              " \"J'ai ainsi eu, au cours de ma vie, des tas de contacts avec des tas de gens sérieux.\",\n",
              " \"J'ai beaucoup vécu chez les grandes personnes.\",\n",
              " 'Je les ai vues de très près.',\n",
              " \"Ça n'a pas trop amélioré mon opinion.\",\n",
              " \"Quand j'en rencontrais une qui me paraissait un peu lucide, je faisais l'expérience sur elle de mon dessin numéro i que j'ai toujours conservé.\",\n",
              " 'Je voulais savoir si elle était vraiment compréhensive.',\n",
              " 'Mais toujours elle me répondait :\"C\\'e§t un chapeau.',\n",
              " '\"Alors je ne lui parlais ni de serpents boas, ni de forêts vierges, ni d\\'étoiles.',\n",
              " 'Je me mettais à sa portée.',\n",
              " 'Je lui parlais de bridge, de golf, de politique et de cravates.',\n",
              " 'Et la grande personne était bien contente de connaître un homme aussi raisonnable.']"
            ]
          },
          "metadata": {},
          "execution_count": 10
        }
      ]
    },
    {
      "cell_type": "code",
      "source": [
        "# Sentence for each chapter\n",
        "print(cnt)\n",
        "len(cnt)"
      ],
      "metadata": {
        "colab": {
          "base_uri": "https://localhost:8080/"
        },
        "id": "Z-m7S3mbpp6s",
        "outputId": "eadb1560-76fa-4870-f640-20596aa33861"
      },
      "execution_count": 11,
      "outputs": [
        {
          "output_type": "stream",
          "name": "stdout",
          "text": [
            "[32, 51, 35, 59, 47, 15, 60, 49, 47, 106, 27, 16, 98, 66, 94, 17, 50, 12, 16, 18, 132, 24, 10, 39, 55, 127, 21]\n"
          ]
        },
        {
          "output_type": "execute_result",
          "data": {
            "text/plain": [
              "27"
            ]
          },
          "metadata": {},
          "execution_count": 11
        }
      ]
    },
    {
      "cell_type": "code",
      "source": [
        "#Total sentence in the document\n",
        "print('Number of sentences in document:' ,sum(cnt))"
      ],
      "metadata": {
        "colab": {
          "base_uri": "https://localhost:8080/"
        },
        "id": "vm8M1szMrYYT",
        "outputId": "db44f1a5-7011-4bba-9853-f761c3197e34"
      },
      "execution_count": 12,
      "outputs": [
        {
          "output_type": "stream",
          "name": "stdout",
          "text": [
            "Number of sentences in document: 1323\n"
          ]
        }
      ]
    },
    {
      "cell_type": "markdown",
      "source": [
        "**3. How about paragraphs? Can you estimate how many there are? What can you do to compute this (conceptually, in Python and/or in R)?**"
      ],
      "metadata": {
        "id": "JQGpagBnuGx3"
      }
    },
    {
      "cell_type": "markdown",
      "source": [
        "Segmentation by paragraph"
      ],
      "metadata": {
        "id": "g_efvfuitS-i"
      }
    },
    {
      "cell_type": "code",
      "source": [
        "nodigits = re.sub(r'[0-9]+', '', four)\n",
        "#print('No digits:', nodigits[:100])\n",
        "#clean = re.compile(r'\\s') # also combine any kind of repeated whitespace into a single space\n",
        "#ok = clean.sub(' ', nodigits)\n",
        "#print('Cleaned:', ok[:100])\n",
        "chapters_split = nodigits.split('Chapitre ')\n",
        "chapters = [ s for s in chapters_split if len(s) > 0] # keep only the ones with content\n",
        "len(chapters)"
      ],
      "metadata": {
        "colab": {
          "base_uri": "https://localhost:8080/"
        },
        "id": "F1uf4zjstWeq",
        "outputId": "cec5c8b9-c18d-4da7-f67b-fb266949aaa4"
      },
      "execution_count": 13,
      "outputs": [
        {
          "output_type": "execute_result",
          "data": {
            "text/plain": [
              "27"
            ]
          },
          "metadata": {},
          "execution_count": 13
        }
      ]
    },
    {
      "cell_type": "code",
      "source": [
        "chapters[0]"
      ],
      "metadata": {
        "colab": {
          "base_uri": "https://localhost:8080/",
          "height": 116
        },
        "id": "gTtjZLlaterv",
        "outputId": "e2b5fbd9-878a-4cdf-cddf-176ea3a0287a"
      },
      "execution_count": 14,
      "outputs": [
        {
          "output_type": "execute_result",
          "data": {
            "text/plain": [
              "'\\n\\nLorsque j\\'avais six ans j\\'ai vu, une fois, une magnifique image, dans un livre sur la Forêt Vierge qui s\\'appelait\"Histoires Vécues\". Ça représentait un serpent boa qui avalait un fauve. Voilà la copie du dessin.\\n\\nOn disait dans le livre :\"Les serpents boas avalent leur proie tout entière, sans la mâcher. Ensuite ils ne peuvent plus bouger et ils dorment pendant les six mois de leur digestion.\"\\n\\nJ\\'ai alors beaucoup réfléchi sur les aventures de la jungle et, à mon tour, j\\'ai réussi, avec un crayon de couleur, à tracer mon premier dessin. Mon dessin numéro i. Il était comme ça :\\n\\nJ\\'ai montré mon chef-d\\'oeuvre aux grandes personnes et je leur ai demandé si mon dessin leur faisait peur.\\nElles m\\'ont répondu :\"Pourquoi un chapeau ferait-il peur ?\"\\n\\nMon dessin ne représentait pas un chapeau. Il représentait un serpent boa qui digérait un éléphant. J\\'ai alors dessiné l\\'intérieur du serpent boa, afin que les grandes personnes puissent comprendre. Elles ont toujours besoin d\\'explications. Mon dessin numéro  était comme ça:\\n\\nLes grandes personnes m\\'ont conseillé de laisser de côté les dessins de serpents boas ouverts ou fermés, et de m\\'intéresser plutôt à la géographie, à l\\'histoire, au calcul et à la grammaire. C\\'est ainsi que j\\'ai abandonné, à l\\'âge de six ans, une magnifique carrière de peintre. J\\'avais été découragé par l\\'insuccès de mon dessin numéro i et de mon dessin numéro . Les grandes personnes ne comprennent jamais rien toutes seules, et c\\'est fatigant, pour les enfants, de toujours et toujours leur donner des explications.\\n\\nJ\\'ai donc dû choisir un autre métier et j\\'ai appris à piloter des avions. J\\'ai volé un peu partout dans le monde. Et la géographie, c\\'est exact, m\\'a beaucoup servi. Je savais reconnaître, du premier coup d\\'oeil la Chine de l\\'Arizona. C\\'est très utile, si l\\'on est égaré pendant la nuit.\\n\\nJ\\'ai ainsi eu, au cours de ma vie, des tas de contacts avec des tas de gens sérieux. J\\'ai beaucoup vécu chez les grandes personnes. Je les ai vues de très près. Ça n\\'a pas trop amélioré mon opinion.\\n\\nQuand j\\'en rencontrais une qui me paraissait un peu lucide, je faisais l\\'expérience sur elle de mon dessin numéro i que j\\'ai toujours conservé. Je voulais savoir si elle était vraiment compréhensive. Mais toujours elle me répondait :\"C\\'e§t un chapeau.\"Alors je ne lui parlais ni de serpents boas, ni de forêts vierges, ni d\\'étoiles. Je me mettais à sa portée. Je lui parlais de bridge, de golf, de politique et de cravates. Et la grande personne était bien contente de connaître un homme aussi raisonnable.\\n\\n\\n\\n'"
            ],
            "application/vnd.google.colaboratory.intrinsic+json": {
              "type": "string"
            }
          },
          "metadata": {},
          "execution_count": 14
        }
      ]
    },
    {
      "cell_type": "markdown",
      "source": [
        "Ainsi, les paragraphe sont séparé par \\n\\n"
      ],
      "metadata": {
        "id": "IB-6AK6Qvl8e"
      }
    },
    {
      "cell_type": "code",
      "source": [
        "paragraphes, cnt = [],[]\n",
        "for para in chapters:  \n",
        "  p = list(filter(lambda x : x != '', para.split('\\n\\n')))\n",
        "  c = len(p)\n",
        "  paragraphes.append(p)\n",
        "  cnt.append(c)\n",
        "paragraphes[0]"
      ],
      "metadata": {
        "colab": {
          "base_uri": "https://localhost:8080/"
        },
        "id": "XZxMM-O7vsX4",
        "outputId": "c6709e26-40b4-4292-f8cd-f353cb0f6494"
      },
      "execution_count": 15,
      "outputs": [
        {
          "output_type": "execute_result",
          "data": {
            "text/plain": [
              "['Lorsque j\\'avais six ans j\\'ai vu, une fois, une magnifique image, dans un livre sur la Forêt Vierge qui s\\'appelait\"Histoires Vécues\". Ça représentait un serpent boa qui avalait un fauve. Voilà la copie du dessin.',\n",
              " 'On disait dans le livre :\"Les serpents boas avalent leur proie tout entière, sans la mâcher. Ensuite ils ne peuvent plus bouger et ils dorment pendant les six mois de leur digestion.\"',\n",
              " \"J'ai alors beaucoup réfléchi sur les aventures de la jungle et, à mon tour, j'ai réussi, avec un crayon de couleur, à tracer mon premier dessin. Mon dessin numéro i. Il était comme ça :\",\n",
              " 'J\\'ai montré mon chef-d\\'oeuvre aux grandes personnes et je leur ai demandé si mon dessin leur faisait peur.\\nElles m\\'ont répondu :\"Pourquoi un chapeau ferait-il peur ?\"',\n",
              " \"Mon dessin ne représentait pas un chapeau. Il représentait un serpent boa qui digérait un éléphant. J'ai alors dessiné l'intérieur du serpent boa, afin que les grandes personnes puissent comprendre. Elles ont toujours besoin d'explications. Mon dessin numéro  était comme ça:\",\n",
              " \"Les grandes personnes m'ont conseillé de laisser de côté les dessins de serpents boas ouverts ou fermés, et de m'intéresser plutôt à la géographie, à l'histoire, au calcul et à la grammaire. C'est ainsi que j'ai abandonné, à l'âge de six ans, une magnifique carrière de peintre. J'avais été découragé par l'insuccès de mon dessin numéro i et de mon dessin numéro . Les grandes personnes ne comprennent jamais rien toutes seules, et c'est fatigant, pour les enfants, de toujours et toujours leur donner des explications.\",\n",
              " \"J'ai donc dû choisir un autre métier et j'ai appris à piloter des avions. J'ai volé un peu partout dans le monde. Et la géographie, c'est exact, m'a beaucoup servi. Je savais reconnaître, du premier coup d'oeil la Chine de l'Arizona. C'est très utile, si l'on est égaré pendant la nuit.\",\n",
              " \"J'ai ainsi eu, au cours de ma vie, des tas de contacts avec des tas de gens sérieux. J'ai beaucoup vécu chez les grandes personnes. Je les ai vues de très près. Ça n'a pas trop amélioré mon opinion.\",\n",
              " 'Quand j\\'en rencontrais une qui me paraissait un peu lucide, je faisais l\\'expérience sur elle de mon dessin numéro i que j\\'ai toujours conservé. Je voulais savoir si elle était vraiment compréhensive. Mais toujours elle me répondait :\"C\\'e§t un chapeau.\"Alors je ne lui parlais ni de serpents boas, ni de forêts vierges, ni d\\'étoiles. Je me mettais à sa portée. Je lui parlais de bridge, de golf, de politique et de cravates. Et la grande personne était bien contente de connaître un homme aussi raisonnable.']"
            ]
          },
          "metadata": {},
          "execution_count": 15
        }
      ]
    },
    {
      "cell_type": "code",
      "source": [
        "# Paragraph for each chapter\n",
        "print(cnt)\n",
        "len(cnt)"
      ],
      "metadata": {
        "colab": {
          "base_uri": "https://localhost:8080/"
        },
        "id": "r3yOoVw2w1r2",
        "outputId": "bdf67270-0893-4e8f-bdc0-1749c4ba7dd1"
      },
      "execution_count": 16,
      "outputs": [
        {
          "output_type": "stream",
          "name": "stdout",
          "text": [
            "[9, 35, 24, 11, 19, 14, 32, 26, 17, 59, 21, 12, 53, 39, 49, 6, 31, 9, 9, 12, 62, 17, 9, 30, 49, 86, 8]\n"
          ]
        },
        {
          "output_type": "execute_result",
          "data": {
            "text/plain": [
              "27"
            ]
          },
          "metadata": {},
          "execution_count": 16
        }
      ]
    },
    {
      "cell_type": "code",
      "source": [
        "#Total paragraphs in the document\n",
        "print('Number of paragraphs in document:' ,sum(cnt))"
      ],
      "metadata": {
        "colab": {
          "base_uri": "https://localhost:8080/"
        },
        "id": "XQjqPe_Gw_9A",
        "outputId": "ec5249ef-7496-432f-b9ef-d888e846f25e"
      },
      "execution_count": 17,
      "outputs": [
        {
          "output_type": "stream",
          "name": "stdout",
          "text": [
            "Number of paragraphs in document: 748\n"
          ]
        }
      ]
    },
    {
      "cell_type": "markdown",
      "source": [
        "**4. How many names (of places and people) are mentioned in the text? What did you do to compute this (conceptually, in Python and/or in R)?**"
      ],
      "metadata": {
        "id": "smXZ6XbKx8Rz"
      }
    },
    {
      "cell_type": "code",
      "source": [
        "import operator\n",
        "for c in chapters:\n",
        "  freq = { w : c.count(w) for w in c.split() } # build a dictionary\n",
        "  top = max(freq.items(), key = operator.itemgetter(1))[0] # the most frequent word\n",
        "  longest = max(freq.keys(), key = len) # the longest word\n",
        "  print(top, longest)"
      ],
      "metadata": {
        "colab": {
          "base_uri": "https://localhost:8080/"
        },
        "id": "enEuA3_s6Boh",
        "outputId": "3aab954f-1d07-4f75-9383-2a6b9e05341c"
      },
      "execution_count": 18,
      "outputs": [
        {
          "output_type": "stream",
          "name": "stdout",
          "text": [
            "i s'appelait\"Histoires\n",
            "a 'véritablement,\n",
            "on j'interrogeai\n",
            "a malheureusement,\n",
            "a répondit:\"Ben!\n",
            "le Malheureusement\n",
            "a servent-elles\n",
            "a Pardonnez-moi...\n",
            "en orgueilleuse...\n",
            "a essentiellement\n",
            "es Malheureusement\n",
            "le définitivement\n",
            "a extraordinaires\",\n",
            "a respectueusement\n",
            "a signifie\"éphémère\"?\n",
            "de Nouvelle-Zélande\n",
            "a conseillerez\n",
            "a rencontra\n",
            "- tabouret.\"D'une\n",
            "le ressemblaient\n",
            "a signifie\"apprivoiser\"?\n",
            "le l'aiguilleur.\n",
            "- cinquante-trois\n",
            "en raisonnement,\n",
            "a l'anniversaire...\n",
            "a d'extraordinaire.\n",
            "a d'extraordinaire.\n"
          ]
        }
      ]
    },
    {
      "cell_type": "code",
      "source": [
        "import nltk\n",
        "nltk.download('stopwords')\n",
        "from nltk.corpus import stopwords\n",
        "skip = stopwords.words('french')\n",
        "print(skip)"
      ],
      "metadata": {
        "colab": {
          "base_uri": "https://localhost:8080/"
        },
        "id": "005hvr245II_",
        "outputId": "2af9f977-dd3e-4988-cc1b-be0daa07159f"
      },
      "execution_count": 19,
      "outputs": [
        {
          "output_type": "stream",
          "name": "stdout",
          "text": [
            "['au', 'aux', 'avec', 'ce', 'ces', 'dans', 'de', 'des', 'du', 'elle', 'en', 'et', 'eux', 'il', 'ils', 'je', 'la', 'le', 'les', 'leur', 'lui', 'ma', 'mais', 'me', 'même', 'mes', 'moi', 'mon', 'ne', 'nos', 'notre', 'nous', 'on', 'ou', 'par', 'pas', 'pour', 'qu', 'que', 'qui', 'sa', 'se', 'ses', 'son', 'sur', 'ta', 'te', 'tes', 'toi', 'ton', 'tu', 'un', 'une', 'vos', 'votre', 'vous', 'c', 'd', 'j', 'l', 'à', 'm', 'n', 's', 't', 'y', 'été', 'étée', 'étées', 'étés', 'étant', 'étante', 'étants', 'étantes', 'suis', 'es', 'est', 'sommes', 'êtes', 'sont', 'serai', 'seras', 'sera', 'serons', 'serez', 'seront', 'serais', 'serait', 'serions', 'seriez', 'seraient', 'étais', 'était', 'étions', 'étiez', 'étaient', 'fus', 'fut', 'fûmes', 'fûtes', 'furent', 'sois', 'soit', 'soyons', 'soyez', 'soient', 'fusse', 'fusses', 'fût', 'fussions', 'fussiez', 'fussent', 'ayant', 'ayante', 'ayantes', 'ayants', 'eu', 'eue', 'eues', 'eus', 'ai', 'as', 'avons', 'avez', 'ont', 'aurai', 'auras', 'aura', 'aurons', 'aurez', 'auront', 'aurais', 'aurait', 'aurions', 'auriez', 'auraient', 'avais', 'avait', 'avions', 'aviez', 'avaient', 'eut', 'eûmes', 'eûtes', 'eurent', 'aie', 'aies', 'ait', 'ayons', 'ayez', 'aient', 'eusse', 'eusses', 'eût', 'eussions', 'eussiez', 'eussent']\n"
          ]
        },
        {
          "output_type": "stream",
          "name": "stderr",
          "text": [
            "[nltk_data] Downloading package stopwords to /root/nltk_data...\n",
            "[nltk_data]   Unzipping corpora/stopwords.zip.\n"
          ]
        }
      ]
    },
    {
      "cell_type": "code",
      "source": [
        "from string import punctuation\n",
        "for chapter in chapters:\n",
        "  nopunct = chapter.translate(str.maketrans(punctuation, ' ' * len(punctuation))) # substitute with space\n",
        "  clean = re.compile(r'\\s+')\n",
        "  ok = clean.sub(' ', nopunct) # in case we made repeated spaces\n",
        "  words = ok.split()\n",
        "  freq = { w : words.count(w) for w in words if w.lower() not in skip } # build a dictionary of the non-stopwords\n",
        "  top = max(freq.items(), key = operator.itemgetter(1))[0] # the most frequent word\n",
        "  longest = max(freq.keys(), key = len) # the longest word\n",
        "  print(top, longest)"
      ],
      "metadata": {
        "colab": {
          "base_uri": "https://localhost:8080/"
        },
        "id": "BnySeY-06fVe",
        "outputId": "b58b84a1-ac99-45c0-bc40-7f8c8d8d1ba1"
      },
      "execution_count": 20,
      "outputs": [
        {
          "output_type": "stream",
          "name": "stdout",
          "text": [
            "dessin compréhensive\n",
            "mouton extraordinaire\n",
            "petit contemplation\n",
            "a malheureusement\n",
            "baobabs soigneusement\n",
            "soleil Malheureusement\n",
            "fleurs impitoyable\n",
            "petit contradictoires\n",
            "fleur soigneusement\n",
            "roi essentiellement\n",
            "vaniteux Malheureusement\n",
            "buveur définitivement\n",
            "étoiles extraordinaires\n",
            "allumeur respectueusement\n",
            "géographe explorateurs\n",
            "cent travaillaient\n",
            "petit conseillerez\n",
            "fleur rencontra\n",
            "dit imagination\n",
            "prince ressemblaient\n",
            "dit ressembleraient\n",
            "dit poursuivent\n",
            "dit perfectionnées\n",
            "petit raisonnement\n",
            "petit anniversaire\n",
            "comme extraordinaire\n",
            "bien extraordinaire\n"
          ]
        }
      ]
    },
    {
      "cell_type": "code",
      "source": [
        "from string import printable # this does not contain mdash & those angled quotes \n",
        "print('OK:', printable)\n",
        "nonprint = f'[^{re.escape(printable)}]'"
      ],
      "metadata": {
        "colab": {
          "base_uri": "https://localhost:8080/"
        },
        "id": "C6tqniLx_2dd",
        "outputId": "5d191865-6029-418a-e5a5-788ad5858c28"
      },
      "execution_count": 21,
      "outputs": [
        {
          "output_type": "stream",
          "name": "stdout",
          "text": [
            "OK: 0123456789abcdefghijklmnopqrstuvwxyzABCDEFGHIJKLMNOPQRSTUVWXYZ!\"#$%&'()*+,-./:;<=>?@[\\]^_`{|}~ \t\n",
            "\r\u000b\f\n"
          ]
        }
      ]
    },
    {
      "cell_type": "code",
      "source": [
        "words = set() # let's collect all the words\n",
        "for chapter in chapters:\n",
        "  nopunct = chapter.translate(str.maketrans(punctuation, ' '*len(punctuation)))\n",
        "  #better = re.sub(nonprint, ' ', nopunct)\n",
        "  clean = re.compile(r'\\s+')\n",
        "  ok = clean.sub(' ', nopunct) # in case we made repeated spaces\n",
        "  words.update(set(ok.split())) # include these new words in the set\n",
        "\n",
        "names = set()\n",
        "regular = set()\n",
        "for w in words:\n",
        "  if len(w) < 3:\n",
        "    continue # too short for our taste\n",
        "  u = w.upper() # all uppercase version\n",
        "  l = w.lower() # all lowercase version\n",
        "  if w == u: # the word WAS all uppercase\n",
        "    w = l.capitalize() # just a capital initial, then\n",
        "  if l in skip or u in skip or w in skip:\n",
        "    continue # ignore stop words\n",
        "  if l in words: # not a name since it also appears in lowercase\n",
        "    regular.add(l) # only keep the lowercase version\n",
        "  else:\n",
        "    names.add(w)\n",
        "print(names)"
      ],
      "metadata": {
        "colab": {
          "base_uri": "https://localhost:8080/"
        },
        "id": "QP_k2Y0e6uDO",
        "outputId": "cdd9e887-0a4c-4188-f2c3-bfd6feba10d9"
      },
      "execution_count": 22,
      "outputs": [
        {
          "output_type": "stream",
          "name": "stdout",
          "text": [
            "{'Chine', 'Sahara', 'Quels', 'Frappe', 'Laisse', 'Vierge', 'Ordonnez', 'Rappela', 'Dieu', 'Afrique', 'Tiens', 'Approche', 'Majesté', 'Nord', 'Pourtant', 'Humiliée', 'Demandez', 'Australie', 'Quel', 'Pacifique', 'Indes', 'Noël', 'Arizona', 'Nouvelle', 'Europe', 'Heureusement', 'Vécues', 'Quant', 'Jupiter', 'Reviens', 'Vénus', 'Astronomie', 'Amérique', 'Tâche', 'Sire', 'Zélande', 'International', 'Ensuite', 'Pardonnez', 'Congrès', 'États', 'Mars', 'Unis', 'Russie', 'Regardez', 'Lorsqu', 'Monsieur', 'Ouf', 'Lorsque', 'Bonsoir', 'Évidemment', 'Voyons', 'Riposta', 'Pattes', 'Forêt', 'Ben', 'Sibérie', 'Sud', 'Histoires', 'Hein', 'Acheva', 'Allons', 'France'}\n"
          ]
        }
      ]
    },
    {
      "cell_type": "code",
      "source": [
        "very_names = ('Nord', 'Mars', 'Russie', 'France', 'Chine', 'Dieu', 'États-Unis','Noël','Jupiter','Majesté','Sibérie','Afrique','Sud','Arizona','Amérique du Sud','Amérique du Nord','Europe','Indes','Pacifique','Nouvelle-Zélande','Vénus','Australie','Sahara','Sire')\n",
        "very_names"
      ],
      "metadata": {
        "colab": {
          "base_uri": "https://localhost:8080/"
        },
        "id": "fSzff-soRk85",
        "outputId": "a60ec401-8d49-42b5-d8c0-e26aaca57b6b"
      },
      "execution_count": 23,
      "outputs": [
        {
          "output_type": "execute_result",
          "data": {
            "text/plain": [
              "('Nord',\n",
              " 'Mars',\n",
              " 'Russie',\n",
              " 'France',\n",
              " 'Chine',\n",
              " 'Dieu',\n",
              " 'États-Unis',\n",
              " 'Noël',\n",
              " 'Jupiter',\n",
              " 'Majesté',\n",
              " 'Sibérie',\n",
              " 'Afrique',\n",
              " 'Sud',\n",
              " 'Arizona',\n",
              " 'Amérique du Sud',\n",
              " 'Amérique du Nord',\n",
              " 'Europe',\n",
              " 'Indes',\n",
              " 'Pacifique',\n",
              " 'Nouvelle-Zélande',\n",
              " 'Vénus',\n",
              " 'Australie',\n",
              " 'Sahara',\n",
              " 'Sire')"
            ]
          },
          "metadata": {},
          "execution_count": 23
        }
      ]
    },
    {
      "cell_type": "code",
      "source": [
        "len(very_names)"
      ],
      "metadata": {
        "colab": {
          "base_uri": "https://localhost:8080/"
        },
        "id": "8YxWLjxKLu2K",
        "outputId": "1755fa0e-4cac-4682-a750-335dae4dc659"
      },
      "execution_count": 24,
      "outputs": [
        {
          "output_type": "execute_result",
          "data": {
            "text/plain": [
              "24"
            ]
          },
          "metadata": {},
          "execution_count": 24
        }
      ]
    },
    {
      "cell_type": "markdown",
      "source": [
        "Expérience infructueuse avec translate et pos_tag..."
      ],
      "metadata": {
        "id": "qgWoP5RihmRn"
      }
    },
    {
      "cell_type": "code",
      "source": [
        "!pip install googletrans==3.1.0a0"
      ],
      "metadata": {
        "colab": {
          "base_uri": "https://localhost:8080/"
        },
        "id": "2O7-dszncrnn",
        "outputId": "6840ca4e-24f7-40f6-b3f6-0aca9d68cfe8"
      },
      "execution_count": 25,
      "outputs": [
        {
          "output_type": "stream",
          "name": "stdout",
          "text": [
            "Looking in indexes: https://pypi.org/simple, https://us-python.pkg.dev/colab-wheels/public/simple/\n",
            "Collecting googletrans==3.1.0a0\n",
            "  Downloading googletrans-3.1.0a0.tar.gz (19 kB)\n",
            "Collecting httpx==0.13.3\n",
            "  Downloading httpx-0.13.3-py3-none-any.whl (55 kB)\n",
            "\u001b[K     |████████████████████████████████| 55 kB 1.9 MB/s \n",
            "\u001b[?25hCollecting sniffio\n",
            "  Downloading sniffio-1.3.0-py3-none-any.whl (10 kB)\n",
            "Collecting hstspreload\n",
            "  Downloading hstspreload-2022.9.1-py3-none-any.whl (1.4 MB)\n",
            "\u001b[K     |████████████████████████████████| 1.4 MB 10.6 MB/s \n",
            "\u001b[?25hCollecting httpcore==0.9.*\n",
            "  Downloading httpcore-0.9.1-py3-none-any.whl (42 kB)\n",
            "\u001b[K     |████████████████████████████████| 42 kB 1.2 MB/s \n",
            "\u001b[?25hCollecting rfc3986<2,>=1.3\n",
            "  Downloading rfc3986-1.5.0-py2.py3-none-any.whl (31 kB)\n",
            "Requirement already satisfied: idna==2.* in /usr/local/lib/python3.7/dist-packages (from httpx==0.13.3->googletrans==3.1.0a0) (2.10)\n",
            "Requirement already satisfied: chardet==3.* in /usr/local/lib/python3.7/dist-packages (from httpx==0.13.3->googletrans==3.1.0a0) (3.0.4)\n",
            "Requirement already satisfied: certifi in /usr/local/lib/python3.7/dist-packages (from httpx==0.13.3->googletrans==3.1.0a0) (2022.6.15)\n",
            "Collecting h11<0.10,>=0.8\n",
            "  Downloading h11-0.9.0-py2.py3-none-any.whl (53 kB)\n",
            "\u001b[K     |████████████████████████████████| 53 kB 2.1 MB/s \n",
            "\u001b[?25hCollecting h2==3.*\n",
            "  Downloading h2-3.2.0-py2.py3-none-any.whl (65 kB)\n",
            "\u001b[K     |████████████████████████████████| 65 kB 3.1 MB/s \n",
            "\u001b[?25hCollecting hpack<4,>=3.0\n",
            "  Downloading hpack-3.0.0-py2.py3-none-any.whl (38 kB)\n",
            "Collecting hyperframe<6,>=5.2.0\n",
            "  Downloading hyperframe-5.2.0-py2.py3-none-any.whl (12 kB)\n",
            "Building wheels for collected packages: googletrans\n",
            "  Building wheel for googletrans (setup.py) ... \u001b[?25l\u001b[?25hdone\n",
            "  Created wheel for googletrans: filename=googletrans-3.1.0a0-py3-none-any.whl size=16367 sha256=f6f20f763aa20bf700910a1ba518922ec4595e8a3ebc06d34bc2b4447103f6a1\n",
            "  Stored in directory: /root/.cache/pip/wheels/0c/be/fe/93a6a40ffe386e16089e44dad9018ebab9dc4cb9eb7eab65ae\n",
            "Successfully built googletrans\n",
            "Installing collected packages: hyperframe, hpack, sniffio, h2, h11, rfc3986, httpcore, hstspreload, httpx, googletrans\n",
            "Successfully installed googletrans-3.1.0a0 h11-0.9.0 h2-3.2.0 hpack-3.0.0 hstspreload-2022.9.1 httpcore-0.9.1 httpx-0.13.3 hyperframe-5.2.0 rfc3986-1.5.0 sniffio-1.3.0\n"
          ]
        }
      ]
    },
    {
      "cell_type": "code",
      "source": [
        "# import libraries\n",
        "import googletrans\n",
        "from googletrans import Translator\n",
        "import pandas as pd"
      ],
      "metadata": {
        "id": "aKc5HBQjfCNQ"
      },
      "execution_count": 26,
      "outputs": []
    },
    {
      "cell_type": "code",
      "source": [
        "# show languages\n",
        "print(googletrans.LANGUAGES)"
      ],
      "metadata": {
        "colab": {
          "base_uri": "https://localhost:8080/"
        },
        "id": "VJ0-DVjIfIw0",
        "outputId": "3916d130-fbc0-46de-dd01-79fe7594edf7"
      },
      "execution_count": 27,
      "outputs": [
        {
          "output_type": "stream",
          "name": "stdout",
          "text": [
            "{'af': 'afrikaans', 'sq': 'albanian', 'am': 'amharic', 'ar': 'arabic', 'hy': 'armenian', 'az': 'azerbaijani', 'eu': 'basque', 'be': 'belarusian', 'bn': 'bengali', 'bs': 'bosnian', 'bg': 'bulgarian', 'ca': 'catalan', 'ceb': 'cebuano', 'ny': 'chichewa', 'zh-cn': 'chinese (simplified)', 'zh-tw': 'chinese (traditional)', 'co': 'corsican', 'hr': 'croatian', 'cs': 'czech', 'da': 'danish', 'nl': 'dutch', 'en': 'english', 'eo': 'esperanto', 'et': 'estonian', 'tl': 'filipino', 'fi': 'finnish', 'fr': 'french', 'fy': 'frisian', 'gl': 'galician', 'ka': 'georgian', 'de': 'german', 'el': 'greek', 'gu': 'gujarati', 'ht': 'haitian creole', 'ha': 'hausa', 'haw': 'hawaiian', 'iw': 'hebrew', 'he': 'hebrew', 'hi': 'hindi', 'hmn': 'hmong', 'hu': 'hungarian', 'is': 'icelandic', 'ig': 'igbo', 'id': 'indonesian', 'ga': 'irish', 'it': 'italian', 'ja': 'japanese', 'jw': 'javanese', 'kn': 'kannada', 'kk': 'kazakh', 'km': 'khmer', 'ko': 'korean', 'ku': 'kurdish (kurmanji)', 'ky': 'kyrgyz', 'lo': 'lao', 'la': 'latin', 'lv': 'latvian', 'lt': 'lithuanian', 'lb': 'luxembourgish', 'mk': 'macedonian', 'mg': 'malagasy', 'ms': 'malay', 'ml': 'malayalam', 'mt': 'maltese', 'mi': 'maori', 'mr': 'marathi', 'mn': 'mongolian', 'my': 'myanmar (burmese)', 'ne': 'nepali', 'no': 'norwegian', 'or': 'odia', 'ps': 'pashto', 'fa': 'persian', 'pl': 'polish', 'pt': 'portuguese', 'pa': 'punjabi', 'ro': 'romanian', 'ru': 'russian', 'sm': 'samoan', 'gd': 'scots gaelic', 'sr': 'serbian', 'st': 'sesotho', 'sn': 'shona', 'sd': 'sindhi', 'si': 'sinhala', 'sk': 'slovak', 'sl': 'slovenian', 'so': 'somali', 'es': 'spanish', 'su': 'sundanese', 'sw': 'swahili', 'sv': 'swedish', 'tg': 'tajik', 'ta': 'tamil', 'te': 'telugu', 'th': 'thai', 'tr': 'turkish', 'uk': 'ukrainian', 'ur': 'urdu', 'ug': 'uyghur', 'uz': 'uzbek', 'vi': 'vietnamese', 'cy': 'welsh', 'xh': 'xhosa', 'yi': 'yiddish', 'yo': 'yoruba', 'zu': 'zulu'}\n"
          ]
        }
      ]
    },
    {
      "cell_type": "code",
      "source": [
        "# use method translate to translate english into japanese\n",
        "# create a translator object\n",
        "translator = Translator()\n",
        "translated_ita = translator.translate('おはようございます。', src='ja', dest='en')\n",
        "translated_ita.text"
      ],
      "metadata": {
        "colab": {
          "base_uri": "https://localhost:8080/",
          "height": 34
        },
        "id": "wy-AlfxyfQSL",
        "outputId": "e1e3f082-e858-4287-ed03-a3371aa86f65"
      },
      "execution_count": 28,
      "outputs": [
        {
          "output_type": "execute_result",
          "data": {
            "text/plain": [
              "'good morning.'"
            ],
            "application/vnd.google.colaboratory.intrinsic+json": {
              "type": "string"
            }
          },
          "metadata": {},
          "execution_count": 28
        }
      ]
    },
    {
      "cell_type": "code",
      "source": [
        "wrds_en = translator.translate(names, src='fr', dest='en')\n",
        "we = wrds_en.text\n",
        "we"
      ],
      "metadata": {
        "colab": {
          "base_uri": "https://localhost:8080/",
          "height": 83
        },
        "id": "-be4d2mngtZA",
        "outputId": "e6f66c0c-191a-43dd-dad0-3fe56f35241e"
      },
      "execution_count": 29,
      "outputs": [
        {
          "output_type": "execute_result",
          "data": {
            "text/plain": [
              "\"{'China', 'Sahara', 'What', 'Knock', 'Leave', 'Virgin', 'Order', 'Remind', 'God', 'Africa', 'Hold', 'Approach', ' Majesty', 'North', 'Yet', 'Humbled', 'Ask', 'Australia', 'What', 'Pacific', 'India', 'Christmas', 'Arizona', 'New', 'Europe' , 'Fortunately', 'Lived', 'Quant', 'Jupiter', 'Return', 'Venus', 'Astronomy', 'America', 'Task', 'Sire', 'Zealand', 'International', ' Then', 'Forgive', 'Congress', 'States', 'Mars', 'United', 'Russia', 'Look', 'When', 'Sir', 'Whew', 'When', 'Good evening' , 'Obviously', 'Let's see', 'Riposta', 'Pattes', 'Forest', 'Ben', 'Siberia', 'South', 'Stories', 'Hein', 'Acheva', 'Let's go', ' France'}\""
            ],
            "application/vnd.google.colaboratory.intrinsic+json": {
              "type": "string"
            }
          },
          "metadata": {},
          "execution_count": 29
        }
      ]
    },
    {
      "cell_type": "code",
      "source": [
        "nopunct = we.translate(str.maketrans(punctuation, ' ' * len(punctuation))) # substitute with space\n",
        "clean = re.compile(r'\\s+')\n",
        "ok = clean.sub(' ', nopunct) # in case we made repeated spaces\n",
        "ok"
      ],
      "metadata": {
        "colab": {
          "base_uri": "https://localhost:8080/",
          "height": 67
        },
        "id": "Hfd0I1MEmo2D",
        "outputId": "dff94c52-8feb-4a7d-d459-750ae4106ae6"
      },
      "execution_count": 30,
      "outputs": [
        {
          "output_type": "execute_result",
          "data": {
            "text/plain": [
              "' China Sahara What Knock Leave Virgin Order Remind God Africa Hold Approach Majesty North Yet Humbled Ask Australia What Pacific India Christmas Arizona New Europe Fortunately Lived Quant Jupiter Return Venus Astronomy America Task Sire Zealand International Then Forgive Congress States Mars United Russia Look When Sir Whew When Good evening Obviously Let s see Riposta Pattes Forest Ben Siberia South Stories Hein Acheva Let s go France '"
            ],
            "application/vnd.google.colaboratory.intrinsic+json": {
              "type": "string"
            }
          },
          "metadata": {},
          "execution_count": 30
        }
      ]
    },
    {
      "cell_type": "code",
      "source": [
        "t = ok.split()\n",
        "l = [ s for s in t if len(s) > 0]\n",
        "print(l)"
      ],
      "metadata": {
        "colab": {
          "base_uri": "https://localhost:8080/"
        },
        "id": "atbzyJ11QwKn",
        "outputId": "3b0f2f0b-ef2f-4ce6-fa62-377b465a7bb5"
      },
      "execution_count": 31,
      "outputs": [
        {
          "output_type": "stream",
          "name": "stdout",
          "text": [
            "['China', 'Sahara', 'What', 'Knock', 'Leave', 'Virgin', 'Order', 'Remind', 'God', 'Africa', 'Hold', 'Approach', 'Majesty', 'North', 'Yet', 'Humbled', 'Ask', 'Australia', 'What', 'Pacific', 'India', 'Christmas', 'Arizona', 'New', 'Europe', 'Fortunately', 'Lived', 'Quant', 'Jupiter', 'Return', 'Venus', 'Astronomy', 'America', 'Task', 'Sire', 'Zealand', 'International', 'Then', 'Forgive', 'Congress', 'States', 'Mars', 'United', 'Russia', 'Look', 'When', 'Sir', 'Whew', 'When', 'Good', 'evening', 'Obviously', 'Let', 's', 'see', 'Riposta', 'Pattes', 'Forest', 'Ben', 'Siberia', 'South', 'Stories', 'Hein', 'Acheva', 'Let', 's', 'go', 'France']\n"
          ]
        }
      ]
    },
    {
      "cell_type": "code",
      "source": [
        "from nltk.tag import pos_tag, pos_tag_sents\n",
        "nltk.download('averaged_perceptron_tagger')\n",
        "tag = nltk.pos_tag(l)"
      ],
      "metadata": {
        "colab": {
          "base_uri": "https://localhost:8080/"
        },
        "id": "98ZAReJFheIt",
        "outputId": "bea8b65f-0593-4970-ffa7-ff87463aa471"
      },
      "execution_count": 32,
      "outputs": [
        {
          "output_type": "stream",
          "name": "stderr",
          "text": [
            "[nltk_data] Downloading package averaged_perceptron_tagger to\n",
            "[nltk_data]     /root/nltk_data...\n",
            "[nltk_data]   Unzipping taggers/averaged_perceptron_tagger.zip.\n"
          ]
        }
      ]
    },
    {
      "cell_type": "code",
      "source": [
        "print(tag)"
      ],
      "metadata": {
        "colab": {
          "base_uri": "https://localhost:8080/"
        },
        "id": "YSjOfACLRGbi",
        "outputId": "95578f02-f930-4034-d104-64e1be367d8e"
      },
      "execution_count": 33,
      "outputs": [
        {
          "output_type": "stream",
          "name": "stdout",
          "text": [
            "[('China', 'NNP'), ('Sahara', 'NNP'), ('What', 'WP'), ('Knock', 'NNP'), ('Leave', 'NNP'), ('Virgin', 'NNP'), ('Order', 'NNP'), ('Remind', 'NNP'), ('God', 'NNP'), ('Africa', 'NNP'), ('Hold', 'NNP'), ('Approach', 'NNP'), ('Majesty', 'NNP'), ('North', 'NNP'), ('Yet', 'NNP'), ('Humbled', 'NNP'), ('Ask', 'NNP'), ('Australia', 'NNP'), ('What', 'WP'), ('Pacific', 'NNP'), ('India', 'NNP'), ('Christmas', 'NNP'), ('Arizona', 'NNP'), ('New', 'NNP'), ('Europe', 'NNP'), ('Fortunately', 'RB'), ('Lived', 'VBD'), ('Quant', 'JJ'), ('Jupiter', 'NNP'), ('Return', 'NNP'), ('Venus', 'NNP'), ('Astronomy', 'NNP'), ('America', 'NNP'), ('Task', 'NNP'), ('Sire', 'NNP'), ('Zealand', 'NNP'), ('International', 'NNP'), ('Then', 'RB'), ('Forgive', 'NNP'), ('Congress', 'NNP'), ('States', 'NNPS'), ('Mars', 'NNP'), ('United', 'NNP'), ('Russia', 'NNP'), ('Look', 'NNP'), ('When', 'WRB'), ('Sir', 'NNP'), ('Whew', 'NNP'), ('When', 'WRB'), ('Good', 'NNP'), ('evening', 'NN'), ('Obviously', 'NNP'), ('Let', 'NNP'), ('s', 'PRP'), ('see', 'VB'), ('Riposta', 'NNP'), ('Pattes', 'NNP'), ('Forest', 'NNP'), ('Ben', 'NNP'), ('Siberia', 'NNP'), ('South', 'NNP'), ('Stories', 'NNPS'), ('Hein', 'NNP'), ('Acheva', 'NNP'), ('Let', 'NNP'), ('s', 'PRP'), ('go', 'VB'), ('France', 'NNP')]\n"
          ]
        }
      ]
    },
    {
      "cell_type": "code",
      "source": [
        "l=['Look']\n",
        "m=['Ask']\n",
        "o=['Look', 'Ask']\n",
        "p=['Look','me','please','!']\n",
        "\n",
        "lp = nltk.pos_tag(l)\n",
        "lm = nltk.pos_tag(m)\n",
        "lo = nltk.pos_tag(o)\n",
        "ln = nltk.pos_tag(p)\n",
        "\n",
        "print(lp,lm,lo,ln)"
      ],
      "metadata": {
        "colab": {
          "base_uri": "https://localhost:8080/"
        },
        "id": "EOlxHKaAUnbz",
        "outputId": "a6b74720-d5a7-4d01-e850-cc05bb3f0761"
      },
      "execution_count": 34,
      "outputs": [
        {
          "output_type": "stream",
          "name": "stdout",
          "text": [
            "[('Look', 'VB')] [('Ask', 'VB')] [('Look', 'NNP'), ('Ask', 'NNP')] [('Look', 'VB'), ('me', 'PRP'), ('please', 'VB'), ('!', '.')]\n"
          ]
        }
      ]
    },
    {
      "cell_type": "markdown",
      "source": [
        "https://www.nltk.org/book/ch05.html: \n",
        "Many words, like ski and race, can be used as nouns or verbs with no difference in pronunciation. Can you think of others? Hint: think of a commonplace object and try to put the word to before it to see if it can also be a verb, or think of an action and try to put the before it to see if it can also be a noun. Now make up a sentence with both uses of this word, and run the POS-tagger on this sentence."
      ],
      "metadata": {
        "id": "2qL-eH9_Z164"
      }
    },
    {
      "cell_type": "markdown",
      "source": [
        "**5. What are the ten most frequent words in the text that you consider to clearly be stop words?**"
      ],
      "metadata": {
        "id": "5Y-vID9TrRVP"
      }
    },
    {
      "cell_type": "markdown",
      "source": [
        "Par chapitre"
      ],
      "metadata": {
        "id": "OdOfWHDU0-z4"
      }
    },
    {
      "cell_type": "code",
      "source": [
        "top = 10\n",
        "ok1='' \n",
        "text1 = ''\n",
        "\n",
        "for chapter in chapters:\n",
        "  nopunct = chapter.translate(str.maketrans(punctuation, ' ' * len(punctuation)))\n",
        "  #better = re.sub(nonprint, ' ', nopunct)\n",
        "  ok = clean.sub(' ', nopunct) \n",
        "  text1 += ' ' + ok\n",
        "  words = ok.split()\n",
        "  freq = { w.lower() : words.count(w) for w in words if w.lower() in skip } # skip names, too, and make these lowercase\n",
        "  highest = sorted(freq, key = freq.get, reverse = True)[:top]\n",
        "  print(highest)"
      ],
      "metadata": {
        "colab": {
          "base_uri": "https://localhost:8080/"
        },
        "id": "wNGiJW5qzwLe",
        "outputId": "0add8d82-9ffc-40cd-ab3c-b127c5f8ec38"
      },
      "execution_count": 40,
      "outputs": [
        {
          "output_type": "stream",
          "name": "stdout",
          "text": [
            "['de', 'ai', 'un', 'la', 'à', 'mon', 'j', 'les', 'l', 'leur']\n",
            "['de', 'je', 'un', 'est', 'à', 'que', 'le', 'me', 'ai', 'moi']\n",
            "['il', 'est', 'de', 'tu', 'mon', 'ne', 'un', 'que', 'et', 'pas']\n",
            "['de', 'à', 'un', 'est', 'd', 'l', 'qu', 'ne', 'le', 'vous']\n",
            "['les', 'de', 'il', 'le', 'd', 'est', 'un', 's', 'des', 'que']\n",
            "['de', 'le', 'tu', 'ai', 'ta', 'que', 'la', 'mais', 'il', 'se']\n",
            "['de', 'un', 'je', 'les', 'il', 'n', 'des', 'à', 'une', 'est']\n",
            "['avait', 'de', 'un', 'ne', 'pas', 'et', 'l', 'le', 'à', 'des']\n",
            "['il', 'mais', 'de', 'en', 'ne', 'la', 'pas', 'je', 'd', 'elle']\n",
            "['le', 'de', 'un', 'à', 'd', 'pas', 'je', 'n', 'il', 'et']\n",
            "['le', 'il', 'l', 'en', 'que', 'de', 'la', 'un', 'pour', 'est']\n",
            "['le', 'en', 'de', 'une', 'il', 'pour', 'qui', 'un', 'fut', 'dans']\n",
            "['à', 'est', 'un', 'de', 'je', 'et', 'le', 'il', 'n', 'que']\n",
            "['le', 'est', 'de', 'il', 'la', 'que', 'un', 'et', 'pas', 'l']\n",
            "['le', 'est', 'les', 'de', 'des', 'un', 'il', 'une', 'qu', 'ne']\n",
            "['de', 'd', 'et', 'des', 'l', 'du', 'la', 'une', 'en', 'les']\n",
            "['le', 'de', 'un', 'est', 'la', 'les', 'sur', 'je', 'pas', 'une']\n",
            "['les', 'le', 'une', 'ne', 'de', 'la', 'et', 'qu', 'à', 'du']\n",
            "['il', 'l', 'd', 'êtes', 'vous', 'suis', 'une', 'les', 'qui', 'je']\n",
            "['il', 'les', 'de', 'et', 'un', 'se', 'elle', 'une', 'était', 'qu']\n",
            "['le', 'est', 'de', 'n', 'je', 'que', 'un', 'à', 'ne', 'des']\n",
            "['l', 'le', 'ils', 'la', 'de', 'un', 'est', 'que', 'les', 'et']\n",
            "['le', 'de', 'on', 'une', 'c', 'en', 'par', 'l', 'que', 'était']\n",
            "['de', 'je', 'un', 'le', 'me', 'la', 'il', 'ne', 'est', 'en']\n",
            "['de', 'la', 'il', 'un', 'et', 'les', 'pas', 'est', 'tu', 'ils']\n",
            "['de', 'je', 'pas', 'le', 'est', 'ne', 'un', 'il', 'les', 'et']\n",
            "['est', 'je', 'de', 'la', 'et', 'n', 'me', 'un', 'il', 'ai']\n"
          ]
        }
      ]
    },
    {
      "cell_type": "code",
      "source": [
        "print(skip)"
      ],
      "metadata": {
        "colab": {
          "base_uri": "https://localhost:8080/"
        },
        "id": "nFv5vmIG9AIz",
        "outputId": "55e4bbc3-3dc2-44b4-f905-5cd34fd126b3"
      },
      "execution_count": 41,
      "outputs": [
        {
          "output_type": "stream",
          "name": "stdout",
          "text": [
            "['au', 'aux', 'avec', 'ce', 'ces', 'dans', 'de', 'des', 'du', 'elle', 'en', 'et', 'eux', 'il', 'ils', 'je', 'la', 'le', 'les', 'leur', 'lui', 'ma', 'mais', 'me', 'même', 'mes', 'moi', 'mon', 'ne', 'nos', 'notre', 'nous', 'on', 'ou', 'par', 'pas', 'pour', 'qu', 'que', 'qui', 'sa', 'se', 'ses', 'son', 'sur', 'ta', 'te', 'tes', 'toi', 'ton', 'tu', 'un', 'une', 'vos', 'votre', 'vous', 'c', 'd', 'j', 'l', 'à', 'm', 'n', 's', 't', 'y', 'été', 'étée', 'étées', 'étés', 'étant', 'étante', 'étants', 'étantes', 'suis', 'es', 'est', 'sommes', 'êtes', 'sont', 'serai', 'seras', 'sera', 'serons', 'serez', 'seront', 'serais', 'serait', 'serions', 'seriez', 'seraient', 'étais', 'était', 'étions', 'étiez', 'étaient', 'fus', 'fut', 'fûmes', 'fûtes', 'furent', 'sois', 'soit', 'soyons', 'soyez', 'soient', 'fusse', 'fusses', 'fût', 'fussions', 'fussiez', 'fussent', 'ayant', 'ayante', 'ayantes', 'ayants', 'eu', 'eue', 'eues', 'eus', 'ai', 'as', 'avons', 'avez', 'ont', 'aurai', 'auras', 'aura', 'aurons', 'aurez', 'auront', 'aurais', 'aurait', 'aurions', 'auriez', 'auraient', 'avais', 'avait', 'avions', 'aviez', 'avaient', 'eut', 'eûmes', 'eûtes', 'eurent', 'aie', 'aies', 'ait', 'ayons', 'ayez', 'aient', 'eusse', 'eusses', 'eût', 'eussions', 'eussiez', 'eussent']\n"
          ]
        }
      ]
    },
    {
      "cell_type": "code",
      "source": [
        "text2 = text1.split()\n",
        "freq = { w : text2.count(w) for w in text2 if w.lower() in skip }\n",
        "f = nltk.FreqDist(freq)\n",
        "print(f.most_common(10))"
      ],
      "metadata": {
        "colab": {
          "base_uri": "https://localhost:8080/"
        },
        "id": "pBwg1n1t8Coe",
        "outputId": "14f459c7-90a2-4ef2-b8c2-2241b9add417"
      },
      "execution_count": 42,
      "outputs": [
        {
          "output_type": "stream",
          "name": "stdout",
          "text": [
            "[('de', 427), ('le', 394), ('un', 277), ('est', 263), ('il', 239), ('les', 213), ('la', 195), ('je', 191), ('à', 182), ('pas', 179)]\n"
          ]
        }
      ]
    },
    {
      "cell_type": "markdown",
      "source": [
        "**7. How would you go about automatically identifying potential stop words for documents\n",
        "written in a language you do not speak?**"
      ],
      "metadata": {
        "id": "q1dIsZVC1SvI"
      }
    },
    {
      "cell_type": "code",
      "source": [
        "top = 10\n",
        "for chapter in chapters:\n",
        "  nopunct = chapter.translate(str.maketrans(punctuation, ' ' * len(punctuation)))\n",
        "  #better = re.sub(nonprint, ' ', nopunct)\n",
        "  ok = clean.sub(' ', nopunct) \n",
        "  words = ok.split()\n",
        "  freq = { w.lower() : words.count(w) for w in words if w.lower() not in skip and len(w)>2} # skip names, too, and make these lowercase\n",
        "  highest = sorted(freq, key = freq.get, reverse = True)[:top]\n",
        "  print(highest)"
      ],
      "metadata": {
        "colab": {
          "base_uri": "https://localhost:8080/"
        },
        "id": "3-OjPvDd2-fU",
        "outputId": "d8736365-717d-4840-8883-4586285cd55c"
      },
      "execution_count": 43,
      "outputs": [
        {
          "output_type": "stream",
          "name": "stdout",
          "text": [
            "['dessin', 'numéro', 'grandes', 'personnes', 'toujours', 'six', 'représentait', 'serpent', 'boa', 'serpents']\n",
            "['mouton', 'petit', 'tout', 'comme', 'mort', 'bien', 'mille', 'milles', 'bonhomme', 'dessin']\n",
            "['petit', 'avion', 'prince', 'beaucoup', 'peu', 'alors', 'viens', 'bien', 'longtemps', 'tout']\n",
            "['plus', 'comme', 'grandes', 'personnes', 'astéroïde', 'ami', 'bien', 'petit', 'planète', 'maison']\n",
            "['baobabs', 'planète', 'petit', 'prince', 'comme', 'graines', 'jour', 'arbustes', 'herbes', 'bien']\n",
            "['soleil', 'peu', 'couchers', 'jour', 'coucher', 'france', 'fois', 'petit', 'prince', 'petite']\n",
            "['fleurs', 'épines', 'comme', 'fleur', 'mouton', 'petit', 'quoi', 'très', 'jamais', 'rien']\n",
            "['petit', 'prince', 'fleur', 'bien', 'très', 'vite', 'tigres', 'planète', 'fleurs', 'herbe']\n",
            "['fleur', 'bien', 'volcans', 'matin', 'aussi', 'comme', 'globe', 'dit', 'ramona', 'activité']\n",
            "['roi', 'petit', 'prince', 'dit', 'répondit', 'tout', 'bien', 'planète', 'soleil', 'juger']\n",
            "['vaniteux', 'petit', 'prince', 'dit', 'chapeau', 'plus', 'planète', 'saluer', 'mains', 'contre']\n",
            "['buveur', 'petit', 'prince', 'très', 'oublier', 'silence', 'collection', 'bouteilles', 'bois', 'répondit']\n",
            "['étoiles', 'petit', 'cent', 'prince', 'millions', 'possède', 'businessman', 'deux', 'sérieux', 'dit']\n",
            "['allumeur', 'dit', 'réverbère', 'consigne', 'petit', 'prince', 'planète', 'plus', 'bonjour', 'petite']\n",
            "['géographe', 'dit', 'petit', 'prince', 'explorateur', 'planète', 'plus', 'livres', 'montagnes', 'jamais']\n",
            "['cent', 'ceux', 'puis', 'allumeurs', 'réverbères', 'terre', 'onze', 'mille', 'deux', 'tour']\n",
            "['petit', 'prince', 'dit', 'serpent', 'planète', 'comme', 'peu', 'terre', 'bien', 'fit']\n",
            "['fleur', 'prince', 'petit', 'dit', 'bonjour', 'hommes', 'adieu', 'traversa', 'désert', 'rencontra']\n",
            "['dit', 'toute', 'seul', 'répondit', 'écho', 'petit', 'prince', 'haute', 'montagne', 'comme']\n",
            "['prince', 'roses', 'petit', 'toutes', 'dit', 'fleur', 'bien', 'bonjour', 'jardin', 'dirent']\n",
            "['dit', 'renard', 'petit', 'prince', 'rose', 'hommes', 'rien', 'plus', 'blé', 'apprivoisé']\n",
            "['dit', 'aiguilleur', 'petit', 'prince', 'rapide', 'illuminé', 'bonjour', 'voyageurs', 'tantôt', 'vers']\n",
            "['dit', 'petit', 'prince', 'marchand', 'fait', 'cinquante', 'trois', 'minutes', 'bonjour', 'semaine']\n",
            "['petit', 'désert', 'prince', 'bien', 'plus', 'dit', 'soif', 'encore', 'rien', 'aussi']\n",
            "['petit', 'prince', 'dit', 'puits', 'poulie', 'tout', 'comme', 'eau', 'encore', 'peu']\n",
            "['comme', 'étoiles', 'encore', 'petit', 'bien', 'dit', 'rire', 'nuit', 'rien', 'plus']\n",
            "['bien', 'mouton', 'jamais', 'comme', 'petit', 'prince', 'alors', 'mangé', 'fleur', 'non']\n"
          ]
        }
      ]
    },
    {
      "cell_type": "code",
      "source": [
        "skip += ['tout','très','comme','bien','plus','rien','peu','encore','alors','quel','elles','quand','cette','donc','trop']\n",
        "freq = { w : text2.count(w) for w in text2 if w.lower() not in skip and len(w)>2}\n",
        "f = nltk.FreqDist(freq)\n",
        "print(f.most_common(10))"
      ],
      "metadata": {
        "colab": {
          "base_uri": "https://localhost:8080/"
        },
        "id": "0xG3-BZv9eSv",
        "outputId": "e07ccc77-d4d7-4cda-a708-7af503ef029a"
      },
      "execution_count": 44,
      "outputs": [
        {
          "output_type": "stream",
          "name": "stdout",
          "text": [
            "[('petit', 194), ('prince', 171), ('dit', 149), ('planète', 62), ('fleur', 52), ('jamais', 42), ('étoiles', 39), ('répondit', 38), ('renard', 35), ('mouton', 33)]\n"
          ]
        }
      ]
    },
    {
      "cell_type": "markdown",
      "source": [
        "**8. Looking at a histogram of the word frequencies (like the horizontal bar chart in the R example code), what can be said about the shape of the distribution?**"
      ],
      "metadata": {
        "id": "gxYTKFj-Mgaq"
      }
    },
    {
      "cell_type": "code",
      "source": [
        "import collections\n",
        "import operator\n",
        "word_cnt = collections.Counter(f)\n",
        "count_words, count_values = zip(*word_cnt.items())\n",
        "values_sorted, words_sorted = zip(*sorted(zip(count_values, count_words), key=operator.itemgetter(0), reverse=True))"
      ],
      "metadata": {
        "id": "d2_DXsZTMflQ"
      },
      "execution_count": 45,
      "outputs": []
    },
    {
      "cell_type": "code",
      "source": [
        "words_sorted_top = words_sorted[0:10]\n",
        "values_sorted_top = values_sorted[0:10]"
      ],
      "metadata": {
        "id": "TQT5d-vWMuZh"
      },
      "execution_count": 46,
      "outputs": []
    },
    {
      "cell_type": "code",
      "source": [
        "import pandas as pd\n",
        "df = pd.DataFrame({'count': values_sorted_top, 'word': words_sorted_top})\n",
        "df"
      ],
      "metadata": {
        "colab": {
          "base_uri": "https://localhost:8080/",
          "height": 352
        },
        "id": "Qu0H_aR_M1kX",
        "outputId": "baf5df4b-ad1b-4430-cac0-06e9ba43d5e9"
      },
      "execution_count": 47,
      "outputs": [
        {
          "output_type": "execute_result",
          "data": {
            "text/plain": [
              "   count      word\n",
              "0    194     petit\n",
              "1    171    prince\n",
              "2    149       dit\n",
              "3     62   planète\n",
              "4     52     fleur\n",
              "5     42    jamais\n",
              "6     39   étoiles\n",
              "7     38  répondit\n",
              "8     35    renard\n",
              "9     33    mouton"
            ],
            "text/html": [
              "\n",
              "  <div id=\"df-ade52706-ad71-4550-b01d-7afc803b93cc\">\n",
              "    <div class=\"colab-df-container\">\n",
              "      <div>\n",
              "<style scoped>\n",
              "    .dataframe tbody tr th:only-of-type {\n",
              "        vertical-align: middle;\n",
              "    }\n",
              "\n",
              "    .dataframe tbody tr th {\n",
              "        vertical-align: top;\n",
              "    }\n",
              "\n",
              "    .dataframe thead th {\n",
              "        text-align: right;\n",
              "    }\n",
              "</style>\n",
              "<table border=\"1\" class=\"dataframe\">\n",
              "  <thead>\n",
              "    <tr style=\"text-align: right;\">\n",
              "      <th></th>\n",
              "      <th>count</th>\n",
              "      <th>word</th>\n",
              "    </tr>\n",
              "  </thead>\n",
              "  <tbody>\n",
              "    <tr>\n",
              "      <th>0</th>\n",
              "      <td>194</td>\n",
              "      <td>petit</td>\n",
              "    </tr>\n",
              "    <tr>\n",
              "      <th>1</th>\n",
              "      <td>171</td>\n",
              "      <td>prince</td>\n",
              "    </tr>\n",
              "    <tr>\n",
              "      <th>2</th>\n",
              "      <td>149</td>\n",
              "      <td>dit</td>\n",
              "    </tr>\n",
              "    <tr>\n",
              "      <th>3</th>\n",
              "      <td>62</td>\n",
              "      <td>planète</td>\n",
              "    </tr>\n",
              "    <tr>\n",
              "      <th>4</th>\n",
              "      <td>52</td>\n",
              "      <td>fleur</td>\n",
              "    </tr>\n",
              "    <tr>\n",
              "      <th>5</th>\n",
              "      <td>42</td>\n",
              "      <td>jamais</td>\n",
              "    </tr>\n",
              "    <tr>\n",
              "      <th>6</th>\n",
              "      <td>39</td>\n",
              "      <td>étoiles</td>\n",
              "    </tr>\n",
              "    <tr>\n",
              "      <th>7</th>\n",
              "      <td>38</td>\n",
              "      <td>répondit</td>\n",
              "    </tr>\n",
              "    <tr>\n",
              "      <th>8</th>\n",
              "      <td>35</td>\n",
              "      <td>renard</td>\n",
              "    </tr>\n",
              "    <tr>\n",
              "      <th>9</th>\n",
              "      <td>33</td>\n",
              "      <td>mouton</td>\n",
              "    </tr>\n",
              "  </tbody>\n",
              "</table>\n",
              "</div>\n",
              "      <button class=\"colab-df-convert\" onclick=\"convertToInteractive('df-ade52706-ad71-4550-b01d-7afc803b93cc')\"\n",
              "              title=\"Convert this dataframe to an interactive table.\"\n",
              "              style=\"display:none;\">\n",
              "        \n",
              "  <svg xmlns=\"http://www.w3.org/2000/svg\" height=\"24px\"viewBox=\"0 0 24 24\"\n",
              "       width=\"24px\">\n",
              "    <path d=\"M0 0h24v24H0V0z\" fill=\"none\"/>\n",
              "    <path d=\"M18.56 5.44l.94 2.06.94-2.06 2.06-.94-2.06-.94-.94-2.06-.94 2.06-2.06.94zm-11 1L8.5 8.5l.94-2.06 2.06-.94-2.06-.94L8.5 2.5l-.94 2.06-2.06.94zm10 10l.94 2.06.94-2.06 2.06-.94-2.06-.94-.94-2.06-.94 2.06-2.06.94z\"/><path d=\"M17.41 7.96l-1.37-1.37c-.4-.4-.92-.59-1.43-.59-.52 0-1.04.2-1.43.59L10.3 9.45l-7.72 7.72c-.78.78-.78 2.05 0 2.83L4 21.41c.39.39.9.59 1.41.59.51 0 1.02-.2 1.41-.59l7.78-7.78 2.81-2.81c.8-.78.8-2.07 0-2.86zM5.41 20L4 18.59l7.72-7.72 1.47 1.35L5.41 20z\"/>\n",
              "  </svg>\n",
              "      </button>\n",
              "      \n",
              "  <style>\n",
              "    .colab-df-container {\n",
              "      display:flex;\n",
              "      flex-wrap:wrap;\n",
              "      gap: 12px;\n",
              "    }\n",
              "\n",
              "    .colab-df-convert {\n",
              "      background-color: #E8F0FE;\n",
              "      border: none;\n",
              "      border-radius: 50%;\n",
              "      cursor: pointer;\n",
              "      display: none;\n",
              "      fill: #1967D2;\n",
              "      height: 32px;\n",
              "      padding: 0 0 0 0;\n",
              "      width: 32px;\n",
              "    }\n",
              "\n",
              "    .colab-df-convert:hover {\n",
              "      background-color: #E2EBFA;\n",
              "      box-shadow: 0px 1px 2px rgba(60, 64, 67, 0.3), 0px 1px 3px 1px rgba(60, 64, 67, 0.15);\n",
              "      fill: #174EA6;\n",
              "    }\n",
              "\n",
              "    [theme=dark] .colab-df-convert {\n",
              "      background-color: #3B4455;\n",
              "      fill: #D2E3FC;\n",
              "    }\n",
              "\n",
              "    [theme=dark] .colab-df-convert:hover {\n",
              "      background-color: #434B5C;\n",
              "      box-shadow: 0px 1px 3px 1px rgba(0, 0, 0, 0.15);\n",
              "      filter: drop-shadow(0px 1px 2px rgba(0, 0, 0, 0.3));\n",
              "      fill: #FFFFFF;\n",
              "    }\n",
              "  </style>\n",
              "\n",
              "      <script>\n",
              "        const buttonEl =\n",
              "          document.querySelector('#df-ade52706-ad71-4550-b01d-7afc803b93cc button.colab-df-convert');\n",
              "        buttonEl.style.display =\n",
              "          google.colab.kernel.accessAllowed ? 'block' : 'none';\n",
              "\n",
              "        async function convertToInteractive(key) {\n",
              "          const element = document.querySelector('#df-ade52706-ad71-4550-b01d-7afc803b93cc');\n",
              "          const dataTable =\n",
              "            await google.colab.kernel.invokeFunction('convertToInteractive',\n",
              "                                                     [key], {});\n",
              "          if (!dataTable) return;\n",
              "\n",
              "          const docLinkHtml = 'Like what you see? Visit the ' +\n",
              "            '<a target=\"_blank\" href=https://colab.research.google.com/notebooks/data_table.ipynb>data table notebook</a>'\n",
              "            + ' to learn more about interactive tables.';\n",
              "          element.innerHTML = '';\n",
              "          dataTable['output_type'] = 'display_data';\n",
              "          await google.colab.output.renderOutput(dataTable, element);\n",
              "          const docLink = document.createElement('div');\n",
              "          docLink.innerHTML = docLinkHtml;\n",
              "          element.appendChild(docLink);\n",
              "        }\n",
              "      </script>\n",
              "    </div>\n",
              "  </div>\n",
              "  "
            ]
          },
          "metadata": {},
          "execution_count": 47
        }
      ]
    },
    {
      "cell_type": "code",
      "source": [
        "import matplotlib.pyplot as plt\n",
        "#% matplotlib inline\n",
        "\n",
        "# creating the data values for the vertical y and horisontal x axis\n",
        "y = df.iloc[:,0].sort_index(ascending=False)\n",
        "x = df.iloc[:,1].sort_index(ascending=False)\n",
        "\n",
        "fig = plt.figure()\n",
        "fig.suptitle('Word frequency histogram, top {0}'.format(10), fontsize=16)\n",
        "plt.xlabel('word', fontsize=12)\n",
        "plt.ylabel('count', fontsize=12)\n",
        "\n",
        "# using the pyplot.barh funtion for the horizontal bar\n",
        "plt.barh(x,y)\n",
        "plt.grid()\n",
        "\n",
        "# to show our graph\n",
        "plt.show()"
      ],
      "metadata": {
        "colab": {
          "base_uri": "https://localhost:8080/",
          "height": 310
        },
        "id": "-NI0QJxiNZX7",
        "outputId": "169e6157-eefd-4506-814e-7d67b21378e8"
      },
      "execution_count": 48,
      "outputs": [
        {
          "output_type": "display_data",
          "data": {
            "text/plain": [
              "<Figure size 432x288 with 1 Axes>"
            ],
            "image/png": "[encoded data removed]"
          },
          "metadata": {
            "needs_background": "light"
          }
        }
      ]
    },
    {
      "cell_type": "markdown",
      "source": [
        "**9. Please show an example of a word cloud you created from your text along with a code snippet of how you did it.**"
      ],
      "metadata": {
        "id": "p8Oos_ouN-v6"
      }
    },
    {
      "cell_type": "code",
      "source": [
        "from wordcloud import WordCloud, ImageColorGenerator\n",
        "\n",
        "draw = ' '.join([ w.lower() for w in text2 if w.lower() not in skip and len(w) > 2 ])\n",
        "cloud = WordCloud().generate(draw)\n",
        "plt.imshow(cloud)\n",
        "plt.axis('off')\n",
        "plt.show()"
      ],
      "metadata": {
        "colab": {
          "base_uri": "https://localhost:8080/",
          "height": 197
        },
        "id": "kAUfX2Z9ODiL",
        "outputId": "df8936a5-227c-4ac6-d92a-a438331d0207"
      },
      "execution_count": 49,
      "outputs": [
        {
          "output_type": "display_data",
          "data": {
            "text/plain": [
              "<Figure size 432x288 with 1 Axes>"
            ],
            "image/png": "[encoded data removed]"
          },
          "metadata": {
            "needs_background": "light"
          }
        }
      ]
    }
  ]
}