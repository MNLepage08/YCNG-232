{
  "nbformat": 4,
  "nbformat_minor": 0,
  "metadata": {
    "colab": {
      "provenance": []
    },
    "kernelspec": {
      "name": "python3",
      "display_name": "Python 3"
    },
    "language_info": {
      "name": "python"
    }
  },
  "cells": [
    {
      "cell_type": "markdown",
      "source": [
        "**Build a auto-corrector based on a (small) vocabulary of ”known words” extracted from a text repository of your choice that takes as input a sentence (with possible misspelled words) and replaces each of the words with one from the vocabulary that minimizes the edit distance.\n",
        "Please cite your sources, show your code, and include some input-output examples.\n",
        "Discuss what other techniques (that we have discussed in previous sessions or that you can think of otherwise) could be used to make this simple auto-correct perform better in terms of inferring the intended meaning of the word or to take into account similarities in pronunciation between differently-spelled words.**"
      ],
      "metadata": {
        "id": "jcZQX5LD0Kdm"
      }
    },
    {
      "cell_type": "markdown",
      "source": [
        "https://www.kaggle.com/code/bouweceunen/levenshtein-distance-spelling-correction-nlp/notebook\n",
        "\n",
        "https://www.analyticsvidhya.com/blog/2021/06/how-to-load-kaggle-datasets-directly-into-google-colab/"
      ],
      "metadata": {
        "id": "6FKwE6NW0QGJ"
      }
    },
    {
      "cell_type": "code",
      "source": [
        "# Install the Kaggle library\n",
        "! pip install kaggle"
      ],
      "metadata": {
        "id": "8lbypF7a6dRJ",
        "colab": {
          "base_uri": "https://localhost:8080/"
        },
        "outputId": "d5fb0668-53e8-47aa-ce1e-2ace3b81afc6"
      },
      "execution_count": 1,
      "outputs": [
        {
          "output_type": "stream",
          "name": "stdout",
          "text": [
            "Looking in indexes: https://pypi.org/simple, https://us-python.pkg.dev/colab-wheels/public/simple/\n",
            "Requirement already satisfied: kaggle in /usr/local/lib/python3.7/dist-packages (1.5.12)\n",
            "Requirement already satisfied: requests in /usr/local/lib/python3.7/dist-packages (from kaggle) (2.23.0)\n",
            "Requirement already satisfied: certifi in /usr/local/lib/python3.7/dist-packages (from kaggle) (2022.9.24)\n",
            "Requirement already satisfied: tqdm in /usr/local/lib/python3.7/dist-packages (from kaggle) (4.64.1)\n",
            "Requirement already satisfied: python-slugify in /usr/local/lib/python3.7/dist-packages (from kaggle) (6.1.2)\n",
            "Requirement already satisfied: six>=1.10 in /usr/local/lib/python3.7/dist-packages (from kaggle) (1.15.0)\n",
            "Requirement already satisfied: urllib3 in /usr/local/lib/python3.7/dist-packages (from kaggle) (1.24.3)\n",
            "Requirement already satisfied: python-dateutil in /usr/local/lib/python3.7/dist-packages (from kaggle) (2.8.2)\n",
            "Requirement already satisfied: text-unidecode>=1.3 in /usr/local/lib/python3.7/dist-packages (from python-slugify->kaggle) (1.3)\n",
            "Requirement already satisfied: chardet<4,>=3.0.2 in /usr/local/lib/python3.7/dist-packages (from requests->kaggle) (3.0.4)\n",
            "Requirement already satisfied: idna<3,>=2.5 in /usr/local/lib/python3.7/dist-packages (from requests->kaggle) (2.10)\n"
          ]
        }
      ]
    },
    {
      "cell_type": "code",
      "source": [
        "# Make a directory named “.kaggle”\n",
        "! mkdir ~/.kaggle"
      ],
      "metadata": {
        "id": "VIGfayY96hvJ"
      },
      "execution_count": 2,
      "outputs": []
    },
    {
      "cell_type": "code",
      "source": [
        "# Copy the “kaggle.json” into this new directory\n",
        "! cp kaggle.json ~/.kaggle/"
      ],
      "metadata": {
        "id": "Iabz0-s36m5_",
        "colab": {
          "base_uri": "https://localhost:8080/"
        },
        "outputId": "012173cb-99a4-4bf5-d97b-dc477e8f1bd0"
      },
      "execution_count": 3,
      "outputs": [
        {
          "output_type": "stream",
          "name": "stdout",
          "text": [
            "cp: cannot stat 'kaggle.json': No such file or directory\n"
          ]
        }
      ]
    },
    {
      "cell_type": "code",
      "source": [
        "# Allocate the required permission for this file.\n",
        "! chmod 600 ~/.kaggle/kaggle.json"
      ],
      "metadata": {
        "id": "v2fj6FAE6sBl",
        "colab": {
          "base_uri": "https://localhost:8080/"
        },
        "outputId": "eaaa3e38-12d7-427d-e271-216abf2221c3"
      },
      "execution_count": 4,
      "outputs": [
        {
          "output_type": "stream",
          "name": "stdout",
          "text": [
            "chmod: cannot access '/root/.kaggle/kaggle.json': No such file or directory\n"
          ]
        }
      ]
    },
    {
      "cell_type": "code",
      "source": [
        "# Downloading Datasets: https://www.kaggle.com/datasets/bouweceunen/smart-home-commands-dataset\n",
        "! kaggle datasets download bouweceunen/smart-home-commands-dataset"
      ],
      "metadata": {
        "id": "gnnYX_NN9Aq7"
      },
      "execution_count": null,
      "outputs": []
    },
    {
      "cell_type": "code",
      "source": [
        "# Upload the file in Google Colab\n",
        "from google.colab import files\n",
        "uploaded = files.upload()"
      ],
      "metadata": {
        "id": "wQLJw6BW_IDa",
        "colab": {
          "base_uri": "https://localhost:8080/",
          "height": 69
        },
        "outputId": "c9bea603-25d1-45ef-edd1-3a461f9de7c4"
      },
      "execution_count": 6,
      "outputs": [
        {
          "output_type": "display_data",
          "data": {
            "text/plain": [
              "<IPython.core.display.HTML object>"
            ],
            "text/html": [
              "\n",
              "     <input type=\"file\" id=\"files-609d0306-1c8e-4320-9b35-2e097fec164f\" name=\"files[]\" multiple disabled\n",
              "        style=\"border:none\" />\n",
              "     <output id=\"result-609d0306-1c8e-4320-9b35-2e097fec164f\">\n",
              "      Upload widget is only available when the cell has been executed in the\n",
              "      current browser session. Please rerun this cell to enable.\n",
              "      </output>\n",
              "      <script>// Copyright 2017 Google LLC\n",
              "//\n",
              "// Licensed under the Apache License, Version 2.0 (the \"License\");\n",
              "// you may not use this file except in compliance with the License.\n",
              "// You may obtain a copy of the License at\n",
              "//\n",
              "//      http://www.apache.org/licenses/LICENSE-2.0\n",
              "//\n",
              "// Unless required by applicable law or agreed to in writing, software\n",
              "// distributed under the License is distributed on an \"AS IS\" BASIS,\n",
              "// WITHOUT WARRANTIES OR CONDITIONS OF ANY KIND, either express or implied.\n",
              "// See the License for the specific language governing permissions and\n",
              "// limitations under the License.\n",
              "\n",
              "/**\n",
              " * @fileoverview Helpers for google.colab Python module.\n",
              " */\n",
              "(function(scope) {\n",
              "function span(text, styleAttributes = {}) {\n",
              "  const element = document.createElement('span');\n",
              "  element.textContent = text;\n",
              "  for (const key of Object.keys(styleAttributes)) {\n",
              "    element.style[key] = styleAttributes[key];\n",
              "  }\n",
              "  return element;\n",
              "}\n",
              "\n",
              "// Max number of bytes which will be uploaded at a time.\n",
              "const MAX_PAYLOAD_SIZE = 100 * 1024;\n",
              "\n",
              "function _uploadFiles(inputId, outputId) {\n",
              "  const steps = uploadFilesStep(inputId, outputId);\n",
              "  const outputElement = document.getElementById(outputId);\n",
              "  // Cache steps on the outputElement to make it available for the next call\n",
              "  // to uploadFilesContinue from Python.\n",
              "  outputElement.steps = steps;\n",
              "\n",
              "  return _uploadFilesContinue(outputId);\n",
              "}\n",
              "\n",
              "// This is roughly an async generator (not supported in the browser yet),\n",
              "// where there are multiple asynchronous steps and the Python side is going\n",
              "// to poll for completion of each step.\n",
              "// This uses a Promise to block the python side on completion of each step,\n",
              "// then passes the result of the previous step as the input to the next step.\n",
              "function _uploadFilesContinue(outputId) {\n",
              "  const outputElement = document.getElementById(outputId);\n",
              "  const steps = outputElement.steps;\n",
              "\n",
              "  const next = steps.next(outputElement.lastPromiseValue);\n",
              "  return Promise.resolve(next.value.promise).then((value) => {\n",
              "    // Cache the last promise value to make it available to the next\n",
              "    // step of the generator.\n",
              "    outputElement.lastPromiseValue = value;\n",
              "    return next.value.response;\n",
              "  });\n",
              "}\n",
              "\n",
              "/**\n",
              " * Generator function which is called between each async step of the upload\n",
              " * process.\n",
              " * @param {string} inputId Element ID of the input file picker element.\n",
              " * @param {string} outputId Element ID of the output display.\n",
              " * @return {!Iterable<!Object>} Iterable of next steps.\n",
              " */\n",
              "function* uploadFilesStep(inputId, outputId) {\n",
              "  const inputElement = document.getElementById(inputId);\n",
              "  inputElement.disabled = false;\n",
              "\n",
              "  const outputElement = document.getElementById(outputId);\n",
              "  outputElement.innerHTML = '';\n",
              "\n",
              "  const pickedPromise = new Promise((resolve) => {\n",
              "    inputElement.addEventListener('change', (e) => {\n",
              "      resolve(e.target.files);\n",
              "    });\n",
              "  });\n",
              "\n",
              "  const cancel = document.createElement('button');\n",
              "  inputElement.parentElement.appendChild(cancel);\n",
              "  cancel.textContent = 'Cancel upload';\n",
              "  const cancelPromise = new Promise((resolve) => {\n",
              "    cancel.onclick = () => {\n",
              "      resolve(null);\n",
              "    };\n",
              "  });\n",
              "\n",
              "  // Wait for the user to pick the files.\n",
              "  const files = yield {\n",
              "    promise: Promise.race([pickedPromise, cancelPromise]),\n",
              "    response: {\n",
              "      action: 'starting',\n",
              "    }\n",
              "  };\n",
              "\n",
              "  cancel.remove();\n",
              "\n",
              "  // Disable the input element since further picks are not allowed.\n",
              "  inputElement.disabled = true;\n",
              "\n",
              "  if (!files) {\n",
              "    return {\n",
              "      response: {\n",
              "        action: 'complete',\n",
              "      }\n",
              "    };\n",
              "  }\n",
              "\n",
              "  for (const file of files) {\n",
              "    const li = document.createElement('li');\n",
              "    li.append(span(file.name, {fontWeight: 'bold'}));\n",
              "    li.append(span(\n",
              "        `(${file.type || 'n/a'}) - ${file.size} bytes, ` +\n",
              "        `last modified: ${\n",
              "            file.lastModifiedDate ? file.lastModifiedDate.toLocaleDateString() :\n",
              "                                    'n/a'} - `));\n",
              "    const percent = span('0% done');\n",
              "    li.appendChild(percent);\n",
              "\n",
              "    outputElement.appendChild(li);\n",
              "\n",
              "    const fileDataPromise = new Promise((resolve) => {\n",
              "      const reader = new FileReader();\n",
              "      reader.onload = (e) => {\n",
              "        resolve(e.target.result);\n",
              "      };\n",
              "      reader.readAsArrayBuffer(file);\n",
              "    });\n",
              "    // Wait for the data to be ready.\n",
              "    let fileData = yield {\n",
              "      promise: fileDataPromise,\n",
              "      response: {\n",
              "        action: 'continue',\n",
              "      }\n",
              "    };\n",
              "\n",
              "    // Use a chunked sending to avoid message size limits. See b/62115660.\n",
              "    let position = 0;\n",
              "    do {\n",
              "      const length = Math.min(fileData.byteLength - position, MAX_PAYLOAD_SIZE);\n",
              "      const chunk = new Uint8Array(fileData, position, length);\n",
              "      position += length;\n",
              "\n",
              "      const base64 = btoa(String.fromCharCode.apply(null, chunk));\n",
              "      yield {\n",
              "        response: {\n",
              "          action: 'append',\n",
              "          file: file.name,\n",
              "          data: base64,\n",
              "        },\n",
              "      };\n",
              "\n",
              "      let percentDone = fileData.byteLength === 0 ?\n",
              "          100 :\n",
              "          Math.round((position / fileData.byteLength) * 100);\n",
              "      percent.textContent = `${percentDone}% done`;\n",
              "\n",
              "    } while (position < fileData.byteLength);\n",
              "  }\n",
              "\n",
              "  // All done.\n",
              "  yield {\n",
              "    response: {\n",
              "      action: 'complete',\n",
              "    }\n",
              "  };\n",
              "}\n",
              "\n",
              "scope.google = scope.google || {};\n",
              "scope.google.colab = scope.google.colab || {};\n",
              "scope.google.colab._files = {\n",
              "  _uploadFiles,\n",
              "  _uploadFilesContinue,\n",
              "};\n",
              "})(self);\n",
              "</script> "
            ]
          },
          "metadata": {}
        },
        {
          "output_type": "stream",
          "name": "stdout",
          "text": [
            "Saving smart-home-commands-dataset.zip to smart-home-commands-dataset.zip\n"
          ]
        }
      ]
    },
    {
      "cell_type": "code",
      "execution_count": 7,
      "metadata": {
        "id": "62FPhxuA0JHM",
        "colab": {
          "base_uri": "https://localhost:8080/"
        },
        "outputId": "551d1410-a0e8-47da-d7f1-0d57752dc62a"
      },
      "outputs": [
        {
          "output_type": "stream",
          "name": "stderr",
          "text": [
            "[nltk_data] Downloading package punkt to /root/nltk_data...\n",
            "[nltk_data]   Unzipping tokenizers/punkt.zip.\n"
          ]
        },
        {
          "output_type": "execute_result",
          "data": {
            "text/plain": [
              "True"
            ]
          },
          "metadata": {},
          "execution_count": 7
        }
      ],
      "source": [
        "import os\n",
        "from nltk import word_tokenize\n",
        "import itertools\n",
        "import pandas as pd\n",
        "import nltk\n",
        "nltk.download('punkt')"
      ]
    },
    {
      "cell_type": "code",
      "source": [
        "df = pd.read_csv('smart-home-commands-dataset.zip')\n",
        "df.head()"
      ],
      "metadata": {
        "id": "wHyCx_XN_QSf",
        "colab": {
          "base_uri": "https://localhost:8080/",
          "height": 206
        },
        "outputId": "79a9183f-44ca-4625-9738-c386b7df414b"
      },
      "execution_count": 8,
      "outputs": [
        {
          "output_type": "execute_result",
          "data": {
            "text/plain": [
              "   Number Category  Action_needed  Question Subcategory Action      Time  \\\n",
              "0       1   lights              1         0     kitchen     on     today   \n",
              "1       2   lights              1         0     kitchen     on  tomorrow   \n",
              "2       3   lights              1         0     kitchen     on      hour   \n",
              "3       4   lights              1         0     kitchen     on       day   \n",
              "4       5   lights              1         0  diningroom     on     today   \n",
              "\n",
              "                                        Sentence  \n",
              "0                  Illuminate the kitchen today.  \n",
              "1               Illuminate the kitchen tomorrow.  \n",
              "2  Turn on the light in the kitchen in 10 hours.  \n",
              "3     Turn on the light in the kitchen in 1 day.  \n",
              "4              Illuminate the dining room today.  "
            ],
            "text/html": [
              "\n",
              "  <div id=\"df-380ffbc9-0586-411a-b1d0-d52597fed3a4\">\n",
              "    <div class=\"colab-df-container\">\n",
              "      <div>\n",
              "<style scoped>\n",
              "    .dataframe tbody tr th:only-of-type {\n",
              "        vertical-align: middle;\n",
              "    }\n",
              "\n",
              "    .dataframe tbody tr th {\n",
              "        vertical-align: top;\n",
              "    }\n",
              "\n",
              "    .dataframe thead th {\n",
              "        text-align: right;\n",
              "    }\n",
              "</style>\n",
              "<table border=\"1\" class=\"dataframe\">\n",
              "  <thead>\n",
              "    <tr style=\"text-align: right;\">\n",
              "      <th></th>\n",
              "      <th>Number</th>\n",
              "      <th>Category</th>\n",
              "      <th>Action_needed</th>\n",
              "      <th>Question</th>\n",
              "      <th>Subcategory</th>\n",
              "      <th>Action</th>\n",
              "      <th>Time</th>\n",
              "      <th>Sentence</th>\n",
              "    </tr>\n",
              "  </thead>\n",
              "  <tbody>\n",
              "    <tr>\n",
              "      <th>0</th>\n",
              "      <td>1</td>\n",
              "      <td>lights</td>\n",
              "      <td>1</td>\n",
              "      <td>0</td>\n",
              "      <td>kitchen</td>\n",
              "      <td>on</td>\n",
              "      <td>today</td>\n",
              "      <td>Illuminate the kitchen today.</td>\n",
              "    </tr>\n",
              "    <tr>\n",
              "      <th>1</th>\n",
              "      <td>2</td>\n",
              "      <td>lights</td>\n",
              "      <td>1</td>\n",
              "      <td>0</td>\n",
              "      <td>kitchen</td>\n",
              "      <td>on</td>\n",
              "      <td>tomorrow</td>\n",
              "      <td>Illuminate the kitchen tomorrow.</td>\n",
              "    </tr>\n",
              "    <tr>\n",
              "      <th>2</th>\n",
              "      <td>3</td>\n",
              "      <td>lights</td>\n",
              "      <td>1</td>\n",
              "      <td>0</td>\n",
              "      <td>kitchen</td>\n",
              "      <td>on</td>\n",
              "      <td>hour</td>\n",
              "      <td>Turn on the light in the kitchen in 10 hours.</td>\n",
              "    </tr>\n",
              "    <tr>\n",
              "      <th>3</th>\n",
              "      <td>4</td>\n",
              "      <td>lights</td>\n",
              "      <td>1</td>\n",
              "      <td>0</td>\n",
              "      <td>kitchen</td>\n",
              "      <td>on</td>\n",
              "      <td>day</td>\n",
              "      <td>Turn on the light in the kitchen in 1 day.</td>\n",
              "    </tr>\n",
              "    <tr>\n",
              "      <th>4</th>\n",
              "      <td>5</td>\n",
              "      <td>lights</td>\n",
              "      <td>1</td>\n",
              "      <td>0</td>\n",
              "      <td>diningroom</td>\n",
              "      <td>on</td>\n",
              "      <td>today</td>\n",
              "      <td>Illuminate the dining room today.</td>\n",
              "    </tr>\n",
              "  </tbody>\n",
              "</table>\n",
              "</div>\n",
              "      <button class=\"colab-df-convert\" onclick=\"convertToInteractive('df-380ffbc9-0586-411a-b1d0-d52597fed3a4')\"\n",
              "              title=\"Convert this dataframe to an interactive table.\"\n",
              "              style=\"display:none;\">\n",
              "        \n",
              "  <svg xmlns=\"http://www.w3.org/2000/svg\" height=\"24px\"viewBox=\"0 0 24 24\"\n",
              "       width=\"24px\">\n",
              "    <path d=\"M0 0h24v24H0V0z\" fill=\"none\"/>\n",
              "    <path d=\"M18.56 5.44l.94 2.06.94-2.06 2.06-.94-2.06-.94-.94-2.06-.94 2.06-2.06.94zm-11 1L8.5 8.5l.94-2.06 2.06-.94-2.06-.94L8.5 2.5l-.94 2.06-2.06.94zm10 10l.94 2.06.94-2.06 2.06-.94-2.06-.94-.94-2.06-.94 2.06-2.06.94z\"/><path d=\"M17.41 7.96l-1.37-1.37c-.4-.4-.92-.59-1.43-.59-.52 0-1.04.2-1.43.59L10.3 9.45l-7.72 7.72c-.78.78-.78 2.05 0 2.83L4 21.41c.39.39.9.59 1.41.59.51 0 1.02-.2 1.41-.59l7.78-7.78 2.81-2.81c.8-.78.8-2.07 0-2.86zM5.41 20L4 18.59l7.72-7.72 1.47 1.35L5.41 20z\"/>\n",
              "  </svg>\n",
              "      </button>\n",
              "      \n",
              "  <style>\n",
              "    .colab-df-container {\n",
              "      display:flex;\n",
              "      flex-wrap:wrap;\n",
              "      gap: 12px;\n",
              "    }\n",
              "\n",
              "    .colab-df-convert {\n",
              "      background-color: #E8F0FE;\n",
              "      border: none;\n",
              "      border-radius: 50%;\n",
              "      cursor: pointer;\n",
              "      display: none;\n",
              "      fill: #1967D2;\n",
              "      height: 32px;\n",
              "      padding: 0 0 0 0;\n",
              "      width: 32px;\n",
              "    }\n",
              "\n",
              "    .colab-df-convert:hover {\n",
              "      background-color: #E2EBFA;\n",
              "      box-shadow: 0px 1px 2px rgba(60, 64, 67, 0.3), 0px 1px 3px 1px rgba(60, 64, 67, 0.15);\n",
              "      fill: #174EA6;\n",
              "    }\n",
              "\n",
              "    [theme=dark] .colab-df-convert {\n",
              "      background-color: #3B4455;\n",
              "      fill: #D2E3FC;\n",
              "    }\n",
              "\n",
              "    [theme=dark] .colab-df-convert:hover {\n",
              "      background-color: #434B5C;\n",
              "      box-shadow: 0px 1px 3px 1px rgba(0, 0, 0, 0.15);\n",
              "      filter: drop-shadow(0px 1px 2px rgba(0, 0, 0, 0.3));\n",
              "      fill: #FFFFFF;\n",
              "    }\n",
              "  </style>\n",
              "\n",
              "      <script>\n",
              "        const buttonEl =\n",
              "          document.querySelector('#df-380ffbc9-0586-411a-b1d0-d52597fed3a4 button.colab-df-convert');\n",
              "        buttonEl.style.display =\n",
              "          google.colab.kernel.accessAllowed ? 'block' : 'none';\n",
              "\n",
              "        async function convertToInteractive(key) {\n",
              "          const element = document.querySelector('#df-380ffbc9-0586-411a-b1d0-d52597fed3a4');\n",
              "          const dataTable =\n",
              "            await google.colab.kernel.invokeFunction('convertToInteractive',\n",
              "                                                     [key], {});\n",
              "          if (!dataTable) return;\n",
              "\n",
              "          const docLinkHtml = 'Like what you see? Visit the ' +\n",
              "            '<a target=\"_blank\" href=https://colab.research.google.com/notebooks/data_table.ipynb>data table notebook</a>'\n",
              "            + ' to learn more about interactive tables.';\n",
              "          element.innerHTML = '';\n",
              "          dataTable['output_type'] = 'display_data';\n",
              "          await google.colab.output.renderOutput(dataTable, element);\n",
              "          const docLink = document.createElement('div');\n",
              "          docLink.innerHTML = docLinkHtml;\n",
              "          element.appendChild(docLink);\n",
              "        }\n",
              "      </script>\n",
              "    </div>\n",
              "  </div>\n",
              "  "
            ]
          },
          "metadata": {},
          "execution_count": 8
        }
      ]
    },
    {
      "cell_type": "code",
      "source": [
        "df_sent = df[['Sentence']]\n",
        "df_sent.head(10)"
      ],
      "metadata": {
        "id": "KVfAlcYj0XYq",
        "colab": {
          "base_uri": "https://localhost:8080/",
          "height": 362
        },
        "outputId": "b57e93e9-9e73-400b-d2f0-7f33d327d9b0"
      },
      "execution_count": 9,
      "outputs": [
        {
          "output_type": "execute_result",
          "data": {
            "text/plain": [
              "                                           Sentence\n",
              "0                     Illuminate the kitchen today.\n",
              "1                  Illuminate the kitchen tomorrow.\n",
              "2     Turn on the light in the kitchen in 10 hours.\n",
              "3        Turn on the light in the kitchen in 1 day.\n",
              "4                 Illuminate the dining room today.\n",
              "5           Don't illuminate the dining room today.\n",
              "6              Illuminate the dining room tomorrow.\n",
              "7  Turn on the light in the dinin room in 10 hours.\n",
              "8    Turn on the light in the dining room in 1 day.\n",
              "9                Turn on the light in the bathroom."
            ],
            "text/html": [
              "\n",
              "  <div id=\"df-4f9bc479-00a6-435f-8683-b0895c161017\">\n",
              "    <div class=\"colab-df-container\">\n",
              "      <div>\n",
              "<style scoped>\n",
              "    .dataframe tbody tr th:only-of-type {\n",
              "        vertical-align: middle;\n",
              "    }\n",
              "\n",
              "    .dataframe tbody tr th {\n",
              "        vertical-align: top;\n",
              "    }\n",
              "\n",
              "    .dataframe thead th {\n",
              "        text-align: right;\n",
              "    }\n",
              "</style>\n",
              "<table border=\"1\" class=\"dataframe\">\n",
              "  <thead>\n",
              "    <tr style=\"text-align: right;\">\n",
              "      <th></th>\n",
              "      <th>Sentence</th>\n",
              "    </tr>\n",
              "  </thead>\n",
              "  <tbody>\n",
              "    <tr>\n",
              "      <th>0</th>\n",
              "      <td>Illuminate the kitchen today.</td>\n",
              "    </tr>\n",
              "    <tr>\n",
              "      <th>1</th>\n",
              "      <td>Illuminate the kitchen tomorrow.</td>\n",
              "    </tr>\n",
              "    <tr>\n",
              "      <th>2</th>\n",
              "      <td>Turn on the light in the kitchen in 10 hours.</td>\n",
              "    </tr>\n",
              "    <tr>\n",
              "      <th>3</th>\n",
              "      <td>Turn on the light in the kitchen in 1 day.</td>\n",
              "    </tr>\n",
              "    <tr>\n",
              "      <th>4</th>\n",
              "      <td>Illuminate the dining room today.</td>\n",
              "    </tr>\n",
              "    <tr>\n",
              "      <th>5</th>\n",
              "      <td>Don't illuminate the dining room today.</td>\n",
              "    </tr>\n",
              "    <tr>\n",
              "      <th>6</th>\n",
              "      <td>Illuminate the dining room tomorrow.</td>\n",
              "    </tr>\n",
              "    <tr>\n",
              "      <th>7</th>\n",
              "      <td>Turn on the light in the dinin room in 10 hours.</td>\n",
              "    </tr>\n",
              "    <tr>\n",
              "      <th>8</th>\n",
              "      <td>Turn on the light in the dining room in 1 day.</td>\n",
              "    </tr>\n",
              "    <tr>\n",
              "      <th>9</th>\n",
              "      <td>Turn on the light in the bathroom.</td>\n",
              "    </tr>\n",
              "  </tbody>\n",
              "</table>\n",
              "</div>\n",
              "      <button class=\"colab-df-convert\" onclick=\"convertToInteractive('df-4f9bc479-00a6-435f-8683-b0895c161017')\"\n",
              "              title=\"Convert this dataframe to an interactive table.\"\n",
              "              style=\"display:none;\">\n",
              "        \n",
              "  <svg xmlns=\"http://www.w3.org/2000/svg\" height=\"24px\"viewBox=\"0 0 24 24\"\n",
              "       width=\"24px\">\n",
              "    <path d=\"M0 0h24v24H0V0z\" fill=\"none\"/>\n",
              "    <path d=\"M18.56 5.44l.94 2.06.94-2.06 2.06-.94-2.06-.94-.94-2.06-.94 2.06-2.06.94zm-11 1L8.5 8.5l.94-2.06 2.06-.94-2.06-.94L8.5 2.5l-.94 2.06-2.06.94zm10 10l.94 2.06.94-2.06 2.06-.94-2.06-.94-.94-2.06-.94 2.06-2.06.94z\"/><path d=\"M17.41 7.96l-1.37-1.37c-.4-.4-.92-.59-1.43-.59-.52 0-1.04.2-1.43.59L10.3 9.45l-7.72 7.72c-.78.78-.78 2.05 0 2.83L4 21.41c.39.39.9.59 1.41.59.51 0 1.02-.2 1.41-.59l7.78-7.78 2.81-2.81c.8-.78.8-2.07 0-2.86zM5.41 20L4 18.59l7.72-7.72 1.47 1.35L5.41 20z\"/>\n",
              "  </svg>\n",
              "      </button>\n",
              "      \n",
              "  <style>\n",
              "    .colab-df-container {\n",
              "      display:flex;\n",
              "      flex-wrap:wrap;\n",
              "      gap: 12px;\n",
              "    }\n",
              "\n",
              "    .colab-df-convert {\n",
              "      background-color: #E8F0FE;\n",
              "      border: none;\n",
              "      border-radius: 50%;\n",
              "      cursor: pointer;\n",
              "      display: none;\n",
              "      fill: #1967D2;\n",
              "      height: 32px;\n",
              "      padding: 0 0 0 0;\n",
              "      width: 32px;\n",
              "    }\n",
              "\n",
              "    .colab-df-convert:hover {\n",
              "      background-color: #E2EBFA;\n",
              "      box-shadow: 0px 1px 2px rgba(60, 64, 67, 0.3), 0px 1px 3px 1px rgba(60, 64, 67, 0.15);\n",
              "      fill: #174EA6;\n",
              "    }\n",
              "\n",
              "    [theme=dark] .colab-df-convert {\n",
              "      background-color: #3B4455;\n",
              "      fill: #D2E3FC;\n",
              "    }\n",
              "\n",
              "    [theme=dark] .colab-df-convert:hover {\n",
              "      background-color: #434B5C;\n",
              "      box-shadow: 0px 1px 3px 1px rgba(0, 0, 0, 0.15);\n",
              "      filter: drop-shadow(0px 1px 2px rgba(0, 0, 0, 0.3));\n",
              "      fill: #FFFFFF;\n",
              "    }\n",
              "  </style>\n",
              "\n",
              "      <script>\n",
              "        const buttonEl =\n",
              "          document.querySelector('#df-4f9bc479-00a6-435f-8683-b0895c161017 button.colab-df-convert');\n",
              "        buttonEl.style.display =\n",
              "          google.colab.kernel.accessAllowed ? 'block' : 'none';\n",
              "\n",
              "        async function convertToInteractive(key) {\n",
              "          const element = document.querySelector('#df-4f9bc479-00a6-435f-8683-b0895c161017');\n",
              "          const dataTable =\n",
              "            await google.colab.kernel.invokeFunction('convertToInteractive',\n",
              "                                                     [key], {});\n",
              "          if (!dataTable) return;\n",
              "\n",
              "          const docLinkHtml = 'Like what you see? Visit the ' +\n",
              "            '<a target=\"_blank\" href=https://colab.research.google.com/notebooks/data_table.ipynb>data table notebook</a>'\n",
              "            + ' to learn more about interactive tables.';\n",
              "          element.innerHTML = '';\n",
              "          dataTable['output_type'] = 'display_data';\n",
              "          await google.colab.output.renderOutput(dataTable, element);\n",
              "          const docLink = document.createElement('div');\n",
              "          docLink.innerHTML = docLinkHtml;\n",
              "          element.appendChild(docLink);\n",
              "        }\n",
              "      </script>\n",
              "    </div>\n",
              "  </div>\n",
              "  "
            ]
          },
          "metadata": {},
          "execution_count": 9
        }
      ]
    },
    {
      "cell_type": "code",
      "source": [
        "# Tokenize each sentence\n",
        "sent = [word_tokenize(sentence['Sentence']) for index, sentence in df_sent.iterrows()]\n",
        "sent[0]"
      ],
      "metadata": {
        "id": "Gz-cLu1mCQG8",
        "colab": {
          "base_uri": "https://localhost:8080/"
        },
        "outputId": "cf2ea4ac-7db3-4b2d-e499-3db286a30006"
      },
      "execution_count": 10,
      "outputs": [
        {
          "output_type": "execute_result",
          "data": {
            "text/plain": [
              "['Illuminate', 'the', 'kitchen', 'today', '.']"
            ]
          },
          "metadata": {},
          "execution_count": 10
        }
      ]
    },
    {
      "cell_type": "code",
      "source": [
        "# Merge each word of the sentences togheter \n",
        "merge_sent = list(itertools.chain.from_iterable(sent))\n",
        "print(merge_sent)"
      ],
      "metadata": {
        "id": "qT-5gZ-aDMNP",
        "colab": {
          "base_uri": "https://localhost:8080/"
        },
        "outputId": "54ebf9f2-34ba-4e96-e1be-c1820c7dfc10"
      },
      "execution_count": 11,
      "outputs": [
        {
          "output_type": "stream",
          "name": "stdout",
          "text": [
            "['Illuminate', 'the', 'kitchen', 'today', '.', 'Illuminate', 'the', 'kitchen', 'tomorrow', '.', 'Turn', 'on', 'the', 'light', 'in', 'the', 'kitchen', 'in', '10', 'hours', '.', 'Turn', 'on', 'the', 'light', 'in', 'the', 'kitchen', 'in', '1', 'day', '.', 'Illuminate', 'the', 'dining', 'room', 'today', '.', 'Do', \"n't\", 'illuminate', 'the', 'dining', 'room', 'today', '.', 'Illuminate', 'the', 'dining', 'room', 'tomorrow', '.', 'Turn', 'on', 'the', 'light', 'in', 'the', 'dinin', 'room', 'in', '10', 'hours', '.', 'Turn', 'on', 'the', 'light', 'in', 'the', 'dining', 'room', 'in', '1', 'day', '.', 'Turn', 'on', 'the', 'light', 'in', 'the', 'bathroom', '.', 'Do', \"n't\", 'turn', 'on', 'the', 'light', 'right', 'now', '.', 'I', 'would', 'get', 'mad', 'if', 'you', \"'d\", 'put', 'on', 'the', 'light', 'right', 'now', '.', 'I', 'would', 'not', 'like', 'it', 'if', 'you', 'would', \"n't\", 'turn', 'on', 'the', 'light', 'right', 'now', '.', 'Is', 'the', 'light', 'on', 'in', 'the', 'living', 'room', '.', 'Would', 'you', 'illuminate', 'the', 'living', 'room', 'in', 'one', 'hour', 'for', 'me', 'please', '.', 'It', 'would', 'be', 'great', 'if', 'you', \"'d\", 'turn', 'on', 'the', 'light', 'for', 'me', '.', 'Light', 'on', 'in', 'kitchen', '.', 'Light', 'off', 'in', 'living', 'room', 'in', 'a', 'few', 'hours', '.', 'Turn', 'the', 'light', 'off', 'in', 'the', 'basement', '.', 'Turn', 'the', 'light', 'off', 'in', 'the', 'dining', 'room', '.', 'I', 'would', 'like', 'if', 'you', 'made', 'it', 'brighter', '.', 'I', 'would', 'like', 'if', 'you', 'made', 'it', 'brighter', 'in', '3', 'minutes', '.', 'Can', 'you', 'make', 'it', 'brighter', 'here', 'in', '8', 'minutes', '?', 'Can', 'you', 'make', 'it', 'more', 'dark', 'here', '?', 'Do', \"n't\", 'make', 'it', 'more', 'dark', 'here', '.', 'I', 'would', 'get', 'mad', 'if', 'you', 'would', 'turn', 'on', 'the', 'light', 'in', 'the', 'dining', 'room', 'right', 'now', '.', 'Is', 'the', 'light', 'on', 'in', 'the', 'bathroom', '?', 'Is', 'the', 'light', 'on', 'in', 'the', 'bathroom', '.', 'Has', 'the', 'light', 'been', 'on', 'long', 'in', 'the', 'bathroom', '?', 'Has', 'the', 'light', 'been', 'off', 'long', 'in', 'the', 'kitchen', '?', 'Is', 'the', 'light', 'in', 'the', 'bathroom', 'on', '?', 'Did', 'you', 'turn', 'on', 'the', 'light', 'already', '?', 'Can', 'you', 'please', 'turn', 'on', 'the', 'light', '?', 'Help', 'me', 'to', 'turn', 'on', 'the', 'light', '.', 'Can', 'you', 'please', 'turn', 'on', 'the', 'light', 'in', 'a', 'minute', '?', 'Help', 'me', 'to', 'turn', 'on', 'the', 'light', 'in', 'a', 'minute', '.', 'It', 'is', 'so', 'dark', 'here', '.', 'I', 'ca', \"n't\", 'see', 'anything', '.', 'Lighten', 'the', 'room', '.', 'Can', 'you', 'please', 'turn', 'on', 'the', 'light', 'in', 'a', 'few', 'minutes', '?', 'Help', 'me', 'to', 'turn', 'on', 'the', 'light', 'in', 'a', 'few', 'minutes', '.', 'Lighten', 'the', 'room', 'in', 'a', 'few', 'minutes', '.', 'Lighten', 'the', 'room', 'in', '5', 'minutes', '.', 'Turn', 'the', 'light', 'off', 'in', 'the', 'kitchen', 'in', '10', 'minutes', '.', 'Do', \"n't\", 'turn', 'the', 'light', 'off', 'in', 'the', 'kitchen', 'in', '10', 'minutes', '.', 'Make', 'it', 'less', 'dark', 'in', 'the', 'attic', 'now', '.', 'Turn', 'on', 'the', 'light', 'in', 'the', 'attic', '.', 'Illuminate', 'the', 'attic', '.', 'Turn', 'off', 'the', 'lights', 'in', 'one', 'hour', '.', 'Turn', 'on', 'the', 'light', '.', 'Flicker', 'the', 'lights', 'for', 'me', '.', 'Turn', 'on', 'the', 'refrigerator', '.', 'Turn', 'on', 'the', 'oven', '.', 'Turn', 'on', 'the', 'music', 'system', '.', 'Turn', 'off', 'the', 'light', 'in', 'the', 'attic', '.', 'Turn', 'off', 'the', 'light', 'in', 'the', 'basement', '.', 'Turn', 'off', 'the', 'light', 'in', 'the', 'kitchen', '.', 'Turn', 'off', 'the', 'light', 'in', 'the', 'library', '.', 'Turn', 'off', 'the', 'light', 'in', 'the', 'kitchen', '.', 'Turn', 'off', 'the', 'light', 'in', 'the', 'dining', 'room', '.', 'Turn', 'off', 'the', 'light', 'in', 'the', 'cellar', '.', 'Turn', 'off', 'the', 'lights', 'in', 'the', 'attic', '.', 'Turn', 'off', 'the', 'lights', 'in', 'the', 'basement', '.', 'Turn', 'off', 'the', 'lights', 'in', 'the', 'kitchen', '.', 'Turn', 'off', 'the', 'lights', 'in', 'the', 'library', '.', 'Turn', 'off', 'the', 'lights', 'in', 'the', 'kitchen', '.', 'Turn', 'off', 'the', 'lights', 'in', 'the', 'dining', 'room', '.', 'Turn', 'off', 'the', 'lights', 'in', 'the', 'cellar', '.', 'Turn', 'off', 'something', 'in', '45', 'minutes', '.', 'Turn', 'on', 'something', '.', 'Put', 'on', 'a', 'random', 'appliance', 'in', '7', 'days', '.', 'lights', '.', 'Can', 'you', 'make', 'it', 'less', 'dark', 'in', 'the', 'bathroom', 'tomorrow', '?', 'Can', 'you', 'make', 'it', 'less', 'dark', 'in', 'the', 'toilet', 'tomorrow', '?', 'Turn', 'on', 'the', 'light', 'in', 'the', 'attic', 'in', 'one', 'hour', '.', 'Can', 'you', 'turn', 'off', 'the', 'lights', 'in', 'the', 'cellar', '?', 'I', 'would', 'get', 'mad', 'if', 'you', 'turn', 'on', 'the', 'lights', 'right', 'now', '.', 'It', 'is', 'dark', 'in', 'the', 'cellar', '.', 'It', 'is', 'dark', 'in', 'the', 'bathroom', '.', 'It', 'is', 'dark', 'in', 'the', 'living', 'room', '.', 'It', 'is', 'dark', 'in', 'the', 'library', '.', 'It', 'is', 'dark', 'in', 'the', 'toilet', '.', 'It', 'is', 'dark', 'in', 'the', 'attic', '.', 'It', 'is', 'dark', 'in', 'the', 'basement', '.', 'Can', 'you', 'make', 'it', 'less', 'dark', 'in', 'the', 'dining', 'room', 'in', '5', 'minutes', '?', 'Can', 'you', 'make', 'it', 'less', 'dark', 'in', 'the', 'cellar', 'in', '85', 'minutes', '?', 'Can', 'you', 'make', 'it', 'less', 'dark', 'in', 'the', 'attic', 'in', '5', 'minutes', '?', 'Can', 'you', 'make', 'it', 'less', 'dark', 'in', 'the', 'kitchen', 'in', '45', 'minutes', '?', 'Can', 'you', 'make', 'it', 'less', 'dark', 'in', 'the', 'toilet', 'in', '15', 'minutes', '?', 'Can', 'you', 'make', 'it', 'less', 'dark', 'in', 'the', 'library', 'in', '50', 'minutes', '?', 'Can', 'you', 'make', 'it', 'less', 'dark', 'in', 'the', 'basement', 'in', '5', 'minutes', '?', 'Can', 'you', 'make', 'it', 'more', 'bright', 'in', 'the', 'dining', 'room', 'in', '15', 'hours', '?', 'Can', 'you', 'make', 'it', 'more', 'bright', 'in', 'the', 'cellar', 'in', '50', 'hours', '?', 'Can', 'you', 'make', 'it', 'more', 'bright', 'in', 'the', 'attic', 'in', 'an', 'hour', '?', 'Can', 'you', 'make', 'it', 'more', 'bright', 'in', 'the', 'kitchen', 'in', '5', 'days', '?', 'Can', 'you', 'make', 'it', 'more', 'bright', 'in', 'the', 'toilet', 'in', '5', 'weeks', '?', 'Can', 'you', 'make', 'it', 'more', 'bright', 'in', 'the', 'library', 'in', '2', 'minutes', '?', 'Can', 'you', 'make', 'it', 'more', 'bright', 'in', 'the', 'basement', 'in', '5', 'minutes', '?', 'Can', 'you', 'make', 'it', 'less', 'bright', 'in', 'the', 'dining', 'room', 'in', '15', 'hours', '?', 'Can', 'you', 'make', 'it', 'less', 'bright', 'in', 'the', 'cellar', 'in', '50', 'hours', '?', 'Can', 'you', 'make', 'it', 'less', 'bright', 'in', 'the', 'attic', 'in', 'an', 'hour', '?', 'Can', 'you', 'make', 'it', 'less', 'bright', 'in', 'the', 'kitchen', 'in', '5', 'days', '?', 'Can', 'you', 'make', 'it', 'less', 'bright', 'in', 'the', 'toilet', 'in', '5', 'weeks', '?', 'Can', 'you', 'make', 'it', 'less', 'bright', 'in', 'the', 'library', 'in', '2', 'minutes', '?', 'Can', 'you', 'make', 'it', 'less', 'bright', 'in', 'the', 'basement', 'in', '5', 'minutes', '?', 'Do', \"n't\", 'turn', 'off', 'the', 'lights', '.', 'Turn', 'on', 'the', 'lights', 'when', 'I', 'get', 'home', '.', 'Turn', 'on', 'the', 'lights', 'when', 'it', \"'s\", 'dark', 'outside', '.', 'Turn', 'off', 'the', 'lights', 'when', 'it', 'is', 'light', 'outside', '.', 'Was', 'there', 'any', 'motion', 'between', 'september', 'and', 'october', '?', 'Was', 'the', 'camera', 'in', 'the', 'bathroom', 'on', 'yesterday', '?', 'Was', 'the', 'camera', 'in', 'the', 'toilet', 'on', 'yesterday', '?', 'Was', 'there', 'motion', '?', 'Is', 'the', 'recording', 'device', 'on', '?', 'Was', 'there', 'motion', 'with', 'the', 'motion', 'viewer', '?', 'Would', 'you', 'tell', 'me', 'if', 'there', 'was', 'any', 'motion', 'on', 'the', 'camera', 'outside', '?', 'Was', 'there', 'any', 'motion', 'on', 'the', 'camera', 'outside', '?', 'Was', 'there', 'movement', 'on', 'the', 'camera', 'in', 'the', 'kitchen', 'yesterday', '?', 'Was', 'there', 'movement', 'on', 'the', 'camera', 'in', 'the', 'attic', 'yesterday', '?', 'Was', 'there', 'movement', 'on', 'the', 'camera', 'in', 'the', 'bathroom', 'yesterday', '?', 'Was', 'there', 'movement', 'on', 'the', 'camera', 'in', 'the', 'backyard', 'yesterday', '?', 'Was', 'there', 'movement', 'on', 'the', 'camera', 'in', 'the', 'living', 'room', 'yesterday', '?', 'I', 'would', 'like', 'it', 'that', 'you', \"'d\", 'tell', 'me', 'if', 'the', 'camera', 'in', 'the', 'living', 'room', 'is', 'on', '.', 'Where', 'there', 'strangers', 'tonight', 'at', 'my', 'house', '?', 'Did', 'you', 'see', 'any', 'movement', 'tonight', '?', 'Was', 'there', 'something', 'strange', 'outside', '?', 'Is', 'there', 'something', 'I', 'should', 'know', 'about', 'the', 'motion', '?', 'What', 'do', 'you', 'see', 'on', 'the', 'camera', '?', 'How', 'many', 'cameras', 'are', 'there', '?', 'Where', 'are', 'all', 'the', 'cameras', 'installed', '?', 'Is', 'there', 'many', 'motion', 'on', 'the', 'cameras', 'lately', '?', 'What', 'is', 'the', 'camera', 'currently', 'shooting', '?', 'Did', 'humans', 'appear', 'on', 'the', 'camera', 'today', '?', 'Would', 'you', 'tell', 'me', 'if', 'there', 'was', 'motion', 'between', 'september', 'and', 'october', '?', 'Is', 'the', 'camera', 'on', '?', 'Turn', 'on', 'the', 'camera', '.', 'A', 'camera', 'does', 'recording', 'and', 'viewing', '.', 'Could', 'you', 'give', 'me', 'some', 'info', 'on', 'the', 'camera', 'in', 'the', 'backyard', '?', 'Was', 'there', 'any', 'movement', 'on', 'the', 'cameras', 'today', '?', 'Was', 'there', 'a', 'person', 'outside', 'today', '?', 'Was', 'there', 'any', 'movement', 'on', 'the', 'cameras', 'yesterday', '?', 'Was', 'there', 'a', 'person', 'outside', 'yesterday', '?', 'camera', '.', 'Was', 'there', 'any', 'motion', 'in', 'the', 'past', 'hour', 'on', 'the', 'camera', 'outside', '?', 'Was', 'there', 'any', 'motion', 'in', 'the', 'backyard', 'yesterday', '?', 'Was', 'there', 'unusual', 'activity', 'on', 'the', 'camera', 'in', 'the', 'backyard', 'today', '?', 'Do', \"n't\", 'open', 'up', 'an', 'app', '.', 'I', 'would', 'not', 'like', 'it', 'if', 'you', 'would', 'open', 'an', 'app', 'right', 'now', '.', 'Would', 'you', 'open', 'the', 'Home', 'app', 'for', 'me', 'please', '?', 'Open', 'the', 'relay', 'app', 'for', 'me', 'now', '.', 'Open', 'camera', 'app', '.', 'Open', 'relay', 'app', '.', 'Would', 'you', 'open', 'the', 'Home', 'app', 'in', 'one', 'day', 'for', 'me', 'please', '?', 'Open', 'the', 'relay', 'app', 'for', 'me', 'in', 'a', 'few', 'days', '.', 'Open', 'camera', 'app', 'yesterday', '.', 'Open', 'relay', 'app', 'tomorrow', '.', 'I', 'would', 'like', 'it', 'if', 'you', \"'d\", 'open', 'the', 'camera', 'app', '.', 'Is', 'it', 'possible', 'to', 'open', 'up', 'the', 'camera', 'app', '?', 'Can', 'you', 'show', 'me', 'the', 'motion', 'on', 'the', 'camera', '?', 'Can', 'you', 'show', 'me', 'the', 'motion', 'on', 'the', 'camera', 'in', '5', 'minutes', '?', 'Is', 'it', 'possible', 'to', 'open', 'up', 'the', 'relay', 'app', '?', 'Is', 'it', 'possible', 'to', 'open', 'up', 'the', 'relay', 'app', 'in', 'a', 'certain', 'amount', 'of', 'minutes', '?', 'Can', 'you', 'do', 'me', 'a', 'favor', 'and', 'open', 'up', 'the', 'locationtracker', 'app', '?', 'Open', 'up', 'a', 'random', 'app', 'for', 'me', '.', 'Open', 'up', 'a', 'random', 'app', 'for', 'me', 'in', 'two', 'hours', '.', 'Open', 'the', 'Facebook', 'app', 'for', 'me', '.', 'Open', 'any', 'app', 'you', 'want', 'in', '8', 'minutes', '.', 'The', 'relay', 'app', 'has', 'to', 'be', 'shown', 'to', 'me', 'in', '5', 'minutes', '.', 'Do', \"n't\", 'open', 'up', 'an', 'app', '.', 'Open', 'any', 'app', 'you', 'want', 'now', '.', 'Open', 'something', 'in', '5', 'minutes', '.', 'Open', 'up', 'the', 'app', 'which', 'will', 'show', 'me', 'relay', 'information', '.', 'Open', 'up', 'Google', 'Maps', 'in', 'one', 'hour', '.', 'Open', 'up', 'Google', 'Maps', '.', 'Show', 'me', 'motion', '.', 'open', '.', 'Can', 'you', 'open', 'up', 'the', 'Maps', 'app', 'in', '5', 'minutes', 'for', 'me', 'please', '?', 'Can', 'you', 'give', 'me', 'directions', 'to', 'my', 'home', '?', 'How', 'far', 'am', 'I', 'from', 'home', '?', 'Can', 'I', 'get', 'home', 'from', 'here', '?', 'Can', 'you', 'tell', 'me', 'the', 'way', 'to', 'that', 'place', '?', 'Get', 'me', 'home', '.', 'How', 'far', 'am', 'I', 'from', 'home', 'in', 'an', 'hour', '?', 'Can', 'I', 'get', 'home', 'from', 'here', 'in', '2', 'hours', '?', 'Can', 'you', 'tell', 'me', 'the', 'way', 'to', 'that', 'place', 'in', 'an', 'hour', '?', 'Get', 'me', 'home', 'tomorrow', '.', 'Where', 'am', 'I', '?', 'How', 'long', 'before', 'I', 'will', 'be', 'home', '?', 'Show', 'me', 'the', 'bus', 'between', 'leuven', 'and', 'home', '?', 'Where', 'is', 'the', 'nearest', 'bus', 'stop', 'in', 'Antwerpen', '?', 'Where', 'is', 'the', 'nearest', 'bus', 'stop', 'in', 'Brussels', '?', 'Where', 'is', 'the', 'nearest', 'bus', 'stop', 'in', 'Leuven', '?', 'Where', 'is', 'the', 'nearest', 'bus', 'stop', 'in', 'Hasselt', '?', 'Where', 'is', 'the', 'nearest', 'bus', 'stop', '?', 'How', 'do', 'I', 'get', 'home', 'with', 'the', 'bus', '?', 'How', 'do', 'I', 'get', 'home', 'with', 'the', 'bus', 'in', 'an', 'hour', '?', 'Where', 'is', 'my', 'home', '?', 'When', 'do', 'the', 'trains', 'departure', 'in', 'Leuven', '?', 'When', 'do', 'the', 'trains', 'departure', '?', 'When', 'do', 'the', 'trains', 'departure', 'in', 'an', 'hour', '?', 'Show', 'me', 'the', 'trains', 'that', 'departure', 'now', 'in', 'Hasselt', '.', 'Show', 'me', 'the', 'trains', 'that', 'departure', 'in', 'Hasselt', 'in', 'ten', 'minutes', '.', 'When', 'do', 'the', 'busses', 'departure', 'in', 'Leuven', '?', 'When', 'do', 'the', 'busses', 'departure', '?', 'When', 'do', 'the', 'busses', 'departure', 'in', 'an', 'hour', '?', 'Show', 'me', 'the', 'busses', 'that', 'departure', 'now', 'in', 'Hasselt', '.', 'Show', 'me', 'the', 'busses', 'that', 'departure', 'in', 'Hasselt', 'in', 'ten', 'minutes', '.', 'Are', 'there', 'any', 'delays', 'with', 'busses', 'at', 'my', 'location', '?', 'Do', 'I', 'have', 'to', 'travel', 'far', 'when', 'I', 'want', 'to', 'go', 'home', '?', 'Do', 'I', 'have', 'to', 'travel', 'far', 'when', 'I', 'want', 'to', 'go', 'home', 'in', 'a', 'few', 'minutes', '?', 'Should', 'I', 'use', 'the', 'public', 'transport', 'now', '?', 'When', 'will', 'I', 'be', 'home', 'when', 'I', 'leave', 'now', 'with', 'my', 'car', 'in', '5', 'minutes', '?', 'Can', 'you', 'show', 'me', 'how', 'I', 'will', 'be', 'getting', 'home', 'with', 'my', 'car', '?', 'How', 'far', 'is', 'it', 'to', 'Antwerpen', '?', 'Find', 'the', 'closest', 'train', 'station', '.', 'Find', 'the', 'nearest', 'bus', 'stop', '.', 'Find', 'the', 'nearest', 'bus', 'stop', 'in', '3', 'minutes', '.', 'Where', 'do', 'I', 'live', '?', 'Where', 'is', 'the', 'nearest', 'train', 'station', '?', 'Where', 'is', 'the', 'closest', 'train', 'station', '?', 'Where', 'is', 'the', 'nearest', 'train', 'station', 'in', 'Antwerpen', '?', 'Where', 'is', 'the', 'nearest', 'train', 'station', 'in', 'Brussels', '?', 'Where', 'is', 'the', 'nearest', 'train', 'station', 'in', 'Leuven', '?', 'Where', 'is', 'the', 'nearest', 'train', 'station', 'in', 'Hasselt', '?', 'Where', 'is', 'the', 'nearest', 'train', 'station', '?', 'How', 'do', 'I', 'get', 'home', 'with', 'the', 'train', '?', 'When', 'do', 'the', 'busses', 'depart', '?', 'When', 'do', 'the', 'busses', 'depart', 'in', 'Antwerpen', '?', 'When', 'do', 'the', 'busses', 'depart', 'in', 'Brussels', '?', 'When', 'do', 'the', 'busses', 'depart', 'in', 'Leuven', '?', 'When', 'do', 'the', 'busses', 'depart', 'in', 'Hasselt', '?', 'Where', 'is', 'the', 'nearest', 'bus', 'station', '?', 'Where', 'is', 'the', 'closest', 'bus', 'stop', '?', 'Give', 'me', 'some', 'directions', '.', 'direction', '.', 'How', 'do', 'I', 'get', 'home', 'in', 'one', 'hour', '?', 'How', 'do', 'I', 'get', 'home', 'from', 'Leuven', '?', 'When', 'do', 'the', 'trains', 'departure', '?', 'What', 'is', 'the', 'closest', 'train', 'station', 'from', 'here', '?', 'How', 'do', 'I', 'get', 'to', 'Leuven', '?', 'How', 'do', 'I', 'get', 'home', 'from', 'Leuven', 'in', 'a', 'minute', '?', 'When', 'does', 'the', 'first', 'train', 'leave', 'to', 'Balen', 'from', 'Leuven', '?', 'How', 'do', 'I', 'get', 'from', 'Leuven', 'to', 'Hasselt', '?', 'What', 'is', 'the', 'temperature', 'in', 'the', 'room', 'right', 'now', '?', 'What', 'is', 'the', 'temperature', 'in', 'the', 'room', '?', 'What', 'is', 'temperature', 'in', 'the', 'room', '?', 'Is', 'it', 'hot', 'in', 'the', 'room', '?', 'What', 'is', 'the', 'temperature', 'in', 'the', 'room', 'in', '3', 'minutes', '?', 'What', 'is', 'the', 'humidity', 'in', 'the', 'room', 'in', '3', 'minutes', '?', 'What', 'is', 'temperature', 'in', 'the', 'room', 'in', '3', 'minutes', '?', 'What', 'are', 'the', 'sensor', 'readings', 'from', 'the', 'bathroom', '?', 'Give', 'me', 'info', 'from', 'the', 'kitchen', '.', 'Give', 'me', 'info', 'from', 'the', 'bathroom', '.', 'Give', 'me', 'some', 'readings', 'of', 'the', 'dining', 'room', 'tomorrow', '.', 'Tomorrow', 'give', 'me', 'info', 'from', 'the', 'kitchen', '.', 'Tomorrow', 'give', 'me', 'info', 'from', 'the', 'bathroom', '.', 'Tomorrow', 'give', 'me', 'info', 'from', 'the', 'attic', '.', 'I', 'want', 'info', 'from', 'the', 'bathroom', 'in', '5', 'minutes', '.', 'I', 'want', 'info', 'from', 'the', 'bathroom', 'in', '8', 'minutes', '.', 'I', 'want', 'info', 'from', 'the', 'bathroom', 'in', '2', 'days', '.', 'I', 'want', 'info', 'from', 'the', 'attic', 'tomorrow', '.', 'Enlighten', 'me', 'about', 'the', 'kitchen', '.', 'Is', 'there', 'motion', 'in', 'the', 'bathroom', 'right', 'now', '?', 'Was', 'there', 'any', 'activity', 'in', 'the', 'living', 'room', '?', 'Is', 'the', 'light', 'on', 'in', 'the', 'kitchen', '?', 'What', 'is', 'the', 'humidity', 'in', 'averaged', 'over', 'a', 'week', '?', 'What', 'does', 'the', 'temperature', 'reading', 'in', 'the', 'basement', 'say', '?', 'What', 'does', 'the', 'temperature', 'reading', 'in', 'the', 'dining', 'room', 'say', '?', 'Are', 'there', 'any', 'sensors', 'in', 'the', 'attic', '?', 'Do', \"n't\", 'give', 'me', 'any', 'information', '.', 'Give', 'me', 'information', 'about', 'all', 'rooms', 'in', '10', 'minutes', '.', 'Which', 'sensors', 'are', 'currently', 'in', 'operation', '?', 'Were', 'there', 'any', 'sensor', 'malfunctions', 'lately', '?', 'Show', 'me', 'the', 'sensors', 'tomorrow', '.', 'Do', \"n't\", 'show', 'me', 'the', 'sensors', 'tomorrow', '.', 'Give', 'me', 'some', 'information', 'for', 'yesterday', '.', 'Give', 'me', 'some', 'information', 'about', 'some', 'sensors', '.', 'Show', 'me', 'some', 'sensor', 'readings', '.', 'Show', 'me', 'some', 'sensor', 'readings', 'in', 'a', 'few', 'minutes', '.', 'What', 'are', 'the', 'sensor', 'readings', 'from', 'the', 'toilet', '?', 'Give', 'me', 'info', 'from', 'the', 'toilet', '.', 'Tomorrow', 'give', 'me', 'info', 'from', 'the', 'toilet', '.', 'I', 'want', 'info', 'from', 'the', 'toilet', 'in', '5', 'minutes', '.', 'I', 'want', 'info', 'from', 'the', 'toilet', 'in', '8', 'minutes', '.', 'I', 'want', 'info', 'from', 'the', 'toilet', 'in', '2', 'days', '.', 'Is', 'there', 'motion', 'in', 'the', 'toilet', 'right', 'now', '?', 'Can', 'you', 'give', 'me', 'some', 'information', 'about', 'the', 'toilet', '?', 'information', '.', 'What', 'is', 'the', 'temperature', 'in', 'the', 'library', '?', 'What', 'is', 'the', 'humidity', 'in', 'the', 'library', '?', 'Update', 'me', 'in', 'an', 'hour', 'what', 'temperature', 'it', 'is', 'in', 'the', 'library', '.', 'Do', \"n't\", 'let', 'me', 'know', 'what', 'humidity', 'it', 'is', 'in', 'the', 'library', '.', 'What', 'is', 'the', 'temperature', 'in', 'the', 'library', '?', 'What', 'is', 'the', 'temperature', 'in', 'the', 'bathroom', '?', 'What', 'is', 'the', 'humidity', 'in', 'the', 'bathroom', '?', 'Update', 'me', 'in', 'an', 'hour', 'what', 'temperature', 'it', 'is', 'in', 'the', 'bathroom', '.', 'Do', \"n't\", 'let', 'me', 'know', 'what', 'humidity', 'it', 'is', 'in', 'the', 'bathroom', '.', 'What', 'is', 'the', 'temperature', 'in', 'the', 'bathroom', '?', 'What', 'is', 'the', 'temperature', 'in', 'the', 'dining', 'room', '?', 'What', 'is', 'the', 'humidity', 'in', 'the', 'dining', 'room', '?', 'Update', 'me', 'in', 'an', 'hour', 'what', 'temperature', 'it', 'is', 'in', 'the', 'dining', 'room', '.', 'Do', \"n't\", 'let', 'me', 'know', 'what', 'humidity', 'it', 'is', 'in', 'the', 'dining', 'room', '.', 'What', 'is', 'the', 'temperature', 'in', 'the', 'dining', 'room', '?', 'What', 'is', 'the', 'temperature', 'in', 'the', 'kitchen', '?', 'What', 'is', 'the', 'humidity', 'in', 'the', 'kitchen', '?', 'Update', 'me', 'in', 'an', 'hour', 'what', 'temperature', 'it', 'is', 'in', 'the', 'kitchen', '.', 'Do', \"n't\", 'let', 'me', 'know', 'what', 'humidity', 'it', 'is', 'in', 'the', 'kitchen', '.', 'What', 'is', 'the', 'temperature', 'in', 'the', 'kitchen', '?', 'What', 'is', 'the', 'temperature', 'in', 'the', 'toilet', '?', 'What', 'is', 'the', 'humidity', 'in', 'the', 'toilet', '?', 'Update', 'me', 'in', 'an', 'hour', 'what', 'temperature', 'it', 'is', 'in', 'the', 'toilet', '.', 'Do', \"n't\", 'let', 'me', 'know', 'what', 'humidity', 'it', 'is', 'in', 'the', 'toilet', '.', 'What', 'is', 'the', 'temperature', 'in', 'the', 'toilet', '?', 'What', 'is', 'the', 'temperature', 'in', 'the', 'attic', '?', 'What', 'is', 'the', 'humidity', 'in', 'the', 'attic', '?', 'Update', 'me', 'in', 'an', 'hour', 'what', 'temperature', 'it', 'is', 'in', 'the', 'attic', '.', 'Do', \"n't\", 'let', 'me', 'know', 'what', 'humidity', 'it', 'is', 'in', 'the', 'attic', '.', 'What', 'is', 'the', 'temperature', 'in', 'the', 'attic', '?', 'What', 'is', 'the', 'temperature', 'in', 'the', 'cellar', '?', 'What', 'is', 'the', 'humidity', 'in', 'the', 'cellar', '?', 'Update', 'me', 'in', 'an', 'hour', 'what', 'temperature', 'it', 'is', 'in', 'the', 'cellar', '.', 'Do', \"n't\", 'let', 'me', 'know', 'what', 'humidity', 'it', 'is', 'in', 'the', 'cellar', '.', 'What', 'is', 'the', 'temperature', 'in', 'the', 'cellar', '?', 'What', 'is', 'the', 'temperature', 'in', 'the', 'basement', '?', 'What', 'is', 'the', 'humidity', 'in', 'the', 'basement', '?', 'Update', 'me', 'in', 'an', 'hour', 'what', 'temperature', 'it', 'is', 'in', 'the', 'basement', '.', 'Do', \"n't\", 'let', 'me', 'know', 'what', 'humidity', 'it', 'is', 'in', 'the', 'basement', '.', 'What', 'is', 'the', 'temperature', 'in', 'the', 'basement', '?', 'Is', 'it', 'hot', 'in', 'the', 'kitchen', 'right', 'now', '?', 'Is', 'it', 'hot', 'in', 'the', 'library', '?', 'Is', 'it', 'hot', 'in', 'the', 'kitchen', '?', 'Is', 'it', 'hot', 'in', 'the', 'dining', 'room', '?', 'Is', 'it', 'hot', 'in', 'the', 'cellar', '?', 'Is', 'it', 'hot', 'in', 'the', 'attic', '?', 'Is', 'it', 'hot', 'in', 'the', 'basement', '?', 'Is', 'it', 'cold', 'in', 'the', 'kitchen', 'right', 'now', '?', 'Is', 'it', 'cold', 'in', 'the', 'library', '?', 'Is', 'it', 'cold', 'in', 'the', 'kitchen', '?', 'Is', 'it', 'cold', 'in', 'the', 'dining', 'room', '?', 'Is', 'it', 'cold', 'in', 'the', 'cellar', '?', 'Is', 'it', 'cold', 'in', 'the', 'attic', '?', 'Is', 'it', 'cold', 'in', 'the', 'basement', '?', 'Is', 'it', 'cold', 'in', 'the', 'bathroom', '?', 'Is', 'it', 'hot', 'in', 'the', 'bathroom', '?', 'Can', 'you', 'give', 'me', 'some', 'info', 'about', 'the', 'cellar', '?', 'Cellar', '.', 'Toilet', '.', 'Bathroom', '.', 'Living', 'room', '.', 'Library', '.', 'Basement', '.', 'Attic', '.', 'Dining', 'room', '.', 'Myplace', '.', 'What', 'temperature', 'is', 'it', 'in', 'the', 'attic', '?', 'Who', 'are', 'you', '?', 'What', 'is', 'the', 'tallest', 'mountain', 'on', 'earth', '?', 'In', 'what', 'movies', 'did', 'Adam', 'Sandler', 'play', '?', 'What', 'is', 'a', 'continent', '?', 'Is', 'weed', 'considered', 'a', 'hard', 'drug', '?', 'Which', 'players', 'are', 'in', 'the', 'premier', 'league', '?', 'When', 'do', 'you', 'know', 'when', 'you', 'are', 'sick', '?', 'What', 'is', 'the', 'deepest', 'trench', 'on', 'earth', '?', 'Are', 'we', 'alone', 'in', 'this', 'universe', '?', 'How', 'many', 'animal', 'species', 'are', 'there', '?', 'How', 'many', 'religions', 'are', 'there', '?', 'What', 'is', 'the', 'tallest', 'mountain', '?', 'In', 'what', 'language', 'are', 'you', 'written', '?', 'Are', 'you', 'alive', '?', 'Can', 'you', 'move', 'over', 'the', 'internet', '?', 'Are', 'you', 'mean', '?', 'What', 'do', 'you', 'think', 'about', 'Donald', 'Trump', '?', 'Are', 'you', 'republican', 'or', 'democrat', '?', 'Do', 'you', 'own', 'the', 'camera', '?', 'Can', 'you', 'see', '?', 'How', 'many', 'oceans', 'are', 'there', 'on', 'earth', '?', 'I', 'do', \"n't\", 'like', 'justin', 'bieber', '.', 'Dinosaurs', 'do', \"n't\", 'exist', 'anymore', '.', 'Who', 'is', 'Justin', 'Bieber', '.', 'Do', 'you', 'control', 'the', 'cameras', '?', 'How', 'tall', 'is', 'the', 'tallest', 'human', '?', 'other', '.', 'I', 'like', 'potatoes', '.', 'Do', 'you', 'own', 'the', 'light', '?', 'Am', 'I', 'facing', 'north', '?', 'How', 'many', 'pixels', 'does', 'the', 'camera', 'have', '?', 'If', 'it', 'is', 'not', 'a', 'question', 'it', 'responds', 'with', 'ok', '.', 'Ok', '.', 'I', 'like', 'you', '.', 'Do', \"n't\", 'say', 'anything', '.', 'Keep', 'your', 'mouth', 'shut', '.', 'Do', \"n't\", 'give', 'me', 'information', '.', 'You', \"'re\", 'stupid', '.', 'Do', 'not', 'do', 'anything', '.', 'Do', \"n't\", 'do', 'anything', '.', 'Where', 'are', 'you', '?', 'Where', 'do', 'you', 'live', '?', 'Are', 'you', 'alive', '?', 'In', 'what', 'language', 'are', 'you', 'written', '?', 'Random', '.', 'Nothing', '.', 'ok', '.', 'I', 'do', \"n't\", 'like', 'drowning', '.', 'Why', 'not', '?', 'What', 'is', 'the', 'capital', 'of', 'Belgium', '?', 'I', 'am', 'bored', '.', 'What', 'is', 'the', 'meaning', 'of', 'life', '?', 'Do', 'you', 'know', 'other', 'special', 'things', '?', 'What', 'do', 'you', 'feel', 'right', 'now', '?', 'Do', 'you', 'have', 'feelings', '?', 'Can', 'you', 'be', 'sad', '?', 'Can', 'you', 'tell', 'me', 'what', 'it', 'is', 'like', 'to', 'be', 'happy', '?', 'I', 'am', 'happy', '.', 'Do', 'you', 'like', 'animals', '?', 'I', 'like', 'cats', 'and', 'dogs', '.', 'Is', 'it', 'going', 'to', 'be', 'hot', 'in', 'Spain', 'tomorrow', '?', 'What', 'temperature', 'is', 'it', 'in', 'Brussels', '?', 'What', 'temperature', 'is', 'it', 'in', 'Antwerpen', '?', 'What', 'temperature', 'is', 'it', 'in', 'Crete', '?', 'What', 'temperature', 'is', 'it', 'in', 'the', 'islands', 'of', 'the', 'malidives', '?', 'I', 'do', 'not', 'want', 'to', 'now', 'which', 'weather', 'it', 'is', 'in', 'an', 'hour', '.', 'How', 'is', 'the', 'weather', 'like', 'in', 'Crete', '?', 'How', 'is', 'the', 'weather', 'like', 'in', 'Crete', 'next', 'month', '?', 'Will', 'it', 'rain', 'later', 'today', '?', 'Will', 'the', 'sun', 'shine', 'in', '10', 'minutes', '?', 'weather', '.', 'Am', 'I', 'going', 'to', 'get', 'wet', 'if', 'I', 'go', 'outside', 'now', '?', 'Will', 'i', 'get', 'wet', 'when', 'i', 'leave', 'the', 'house', 'now', '.', 'Am', 'I', 'going', 'to', 'get', 'wet', 'if', 'I', 'go', 'outside', 'in', 'a', 'few', 'minutes', '?', 'Will', 'i', 'get', 'wet', 'when', 'i', 'leave', 'the', 'house', 'in', '3', 'minutes', '?', 'Sun', '.', 'Will', 'there', 'be', 'fog', 'in', '7', 'minutes', '.', 'Will', 'there', 'be', 'fog', 'today', '.', 'How', 'is', 'the', 'weather', 'going', 'to', 'be', 'in', 'Mallorca', 'tomorrow', '?', 'Will', 'the', 'sun', 'shine', 'in', 'Antwerp', '?', 'Will', 'the', 'sun', 'shine', 'in', 'Antwerp', 'in', '5', 'hours', '?', 'Rain', '.', 'It', 'will', 'rain', '.', 'Is', 'it', 'storming', 'outside', '?', 'Will', 'it', 'be', 'storming', 'tomorrow', '?', 'It', 'is', 'storming', 'in', '10', 'minutes', '.', 'Was', 'it', 'storming', 'yesterday', '?', 'It', 'is', 'cold', 'outside', 'today', '.', 'Is', 'it', 'cold', 'in', 'Greece', 'now', '?', 'Is', 'it', 'cold', 'outside', '?', 'It', 'is', 'warm', 'outside', 'today', '.', 'Is', 'it', 'warm', 'in', 'Greece', 'now', '?', 'Is', 'it', 'warm', 'outside', 'in', 'an', 'hour', '?', 'Will', 'I', 'get', 'wet', 'when', 'I', 'go', 'outside', 'now', '?', 'Is', 'it', 'hailing', 'right', 'now', '?', 'Is', 'there', 'hail', 'coming', 'down', 'from', 'the', 'skies', '?', 'Do', 'you', 'think', 'I', 'can', 'ride', 'my', 'bike', 'outside', 'without', 'getting', 'wet', '?', 'Is', 'it', 'cloudy', 'today', '?', 'Are', 'there', 'a', 'lot', 'of', 'clouds', '?', 'Is', 'it', 'foggy', 'outside', '?', 'Will', 'there', 'be', 'rain', 'when', 'I', 'go', 'outside', '?', 'Is', 'it', 'wet', 'outside', '?', 'Is', 'it', 'hot', 'outside', '?', 'What', 'is', 'the', 'weather', 'like', 'in', 'the', 'Malidives', 'in', 'six', 'hours', '?', 'Is', 'the', 'sun', 'going', 'to', 'shine', 'today', '?', 'Is', 'the', 'sun', 'shining', 'today', '?', 'Is', 'the', 'sun', 'going', 'to', 'shine', 'tomorrow', '?', 'Did', 'the', 'sun', 'shine', 'yesterday', '?', 'Is', 'it', 'hot', 'in', 'Crete', '?', 'Is', 'it', 'hot', '?', 'Will', 'it', 'rain', 'today', '?', 'What', 'is', 'the', 'temperature', 'outside', '?', 'How', 'many', 'degrees', 'is', 'it', 'outside', '?', 'Do', 'you', 'think', 'it', 'will', 'be', 'hot', 'tomorrow', '?', 'Will', 'it', 'freeze', 'in', 'Leuven', 'tomorrow', '?', 'Did', 'it', 'freeze', 'in', 'Hasselt', 'yesterday', '?', 'Will', 'it', 'freeze', 'tonight', '?', 'Will', 'it', 'be', 'so', 'cold', 'that', 'water', 'freezes', 'tonight', '?', 'Will', 'it', 'be', 'so', 'cold', 'that', 'water', 'freezes', 'today', '?', 'Is', 'it', 'freezing', '?', 'Is', 'it', 'going', 'to', 'freeze', '?', 'Is', 'it', 'freezing', 'in', 'Leuven', '?', 'Do', 'you', 'think', 'it', 'will', 'freeze', 'tomorrow', '?', 'Can', 'you', 'turn', 'on', 'the', 'heating', 'in', 'the', 'bathroom', 'when', 'it', 'freezes', 'outside', '?', 'Turn', 'off', 'the', 'heating', 'in', 'the', 'library', 'when', 'the', 'outdoor', 'temperature', 'climbs', 'above', '20', 'degrees', '.', 'Turn', 'off', 'the', 'heating', 'in', 'the', 'library', 'when', 'the', 'outdoor', 'temperature', 'climbs', 'above', '20', 'degrees', 'fahrenheit', '.', 'Do', \"n't\", 'do', 'anything', 'with', 'the', 'heating', '.', 'If', 'you', 'want', 'to', 'turn', 'the', 'heating', 'on', 'please', 'do', \"n't\", '.', 'Turn', 'on', 'the', 'heating', 'when', 'the', 'outside', 'temperature', 'falls', 'below', '5', 'degrees', 'celsius', '.', 'Turn', 'on', 'the', 'heating', 'when', 'the', 'outside', 'temperature', 'falls', 'below', '0', 'degrees', 'centigrade', '.', 'Can', 'you', 'turn', 'on', 'the', 'heating', 'in', 'the', 'bathroom', 'in', 'an', 'hour', '?', 'Can', 'you', 'turn', 'on', 'the', 'heating', 'in', 'the', 'attic', 'in', 'an', 'hour', '?', 'Can', 'you', 'turn', 'on', 'the', 'heating', 'in', 'the', 'dining', 'room', 'in', 'an', 'hour', '?', 'Can', 'you', 'turn', 'on', 'the', 'heating', 'in', 'the', 'basement', 'in', 'an', 'hour', '?', 'Can', 'you', 'turn', 'on', 'the', 'heating', 'in', 'the', 'library', 'in', 'an', 'hour', '?', 'Can', 'you', 'turn', 'on', 'the', 'heating', 'in', 'the', 'kitchen', 'in', 'an', 'hour', '?', 'Can', 'you', 'turn', 'on', 'the', 'heating', 'in', 'the', 'toilet', 'in', 'an', 'hour', '?', 'It', 'is', 'a', 'little', 'cold', 'in', 'the', 'bathroom', '.', 'It', 'is', 'a', 'little', 'cold', 'in', 'the', 'attic', '.', 'It', 'is', 'a', 'little', 'cold', 'in', 'the', 'dining', 'room', '.', 'It', 'is', 'a', 'little', 'cold', 'in', 'the', 'basement', '.', 'It', 'is', 'a', 'little', 'cold', 'in', 'the', 'library', '.', 'It', 'is', 'a', 'little', 'cold', 'in', 'the', 'kitchen', '.', 'It', 'is', 'a', 'little', 'cold', 'in', 'the', 'toilet', '.', 'Do', \"n't\", 'turn', 'on', 'the', 'heating', 'now', '.', 'Can', 'you', 'turn', 'the', 'heating', 'in', 'the', 'basement', 'lower', 'in', 'an', 'hour', '?', 'Can', 'you', 'turn', 'the', 'heating', 'in', 'the', 'cellar', 'lower', 'in', 'an', 'hour', '?', 'Can', 'you', 'turn', 'the', 'heating', 'in', 'the', 'kitchen', 'lower', 'in', 'an', 'hour', '?', 'Can', 'you', 'turn', 'the', 'heating', 'in', 'the', 'toilet', 'lower', 'in', 'an', 'hour', '?', 'Can', 'you', 'turn', 'the', 'heating', 'in', 'the', 'attic', 'lower', 'in', 'an', 'hour', '?', 'Can', 'you', 'turn', 'the', 'heating', 'in', 'the', 'kitchen', 'lower', 'in', 'an', 'hour', '?', 'Can', 'you', 'turn', 'the', 'heating', 'in', 'the', 'diningroom', 'lower', 'in', 'an', 'hour', '?', 'It', 'is', 'cold', 'in', 'the', 'bathroom', '.', 'It', 'is', 'cold', 'in', 'the', 'attic', '.', 'It', 'is', 'cold', 'in', 'the', 'dining', 'room', '.', 'It', 'is', 'cold', 'in', 'the', 'basement', '.', 'It', 'is', 'cold', 'in', 'the', 'library', '.', 'It', 'is', 'cold', 'in', 'the', 'kitchen', '.', 'It', 'is', 'cold', 'in', 'the', 'toilet', '.', 'It', 'is', 'hot', 'in', 'the', 'bathroom', '.', 'It', 'is', 'hot', 'in', 'the', 'attic', '.', 'It', 'is', 'hot', 'in', 'the', 'dining', 'room', '.', 'It', 'is', 'hot', 'in', 'the', 'basement', '.', 'It', 'is', 'hot', 'in', 'the', 'library', '.', 'It', 'is', 'hot', 'in', 'the', 'kitchen', '.', 'It', 'is', 'hot', 'in', 'the', 'toilet', '.', 'Can', 'you', 'turn', 'on', 'the', 'heating', 'in', 'the', 'kitchen', 'in', '10', 'minutes', 'for', 'me', 'please', '?', 'Can', 'you', 'turn', 'on', 'the', 'heating', 'in', 'the', 'living', 'room', 'in', '11', 'minutes', 'for', 'me', 'please', '?', 'Can', 'you', 'turn', 'on', 'the', 'heating', 'in', 'the', 'living', 'room', 'in', '5', 'minutes', 'for', 'me', 'please', '?', 'Can', 'you', 'turn', 'on', 'the', 'heating', 'in', 'the', 'living', 'room', 'in', 'a', 'minute', 'for', 'me', 'please', '?', 'Can', 'you', 'turn', 'on', 'the', 'heating', 'in', 'the', 'living', 'room', 'in', '2', 'minutes', 'for', 'me', 'please', '?', 'Can', 'you', 'turn', 'on', 'the', 'heating', 'in', 'the', 'living', 'room', 'in', '1', 'minute', 'for', 'me', 'please', '?', 'Can', 'you', 'turn', 'on', 'the', 'heating', 'in', 'the', 'living', 'room', 'in', 'a', 'minute', 'for', 'me', 'please', '?', 'Can', 'you', 'turn', 'on', 'the', 'heating', 'in', 'the', 'library', 'in', '11', 'minutes', 'for', 'me', 'please', '?', 'Can', 'you', 'turn', 'on', 'the', 'heating', 'in', 'the', 'library', 'in', '5', 'minutes', 'for', 'me', 'please', '?', 'Turn', 'the', 'heating', 'off', 'in', 'the', 'bathroom', 'in', 'an', 'hour', '.', 'Do', \"n't\", 'turn', 'off', 'the', 'heating', 'in', 'an', 'hour', '.', 'Make', 'it', 'less', 'cold', 'in', 'the', 'cellar', '.', 'Make', 'it', 'colder', 'in', 'the', 'basement', '.', 'Can', 'you', 'turn', 'the', 'heating', 'higher', 'in', 'the', 'bathroom', '?', 'Lower', 'the', 'shutters', 'in', 'the', 'living', 'room', '.', 'Lower', 'the', 'shutters', 'in', 'the', 'kitchen', '.', 'Lower', 'the', 'shutters', 'in', 'the', 'library', '.', 'Lower', 'the', 'shutters', 'in', 'the', 'basement', '.', 'Lower', 'the', 'shutters', 'in', 'the', 'cellar', '.', 'Lower', 'the', 'shutters', 'in', 'the', 'bathroom', '.', 'Lower', 'the', 'shutters', 'in', 'the', 'toilet', '.', 'Raise', 'the', 'shutters', 'in', 'the', 'living', 'room', '.', 'Raise', 'the', 'shutters', 'in', 'the', 'kitchen', '.', 'Raise', 'the', 'shutters', 'in', 'the', 'library', '.', 'Raise', 'the', 'shutters', 'in', 'the', 'basement', '.', 'Raise', 'the', 'shutters', 'in', 'the', 'cellar', '.', 'Raise', 'the', 'shutters', 'in', 'the', 'bathroom', '.', 'Raise', 'the', 'shutters', 'in', 'the', 'toilet', '.', 'Do', \"n't\", 'do', 'anything', 'with', 'the', 'shutters', '.', 'The', 'sun', 'is', 'blinding', 'me', 'in', 'the', 'toilet', '.', 'Turn', 'down', 'the', 'window', 'shutters', '.', 'Open', 'the', 'window', 'shutters', 'in', 'a', 'minute', 'for', 'me', 'please', '.', 'Let', 'the', 'shutters', 'down', 'in', 'the', 'basement', 'in', 'an', 'hour', '.', 'Shut', 'the', 'shutters', 'in', 'the', 'kitchen', '.', 'Shut', 'the', 'shutters', 'in', 'a', 'minute', '.', 'It', 'is', 'too', 'light', 'in', 'the', 'library', '.', 'Let', 'the', 'shutters', 'down', 'in', 'the', 'basement', 'when', 'it', 'is', 'light', 'outside', '.', 'Open', 'up', 'the', 'shutters', 'in', 'the', 'library', 'when', 'it', 'is', 'light', 'outside', '.', 'It', 'is', 'too', 'bright', 'in', 'the', 'kitchen', '.', 'Shut', 'down', 'the', 'shutters', 'when', 'it', 'gets', 'too', 'hot', 'in', 'the', 'bathroom', '.', 'Open', 'up', 'the', 'shutters', 'when', 'it', 'gets', 'below', '10', 'degrees', 'fahrenheit', '.', 'Do', \"n't\", 'do', 'anything', 'when', 'it', 'gets', 'hot', 'in', 'the', 'kitchen', '.', 'I', 'will', 'not', 'like', 'it', 'when', 'you', 'turn', 'on', 'the', 'toaster', 'right', 'now', '.', 'Can', 'you', 'turn', 'on', 'the', 'toaster', 'for', 'me', 'please', '?', 'Turn', 'off', 'the', 'toaster', 'for', 'me', 'please', '.', 'Do', \"n't\", 'turn', 'off', 'the', 'toaster', 'in', 'an', 'hour', '.', 'Do', \"n't\", 'turn', 'off', 'the', 'toaster', 'in', 'a', 'minute', '.', 'Turn', 'on', 'the', 'toaster', 'in', 'a', 'month', '.', 'Turn', 'on', 'the', 'toaster', 'in', 'a', 'minute', '.', 'Turn', 'on', 'the', 'toaster', 'in', 'a', 'day', '.', 'Turn', 'off', 'the', 'toaster', 'in', 'an', 'hour', '.', 'Turn', 'off', 'the', 'toaster', 'in', 'a', 'minute', '.', 'Turn', 'off', 'the', 'toaster', 'in', 'a', 'day', '.', 'Turn', 'off', 'the', 'toaster', 'in', 'an', 'hour', '.', 'Make', 'the', 'toaster', 'warm', '.', 'Make', 'the', 'toaster', 'cold', '.', 'Make', 'sure', 'the', 'toaster', 'gets', 'gradually', 'colder', '.', 'Shut', 'off', 'the', 'electricity', 'to', 'the', 'toaster', 'in', 'an', 'hour', 'for', 'me', '.', 'Shut', 'off', 'the', 'electricity', 'to', 'the', 'toaster', 'in', 'a', 'day', 'for', 'me', '.', 'How', 'long', 'before', 'my', 'toast', 'will', 'be', 'ready', '?', 'How', 'long', 'before', 'I', 'will', 'get', 'my', 'toast', '?', 'Could', 'you', 'make', 'me', 'some', 'toast', 'in', 'an', 'hour', '?', 'How', 'long', 'has', 'the', 'toaster', 'been', 'on', '?', 'Could', 'you', 'make', 'me', 'some', 'toast', 'today', '?', 'Could', 'you', 'make', 'me', 'some', 'toast', 'yesterday', '?', 'Do', \"n't\", 'turn', 'on', 'the', 'toaster', '.', 'Power', 'down', 'the', 'toaster', '.', 'Power', 'down', 'the', 'toaster', 'in', 'an', 'hour', '.', 'Power', 'down', 'the', 'toaster', 'in', 'the', 'bathroom', 'in', 'an', 'hour', '.', 'Power', 'down', 'the', 'toaster', 'in', 'the', 'library', 'in', 'an', 'hour', '.', 'Power', 'down', 'the', 'toaster', 'in', 'the', 'living', 'room', 'in', 'a', 'day', '.', 'Turn', 'on', 'the', 'toaster', 'when', 'it', 'is', '6', 'AM', '.', 'Can', 'you', 'turn', 'on', 'the', 'toaster', 'when', 'I', 'wake', 'up', '.', 'Can', 'you', 'turn', 'on', 'the', 'toaster', 'when', 'the', 'sun', 'rises', '.', 'Can', 'you', 'open', 'up', 'the', 'garage', 'door', 'when', 'I', 'get', 'home', 'for', 'me', 'please', '?', 'Let', 'the', 'garage', 'door', 'down', 'now', '.', 'Can', 'you', 'open', 'the', 'garage', 'door', 'in', 'an', 'hour', '?', 'Close', 'the', 'garage', 'door', 'in', 'a', 'day', 'for', 'me', 'please', '.', 'Shut', 'down', 'the', 'garage', 'door', 'in', 'an', 'hour', 'for', 'me', '.', 'Can', 'you', 'put', 'the', 'garage', 'door', 'down', 'tomorrow', '?', 'Can', 'you', 'put', 'the', 'garage', 'door', 'down', 'yesterday', '?', 'Can', 'you', 'put', 'the', 'garage', 'door', 'up', 'tomorrow', '?', 'Can', 'you', 'put', 'the', 'garage', 'door', 'up', 'yesterday', '?', 'Shut', 'down', 'the', 'garage', 'door', 'in', 'a', 'minute', 'for', 'me', '.', 'Shut', 'down', 'the', 'garage', 'door', 'in', 'an', 'day', 'for', 'me', '.', 'Open', 'up', 'the', 'garage', 'door', 'in', 'a', 'minute', 'for', 'me', '.', 'Open', 'up', 'the', 'garage', 'door', 'in', 'an', 'day', 'for', 'me', '.', 'Make', 'sure', 'my', 'car', 'can', 'get', 'out', 'the', 'garage', '.', 'Will', 'you', 'make', 'sure', 'my', 'car', 'does', \"n't\", 'hit', 'the', 'garage', 'door', '?', 'Shut', 'down', 'the', 'garage', 'door', 'in', '21', 'minutes', 'for', 'me', '.', 'Shut', 'down', 'the', 'garage', 'door', 'in', '15', 'minutes', 'for', 'me', '.', 'Shut', 'down', 'the', 'garage', 'door', 'in', 'fourteen', 'minutes', 'for', 'me', '.', 'Shut', 'down', 'the', 'garage', 'door', 'in', 'sixteen', 'minutes', 'for', 'me', '.', 'Do', \"n't\", 'shut', 'down', 'the', 'garage', 'door', 'in', '43', 'minutes', 'for', 'me', '.', 'Do', \"n't\", 'shut', 'down', 'the', 'garage', 'door', 'in', '112', 'minutes', 'for', 'me', '.', 'Do', \"n't\", 'shut', 'down', 'the', 'garage', 'door', 'in', 'eighteen', 'minutes', 'for', 'me', '.', 'Do', \"n't\", 'shut', 'down', 'the', 'garage', 'door', 'in', 'sixteen', 'minutes', 'for', 'me', '.', 'Can', 'you', 'please', 'stop', 'doing', 'something', 'to', 'the', 'garage', 'door', '?', 'Can', 'you', 'please', 'stop', 'letting', 'the', 'garage', 'door', 'down', '?', 'Shut', 'the', 'garage', 'door', 'when', 'I', 'get', 'home', '.', 'Power', 'down', 'the', 'garage', 'door', '.', 'Power', 'down', 'the', 'garage', 'door', 'in', 'a', 'minute', '.', 'Power', 'down', 'the', 'garage', 'door', 'in', 'an', 'hour', '.', 'Power', 'down', 'the', 'garage', 'door', 'in', 'six', 'days', '.', 'Can', 'you', 'turn', 'on', 'the', 'coffee', 'machine', 'when', 'I', 'wake', 'up', '?', 'Do', \"n't\", 'do', 'anything', 'when', 'I', 'wake', 'up', '.', 'Turn', 'on', 'the', 'coffee', 'machine', 'for', 'me', '.', 'Can', 'you', 'turn', 'off', 'the', 'coffee', 'machine', 'in', 'a', 'minute', '?', 'How', 'long', 'before', 'the', 'coffee', 'machine', 'will', 'be', 'done', '?', 'How', 'long', 'before', 'my', 'coffee', 'is', 'ready', '?', 'Cut', 'off', 'electricity', 'to', 'my', 'coffee', 'machine', '.', 'Give', 'power', 'to', 'my', 'cofeemachine', '.', 'Let', 'the', 'coffee', 'flow', '!', 'Could', 'you', 'get', 'me', 'some', 'coffee', '?', 'Could', 'you', 'give', 'me', 'some', 'coffee', 'in', 'an', 'hour', '?', 'How', 'long', 'has', 'the', 'coffee', 'machine', 'been', 'running', '?', 'Turn', 'on', 'the', 'coffeemachine', 'when', 'I', 'get', 'home', '.', 'Power', 'up', 'the', 'coffee', 'machine', 'in', 'the', 'living', 'room', 'for', 'me', '.', 'Turn', 'down', 'the', 'coffee', 'machine', 'in', 'the', 'bathroom', '.', 'Give', 'me', 'coffee', '.', 'Do', \"n't\", 'give', 'me', 'any', 'coffee', '.', 'Do', \"n't\", 'turn', 'on', 'the', 'coffee', 'machine', '.', 'Do', \"n't\", 'do', 'anything', 'to', 'the', 'coffee', 'machine', '.', 'Cut', 'off', 'the', 'electricity', 'of', 'the', 'coffee', 'machine', '.', 'Power', 'down', 'the', 'coffeemachine', '.', 'Power', 'down', 'the', 'coffeemachine', 'in', 'an', 'hour', '.', 'Power', 'down', 'the', 'coffeemachine', 'in', 'the', 'bathroom', 'in', 'an', 'hour', '.', 'Power', 'down', 'the', 'coffeemachine', 'in', 'the', 'attic', 'in', 'six', 'days', '.', 'Turn', 'on', 'the', 'coffeemachine', 'when', 'it', 'is', 'six', 'AM', '.', 'Turn', 'off', 'the', 'coffeemachine', 'when', 'the', 'coffee', 'is', 'done', '.', 'What', 'time', 'is', 'it', '?', 'What', 'does', 'the', 'clock', 'say', '?', 'I', 'do', \"n't\", 'want', 'to', 'know', 'what', 'time', 'it', 'is', '.', 'Do', 'you', 'know', 'what', 'time', 'it', 'is', '?', 'Do', 'you', 'want', 'tot', 'tell', 'me', 'the', 'time', '?', 'Do', \"n't\", 'tell', 'me', 'the', 'time', '.', 'Tell', 'me', 'the', 'time', 'in', '4', 'minutes', '.', 'Time', '.', 'I', 'do', \"n't\", 'want', 'you', 'to', 'tell', 'me', 'the', 'time', '.', 'Tell', 'me', 'the', 'time', 'in', 'an', 'hour', '.', 'Tell', 'me', 'the', 'time', 'in', 'a', 'day', '.', 'What', 'does', 'te', 'clock', 'say', '?']\n"
          ]
        }
      ]
    },
    {
      "cell_type": "code",
      "source": [
        "# Distinct word voccabulary to know\n",
        "vocabulary = list(set(merge_sent))\n",
        "print(vocabulary)"
      ],
      "metadata": {
        "id": "bkMBADswDfix",
        "colab": {
          "base_uri": "https://localhost:8080/"
        },
        "outputId": "8a161381-79fe-45da-993e-242d0debdca4"
      },
      "execution_count": 12,
      "outputs": [
        {
          "output_type": "stream",
          "name": "stdout",
          "text": [
            "['I', 'sad', 'skies', 'more', 'Sun', 'the', 'be', 'Who', 'give', 'Facebook', 'tall', '112', 'and', 'getting', 'motion', 'weed', 'Turn', 'Give', 'sun', 'trench', 'garage', 'bieber', 'you', 'toaster', 'let', 'make', 'departure', 'days', 'Do', 'Make', 'Myplace', 'lower', 'lately', 'far', 'Raise', 'appliance', 'eighteen', 'meaning', 'Antwerp', 'location', 'Flicker', 'random', 'there', 'Home', 'want', 'has', 'earth', '50', 'Bathroom', 'all', 'done', 'falls', 'viewing', 'Open', 'turn', 'coming', 'here', 'shown', 'Can', '!', 'kitchen', 'past', 'music', 'question', 'drug', 'freezing', 'Maps', 'play', 'alive', 'movement', 'great', 'control', '45', 'less', 'Has', 'Antwerpen', 'movies', 'Update', 'Tell', 'station', 'up', 'travel', 'too', '?', 'did', 'not', 'locationtracker', 'six', 'power', '10', 'minute', 'bathroom', 'Leuven', 'refrigerator', 'ride', 'machine', 'dark', 'we', 'off', 'hit', 'pixels', 'bus', 'hail', 'fahrenheit', 'hours', 'blinding', 'living', 'live', 'does', 'down', 'Power', 'ca', 'so', 'shutters', 'Close', 'It', 'facing', 'oven', '2', 'democrat', 'flow', 'next', 'animals', 'time', 'app', 'made', '8', 'some', 'attic', 'am', 'strange', 'cloudy', 'two', 'amount', 'Library', 'doing', 'Rain', 'person', 'directions', 'dinin', 'Would', 'clouds', 'What', 'cold', 'activity', 'going', 'warm', 'device', 'depart', 'or', 'heating', 'republican', 'appear', 'Belgium', 'above', 'one', 'Trump', 'out', 'Malidives', 'letting', 'was', 'capital', 'continent', 'alone', 'with', 'Where', 'for', 'deepest', 'Adam', 'weeks', 'an', 'go', 'things', \"'d\", 'drowning', 'leuven', 'bike', 'shining', 'electricity', 'open', 'library', 'centigrade', \"'re\", 'cats', 'storming', 'now', '85', 'to', 'wake', 'Attic', 'own', 'shut', '3', 'higher', 'sensors', 'sixteen', 'many', 'place', 'any', 'Cut', 'Balen', 'Dinosaurs', 'Nothing', 'light', 'sure', 'Could', 'Are', 'Lighten', 'readings', 'clock', 'right', 'humidity', 'Donald', 'gets', 'temperature', 'nearest', 'other', 'something', 'responds', 'malfunctions', 'tot', 'Did', 'Get', 'currently', 'malidives', 'month', '6', 'Cellar', \"'s\", 'before', 'You', 'what', 'already', 'running', 'life', 'move', 'When', 'coffee', 'room', 'outside', 'Was', '1', 'wet', 'A', 'The', 'think', 'when', 'which', 'is', 'ready', 'Will', 'freeze', '20', 'coffeemachine', 'degrees', 'foggy', 'Shut', 'Spain', 'car', 'players', 'on', 'written', '43', 'first', 'bored', \"n't\", 'Why', 'weather', 'like', 'league', '5', 'from', 'say', 'leave', 'justin', 'been', 'Hasselt', 'Find', 'should', 'species', 'bright', 'In', 'How', 'Google', 'public', 'direction', 'brighter', 'Sandler', 'can', 'closest', 'Lower', '.', 'Living', 'september', 'Tomorrow', 'Put', 'reading', 'viewer', 'few', 'your', 'rain', 'relay', 'Mallorca', 'If', 'use', 'Basement', 'show', 'tomorrow', 'premier', 'mean', 'long', 'get', 'diningroom', 'little', 'tell', 'installed', 'ten', 'cofeemachine', 'yesterday', 'recording', 'i', 'toilet', 'climbs', '7', '4', 'AM', 'Bieber', 'door', 'it', 'about', 'cellar', 'language', 'human', 'sick', 'if', 'Greece', 'anymore', 'day', 'strangers', 'how', 'Toilet', 'have', 'a', 'special', 'Illuminate', 'information', 'dogs', 'house', 'that', 'rooms', 'later', 'without', 'shooting', 'delays', 'lights', 'know', 'Which', 'stupid', 'hot', 'system', 'Dining', 'feelings', 'Light', 'see', 'exist', 'feel', 'Show', 'between', 'hard', 'favor', 'please', 'would', 'ok', 'my', 'mad', 'way', 'fog', 'toast', 'busses', 'this', 'possible', 'hailing', 'Let', 'Help', 'Justin', 'potatoes', 'colder', 'considered', 'animal', 'put', 'over', 'october', 'info', 'Were', 'Ok', 'outdoor', 'operation', 'trains', 'gradually', 'Is', 'internet', 'home', 'today', 'fourteen', 'camera', 'shine', 'in', 'stop', 'transport', 'at', 'rises', 'train', 'Random', 'Crete', 'backyard', 'averaged', 'lot', 'window', 'are', 'universe', 'tonight', 'below', 'freezes', 'certain', 'hour', 'dining', 'me', '21', 'unusual', 'islands', 'Am', 'illuminate', 'water', 'te', 'Brussels', 'religions', 'north', 'mouth', 'sensor', '15', 'oceans', 'Should', 'celsius', 'basement', 'will', '11', 'Time', 'anything', 'Enlighten', 'humans', 'of', 'cameras', 'week', 'Keep', '0', 'happy', 'tallest', 'do', 'mountain', 'minutes']\n"
          ]
        }
      ]
    },
    {
      "cell_type": "code",
      "source": [
        "# Levenshtein distance\n",
        "\n",
        "def editdist(p, q, elimination = 1, insertion = 1, defrep = 1, repcost = dict()):\n",
        "    d = dict()\n",
        "    np = len(p) + 1 # length of first string plus one \n",
        "    nq = len(q) + 1 # length of second string plus one\n",
        "    for i in range(np): # initialize each row\n",
        "        d[(i, 0)] = i * insertion\n",
        "    for j in range(nq): # initialize each column\n",
        "        d[(0, j)] = j * elimination\n",
        "    for i in range(1, np):\n",
        "        for j in range(1, nq):\n",
        "            lp = p[i - 1] # corresponding letter of the first string\n",
        "            lq = q[j - 1] # corresponding letter of the second string\n",
        "            eli = d[(i - 1, j)] + elimination\n",
        "            ins = d[(i, j - 1)] + insertion\n",
        "            ree = d[(i - 1, j - 1)] # no cost of replacement unless they differ\n",
        "            if lp != lq:\n",
        "              # include cost of that pair or default cost if undefined\n",
        "              ree += repcost.get((lp, lq), defrep) \n",
        "            d[(i, j)] = min(eli, ins, ree) # dynamic programming step: the cheapest option wins\n",
        "    return d[(np -1, nq - 1)] # final cost\n",
        " \n",
        "print(editdist(\"orthography\", \"ortografy\"))"
      ],
      "metadata": {
        "id": "mOS3f49kEjF6",
        "colab": {
          "base_uri": "https://localhost:8080/"
        },
        "outputId": "838c1725-a958-478b-8f82-100fe1f85acc"
      },
      "execution_count": 13,
      "outputs": [
        {
          "output_type": "stream",
          "name": "stdout",
          "text": [
            "3\n"
          ]
        }
      ]
    },
    {
      "cell_type": "code",
      "source": [
        "def auto_correction(sentence):\n",
        "\n",
        "  # Tokenize the sentence to auto_correction by word\n",
        "  wt = word_tokenize(sentence)\n",
        "\n",
        "  # For each word in the sentence\n",
        "  for i, word in enumerate(wt):\n",
        "\n",
        "        # If the word is not in the know word of the text and not digit\n",
        "        if (word not in vocabulary and not word.isdigit()): # ignore digits\n",
        "\n",
        "            # Create a list\n",
        "            levdistances = []\n",
        "\n",
        "            # Calcul the Levenshtein distance for each word to know\n",
        "            for j in vocabulary:\n",
        "\n",
        "              # Put the distance in the list\n",
        "              levdistances.append(editdist(word,j))\n",
        "\n",
        "              # Take the word with the minimum distance\n",
        "              wt[i] = vocabulary[levdistances.index(min(levdistances))]\n",
        "\n",
        "        else:\n",
        "          # If the word is a know word in the voccabulary (no auto-correction)\n",
        "          wt[i] = word\n",
        "\n",
        "  return ' '.join(wt)"
      ],
      "metadata": {
        "id": "hl25-zXNAewA"
      },
      "execution_count": 14,
      "outputs": []
    },
    {
      "cell_type": "code",
      "source": [
        "# Word Illumminate & kitchean & todday corrected\n",
        "print(auto_correction(\"Illumminate the kitchean todday.\"))"
      ],
      "metadata": {
        "id": "bdfhZCm5AqGB",
        "colab": {
          "base_uri": "https://localhost:8080/"
        },
        "outputId": "72f7e69a-72b4-4828-881f-b3ed5450c2c7"
      },
      "execution_count": 15,
      "outputs": [
        {
          "output_type": "stream",
          "name": "stdout",
          "text": [
            "Illuminate the kitchen today .\n"
          ]
        }
      ]
    },
    {
      "cell_type": "code",
      "source": [
        "# Word Turne & lihght & inn corrected\n",
        "print(auto_correction(\"Turne on the lihght in the kitchen inn 1 day.\"))"
      ],
      "metadata": {
        "id": "5R43NR5lGJDq",
        "colab": {
          "base_uri": "https://localhost:8080/"
        },
        "outputId": "a40c412a-e6ae-4dbd-fab4-ea740f6c3c15"
      },
      "execution_count": 16,
      "outputs": [
        {
          "output_type": "stream",
          "name": "stdout",
          "text": [
            "Turn on the light in the kitchen in 1 day .\n"
          ]
        }
      ]
    },
    {
      "cell_type": "markdown",
      "source": [
        "J’ai utilisé la base de données smart-home-commands de kaggle. J’ai créé un dictionnaire de vocabulaire afin de valider les mots qui sont à corriger. Si un mot de ma phrase ne se trouve pas dans le dictionnaire, j’ai effectué le calcul de la distance Levenshtein pour voir quel mot aurait la distance minimale pour faire la correction.\n",
        "\n",
        "https://fileadmin.cs.lth.se/cs/education/EDA171/Reports/2009/david.pdf\n",
        "Utiliser un modèle de correction d’orthographe en priorisant les suggestions de mots selon le contexte de la phrase. (n-gram).\n"
      ],
      "metadata": {
        "id": "BJ6DQhtwg0fV"
      }
    },
    {
      "cell_type": "markdown",
      "source": [
        "**Using either some n-gram based or another type of approach (remember to cite any sources you consult) and a text repository of your choice, implement a simple auto-complete that suggests possible options for what the next word could be, given a start of a sentence as input.\n",
        "Please include code snippets and examples, as usual.\n",
        "Discuss how the value for n affects the quality you observe (subjective or measured). Would\n",
        "you actually need a range of values for n instead of a single value for this to work well?**"
      ],
      "metadata": {
        "id": "noNMLcICNNNx"
      }
    },
    {
      "cell_type": "markdown",
      "source": [
        "https://www.nltk.org/howto/collocations.html"
      ],
      "metadata": {
        "id": "WMNnIFNGNk6u"
      }
    },
    {
      "cell_type": "code",
      "source": [
        "print(merge_sent)"
      ],
      "metadata": {
        "id": "aqHqlWSZ-Ljd",
        "colab": {
          "base_uri": "https://localhost:8080/"
        },
        "outputId": "bf861bd2-21f2-4364-f298-ac29db4a8385"
      },
      "execution_count": 17,
      "outputs": [
        {
          "output_type": "stream",
          "name": "stdout",
          "text": [
            "['Illuminate', 'the', 'kitchen', 'today', '.', 'Illuminate', 'the', 'kitchen', 'tomorrow', '.', 'Turn', 'on', 'the', 'light', 'in', 'the', 'kitchen', 'in', '10', 'hours', '.', 'Turn', 'on', 'the', 'light', 'in', 'the', 'kitchen', 'in', '1', 'day', '.', 'Illuminate', 'the', 'dining', 'room', 'today', '.', 'Do', \"n't\", 'illuminate', 'the', 'dining', 'room', 'today', '.', 'Illuminate', 'the', 'dining', 'room', 'tomorrow', '.', 'Turn', 'on', 'the', 'light', 'in', 'the', 'dinin', 'room', 'in', '10', 'hours', '.', 'Turn', 'on', 'the', 'light', 'in', 'the', 'dining', 'room', 'in', '1', 'day', '.', 'Turn', 'on', 'the', 'light', 'in', 'the', 'bathroom', '.', 'Do', \"n't\", 'turn', 'on', 'the', 'light', 'right', 'now', '.', 'I', 'would', 'get', 'mad', 'if', 'you', \"'d\", 'put', 'on', 'the', 'light', 'right', 'now', '.', 'I', 'would', 'not', 'like', 'it', 'if', 'you', 'would', \"n't\", 'turn', 'on', 'the', 'light', 'right', 'now', '.', 'Is', 'the', 'light', 'on', 'in', 'the', 'living', 'room', '.', 'Would', 'you', 'illuminate', 'the', 'living', 'room', 'in', 'one', 'hour', 'for', 'me', 'please', '.', 'It', 'would', 'be', 'great', 'if', 'you', \"'d\", 'turn', 'on', 'the', 'light', 'for', 'me', '.', 'Light', 'on', 'in', 'kitchen', '.', 'Light', 'off', 'in', 'living', 'room', 'in', 'a', 'few', 'hours', '.', 'Turn', 'the', 'light', 'off', 'in', 'the', 'basement', '.', 'Turn', 'the', 'light', 'off', 'in', 'the', 'dining', 'room', '.', 'I', 'would', 'like', 'if', 'you', 'made', 'it', 'brighter', '.', 'I', 'would', 'like', 'if', 'you', 'made', 'it', 'brighter', 'in', '3', 'minutes', '.', 'Can', 'you', 'make', 'it', 'brighter', 'here', 'in', '8', 'minutes', '?', 'Can', 'you', 'make', 'it', 'more', 'dark', 'here', '?', 'Do', \"n't\", 'make', 'it', 'more', 'dark', 'here', '.', 'I', 'would', 'get', 'mad', 'if', 'you', 'would', 'turn', 'on', 'the', 'light', 'in', 'the', 'dining', 'room', 'right', 'now', '.', 'Is', 'the', 'light', 'on', 'in', 'the', 'bathroom', '?', 'Is', 'the', 'light', 'on', 'in', 'the', 'bathroom', '.', 'Has', 'the', 'light', 'been', 'on', 'long', 'in', 'the', 'bathroom', '?', 'Has', 'the', 'light', 'been', 'off', 'long', 'in', 'the', 'kitchen', '?', 'Is', 'the', 'light', 'in', 'the', 'bathroom', 'on', '?', 'Did', 'you', 'turn', 'on', 'the', 'light', 'already', '?', 'Can', 'you', 'please', 'turn', 'on', 'the', 'light', '?', 'Help', 'me', 'to', 'turn', 'on', 'the', 'light', '.', 'Can', 'you', 'please', 'turn', 'on', 'the', 'light', 'in', 'a', 'minute', '?', 'Help', 'me', 'to', 'turn', 'on', 'the', 'light', 'in', 'a', 'minute', '.', 'It', 'is', 'so', 'dark', 'here', '.', 'I', 'ca', \"n't\", 'see', 'anything', '.', 'Lighten', 'the', 'room', '.', 'Can', 'you', 'please', 'turn', 'on', 'the', 'light', 'in', 'a', 'few', 'minutes', '?', 'Help', 'me', 'to', 'turn', 'on', 'the', 'light', 'in', 'a', 'few', 'minutes', '.', 'Lighten', 'the', 'room', 'in', 'a', 'few', 'minutes', '.', 'Lighten', 'the', 'room', 'in', '5', 'minutes', '.', 'Turn', 'the', 'light', 'off', 'in', 'the', 'kitchen', 'in', '10', 'minutes', '.', 'Do', \"n't\", 'turn', 'the', 'light', 'off', 'in', 'the', 'kitchen', 'in', '10', 'minutes', '.', 'Make', 'it', 'less', 'dark', 'in', 'the', 'attic', 'now', '.', 'Turn', 'on', 'the', 'light', 'in', 'the', 'attic', '.', 'Illuminate', 'the', 'attic', '.', 'Turn', 'off', 'the', 'lights', 'in', 'one', 'hour', '.', 'Turn', 'on', 'the', 'light', '.', 'Flicker', 'the', 'lights', 'for', 'me', '.', 'Turn', 'on', 'the', 'refrigerator', '.', 'Turn', 'on', 'the', 'oven', '.', 'Turn', 'on', 'the', 'music', 'system', '.', 'Turn', 'off', 'the', 'light', 'in', 'the', 'attic', '.', 'Turn', 'off', 'the', 'light', 'in', 'the', 'basement', '.', 'Turn', 'off', 'the', 'light', 'in', 'the', 'kitchen', '.', 'Turn', 'off', 'the', 'light', 'in', 'the', 'library', '.', 'Turn', 'off', 'the', 'light', 'in', 'the', 'kitchen', '.', 'Turn', 'off', 'the', 'light', 'in', 'the', 'dining', 'room', '.', 'Turn', 'off', 'the', 'light', 'in', 'the', 'cellar', '.', 'Turn', 'off', 'the', 'lights', 'in', 'the', 'attic', '.', 'Turn', 'off', 'the', 'lights', 'in', 'the', 'basement', '.', 'Turn', 'off', 'the', 'lights', 'in', 'the', 'kitchen', '.', 'Turn', 'off', 'the', 'lights', 'in', 'the', 'library', '.', 'Turn', 'off', 'the', 'lights', 'in', 'the', 'kitchen', '.', 'Turn', 'off', 'the', 'lights', 'in', 'the', 'dining', 'room', '.', 'Turn', 'off', 'the', 'lights', 'in', 'the', 'cellar', '.', 'Turn', 'off', 'something', 'in', '45', 'minutes', '.', 'Turn', 'on', 'something', '.', 'Put', 'on', 'a', 'random', 'appliance', 'in', '7', 'days', '.', 'lights', '.', 'Can', 'you', 'make', 'it', 'less', 'dark', 'in', 'the', 'bathroom', 'tomorrow', '?', 'Can', 'you', 'make', 'it', 'less', 'dark', 'in', 'the', 'toilet', 'tomorrow', '?', 'Turn', 'on', 'the', 'light', 'in', 'the', 'attic', 'in', 'one', 'hour', '.', 'Can', 'you', 'turn', 'off', 'the', 'lights', 'in', 'the', 'cellar', '?', 'I', 'would', 'get', 'mad', 'if', 'you', 'turn', 'on', 'the', 'lights', 'right', 'now', '.', 'It', 'is', 'dark', 'in', 'the', 'cellar', '.', 'It', 'is', 'dark', 'in', 'the', 'bathroom', '.', 'It', 'is', 'dark', 'in', 'the', 'living', 'room', '.', 'It', 'is', 'dark', 'in', 'the', 'library', '.', 'It', 'is', 'dark', 'in', 'the', 'toilet', '.', 'It', 'is', 'dark', 'in', 'the', 'attic', '.', 'It', 'is', 'dark', 'in', 'the', 'basement', '.', 'Can', 'you', 'make', 'it', 'less', 'dark', 'in', 'the', 'dining', 'room', 'in', '5', 'minutes', '?', 'Can', 'you', 'make', 'it', 'less', 'dark', 'in', 'the', 'cellar', 'in', '85', 'minutes', '?', 'Can', 'you', 'make', 'it', 'less', 'dark', 'in', 'the', 'attic', 'in', '5', 'minutes', '?', 'Can', 'you', 'make', 'it', 'less', 'dark', 'in', 'the', 'kitchen', 'in', '45', 'minutes', '?', 'Can', 'you', 'make', 'it', 'less', 'dark', 'in', 'the', 'toilet', 'in', '15', 'minutes', '?', 'Can', 'you', 'make', 'it', 'less', 'dark', 'in', 'the', 'library', 'in', '50', 'minutes', '?', 'Can', 'you', 'make', 'it', 'less', 'dark', 'in', 'the', 'basement', 'in', '5', 'minutes', '?', 'Can', 'you', 'make', 'it', 'more', 'bright', 'in', 'the', 'dining', 'room', 'in', '15', 'hours', '?', 'Can', 'you', 'make', 'it', 'more', 'bright', 'in', 'the', 'cellar', 'in', '50', 'hours', '?', 'Can', 'you', 'make', 'it', 'more', 'bright', 'in', 'the', 'attic', 'in', 'an', 'hour', '?', 'Can', 'you', 'make', 'it', 'more', 'bright', 'in', 'the', 'kitchen', 'in', '5', 'days', '?', 'Can', 'you', 'make', 'it', 'more', 'bright', 'in', 'the', 'toilet', 'in', '5', 'weeks', '?', 'Can', 'you', 'make', 'it', 'more', 'bright', 'in', 'the', 'library', 'in', '2', 'minutes', '?', 'Can', 'you', 'make', 'it', 'more', 'bright', 'in', 'the', 'basement', 'in', '5', 'minutes', '?', 'Can', 'you', 'make', 'it', 'less', 'bright', 'in', 'the', 'dining', 'room', 'in', '15', 'hours', '?', 'Can', 'you', 'make', 'it', 'less', 'bright', 'in', 'the', 'cellar', 'in', '50', 'hours', '?', 'Can', 'you', 'make', 'it', 'less', 'bright', 'in', 'the', 'attic', 'in', 'an', 'hour', '?', 'Can', 'you', 'make', 'it', 'less', 'bright', 'in', 'the', 'kitchen', 'in', '5', 'days', '?', 'Can', 'you', 'make', 'it', 'less', 'bright', 'in', 'the', 'toilet', 'in', '5', 'weeks', '?', 'Can', 'you', 'make', 'it', 'less', 'bright', 'in', 'the', 'library', 'in', '2', 'minutes', '?', 'Can', 'you', 'make', 'it', 'less', 'bright', 'in', 'the', 'basement', 'in', '5', 'minutes', '?', 'Do', \"n't\", 'turn', 'off', 'the', 'lights', '.', 'Turn', 'on', 'the', 'lights', 'when', 'I', 'get', 'home', '.', 'Turn', 'on', 'the', 'lights', 'when', 'it', \"'s\", 'dark', 'outside', '.', 'Turn', 'off', 'the', 'lights', 'when', 'it', 'is', 'light', 'outside', '.', 'Was', 'there', 'any', 'motion', 'between', 'september', 'and', 'october', '?', 'Was', 'the', 'camera', 'in', 'the', 'bathroom', 'on', 'yesterday', '?', 'Was', 'the', 'camera', 'in', 'the', 'toilet', 'on', 'yesterday', '?', 'Was', 'there', 'motion', '?', 'Is', 'the', 'recording', 'device', 'on', '?', 'Was', 'there', 'motion', 'with', 'the', 'motion', 'viewer', '?', 'Would', 'you', 'tell', 'me', 'if', 'there', 'was', 'any', 'motion', 'on', 'the', 'camera', 'outside', '?', 'Was', 'there', 'any', 'motion', 'on', 'the', 'camera', 'outside', '?', 'Was', 'there', 'movement', 'on', 'the', 'camera', 'in', 'the', 'kitchen', 'yesterday', '?', 'Was', 'there', 'movement', 'on', 'the', 'camera', 'in', 'the', 'attic', 'yesterday', '?', 'Was', 'there', 'movement', 'on', 'the', 'camera', 'in', 'the', 'bathroom', 'yesterday', '?', 'Was', 'there', 'movement', 'on', 'the', 'camera', 'in', 'the', 'backyard', 'yesterday', '?', 'Was', 'there', 'movement', 'on', 'the', 'camera', 'in', 'the', 'living', 'room', 'yesterday', '?', 'I', 'would', 'like', 'it', 'that', 'you', \"'d\", 'tell', 'me', 'if', 'the', 'camera', 'in', 'the', 'living', 'room', 'is', 'on', '.', 'Where', 'there', 'strangers', 'tonight', 'at', 'my', 'house', '?', 'Did', 'you', 'see', 'any', 'movement', 'tonight', '?', 'Was', 'there', 'something', 'strange', 'outside', '?', 'Is', 'there', 'something', 'I', 'should', 'know', 'about', 'the', 'motion', '?', 'What', 'do', 'you', 'see', 'on', 'the', 'camera', '?', 'How', 'many', 'cameras', 'are', 'there', '?', 'Where', 'are', 'all', 'the', 'cameras', 'installed', '?', 'Is', 'there', 'many', 'motion', 'on', 'the', 'cameras', 'lately', '?', 'What', 'is', 'the', 'camera', 'currently', 'shooting', '?', 'Did', 'humans', 'appear', 'on', 'the', 'camera', 'today', '?', 'Would', 'you', 'tell', 'me', 'if', 'there', 'was', 'motion', 'between', 'september', 'and', 'october', '?', 'Is', 'the', 'camera', 'on', '?', 'Turn', 'on', 'the', 'camera', '.', 'A', 'camera', 'does', 'recording', 'and', 'viewing', '.', 'Could', 'you', 'give', 'me', 'some', 'info', 'on', 'the', 'camera', 'in', 'the', 'backyard', '?', 'Was', 'there', 'any', 'movement', 'on', 'the', 'cameras', 'today', '?', 'Was', 'there', 'a', 'person', 'outside', 'today', '?', 'Was', 'there', 'any', 'movement', 'on', 'the', 'cameras', 'yesterday', '?', 'Was', 'there', 'a', 'person', 'outside', 'yesterday', '?', 'camera', '.', 'Was', 'there', 'any', 'motion', 'in', 'the', 'past', 'hour', 'on', 'the', 'camera', 'outside', '?', 'Was', 'there', 'any', 'motion', 'in', 'the', 'backyard', 'yesterday', '?', 'Was', 'there', 'unusual', 'activity', 'on', 'the', 'camera', 'in', 'the', 'backyard', 'today', '?', 'Do', \"n't\", 'open', 'up', 'an', 'app', '.', 'I', 'would', 'not', 'like', 'it', 'if', 'you', 'would', 'open', 'an', 'app', 'right', 'now', '.', 'Would', 'you', 'open', 'the', 'Home', 'app', 'for', 'me', 'please', '?', 'Open', 'the', 'relay', 'app', 'for', 'me', 'now', '.', 'Open', 'camera', 'app', '.', 'Open', 'relay', 'app', '.', 'Would', 'you', 'open', 'the', 'Home', 'app', 'in', 'one', 'day', 'for', 'me', 'please', '?', 'Open', 'the', 'relay', 'app', 'for', 'me', 'in', 'a', 'few', 'days', '.', 'Open', 'camera', 'app', 'yesterday', '.', 'Open', 'relay', 'app', 'tomorrow', '.', 'I', 'would', 'like', 'it', 'if', 'you', \"'d\", 'open', 'the', 'camera', 'app', '.', 'Is', 'it', 'possible', 'to', 'open', 'up', 'the', 'camera', 'app', '?', 'Can', 'you', 'show', 'me', 'the', 'motion', 'on', 'the', 'camera', '?', 'Can', 'you', 'show', 'me', 'the', 'motion', 'on', 'the', 'camera', 'in', '5', 'minutes', '?', 'Is', 'it', 'possible', 'to', 'open', 'up', 'the', 'relay', 'app', '?', 'Is', 'it', 'possible', 'to', 'open', 'up', 'the', 'relay', 'app', 'in', 'a', 'certain', 'amount', 'of', 'minutes', '?', 'Can', 'you', 'do', 'me', 'a', 'favor', 'and', 'open', 'up', 'the', 'locationtracker', 'app', '?', 'Open', 'up', 'a', 'random', 'app', 'for', 'me', '.', 'Open', 'up', 'a', 'random', 'app', 'for', 'me', 'in', 'two', 'hours', '.', 'Open', 'the', 'Facebook', 'app', 'for', 'me', '.', 'Open', 'any', 'app', 'you', 'want', 'in', '8', 'minutes', '.', 'The', 'relay', 'app', 'has', 'to', 'be', 'shown', 'to', 'me', 'in', '5', 'minutes', '.', 'Do', \"n't\", 'open', 'up', 'an', 'app', '.', 'Open', 'any', 'app', 'you', 'want', 'now', '.', 'Open', 'something', 'in', '5', 'minutes', '.', 'Open', 'up', 'the', 'app', 'which', 'will', 'show', 'me', 'relay', 'information', '.', 'Open', 'up', 'Google', 'Maps', 'in', 'one', 'hour', '.', 'Open', 'up', 'Google', 'Maps', '.', 'Show', 'me', 'motion', '.', 'open', '.', 'Can', 'you', 'open', 'up', 'the', 'Maps', 'app', 'in', '5', 'minutes', 'for', 'me', 'please', '?', 'Can', 'you', 'give', 'me', 'directions', 'to', 'my', 'home', '?', 'How', 'far', 'am', 'I', 'from', 'home', '?', 'Can', 'I', 'get', 'home', 'from', 'here', '?', 'Can', 'you', 'tell', 'me', 'the', 'way', 'to', 'that', 'place', '?', 'Get', 'me', 'home', '.', 'How', 'far', 'am', 'I', 'from', 'home', 'in', 'an', 'hour', '?', 'Can', 'I', 'get', 'home', 'from', 'here', 'in', '2', 'hours', '?', 'Can', 'you', 'tell', 'me', 'the', 'way', 'to', 'that', 'place', 'in', 'an', 'hour', '?', 'Get', 'me', 'home', 'tomorrow', '.', 'Where', 'am', 'I', '?', 'How', 'long', 'before', 'I', 'will', 'be', 'home', '?', 'Show', 'me', 'the', 'bus', 'between', 'leuven', 'and', 'home', '?', 'Where', 'is', 'the', 'nearest', 'bus', 'stop', 'in', 'Antwerpen', '?', 'Where', 'is', 'the', 'nearest', 'bus', 'stop', 'in', 'Brussels', '?', 'Where', 'is', 'the', 'nearest', 'bus', 'stop', 'in', 'Leuven', '?', 'Where', 'is', 'the', 'nearest', 'bus', 'stop', 'in', 'Hasselt', '?', 'Where', 'is', 'the', 'nearest', 'bus', 'stop', '?', 'How', 'do', 'I', 'get', 'home', 'with', 'the', 'bus', '?', 'How', 'do', 'I', 'get', 'home', 'with', 'the', 'bus', 'in', 'an', 'hour', '?', 'Where', 'is', 'my', 'home', '?', 'When', 'do', 'the', 'trains', 'departure', 'in', 'Leuven', '?', 'When', 'do', 'the', 'trains', 'departure', '?', 'When', 'do', 'the', 'trains', 'departure', 'in', 'an', 'hour', '?', 'Show', 'me', 'the', 'trains', 'that', 'departure', 'now', 'in', 'Hasselt', '.', 'Show', 'me', 'the', 'trains', 'that', 'departure', 'in', 'Hasselt', 'in', 'ten', 'minutes', '.', 'When', 'do', 'the', 'busses', 'departure', 'in', 'Leuven', '?', 'When', 'do', 'the', 'busses', 'departure', '?', 'When', 'do', 'the', 'busses', 'departure', 'in', 'an', 'hour', '?', 'Show', 'me', 'the', 'busses', 'that', 'departure', 'now', 'in', 'Hasselt', '.', 'Show', 'me', 'the', 'busses', 'that', 'departure', 'in', 'Hasselt', 'in', 'ten', 'minutes', '.', 'Are', 'there', 'any', 'delays', 'with', 'busses', 'at', 'my', 'location', '?', 'Do', 'I', 'have', 'to', 'travel', 'far', 'when', 'I', 'want', 'to', 'go', 'home', '?', 'Do', 'I', 'have', 'to', 'travel', 'far', 'when', 'I', 'want', 'to', 'go', 'home', 'in', 'a', 'few', 'minutes', '?', 'Should', 'I', 'use', 'the', 'public', 'transport', 'now', '?', 'When', 'will', 'I', 'be', 'home', 'when', 'I', 'leave', 'now', 'with', 'my', 'car', 'in', '5', 'minutes', '?', 'Can', 'you', 'show', 'me', 'how', 'I', 'will', 'be', 'getting', 'home', 'with', 'my', 'car', '?', 'How', 'far', 'is', 'it', 'to', 'Antwerpen', '?', 'Find', 'the', 'closest', 'train', 'station', '.', 'Find', 'the', 'nearest', 'bus', 'stop', '.', 'Find', 'the', 'nearest', 'bus', 'stop', 'in', '3', 'minutes', '.', 'Where', 'do', 'I', 'live', '?', 'Where', 'is', 'the', 'nearest', 'train', 'station', '?', 'Where', 'is', 'the', 'closest', 'train', 'station', '?', 'Where', 'is', 'the', 'nearest', 'train', 'station', 'in', 'Antwerpen', '?', 'Where', 'is', 'the', 'nearest', 'train', 'station', 'in', 'Brussels', '?', 'Where', 'is', 'the', 'nearest', 'train', 'station', 'in', 'Leuven', '?', 'Where', 'is', 'the', 'nearest', 'train', 'station', 'in', 'Hasselt', '?', 'Where', 'is', 'the', 'nearest', 'train', 'station', '?', 'How', 'do', 'I', 'get', 'home', 'with', 'the', 'train', '?', 'When', 'do', 'the', 'busses', 'depart', '?', 'When', 'do', 'the', 'busses', 'depart', 'in', 'Antwerpen', '?', 'When', 'do', 'the', 'busses', 'depart', 'in', 'Brussels', '?', 'When', 'do', 'the', 'busses', 'depart', 'in', 'Leuven', '?', 'When', 'do', 'the', 'busses', 'depart', 'in', 'Hasselt', '?', 'Where', 'is', 'the', 'nearest', 'bus', 'station', '?', 'Where', 'is', 'the', 'closest', 'bus', 'stop', '?', 'Give', 'me', 'some', 'directions', '.', 'direction', '.', 'How', 'do', 'I', 'get', 'home', 'in', 'one', 'hour', '?', 'How', 'do', 'I', 'get', 'home', 'from', 'Leuven', '?', 'When', 'do', 'the', 'trains', 'departure', '?', 'What', 'is', 'the', 'closest', 'train', 'station', 'from', 'here', '?', 'How', 'do', 'I', 'get', 'to', 'Leuven', '?', 'How', 'do', 'I', 'get', 'home', 'from', 'Leuven', 'in', 'a', 'minute', '?', 'When', 'does', 'the', 'first', 'train', 'leave', 'to', 'Balen', 'from', 'Leuven', '?', 'How', 'do', 'I', 'get', 'from', 'Leuven', 'to', 'Hasselt', '?', 'What', 'is', 'the', 'temperature', 'in', 'the', 'room', 'right', 'now', '?', 'What', 'is', 'the', 'temperature', 'in', 'the', 'room', '?', 'What', 'is', 'temperature', 'in', 'the', 'room', '?', 'Is', 'it', 'hot', 'in', 'the', 'room', '?', 'What', 'is', 'the', 'temperature', 'in', 'the', 'room', 'in', '3', 'minutes', '?', 'What', 'is', 'the', 'humidity', 'in', 'the', 'room', 'in', '3', 'minutes', '?', 'What', 'is', 'temperature', 'in', 'the', 'room', 'in', '3', 'minutes', '?', 'What', 'are', 'the', 'sensor', 'readings', 'from', 'the', 'bathroom', '?', 'Give', 'me', 'info', 'from', 'the', 'kitchen', '.', 'Give', 'me', 'info', 'from', 'the', 'bathroom', '.', 'Give', 'me', 'some', 'readings', 'of', 'the', 'dining', 'room', 'tomorrow', '.', 'Tomorrow', 'give', 'me', 'info', 'from', 'the', 'kitchen', '.', 'Tomorrow', 'give', 'me', 'info', 'from', 'the', 'bathroom', '.', 'Tomorrow', 'give', 'me', 'info', 'from', 'the', 'attic', '.', 'I', 'want', 'info', 'from', 'the', 'bathroom', 'in', '5', 'minutes', '.', 'I', 'want', 'info', 'from', 'the', 'bathroom', 'in', '8', 'minutes', '.', 'I', 'want', 'info', 'from', 'the', 'bathroom', 'in', '2', 'days', '.', 'I', 'want', 'info', 'from', 'the', 'attic', 'tomorrow', '.', 'Enlighten', 'me', 'about', 'the', 'kitchen', '.', 'Is', 'there', 'motion', 'in', 'the', 'bathroom', 'right', 'now', '?', 'Was', 'there', 'any', 'activity', 'in', 'the', 'living', 'room', '?', 'Is', 'the', 'light', 'on', 'in', 'the', 'kitchen', '?', 'What', 'is', 'the', 'humidity', 'in', 'averaged', 'over', 'a', 'week', '?', 'What', 'does', 'the', 'temperature', 'reading', 'in', 'the', 'basement', 'say', '?', 'What', 'does', 'the', 'temperature', 'reading', 'in', 'the', 'dining', 'room', 'say', '?', 'Are', 'there', 'any', 'sensors', 'in', 'the', 'attic', '?', 'Do', \"n't\", 'give', 'me', 'any', 'information', '.', 'Give', 'me', 'information', 'about', 'all', 'rooms', 'in', '10', 'minutes', '.', 'Which', 'sensors', 'are', 'currently', 'in', 'operation', '?', 'Were', 'there', 'any', 'sensor', 'malfunctions', 'lately', '?', 'Show', 'me', 'the', 'sensors', 'tomorrow', '.', 'Do', \"n't\", 'show', 'me', 'the', 'sensors', 'tomorrow', '.', 'Give', 'me', 'some', 'information', 'for', 'yesterday', '.', 'Give', 'me', 'some', 'information', 'about', 'some', 'sensors', '.', 'Show', 'me', 'some', 'sensor', 'readings', '.', 'Show', 'me', 'some', 'sensor', 'readings', 'in', 'a', 'few', 'minutes', '.', 'What', 'are', 'the', 'sensor', 'readings', 'from', 'the', 'toilet', '?', 'Give', 'me', 'info', 'from', 'the', 'toilet', '.', 'Tomorrow', 'give', 'me', 'info', 'from', 'the', 'toilet', '.', 'I', 'want', 'info', 'from', 'the', 'toilet', 'in', '5', 'minutes', '.', 'I', 'want', 'info', 'from', 'the', 'toilet', 'in', '8', 'minutes', '.', 'I', 'want', 'info', 'from', 'the', 'toilet', 'in', '2', 'days', '.', 'Is', 'there', 'motion', 'in', 'the', 'toilet', 'right', 'now', '?', 'Can', 'you', 'give', 'me', 'some', 'information', 'about', 'the', 'toilet', '?', 'information', '.', 'What', 'is', 'the', 'temperature', 'in', 'the', 'library', '?', 'What', 'is', 'the', 'humidity', 'in', 'the', 'library', '?', 'Update', 'me', 'in', 'an', 'hour', 'what', 'temperature', 'it', 'is', 'in', 'the', 'library', '.', 'Do', \"n't\", 'let', 'me', 'know', 'what', 'humidity', 'it', 'is', 'in', 'the', 'library', '.', 'What', 'is', 'the', 'temperature', 'in', 'the', 'library', '?', 'What', 'is', 'the', 'temperature', 'in', 'the', 'bathroom', '?', 'What', 'is', 'the', 'humidity', 'in', 'the', 'bathroom', '?', 'Update', 'me', 'in', 'an', 'hour', 'what', 'temperature', 'it', 'is', 'in', 'the', 'bathroom', '.', 'Do', \"n't\", 'let', 'me', 'know', 'what', 'humidity', 'it', 'is', 'in', 'the', 'bathroom', '.', 'What', 'is', 'the', 'temperature', 'in', 'the', 'bathroom', '?', 'What', 'is', 'the', 'temperature', 'in', 'the', 'dining', 'room', '?', 'What', 'is', 'the', 'humidity', 'in', 'the', 'dining', 'room', '?', 'Update', 'me', 'in', 'an', 'hour', 'what', 'temperature', 'it', 'is', 'in', 'the', 'dining', 'room', '.', 'Do', \"n't\", 'let', 'me', 'know', 'what', 'humidity', 'it', 'is', 'in', 'the', 'dining', 'room', '.', 'What', 'is', 'the', 'temperature', 'in', 'the', 'dining', 'room', '?', 'What', 'is', 'the', 'temperature', 'in', 'the', 'kitchen', '?', 'What', 'is', 'the', 'humidity', 'in', 'the', 'kitchen', '?', 'Update', 'me', 'in', 'an', 'hour', 'what', 'temperature', 'it', 'is', 'in', 'the', 'kitchen', '.', 'Do', \"n't\", 'let', 'me', 'know', 'what', 'humidity', 'it', 'is', 'in', 'the', 'kitchen', '.', 'What', 'is', 'the', 'temperature', 'in', 'the', 'kitchen', '?', 'What', 'is', 'the', 'temperature', 'in', 'the', 'toilet', '?', 'What', 'is', 'the', 'humidity', 'in', 'the', 'toilet', '?', 'Update', 'me', 'in', 'an', 'hour', 'what', 'temperature', 'it', 'is', 'in', 'the', 'toilet', '.', 'Do', \"n't\", 'let', 'me', 'know', 'what', 'humidity', 'it', 'is', 'in', 'the', 'toilet', '.', 'What', 'is', 'the', 'temperature', 'in', 'the', 'toilet', '?', 'What', 'is', 'the', 'temperature', 'in', 'the', 'attic', '?', 'What', 'is', 'the', 'humidity', 'in', 'the', 'attic', '?', 'Update', 'me', 'in', 'an', 'hour', 'what', 'temperature', 'it', 'is', 'in', 'the', 'attic', '.', 'Do', \"n't\", 'let', 'me', 'know', 'what', 'humidity', 'it', 'is', 'in', 'the', 'attic', '.', 'What', 'is', 'the', 'temperature', 'in', 'the', 'attic', '?', 'What', 'is', 'the', 'temperature', 'in', 'the', 'cellar', '?', 'What', 'is', 'the', 'humidity', 'in', 'the', 'cellar', '?', 'Update', 'me', 'in', 'an', 'hour', 'what', 'temperature', 'it', 'is', 'in', 'the', 'cellar', '.', 'Do', \"n't\", 'let', 'me', 'know', 'what', 'humidity', 'it', 'is', 'in', 'the', 'cellar', '.', 'What', 'is', 'the', 'temperature', 'in', 'the', 'cellar', '?', 'What', 'is', 'the', 'temperature', 'in', 'the', 'basement', '?', 'What', 'is', 'the', 'humidity', 'in', 'the', 'basement', '?', 'Update', 'me', 'in', 'an', 'hour', 'what', 'temperature', 'it', 'is', 'in', 'the', 'basement', '.', 'Do', \"n't\", 'let', 'me', 'know', 'what', 'humidity', 'it', 'is', 'in', 'the', 'basement', '.', 'What', 'is', 'the', 'temperature', 'in', 'the', 'basement', '?', 'Is', 'it', 'hot', 'in', 'the', 'kitchen', 'right', 'now', '?', 'Is', 'it', 'hot', 'in', 'the', 'library', '?', 'Is', 'it', 'hot', 'in', 'the', 'kitchen', '?', 'Is', 'it', 'hot', 'in', 'the', 'dining', 'room', '?', 'Is', 'it', 'hot', 'in', 'the', 'cellar', '?', 'Is', 'it', 'hot', 'in', 'the', 'attic', '?', 'Is', 'it', 'hot', 'in', 'the', 'basement', '?', 'Is', 'it', 'cold', 'in', 'the', 'kitchen', 'right', 'now', '?', 'Is', 'it', 'cold', 'in', 'the', 'library', '?', 'Is', 'it', 'cold', 'in', 'the', 'kitchen', '?', 'Is', 'it', 'cold', 'in', 'the', 'dining', 'room', '?', 'Is', 'it', 'cold', 'in', 'the', 'cellar', '?', 'Is', 'it', 'cold', 'in', 'the', 'attic', '?', 'Is', 'it', 'cold', 'in', 'the', 'basement', '?', 'Is', 'it', 'cold', 'in', 'the', 'bathroom', '?', 'Is', 'it', 'hot', 'in', 'the', 'bathroom', '?', 'Can', 'you', 'give', 'me', 'some', 'info', 'about', 'the', 'cellar', '?', 'Cellar', '.', 'Toilet', '.', 'Bathroom', '.', 'Living', 'room', '.', 'Library', '.', 'Basement', '.', 'Attic', '.', 'Dining', 'room', '.', 'Myplace', '.', 'What', 'temperature', 'is', 'it', 'in', 'the', 'attic', '?', 'Who', 'are', 'you', '?', 'What', 'is', 'the', 'tallest', 'mountain', 'on', 'earth', '?', 'In', 'what', 'movies', 'did', 'Adam', 'Sandler', 'play', '?', 'What', 'is', 'a', 'continent', '?', 'Is', 'weed', 'considered', 'a', 'hard', 'drug', '?', 'Which', 'players', 'are', 'in', 'the', 'premier', 'league', '?', 'When', 'do', 'you', 'know', 'when', 'you', 'are', 'sick', '?', 'What', 'is', 'the', 'deepest', 'trench', 'on', 'earth', '?', 'Are', 'we', 'alone', 'in', 'this', 'universe', '?', 'How', 'many', 'animal', 'species', 'are', 'there', '?', 'How', 'many', 'religions', 'are', 'there', '?', 'What', 'is', 'the', 'tallest', 'mountain', '?', 'In', 'what', 'language', 'are', 'you', 'written', '?', 'Are', 'you', 'alive', '?', 'Can', 'you', 'move', 'over', 'the', 'internet', '?', 'Are', 'you', 'mean', '?', 'What', 'do', 'you', 'think', 'about', 'Donald', 'Trump', '?', 'Are', 'you', 'republican', 'or', 'democrat', '?', 'Do', 'you', 'own', 'the', 'camera', '?', 'Can', 'you', 'see', '?', 'How', 'many', 'oceans', 'are', 'there', 'on', 'earth', '?', 'I', 'do', \"n't\", 'like', 'justin', 'bieber', '.', 'Dinosaurs', 'do', \"n't\", 'exist', 'anymore', '.', 'Who', 'is', 'Justin', 'Bieber', '.', 'Do', 'you', 'control', 'the', 'cameras', '?', 'How', 'tall', 'is', 'the', 'tallest', 'human', '?', 'other', '.', 'I', 'like', 'potatoes', '.', 'Do', 'you', 'own', 'the', 'light', '?', 'Am', 'I', 'facing', 'north', '?', 'How', 'many', 'pixels', 'does', 'the', 'camera', 'have', '?', 'If', 'it', 'is', 'not', 'a', 'question', 'it', 'responds', 'with', 'ok', '.', 'Ok', '.', 'I', 'like', 'you', '.', 'Do', \"n't\", 'say', 'anything', '.', 'Keep', 'your', 'mouth', 'shut', '.', 'Do', \"n't\", 'give', 'me', 'information', '.', 'You', \"'re\", 'stupid', '.', 'Do', 'not', 'do', 'anything', '.', 'Do', \"n't\", 'do', 'anything', '.', 'Where', 'are', 'you', '?', 'Where', 'do', 'you', 'live', '?', 'Are', 'you', 'alive', '?', 'In', 'what', 'language', 'are', 'you', 'written', '?', 'Random', '.', 'Nothing', '.', 'ok', '.', 'I', 'do', \"n't\", 'like', 'drowning', '.', 'Why', 'not', '?', 'What', 'is', 'the', 'capital', 'of', 'Belgium', '?', 'I', 'am', 'bored', '.', 'What', 'is', 'the', 'meaning', 'of', 'life', '?', 'Do', 'you', 'know', 'other', 'special', 'things', '?', 'What', 'do', 'you', 'feel', 'right', 'now', '?', 'Do', 'you', 'have', 'feelings', '?', 'Can', 'you', 'be', 'sad', '?', 'Can', 'you', 'tell', 'me', 'what', 'it', 'is', 'like', 'to', 'be', 'happy', '?', 'I', 'am', 'happy', '.', 'Do', 'you', 'like', 'animals', '?', 'I', 'like', 'cats', 'and', 'dogs', '.', 'Is', 'it', 'going', 'to', 'be', 'hot', 'in', 'Spain', 'tomorrow', '?', 'What', 'temperature', 'is', 'it', 'in', 'Brussels', '?', 'What', 'temperature', 'is', 'it', 'in', 'Antwerpen', '?', 'What', 'temperature', 'is', 'it', 'in', 'Crete', '?', 'What', 'temperature', 'is', 'it', 'in', 'the', 'islands', 'of', 'the', 'malidives', '?', 'I', 'do', 'not', 'want', 'to', 'now', 'which', 'weather', 'it', 'is', 'in', 'an', 'hour', '.', 'How', 'is', 'the', 'weather', 'like', 'in', 'Crete', '?', 'How', 'is', 'the', 'weather', 'like', 'in', 'Crete', 'next', 'month', '?', 'Will', 'it', 'rain', 'later', 'today', '?', 'Will', 'the', 'sun', 'shine', 'in', '10', 'minutes', '?', 'weather', '.', 'Am', 'I', 'going', 'to', 'get', 'wet', 'if', 'I', 'go', 'outside', 'now', '?', 'Will', 'i', 'get', 'wet', 'when', 'i', 'leave', 'the', 'house', 'now', '.', 'Am', 'I', 'going', 'to', 'get', 'wet', 'if', 'I', 'go', 'outside', 'in', 'a', 'few', 'minutes', '?', 'Will', 'i', 'get', 'wet', 'when', 'i', 'leave', 'the', 'house', 'in', '3', 'minutes', '?', 'Sun', '.', 'Will', 'there', 'be', 'fog', 'in', '7', 'minutes', '.', 'Will', 'there', 'be', 'fog', 'today', '.', 'How', 'is', 'the', 'weather', 'going', 'to', 'be', 'in', 'Mallorca', 'tomorrow', '?', 'Will', 'the', 'sun', 'shine', 'in', 'Antwerp', '?', 'Will', 'the', 'sun', 'shine', 'in', 'Antwerp', 'in', '5', 'hours', '?', 'Rain', '.', 'It', 'will', 'rain', '.', 'Is', 'it', 'storming', 'outside', '?', 'Will', 'it', 'be', 'storming', 'tomorrow', '?', 'It', 'is', 'storming', 'in', '10', 'minutes', '.', 'Was', 'it', 'storming', 'yesterday', '?', 'It', 'is', 'cold', 'outside', 'today', '.', 'Is', 'it', 'cold', 'in', 'Greece', 'now', '?', 'Is', 'it', 'cold', 'outside', '?', 'It', 'is', 'warm', 'outside', 'today', '.', 'Is', 'it', 'warm', 'in', 'Greece', 'now', '?', 'Is', 'it', 'warm', 'outside', 'in', 'an', 'hour', '?', 'Will', 'I', 'get', 'wet', 'when', 'I', 'go', 'outside', 'now', '?', 'Is', 'it', 'hailing', 'right', 'now', '?', 'Is', 'there', 'hail', 'coming', 'down', 'from', 'the', 'skies', '?', 'Do', 'you', 'think', 'I', 'can', 'ride', 'my', 'bike', 'outside', 'without', 'getting', 'wet', '?', 'Is', 'it', 'cloudy', 'today', '?', 'Are', 'there', 'a', 'lot', 'of', 'clouds', '?', 'Is', 'it', 'foggy', 'outside', '?', 'Will', 'there', 'be', 'rain', 'when', 'I', 'go', 'outside', '?', 'Is', 'it', 'wet', 'outside', '?', 'Is', 'it', 'hot', 'outside', '?', 'What', 'is', 'the', 'weather', 'like', 'in', 'the', 'Malidives', 'in', 'six', 'hours', '?', 'Is', 'the', 'sun', 'going', 'to', 'shine', 'today', '?', 'Is', 'the', 'sun', 'shining', 'today', '?', 'Is', 'the', 'sun', 'going', 'to', 'shine', 'tomorrow', '?', 'Did', 'the', 'sun', 'shine', 'yesterday', '?', 'Is', 'it', 'hot', 'in', 'Crete', '?', 'Is', 'it', 'hot', '?', 'Will', 'it', 'rain', 'today', '?', 'What', 'is', 'the', 'temperature', 'outside', '?', 'How', 'many', 'degrees', 'is', 'it', 'outside', '?', 'Do', 'you', 'think', 'it', 'will', 'be', 'hot', 'tomorrow', '?', 'Will', 'it', 'freeze', 'in', 'Leuven', 'tomorrow', '?', 'Did', 'it', 'freeze', 'in', 'Hasselt', 'yesterday', '?', 'Will', 'it', 'freeze', 'tonight', '?', 'Will', 'it', 'be', 'so', 'cold', 'that', 'water', 'freezes', 'tonight', '?', 'Will', 'it', 'be', 'so', 'cold', 'that', 'water', 'freezes', 'today', '?', 'Is', 'it', 'freezing', '?', 'Is', 'it', 'going', 'to', 'freeze', '?', 'Is', 'it', 'freezing', 'in', 'Leuven', '?', 'Do', 'you', 'think', 'it', 'will', 'freeze', 'tomorrow', '?', 'Can', 'you', 'turn', 'on', 'the', 'heating', 'in', 'the', 'bathroom', 'when', 'it', 'freezes', 'outside', '?', 'Turn', 'off', 'the', 'heating', 'in', 'the', 'library', 'when', 'the', 'outdoor', 'temperature', 'climbs', 'above', '20', 'degrees', '.', 'Turn', 'off', 'the', 'heating', 'in', 'the', 'library', 'when', 'the', 'outdoor', 'temperature', 'climbs', 'above', '20', 'degrees', 'fahrenheit', '.', 'Do', \"n't\", 'do', 'anything', 'with', 'the', 'heating', '.', 'If', 'you', 'want', 'to', 'turn', 'the', 'heating', 'on', 'please', 'do', \"n't\", '.', 'Turn', 'on', 'the', 'heating', 'when', 'the', 'outside', 'temperature', 'falls', 'below', '5', 'degrees', 'celsius', '.', 'Turn', 'on', 'the', 'heating', 'when', 'the', 'outside', 'temperature', 'falls', 'below', '0', 'degrees', 'centigrade', '.', 'Can', 'you', 'turn', 'on', 'the', 'heating', 'in', 'the', 'bathroom', 'in', 'an', 'hour', '?', 'Can', 'you', 'turn', 'on', 'the', 'heating', 'in', 'the', 'attic', 'in', 'an', 'hour', '?', 'Can', 'you', 'turn', 'on', 'the', 'heating', 'in', 'the', 'dining', 'room', 'in', 'an', 'hour', '?', 'Can', 'you', 'turn', 'on', 'the', 'heating', 'in', 'the', 'basement', 'in', 'an', 'hour', '?', 'Can', 'you', 'turn', 'on', 'the', 'heating', 'in', 'the', 'library', 'in', 'an', 'hour', '?', 'Can', 'you', 'turn', 'on', 'the', 'heating', 'in', 'the', 'kitchen', 'in', 'an', 'hour', '?', 'Can', 'you', 'turn', 'on', 'the', 'heating', 'in', 'the', 'toilet', 'in', 'an', 'hour', '?', 'It', 'is', 'a', 'little', 'cold', 'in', 'the', 'bathroom', '.', 'It', 'is', 'a', 'little', 'cold', 'in', 'the', 'attic', '.', 'It', 'is', 'a', 'little', 'cold', 'in', 'the', 'dining', 'room', '.', 'It', 'is', 'a', 'little', 'cold', 'in', 'the', 'basement', '.', 'It', 'is', 'a', 'little', 'cold', 'in', 'the', 'library', '.', 'It', 'is', 'a', 'little', 'cold', 'in', 'the', 'kitchen', '.', 'It', 'is', 'a', 'little', 'cold', 'in', 'the', 'toilet', '.', 'Do', \"n't\", 'turn', 'on', 'the', 'heating', 'now', '.', 'Can', 'you', 'turn', 'the', 'heating', 'in', 'the', 'basement', 'lower', 'in', 'an', 'hour', '?', 'Can', 'you', 'turn', 'the', 'heating', 'in', 'the', 'cellar', 'lower', 'in', 'an', 'hour', '?', 'Can', 'you', 'turn', 'the', 'heating', 'in', 'the', 'kitchen', 'lower', 'in', 'an', 'hour', '?', 'Can', 'you', 'turn', 'the', 'heating', 'in', 'the', 'toilet', 'lower', 'in', 'an', 'hour', '?', 'Can', 'you', 'turn', 'the', 'heating', 'in', 'the', 'attic', 'lower', 'in', 'an', 'hour', '?', 'Can', 'you', 'turn', 'the', 'heating', 'in', 'the', 'kitchen', 'lower', 'in', 'an', 'hour', '?', 'Can', 'you', 'turn', 'the', 'heating', 'in', 'the', 'diningroom', 'lower', 'in', 'an', 'hour', '?', 'It', 'is', 'cold', 'in', 'the', 'bathroom', '.', 'It', 'is', 'cold', 'in', 'the', 'attic', '.', 'It', 'is', 'cold', 'in', 'the', 'dining', 'room', '.', 'It', 'is', 'cold', 'in', 'the', 'basement', '.', 'It', 'is', 'cold', 'in', 'the', 'library', '.', 'It', 'is', 'cold', 'in', 'the', 'kitchen', '.', 'It', 'is', 'cold', 'in', 'the', 'toilet', '.', 'It', 'is', 'hot', 'in', 'the', 'bathroom', '.', 'It', 'is', 'hot', 'in', 'the', 'attic', '.', 'It', 'is', 'hot', 'in', 'the', 'dining', 'room', '.', 'It', 'is', 'hot', 'in', 'the', 'basement', '.', 'It', 'is', 'hot', 'in', 'the', 'library', '.', 'It', 'is', 'hot', 'in', 'the', 'kitchen', '.', 'It', 'is', 'hot', 'in', 'the', 'toilet', '.', 'Can', 'you', 'turn', 'on', 'the', 'heating', 'in', 'the', 'kitchen', 'in', '10', 'minutes', 'for', 'me', 'please', '?', 'Can', 'you', 'turn', 'on', 'the', 'heating', 'in', 'the', 'living', 'room', 'in', '11', 'minutes', 'for', 'me', 'please', '?', 'Can', 'you', 'turn', 'on', 'the', 'heating', 'in', 'the', 'living', 'room', 'in', '5', 'minutes', 'for', 'me', 'please', '?', 'Can', 'you', 'turn', 'on', 'the', 'heating', 'in', 'the', 'living', 'room', 'in', 'a', 'minute', 'for', 'me', 'please', '?', 'Can', 'you', 'turn', 'on', 'the', 'heating', 'in', 'the', 'living', 'room', 'in', '2', 'minutes', 'for', 'me', 'please', '?', 'Can', 'you', 'turn', 'on', 'the', 'heating', 'in', 'the', 'living', 'room', 'in', '1', 'minute', 'for', 'me', 'please', '?', 'Can', 'you', 'turn', 'on', 'the', 'heating', 'in', 'the', 'living', 'room', 'in', 'a', 'minute', 'for', 'me', 'please', '?', 'Can', 'you', 'turn', 'on', 'the', 'heating', 'in', 'the', 'library', 'in', '11', 'minutes', 'for', 'me', 'please', '?', 'Can', 'you', 'turn', 'on', 'the', 'heating', 'in', 'the', 'library', 'in', '5', 'minutes', 'for', 'me', 'please', '?', 'Turn', 'the', 'heating', 'off', 'in', 'the', 'bathroom', 'in', 'an', 'hour', '.', 'Do', \"n't\", 'turn', 'off', 'the', 'heating', 'in', 'an', 'hour', '.', 'Make', 'it', 'less', 'cold', 'in', 'the', 'cellar', '.', 'Make', 'it', 'colder', 'in', 'the', 'basement', '.', 'Can', 'you', 'turn', 'the', 'heating', 'higher', 'in', 'the', 'bathroom', '?', 'Lower', 'the', 'shutters', 'in', 'the', 'living', 'room', '.', 'Lower', 'the', 'shutters', 'in', 'the', 'kitchen', '.', 'Lower', 'the', 'shutters', 'in', 'the', 'library', '.', 'Lower', 'the', 'shutters', 'in', 'the', 'basement', '.', 'Lower', 'the', 'shutters', 'in', 'the', 'cellar', '.', 'Lower', 'the', 'shutters', 'in', 'the', 'bathroom', '.', 'Lower', 'the', 'shutters', 'in', 'the', 'toilet', '.', 'Raise', 'the', 'shutters', 'in', 'the', 'living', 'room', '.', 'Raise', 'the', 'shutters', 'in', 'the', 'kitchen', '.', 'Raise', 'the', 'shutters', 'in', 'the', 'library', '.', 'Raise', 'the', 'shutters', 'in', 'the', 'basement', '.', 'Raise', 'the', 'shutters', 'in', 'the', 'cellar', '.', 'Raise', 'the', 'shutters', 'in', 'the', 'bathroom', '.', 'Raise', 'the', 'shutters', 'in', 'the', 'toilet', '.', 'Do', \"n't\", 'do', 'anything', 'with', 'the', 'shutters', '.', 'The', 'sun', 'is', 'blinding', 'me', 'in', 'the', 'toilet', '.', 'Turn', 'down', 'the', 'window', 'shutters', '.', 'Open', 'the', 'window', 'shutters', 'in', 'a', 'minute', 'for', 'me', 'please', '.', 'Let', 'the', 'shutters', 'down', 'in', 'the', 'basement', 'in', 'an', 'hour', '.', 'Shut', 'the', 'shutters', 'in', 'the', 'kitchen', '.', 'Shut', 'the', 'shutters', 'in', 'a', 'minute', '.', 'It', 'is', 'too', 'light', 'in', 'the', 'library', '.', 'Let', 'the', 'shutters', 'down', 'in', 'the', 'basement', 'when', 'it', 'is', 'light', 'outside', '.', 'Open', 'up', 'the', 'shutters', 'in', 'the', 'library', 'when', 'it', 'is', 'light', 'outside', '.', 'It', 'is', 'too', 'bright', 'in', 'the', 'kitchen', '.', 'Shut', 'down', 'the', 'shutters', 'when', 'it', 'gets', 'too', 'hot', 'in', 'the', 'bathroom', '.', 'Open', 'up', 'the', 'shutters', 'when', 'it', 'gets', 'below', '10', 'degrees', 'fahrenheit', '.', 'Do', \"n't\", 'do', 'anything', 'when', 'it', 'gets', 'hot', 'in', 'the', 'kitchen', '.', 'I', 'will', 'not', 'like', 'it', 'when', 'you', 'turn', 'on', 'the', 'toaster', 'right', 'now', '.', 'Can', 'you', 'turn', 'on', 'the', 'toaster', 'for', 'me', 'please', '?', 'Turn', 'off', 'the', 'toaster', 'for', 'me', 'please', '.', 'Do', \"n't\", 'turn', 'off', 'the', 'toaster', 'in', 'an', 'hour', '.', 'Do', \"n't\", 'turn', 'off', 'the', 'toaster', 'in', 'a', 'minute', '.', 'Turn', 'on', 'the', 'toaster', 'in', 'a', 'month', '.', 'Turn', 'on', 'the', 'toaster', 'in', 'a', 'minute', '.', 'Turn', 'on', 'the', 'toaster', 'in', 'a', 'day', '.', 'Turn', 'off', 'the', 'toaster', 'in', 'an', 'hour', '.', 'Turn', 'off', 'the', 'toaster', 'in', 'a', 'minute', '.', 'Turn', 'off', 'the', 'toaster', 'in', 'a', 'day', '.', 'Turn', 'off', 'the', 'toaster', 'in', 'an', 'hour', '.', 'Make', 'the', 'toaster', 'warm', '.', 'Make', 'the', 'toaster', 'cold', '.', 'Make', 'sure', 'the', 'toaster', 'gets', 'gradually', 'colder', '.', 'Shut', 'off', 'the', 'electricity', 'to', 'the', 'toaster', 'in', 'an', 'hour', 'for', 'me', '.', 'Shut', 'off', 'the', 'electricity', 'to', 'the', 'toaster', 'in', 'a', 'day', 'for', 'me', '.', 'How', 'long', 'before', 'my', 'toast', 'will', 'be', 'ready', '?', 'How', 'long', 'before', 'I', 'will', 'get', 'my', 'toast', '?', 'Could', 'you', 'make', 'me', 'some', 'toast', 'in', 'an', 'hour', '?', 'How', 'long', 'has', 'the', 'toaster', 'been', 'on', '?', 'Could', 'you', 'make', 'me', 'some', 'toast', 'today', '?', 'Could', 'you', 'make', 'me', 'some', 'toast', 'yesterday', '?', 'Do', \"n't\", 'turn', 'on', 'the', 'toaster', '.', 'Power', 'down', 'the', 'toaster', '.', 'Power', 'down', 'the', 'toaster', 'in', 'an', 'hour', '.', 'Power', 'down', 'the', 'toaster', 'in', 'the', 'bathroom', 'in', 'an', 'hour', '.', 'Power', 'down', 'the', 'toaster', 'in', 'the', 'library', 'in', 'an', 'hour', '.', 'Power', 'down', 'the', 'toaster', 'in', 'the', 'living', 'room', 'in', 'a', 'day', '.', 'Turn', 'on', 'the', 'toaster', 'when', 'it', 'is', '6', 'AM', '.', 'Can', 'you', 'turn', 'on', 'the', 'toaster', 'when', 'I', 'wake', 'up', '.', 'Can', 'you', 'turn', 'on', 'the', 'toaster', 'when', 'the', 'sun', 'rises', '.', 'Can', 'you', 'open', 'up', 'the', 'garage', 'door', 'when', 'I', 'get', 'home', 'for', 'me', 'please', '?', 'Let', 'the', 'garage', 'door', 'down', 'now', '.', 'Can', 'you', 'open', 'the', 'garage', 'door', 'in', 'an', 'hour', '?', 'Close', 'the', 'garage', 'door', 'in', 'a', 'day', 'for', 'me', 'please', '.', 'Shut', 'down', 'the', 'garage', 'door', 'in', 'an', 'hour', 'for', 'me', '.', 'Can', 'you', 'put', 'the', 'garage', 'door', 'down', 'tomorrow', '?', 'Can', 'you', 'put', 'the', 'garage', 'door', 'down', 'yesterday', '?', 'Can', 'you', 'put', 'the', 'garage', 'door', 'up', 'tomorrow', '?', 'Can', 'you', 'put', 'the', 'garage', 'door', 'up', 'yesterday', '?', 'Shut', 'down', 'the', 'garage', 'door', 'in', 'a', 'minute', 'for', 'me', '.', 'Shut', 'down', 'the', 'garage', 'door', 'in', 'an', 'day', 'for', 'me', '.', 'Open', 'up', 'the', 'garage', 'door', 'in', 'a', 'minute', 'for', 'me', '.', 'Open', 'up', 'the', 'garage', 'door', 'in', 'an', 'day', 'for', 'me', '.', 'Make', 'sure', 'my', 'car', 'can', 'get', 'out', 'the', 'garage', '.', 'Will', 'you', 'make', 'sure', 'my', 'car', 'does', \"n't\", 'hit', 'the', 'garage', 'door', '?', 'Shut', 'down', 'the', 'garage', 'door', 'in', '21', 'minutes', 'for', 'me', '.', 'Shut', 'down', 'the', 'garage', 'door', 'in', '15', 'minutes', 'for', 'me', '.', 'Shut', 'down', 'the', 'garage', 'door', 'in', 'fourteen', 'minutes', 'for', 'me', '.', 'Shut', 'down', 'the', 'garage', 'door', 'in', 'sixteen', 'minutes', 'for', 'me', '.', 'Do', \"n't\", 'shut', 'down', 'the', 'garage', 'door', 'in', '43', 'minutes', 'for', 'me', '.', 'Do', \"n't\", 'shut', 'down', 'the', 'garage', 'door', 'in', '112', 'minutes', 'for', 'me', '.', 'Do', \"n't\", 'shut', 'down', 'the', 'garage', 'door', 'in', 'eighteen', 'minutes', 'for', 'me', '.', 'Do', \"n't\", 'shut', 'down', 'the', 'garage', 'door', 'in', 'sixteen', 'minutes', 'for', 'me', '.', 'Can', 'you', 'please', 'stop', 'doing', 'something', 'to', 'the', 'garage', 'door', '?', 'Can', 'you', 'please', 'stop', 'letting', 'the', 'garage', 'door', 'down', '?', 'Shut', 'the', 'garage', 'door', 'when', 'I', 'get', 'home', '.', 'Power', 'down', 'the', 'garage', 'door', '.', 'Power', 'down', 'the', 'garage', 'door', 'in', 'a', 'minute', '.', 'Power', 'down', 'the', 'garage', 'door', 'in', 'an', 'hour', '.', 'Power', 'down', 'the', 'garage', 'door', 'in', 'six', 'days', '.', 'Can', 'you', 'turn', 'on', 'the', 'coffee', 'machine', 'when', 'I', 'wake', 'up', '?', 'Do', \"n't\", 'do', 'anything', 'when', 'I', 'wake', 'up', '.', 'Turn', 'on', 'the', 'coffee', 'machine', 'for', 'me', '.', 'Can', 'you', 'turn', 'off', 'the', 'coffee', 'machine', 'in', 'a', 'minute', '?', 'How', 'long', 'before', 'the', 'coffee', 'machine', 'will', 'be', 'done', '?', 'How', 'long', 'before', 'my', 'coffee', 'is', 'ready', '?', 'Cut', 'off', 'electricity', 'to', 'my', 'coffee', 'machine', '.', 'Give', 'power', 'to', 'my', 'cofeemachine', '.', 'Let', 'the', 'coffee', 'flow', '!', 'Could', 'you', 'get', 'me', 'some', 'coffee', '?', 'Could', 'you', 'give', 'me', 'some', 'coffee', 'in', 'an', 'hour', '?', 'How', 'long', 'has', 'the', 'coffee', 'machine', 'been', 'running', '?', 'Turn', 'on', 'the', 'coffeemachine', 'when', 'I', 'get', 'home', '.', 'Power', 'up', 'the', 'coffee', 'machine', 'in', 'the', 'living', 'room', 'for', 'me', '.', 'Turn', 'down', 'the', 'coffee', 'machine', 'in', 'the', 'bathroom', '.', 'Give', 'me', 'coffee', '.', 'Do', \"n't\", 'give', 'me', 'any', 'coffee', '.', 'Do', \"n't\", 'turn', 'on', 'the', 'coffee', 'machine', '.', 'Do', \"n't\", 'do', 'anything', 'to', 'the', 'coffee', 'machine', '.', 'Cut', 'off', 'the', 'electricity', 'of', 'the', 'coffee', 'machine', '.', 'Power', 'down', 'the', 'coffeemachine', '.', 'Power', 'down', 'the', 'coffeemachine', 'in', 'an', 'hour', '.', 'Power', 'down', 'the', 'coffeemachine', 'in', 'the', 'bathroom', 'in', 'an', 'hour', '.', 'Power', 'down', 'the', 'coffeemachine', 'in', 'the', 'attic', 'in', 'six', 'days', '.', 'Turn', 'on', 'the', 'coffeemachine', 'when', 'it', 'is', 'six', 'AM', '.', 'Turn', 'off', 'the', 'coffeemachine', 'when', 'the', 'coffee', 'is', 'done', '.', 'What', 'time', 'is', 'it', '?', 'What', 'does', 'the', 'clock', 'say', '?', 'I', 'do', \"n't\", 'want', 'to', 'know', 'what', 'time', 'it', 'is', '.', 'Do', 'you', 'know', 'what', 'time', 'it', 'is', '?', 'Do', 'you', 'want', 'tot', 'tell', 'me', 'the', 'time', '?', 'Do', \"n't\", 'tell', 'me', 'the', 'time', '.', 'Tell', 'me', 'the', 'time', 'in', '4', 'minutes', '.', 'Time', '.', 'I', 'do', \"n't\", 'want', 'you', 'to', 'tell', 'me', 'the', 'time', '.', 'Tell', 'me', 'the', 'time', 'in', 'an', 'hour', '.', 'Tell', 'me', 'the', 'time', 'in', 'a', 'day', '.', 'What', 'does', 'te', 'clock', 'say', '?']\n"
          ]
        }
      ]
    },
    {
      "cell_type": "code",
      "source": [
        "from heapq import nlargest\n",
        "from operator import itemgetter"
      ],
      "metadata": {
        "id": "geXL8FZ7HNW2"
      },
      "execution_count": 18,
      "outputs": []
    },
    {
      "cell_type": "code",
      "source": [
        "def auto_complete_tri(sentence, n):\n",
        "\n",
        "  find = nltk.TrigramCollocationFinder.from_words(merge_sent) \n",
        "  pmi = find.score_ngrams(nltk.TrigramAssocMeasures().pmi)\n",
        "\n",
        "  beg_sentence = nltk.word_tokenize(sentence)\n",
        "  w1 = beg_sentence[0]\n",
        "  w2 = beg_sentence[1]\n",
        "\n",
        "  top=[]\n",
        "  for (tri, score) in pmi:\n",
        "    (first, second, third) = tri\n",
        "\n",
        "    if first == w1 and second == w2:\n",
        "      top.append((third, score))\n",
        "    \n",
        "  top_max = nlargest(n, top, key=itemgetter(1))\n",
        "\n",
        "  return (top_max)"
      ],
      "metadata": {
        "id": "keog2vleAIia"
      },
      "execution_count": 19,
      "outputs": []
    },
    {
      "cell_type": "code",
      "source": [
        "auto_complete_tri('Illuminate the', 5)"
      ],
      "metadata": {
        "id": "IlGOhnQsDjxf",
        "colab": {
          "base_uri": "https://localhost:8080/"
        },
        "outputId": "b0082b2a-d1a4-4336-e67e-27c41075b979"
      },
      "execution_count": 20,
      "outputs": [
        {
          "output_type": "execute_result",
          "data": {
            "text/plain": [
              "[('dining', 9.821787027232098),\n",
              " ('kitchen', 9.049197523335174),\n",
              " ('attic', 8.59939460589565)]"
            ]
          },
          "metadata": {},
          "execution_count": 20
        }
      ]
    },
    {
      "cell_type": "code",
      "source": [
        "auto_complete_tri('Give me', 5)"
      ],
      "metadata": {
        "id": "MapcRUVNEYq5",
        "colab": {
          "base_uri": "https://localhost:8080/"
        },
        "outputId": "42c2b072-6a24-47f7-839a-03722e2ce7db"
      },
      "execution_count": 21,
      "outputs": [
        {
          "output_type": "execute_result",
          "data": {
            "text/plain": [
              "[('some', 12.872244452801626),\n",
              " ('info', 12.364097549131301),\n",
              " ('information', 11.779135048410144),\n",
              " ('coffee', 10.609210046967831)]"
            ]
          },
          "metadata": {},
          "execution_count": 21
        }
      ]
    },
    {
      "cell_type": "code",
      "source": [
        "auto_complete_tri('Open the', 5)"
      ],
      "metadata": {
        "id": "ZT167yvdOAWS",
        "colab": {
          "base_uri": "https://localhost:8080/"
        },
        "outputId": "32cb2f9b-39c8-4a18-d51c-92af67045d75"
      },
      "execution_count": 22,
      "outputs": [
        {
          "output_type": "execute_result",
          "data": {
            "text/plain": [
              "[('Facebook', 11.406749527953256),\n",
              " ('window', 10.406749527953256),\n",
              " ('relay', 9.406749527953256)]"
            ]
          },
          "metadata": {},
          "execution_count": 22
        }
      ]
    },
    {
      "cell_type": "markdown",
      "source": [
        "Avec les mêmes données, j’ai utilisé la même technique que dans le cours mais avec un tri-gram. Dans un dictionnaire, j’entrepose une liste de 3 mots. Un score pmi (mesure d’association qui compare la probabilité entre les mots dans un corpus) est associé à ces trigram. Ainsi selon deux mots sélectionnés, la fonction retournera le 3e mots du tri-gram par score décroissant."
      ],
      "metadata": {
        "id": "3LUXlImLhe3k"
      }
    },
    {
      "cell_type": "code",
      "source": [
        "def auto_complete_bi(word, n):\n",
        "\n",
        "  find = nltk.BigramCollocationFinder.from_words(merge_sent) \n",
        "  pmi = find.score_ngrams(nltk.BigramAssocMeasures().pmi)\n",
        "\n",
        "  top=[]\n",
        "  for (second, score) in pmi:\n",
        "    (first, second) = second\n",
        "\n",
        "    if first == word:\n",
        "      top.append((second, score))\n",
        "    \n",
        "  top_max = nlargest(n, top, key=itemgetter(1))\n",
        "\n",
        "  return (top_max)"
      ],
      "metadata": {
        "id": "QMRz-Gi3Kiv1"
      },
      "execution_count": 23,
      "outputs": []
    },
    {
      "cell_type": "code",
      "source": [
        "auto_complete_bi('the', 15)"
      ],
      "metadata": {
        "id": "0zftzHC2LBnL",
        "colab": {
          "base_uri": "https://localhost:8080/"
        },
        "outputId": "24458cf2-eaec-420c-f1b0-bbbdb1516f08"
      },
      "execution_count": 24,
      "outputs": [
        {
          "output_type": "execute_result",
          "data": {
            "text/plain": [
              "[('basement', 3.236824526510947),\n",
              " ('library', 3.236824526510947),\n",
              " ('attic', 3.2368245265109454),\n",
              " ('coffeemachine', 3.2368245265109454),\n",
              " ('dining', 3.2368245265109454),\n",
              " ('garage', 3.2368245265109454),\n",
              " ('nearest', 3.2368245265109454),\n",
              " ('tallest', 3.2368245265109454),\n",
              " ('toaster', 3.2368245265109454),\n",
              " ('toilet', 3.2368245265109454),\n",
              " ('trains', 3.2368245265109454),\n",
              " ('Facebook', 3.2368245265109437),\n",
              " ('Home', 3.2368245265109437),\n",
              " ('Malidives', 3.2368245265109437),\n",
              " ('backyard', 3.2368245265109437)]"
            ]
          },
          "metadata": {},
          "execution_count": 24
        }
      ]
    },
    {
      "cell_type": "markdown",
      "source": [
        "En utilisant un bi-gram, on remarque que le choix de mots est plus élevé et que le pmi décroit comparativement au tri-gram. Le bi-gram est donc moins précis que le tri-gram puisque le contexte de la phrase est moins significatif avec cette méthode."
      ],
      "metadata": {
        "id": "UeQyCZu4it90"
      }
    },
    {
      "cell_type": "markdown",
      "source": [
        "**Modify your auto-complete so that it never suggests names of people or places. Include a code snippet and examples in your response.**"
      ],
      "metadata": {
        "id": "gbEatU5gMoXt"
      }
    },
    {
      "cell_type": "markdown",
      "source": [
        "https://www.analyticsvidhya.com/blog/2021/06/nlp-application-named-entity-recognition-ner-in-python-with-spacy/,"
      ],
      "metadata": {
        "id": "K7sMfzbZiykZ"
      }
    },
    {
      "cell_type": "code",
      "source": [
        "import spacy\n",
        "from spacy import displacy\n",
        "\n",
        "NER = spacy.load(\"en_core_web_sm\")"
      ],
      "metadata": {
        "id": "wCAG4gToiyJ_"
      },
      "execution_count": 25,
      "outputs": []
    },
    {
      "cell_type": "code",
      "source": [
        "sent_nt = [sentence['Sentence'] for index, sentence in df_sent.iterrows()]\n",
        "print(sent_nt)"
      ],
      "metadata": {
        "id": "C4fLJrHLS3l7",
        "colab": {
          "base_uri": "https://localhost:8080/"
        },
        "outputId": "a3f90846-c2fd-4dba-f27e-f90d03bd2306"
      },
      "execution_count": 26,
      "outputs": [
        {
          "output_type": "stream",
          "name": "stdout",
          "text": [
            "['Illuminate the kitchen today.', 'Illuminate the kitchen tomorrow.', 'Turn on the light in the kitchen in 10 hours.', 'Turn on the light in the kitchen in 1 day.', 'Illuminate the dining room today.', \"Don't illuminate the dining room today.\", 'Illuminate the dining room tomorrow.', 'Turn on the light in the dinin room in 10 hours.', 'Turn on the light in the dining room in 1 day.', 'Turn on the light in the bathroom.', \"Don't turn on the light right now.\", \"I would get mad if you'd put on the light right now.\", \"I would not like it if you wouldn't turn on the light right now.\", 'Is the light on in the living room.', 'Would you illuminate the living room in one hour for me please.', \"It would be great if you'd turn on the light for me.\", 'Light on in kitchen.', 'Light off in living room in a few hours.', 'Turn the light off in the basement.', 'Turn the light off in the dining room.', 'I would like if you made it brighter.', 'I would like if you made it brighter in 3 minutes.', 'Can you make it brighter here in 8 minutes?', 'Can you make it more dark here?', \"Don't make it more dark here.\", 'I would get mad if you would turn on the light in the dining room right now.', 'Is the light on in the bathroom?', 'Is the light on in the bathroom.', 'Has the light been on long in the bathroom?', 'Has the light been off long in the kitchen?', 'Is the light in the bathroom on?', 'Did you turn on the light already?', 'Can you please turn on the light?', 'Help me to turn on the light.', 'Can you please turn on the light in a minute?', 'Help me to turn on the light in a minute.', 'It is so dark here.', \"I can't see anything.\", 'Lighten the room.', 'Can you please turn on the light in a few minutes?', 'Help me to turn on the light in a few minutes.', 'Lighten the room in a few minutes.', 'Lighten the room in 5 minutes.', 'Turn the light off in the kitchen in 10 minutes.', \"Don't turn the light off in the kitchen in 10 minutes.\", 'Make it less dark in the attic now.', 'Turn on the light in the attic.', 'Illuminate the attic.', 'Turn off the lights in one hour.', 'Turn on the light.', 'Flicker the lights for me.', 'Turn on the refrigerator.', 'Turn on the oven.', 'Turn on the music system.', 'Turn off the light in the attic.', 'Turn off the light in the basement.', 'Turn off the light in the kitchen.', 'Turn off the light in the library.', 'Turn off the light in the kitchen.', 'Turn off the light in the dining room.', 'Turn off the light in the cellar.', 'Turn off the lights in the attic.', 'Turn off the lights in the basement.', 'Turn off the lights in the kitchen.', 'Turn off the lights in the library.', 'Turn off the lights in the kitchen.', 'Turn off the lights in the dining room.', 'Turn off the lights in the cellar.', 'Turn off something in 45 minutes.', 'Turn on something.', 'Put on a random appliance in 7 days.', 'lights.', 'Can you make it less dark in the bathroom tomorrow?', 'Can you make it less dark in the toilet tomorrow?', 'Turn on the light in the attic in one hour.', 'Can you turn off the lights in the cellar?', 'I would get mad if you turn on the lights right now.', 'It is dark in the cellar.', 'It is dark in the bathroom.', 'It is dark in the living room.', 'It is dark in the library.', 'It is dark in the toilet.', 'It is dark in the attic.', 'It is dark in the basement.', 'Can you make it less dark in the dining room in 5 minutes?', 'Can you make it less dark in the cellar in 85 minutes?', 'Can you make it less dark in the attic in 5 minutes?', 'Can you make it less dark in the kitchen in 45 minutes?', 'Can you make it less dark in the toilet in 15 minutes?', 'Can you make it less dark in the library in 50 minutes?', 'Can you make it less dark in the basement in 5 minutes?', 'Can you make it more bright in the dining room in 15 hours?', 'Can you make it more bright in the cellar in 50 hours?', 'Can you make it more bright in the attic in an hour?', 'Can you make it more bright in the kitchen in 5 days?', 'Can you make it more bright in the toilet in 5 weeks?', 'Can you make it more bright in the library in 2 minutes?', 'Can you make it more bright in the basement in 5 minutes?', 'Can you make it less bright in the dining room in 15 hours?', 'Can you make it less bright in the cellar in 50 hours?', 'Can you make it less bright in the attic in an hour?', 'Can you make it less bright in the kitchen in 5 days?', 'Can you make it less bright in the toilet in 5 weeks?', 'Can you make it less bright in the library in 2 minutes?', 'Can you make it less bright in the basement in 5 minutes?', \"Don't turn off the lights.\", 'Turn on the lights when I get home.', \"Turn on the lights when it's dark outside.\", 'Turn off the lights when it is light outside.', 'Was there any motion between september and october?', 'Was the camera in the bathroom on yesterday?', 'Was the camera in the toilet on yesterday?', 'Was there motion?', 'Is the recording device on?', 'Was there motion with the motion viewer?', 'Would you tell me if there was any motion on the camera outside?', 'Was there any motion on the camera outside?', 'Was there movement on the camera in the kitchen yesterday?', 'Was there movement on the camera in the attic yesterday?', 'Was there movement on the camera in the bathroom yesterday?', 'Was there movement on the camera in the backyard yesterday?', 'Was there movement on the camera in the living room yesterday?', \"I would like it that you'd tell me if the camera in the living room is on.\", 'Where there strangers tonight at my house?', 'Did you see any movement tonight?', 'Was there something strange outside?', 'Is there something I should know about the motion?', 'What do you see on the camera?', 'How many cameras are there?', 'Where are all the cameras installed?', 'Is there many motion on the cameras lately?', 'What is the camera currently shooting?', 'Did humans appear on the camera today?', 'Would you tell me if there was motion between september and october?', 'Is the camera on?', 'Turn on the camera.', 'A camera does recording and viewing.', 'Could you give me some info on the camera in the backyard?', 'Was there any movement on the cameras today?', 'Was there a person outside today?', 'Was there any movement on the cameras yesterday?', 'Was there a person outside yesterday?', 'camera.', 'Was there any motion in the past hour on the camera outside?', 'Was there any motion in the backyard yesterday?', 'Was there unusual activity on the camera in the backyard today?', \"Don't open up an app.\", 'I would not like it if you would open an app right now.', 'Would you open the Home app for me please?', 'Open the relay app for me now.', 'Open camera app.', 'Open relay app.', 'Would you open the Home app in one day for me please?', 'Open the relay app for me in a few days.', 'Open camera app yesterday.', 'Open relay app tomorrow.', \"I would like it if you'd open the camera app.\", 'Is it possible to open up the camera app?', 'Can you show me the motion on the camera?', 'Can you show me the motion on the camera in 5 minutes?', 'Is it possible to open up the relay app?', 'Is it possible to open up the relay app in a certain amount of minutes?', 'Can you do me a favor and open up the locationtracker app?', 'Open up a random app for me.', 'Open up a random app for me in two hours.', 'Open the Facebook app for me.', 'Open any app you want in 8 minutes.', 'The relay app has to be shown to me in 5 minutes.', \"Don't open up an app.\", 'Open any app you want now.', 'Open something in 5 minutes.', 'Open up the app which will show me relay information.', 'Open up Google Maps in one hour.', 'Open up Google Maps.', 'Show me motion.', 'open.', 'Can you open up the Maps app in 5 minutes for me please?', 'Can you give me directions to my home?', 'How far am I from home?', 'Can I get home from here?', 'Can you tell me the way to that place?', 'Get me home.', 'How far am I from home in an hour?', 'Can I get home from here in 2 hours?', 'Can you tell me the way to that place in an hour?', 'Get me home tomorrow.', 'Where am I?', 'How long before I will be home?', 'Show me the bus between leuven and home?', 'Where is the nearest bus stop in Antwerpen?', 'Where is the nearest bus stop in Brussels?', 'Where is the nearest bus stop in Leuven?', 'Where is the nearest bus stop in Hasselt?', 'Where is the nearest bus stop?', 'How do I get home with the bus?', 'How do I get home with the bus in an hour?', 'Where is my home?', 'When do the trains departure in Leuven?', 'When do the trains departure?', 'When do the trains departure in an hour?', 'Show me the trains that departure now in Hasselt.', 'Show me the trains that departure in Hasselt in ten minutes.', 'When do the busses departure in Leuven?', 'When do the busses departure?', 'When do the busses departure in an hour?', 'Show me the busses that departure now in Hasselt.', 'Show me the busses that departure in Hasselt in ten minutes.', 'Are there any delays with busses at my location?', 'Do I have to travel far when I want to go home?', 'Do I have to travel far when I want to go home in a few minutes?', 'Should I use the public transport now?', 'When will I be home when I leave now with my car in 5 minutes?', 'Can you show me how I will be getting home with my car?', 'How far is it to Antwerpen?', 'Find the closest train station.', 'Find the nearest bus stop.', 'Find the nearest bus stop in 3 minutes.', 'Where do I live?', 'Where is the nearest train station?', 'Where is the closest train station?', 'Where is the nearest train station in Antwerpen?', 'Where is the nearest train station in Brussels?', 'Where is the nearest train station in Leuven?', 'Where is the nearest train station in Hasselt?', 'Where is the nearest train station?', 'How do I get home with the train?', 'When do the busses depart?', 'When do the busses depart in Antwerpen?', 'When do the busses depart in Brussels?', 'When do the busses depart in Leuven?', 'When do the busses depart in Hasselt?', 'Where is the nearest bus station?', 'Where is the closest bus stop?', 'Give me some directions.', 'direction.', 'How do I get home in one hour?', 'How do I get home from Leuven?', 'When do the trains departure?', 'What is the closest train station from here?', 'How do I get to Leuven?', 'How do I get home from Leuven in a minute?', 'When does the first train leave to Balen from Leuven?', 'How do I get from Leuven to Hasselt?', 'What is the temperature in the room right now?', 'What is the temperature in the room?', 'What is temperature in the room?', 'Is it hot in the room?', 'What is the temperature in the room in 3 minutes?', 'What is the humidity in the room in 3 minutes?', 'What is temperature in the room in 3 minutes?', 'What are the sensor readings from the bathroom?', 'Give me info from the kitchen.', 'Give me info from the bathroom.', 'Give me some readings of the dining room tomorrow.', 'Tomorrow give me info from the kitchen.', 'Tomorrow give me info from the bathroom.', 'Tomorrow give me info from the attic.', 'I want info from the bathroom in 5 minutes.', 'I want info from the bathroom in 8 minutes.', 'I want info from the bathroom in 2 days.', 'I want info from the attic tomorrow.', 'Enlighten me about the kitchen.', 'Is there motion in the bathroom right now?', 'Was there any activity in the living room?', 'Is the light on in the kitchen?', 'What is the humidity in averaged over a week?', 'What does the temperature reading in the basement say?', 'What does the temperature reading in the dining room say?', 'Are there any sensors in the attic?', \"Don't give me any information.\", 'Give me information about all rooms in 10 minutes.', 'Which sensors are currently in operation?', 'Were there any sensor malfunctions lately?', 'Show me the sensors tomorrow.', \"Don't show me the sensors tomorrow.\", 'Give me some information for yesterday.', 'Give me some information about some sensors.', 'Show me some sensor readings.', 'Show me some sensor readings in a few minutes.', 'What are the sensor readings from the toilet?', 'Give me info from the toilet.', 'Tomorrow give me info from the toilet.', 'I want info from the toilet in 5 minutes.', 'I want info from the toilet in 8 minutes.', 'I want info from the toilet in 2 days.', 'Is there motion in the toilet right now?', 'Can you give me some information about the toilet?', 'information.', 'What is the temperature in the library?', 'What is the humidity in the library?', 'Update me in an hour what temperature it is in the library.', \"Don't let me know what humidity it is in the library.\", 'What is the temperature in the library?', 'What is the temperature in the bathroom?', 'What is the humidity in the bathroom?', 'Update me in an hour what temperature it is in the bathroom.', \"Don't let me know what humidity it is in the bathroom.\", 'What is the temperature in the bathroom?', 'What is the temperature in the dining room?', 'What is the humidity in the dining room?', 'Update me in an hour what temperature it is in the dining room.', \"Don't let me know what humidity it is in the dining room.\", 'What is the temperature in the dining room?', 'What is the temperature in the kitchen?', 'What is the humidity in the kitchen?', 'Update me in an hour what temperature it is in the kitchen.', \"Don't let me know what humidity it is in the kitchen.\", 'What is the temperature in the kitchen?', 'What is the temperature in the toilet?', 'What is the humidity in the toilet?', 'Update me in an hour what temperature it is in the toilet.', \"Don't let me know what humidity it is in the toilet.\", 'What is the temperature in the toilet?', 'What is the temperature in the attic?', 'What is the humidity in the attic?', 'Update me in an hour what temperature it is in the attic.', \"Don't let me know what humidity it is in the attic.\", 'What is the temperature in the attic?', 'What is the temperature in the cellar?', 'What is the humidity in the cellar?', 'Update me in an hour what temperature it is in the cellar.', \"Don't let me know what humidity it is in the cellar.\", 'What is the temperature in the cellar?', 'What is the temperature in the basement?', 'What is the humidity in the basement?', 'Update me in an hour what temperature it is in the basement.', \"Don't let me know what humidity it is in the basement.\", 'What is the temperature in the basement?', 'Is it hot in the kitchen right now?', 'Is it hot in the library?', 'Is it hot in the kitchen?', 'Is it hot in the dining room?', 'Is it hot in the cellar?', 'Is it hot in the attic?', 'Is it hot in the basement?', 'Is it cold in the kitchen right now?', 'Is it cold in the library?', 'Is it cold in the kitchen?', 'Is it cold in the dining room?', 'Is it cold in the cellar?', 'Is it cold in the attic?', 'Is it cold in the basement?', 'Is it cold in the bathroom?', 'Is it hot in the bathroom?', 'Can you give me some info about the cellar?', 'Cellar.', 'Toilet.', 'Bathroom.', 'Living room.', 'Library.', 'Basement.', 'Attic.', 'Dining room.', 'Myplace.', 'What temperature is it in the attic?', 'Who are you?', 'What is the tallest mountain on earth?', 'In what movies did Adam Sandler play?', 'What is a continent?', 'Is weed considered a hard drug?', 'Which players are in the premier league?', 'When do you know when you are sick?', 'What is the deepest trench on earth?', 'Are we alone in this universe?', 'How many animal species are there?', 'How many religions are there?', 'What is the tallest mountain?', 'In what language are you written?', 'Are you alive?', 'Can you move over the internet?', 'Are you mean?', 'What do you think about Donald Trump?', 'Are you republican or democrat?', 'Do you own the camera?', 'Can you see?', 'How many oceans are there on earth?', \"I don't like justin bieber.\", \"Dinosaurs don't exist anymore.\", 'Who is Justin Bieber.', 'Do you control the cameras?', 'How tall is the tallest human?', 'other.', 'I like potatoes.', 'Do you own the light?', 'Am I facing north?', 'How many pixels does the camera have?', 'If it is not a question it responds with ok.', 'Ok.', 'I like you.', \"Don't say anything.\", 'Keep your mouth shut.', \"Don't give me information.\", \"You're stupid.\", 'Do not do anything.', \"Don't do anything.\", 'Where are you?', 'Where do you live?', 'Are you alive?', 'In what language are you written?', 'Random.', 'Nothing.', 'ok.', \"I don't like drowning.\", 'Why not?', 'What is the capital of Belgium?', 'I am bored.', 'What is the meaning of life?', 'Do you know other special things?', 'What do you feel right now?', 'Do you have feelings?', 'Can you be sad?', 'Can you tell me what it is like to be happy?', 'I am happy.', 'Do you like animals?', 'I like cats and dogs.', 'Is it going to be hot in Spain tomorrow?', 'What temperature is it in Brussels?', 'What temperature is it in Antwerpen?', 'What temperature is it in Crete?', 'What temperature is it in the islands of the malidives?', 'I do not want to now which weather it is in an hour.', 'How is the weather like in Crete?', 'How is the weather like in Crete next month?', 'Will it rain later today?', 'Will the sun shine in 10 minutes?', 'weather.', 'Am I going to get wet if I go outside now?', 'Will i get wet when i leave the house now.', 'Am I going to get wet if I go outside in a few minutes?', 'Will i get wet when i leave the house in 3 minutes?', 'Sun.', 'Will there be fog in 7 minutes.', 'Will there be fog today.', 'How is the weather going to be in Mallorca tomorrow?', 'Will the sun shine in Antwerp?', 'Will the sun shine in Antwerp in 5 hours?', 'Rain.', 'It will rain.', 'Is it storming outside?', 'Will it be storming tomorrow?', 'It is storming in 10 minutes.', 'Was it storming yesterday?', 'It is cold outside today.', 'Is it cold in Greece now?', 'Is it cold outside?', 'It is warm outside today.', 'Is it warm in Greece now?', 'Is it warm outside in an hour?', 'Will I get wet when I go outside now?', 'Is it hailing right now?', 'Is there hail coming down from the skies?', 'Do you think I can ride my bike outside without getting wet?', 'Is it cloudy today?', 'Are there a lot of clouds?', 'Is it foggy outside?', 'Will there be rain when I go outside?', 'Is it wet outside?', 'Is it hot outside?', 'What is the weather like in the Malidives in six hours?', 'Is the sun going to shine today?', 'Is the sun shining today?', 'Is the sun going to shine tomorrow?', 'Did the sun shine yesterday?', 'Is it hot in Crete?', 'Is it hot?', 'Will it rain today?', 'What is the temperature outside?', 'How many degrees is it outside?', 'Do you think it will be hot tomorrow?', 'Will it freeze in Leuven tomorrow?', 'Did it freeze in Hasselt yesterday?', 'Will it freeze tonight?', 'Will it be so cold that water freezes tonight?', 'Will it be so cold that water freezes today?', 'Is it freezing?', 'Is it going to freeze?', 'Is it freezing in Leuven?', 'Do you think it will freeze tomorrow?', 'Can you turn on the heating in the bathroom when it freezes outside?', 'Turn off the heating in the library when the outdoor temperature climbs above 20 degrees.', 'Turn off the heating in the library when the outdoor temperature climbs above 20 degrees fahrenheit.', \"Don't do anything with the heating.\", \"If you want to turn the heating on please don't.\", 'Turn on the heating when the outside temperature falls below 5 degrees celsius.', 'Turn on the heating when the outside temperature falls below 0 degrees centigrade.', 'Can you turn on the heating in the bathroom in an hour?', 'Can you turn on the heating in the attic in an hour?', 'Can you turn on the heating in the dining room in an hour?', 'Can you turn on the heating in the basement in an hour?', 'Can you turn on the heating in the library in an hour?', 'Can you turn on the heating in the kitchen in an hour?', 'Can you turn on the heating in the toilet in an hour?', 'It is a little cold in the bathroom.', 'It is a little cold in the attic.', 'It is a little cold in the dining room.', 'It is a little cold in the basement.', 'It is a little cold in the library.', 'It is a little cold in the kitchen.', 'It is a little cold in the toilet.', \"Don't turn on the heating now.\", 'Can you turn the heating in the basement lower in an hour?', 'Can you turn the heating in the cellar lower in an hour?', 'Can you turn the heating in the kitchen lower in an hour?', 'Can you turn the heating in the toilet lower in an hour?', 'Can you turn the heating in the attic lower in an hour?', 'Can you turn the heating in the kitchen lower in an hour?', 'Can you turn the heating in the diningroom lower in an hour?', 'It is cold in the bathroom.', 'It is cold in the attic.', 'It is cold in the dining room.', 'It is cold in the basement.', 'It is cold in the library.', 'It is cold in the kitchen.', 'It is cold in the toilet.', 'It is hot in the bathroom.', 'It is hot in the attic.', 'It is hot in the dining room.', 'It is hot in the basement.', 'It is hot in the library.', 'It is hot in the kitchen.', 'It is hot in the toilet.', 'Can you turn on the heating in the kitchen in 10 minutes for me please?', 'Can you turn on the heating in the living room in 11 minutes for me please?', 'Can you turn on the heating in the living room in 5 minutes for me please?', 'Can you turn on the heating in the living room in a minute for me please?', 'Can you turn on the heating in the living room in 2 minutes for me please?', 'Can you turn on the heating in the living room in 1 minute for me please?', 'Can you turn on the heating in the living room in a minute for me please?', 'Can you turn on the heating in the library in 11 minutes for me please?', 'Can you turn on the heating in the library in 5 minutes for me please?', 'Turn the heating off in the bathroom in an hour.', \"Don't turn off the heating in an hour.\", 'Make it less cold in the cellar.', 'Make it colder in the basement.', 'Can you turn the heating higher in the bathroom?', 'Lower the shutters in the living room.', 'Lower the shutters in the kitchen.', 'Lower the shutters in the library.', 'Lower the shutters in the basement.', 'Lower the shutters in the cellar.', 'Lower the shutters in the bathroom.', 'Lower the shutters in the toilet.', 'Raise the shutters in the living room.', 'Raise the shutters in the kitchen.', 'Raise the shutters in the library.', 'Raise the shutters in the basement.', 'Raise the shutters in the cellar.', 'Raise the shutters in the bathroom.', 'Raise the shutters in the toilet.', \"Don't do anything with the shutters.\", 'The sun is blinding me in the toilet.', 'Turn down the window shutters.', 'Open the window shutters in a minute for me please.', 'Let the shutters down in the basement in an hour.', 'Shut the shutters in the kitchen.', 'Shut the shutters in a minute.', 'It is too light in the library.', 'Let the shutters down in the basement when it is light outside.', 'Open up the shutters in the library when it is light outside.', 'It is too bright in the kitchen.', 'Shut down the shutters when it gets too hot in the bathroom.', 'Open up the shutters when it gets below 10 degrees fahrenheit.', \"Don't do anything when it gets hot in the kitchen.\", 'I will not like it when you turn on the toaster right now.', 'Can you turn on the toaster for me please?', 'Turn off the toaster for me please.', \"Don't turn off the toaster in an hour.\", \"Don't turn off the toaster in a minute.\", 'Turn on the toaster in a month.', 'Turn on the toaster in a minute.', 'Turn on the toaster in a day.', 'Turn off the toaster in an hour.', 'Turn off the toaster in a minute.', 'Turn off the toaster in a day.', 'Turn off the toaster in an hour.', 'Make the toaster warm.', 'Make the toaster cold.', 'Make sure the toaster gets gradually colder.', 'Shut off the electricity to the toaster in an hour for me.', 'Shut off the electricity to the toaster in a day for me.', 'How long before my toast will be ready?', 'How long before I will get my toast?', 'Could you make me some toast in an hour?', 'How long has the toaster been on?', 'Could you make me some toast today?', 'Could you make me some toast yesterday?', \"Don't turn on the toaster.\", 'Power down the toaster.', 'Power down the toaster in an hour.', 'Power down the toaster in the bathroom in an hour.', 'Power down the toaster in the library in an hour.', 'Power down the toaster in the living room in a day.', 'Turn on the toaster when it is 6 AM.', 'Can you turn on the toaster when I wake up.', 'Can you turn on the toaster when the sun rises.', 'Can you open up the garage door when I get home for me please?', 'Let the garage door down now.', 'Can you open the garage door in an hour?', 'Close the garage door in a day for me please.', 'Shut down the garage door in an hour for me.', 'Can you put the garage door down tomorrow?', 'Can you put the garage door down yesterday?', 'Can you put the garage door up tomorrow?', 'Can you put the garage door up yesterday?', 'Shut down the garage door in a minute for me.', 'Shut down the garage door in an day for me.', 'Open up the garage door in a minute for me.', 'Open up the garage door in an day for me.', 'Make sure my car can get out the garage.', \"Will you make sure my car doesn't hit the garage door?\", 'Shut down the garage door in 21 minutes for me.', 'Shut down the garage door in 15 minutes for me.', 'Shut down the garage door in fourteen minutes for me.', 'Shut down the garage door in sixteen minutes for me.', \"Don't shut down the garage door in 43 minutes for me.\", \"Don't shut down the garage door in 112 minutes for me.\", \"Don't shut down the garage door in eighteen minutes for me.\", \"Don't shut down the garage door in sixteen minutes for me.\", 'Can you please stop doing something to the garage door?', 'Can you please stop letting the garage door down?', 'Shut the garage door when I get home.', 'Power down the garage door.', 'Power down the garage door in a minute.', 'Power down the garage door in an hour.', 'Power down the garage door in six days.', 'Can you turn on the coffee machine when I wake up?', \"Don't do anything when I wake up.\", 'Turn on the coffee machine for me.', 'Can you turn off the coffee machine in a minute?', 'How long before the coffee machine will be done?', 'How long before my coffee is ready?', 'Cut off electricity to my coffee machine.', 'Give power to my cofeemachine.', 'Let the coffee flow!', 'Could you get me some coffee?', 'Could you give me some coffee in an hour?', 'How long has the coffee machine been running?', 'Turn on the coffeemachine when I get home.', 'Power up the coffee machine in the living room for me.', 'Turn down the coffee machine in the bathroom.', 'Give me coffee.', \"Don't give me any coffee.\", \"Don't turn on the coffee machine.\", \"Don't do anything to the coffee machine.\", 'Cut off the electricity of the coffee machine.', 'Power down the coffeemachine.', 'Power down the coffeemachine in an hour.', 'Power down the coffeemachine in the bathroom in an hour.', 'Power down the coffeemachine in the attic in six days.', 'Turn on the coffeemachine when it is six AM.', 'Turn off the coffeemachine when the coffee is done.', 'What time is it?', 'What does the clock say?', \"I don't want to know what time it is.\", 'Do you know what time it is?', 'Do you want tot tell me the time?', \"Don't tell me the time.\", 'Tell me the time in 4 minutes.', 'Time.', \"I don't want you to tell me the time.\", 'Tell me the time in an hour.', 'Tell me the time in a day.', 'What does te clock say?']\n"
          ]
        }
      ]
    },
    {
      "cell_type": "code",
      "source": [
        "text = ' '.join(sent_nt)\n",
        "print(text)"
      ],
      "metadata": {
        "id": "WiCXsBEYjPR6",
        "colab": {
          "base_uri": "https://localhost:8080/"
        },
        "outputId": "8a333333-6a09-4f4a-d5de-f6cc20844128"
      },
      "execution_count": 27,
      "outputs": [
        {
          "output_type": "stream",
          "name": "stdout",
          "text": [
            "Illuminate the kitchen today. Illuminate the kitchen tomorrow. Turn on the light in the kitchen in 10 hours. Turn on the light in the kitchen in 1 day. Illuminate the dining room today. Don't illuminate the dining room today. Illuminate the dining room tomorrow. Turn on the light in the dinin room in 10 hours. Turn on the light in the dining room in 1 day. Turn on the light in the bathroom. Don't turn on the light right now. I would get mad if you'd put on the light right now. I would not like it if you wouldn't turn on the light right now. Is the light on in the living room. Would you illuminate the living room in one hour for me please. It would be great if you'd turn on the light for me. Light on in kitchen. Light off in living room in a few hours. Turn the light off in the basement. Turn the light off in the dining room. I would like if you made it brighter. I would like if you made it brighter in 3 minutes. Can you make it brighter here in 8 minutes? Can you make it more dark here? Don't make it more dark here. I would get mad if you would turn on the light in the dining room right now. Is the light on in the bathroom? Is the light on in the bathroom. Has the light been on long in the bathroom? Has the light been off long in the kitchen? Is the light in the bathroom on? Did you turn on the light already? Can you please turn on the light? Help me to turn on the light. Can you please turn on the light in a minute? Help me to turn on the light in a minute. It is so dark here. I can't see anything. Lighten the room. Can you please turn on the light in a few minutes? Help me to turn on the light in a few minutes. Lighten the room in a few minutes. Lighten the room in 5 minutes. Turn the light off in the kitchen in 10 minutes. Don't turn the light off in the kitchen in 10 minutes. Make it less dark in the attic now. Turn on the light in the attic. Illuminate the attic. Turn off the lights in one hour. Turn on the light. Flicker the lights for me. Turn on the refrigerator. Turn on the oven. Turn on the music system. Turn off the light in the attic. Turn off the light in the basement. Turn off the light in the kitchen. Turn off the light in the library. Turn off the light in the kitchen. Turn off the light in the dining room. Turn off the light in the cellar. Turn off the lights in the attic. Turn off the lights in the basement. Turn off the lights in the kitchen. Turn off the lights in the library. Turn off the lights in the kitchen. Turn off the lights in the dining room. Turn off the lights in the cellar. Turn off something in 45 minutes. Turn on something. Put on a random appliance in 7 days. lights. Can you make it less dark in the bathroom tomorrow? Can you make it less dark in the toilet tomorrow? Turn on the light in the attic in one hour. Can you turn off the lights in the cellar? I would get mad if you turn on the lights right now. It is dark in the cellar. It is dark in the bathroom. It is dark in the living room. It is dark in the library. It is dark in the toilet. It is dark in the attic. It is dark in the basement. Can you make it less dark in the dining room in 5 minutes? Can you make it less dark in the cellar in 85 minutes? Can you make it less dark in the attic in 5 minutes? Can you make it less dark in the kitchen in 45 minutes? Can you make it less dark in the toilet in 15 minutes? Can you make it less dark in the library in 50 minutes? Can you make it less dark in the basement in 5 minutes? Can you make it more bright in the dining room in 15 hours? Can you make it more bright in the cellar in 50 hours? Can you make it more bright in the attic in an hour? Can you make it more bright in the kitchen in 5 days? Can you make it more bright in the toilet in 5 weeks? Can you make it more bright in the library in 2 minutes? Can you make it more bright in the basement in 5 minutes? Can you make it less bright in the dining room in 15 hours? Can you make it less bright in the cellar in 50 hours? Can you make it less bright in the attic in an hour? Can you make it less bright in the kitchen in 5 days? Can you make it less bright in the toilet in 5 weeks? Can you make it less bright in the library in 2 minutes? Can you make it less bright in the basement in 5 minutes? Don't turn off the lights. Turn on the lights when I get home. Turn on the lights when it's dark outside. Turn off the lights when it is light outside. Was there any motion between september and october? Was the camera in the bathroom on yesterday? Was the camera in the toilet on yesterday? Was there motion? Is the recording device on? Was there motion with the motion viewer? Would you tell me if there was any motion on the camera outside? Was there any motion on the camera outside? Was there movement on the camera in the kitchen yesterday? Was there movement on the camera in the attic yesterday? Was there movement on the camera in the bathroom yesterday? Was there movement on the camera in the backyard yesterday? Was there movement on the camera in the living room yesterday? I would like it that you'd tell me if the camera in the living room is on. Where there strangers tonight at my house? Did you see any movement tonight? Was there something strange outside? Is there something I should know about the motion? What do you see on the camera? How many cameras are there? Where are all the cameras installed? Is there many motion on the cameras lately? What is the camera currently shooting? Did humans appear on the camera today? Would you tell me if there was motion between september and october? Is the camera on? Turn on the camera. A camera does recording and viewing. Could you give me some info on the camera in the backyard? Was there any movement on the cameras today? Was there a person outside today? Was there any movement on the cameras yesterday? Was there a person outside yesterday? camera. Was there any motion in the past hour on the camera outside? Was there any motion in the backyard yesterday? Was there unusual activity on the camera in the backyard today? Don't open up an app. I would not like it if you would open an app right now. Would you open the Home app for me please? Open the relay app for me now. Open camera app. Open relay app. Would you open the Home app in one day for me please? Open the relay app for me in a few days. Open camera app yesterday. Open relay app tomorrow. I would like it if you'd open the camera app. Is it possible to open up the camera app? Can you show me the motion on the camera? Can you show me the motion on the camera in 5 minutes? Is it possible to open up the relay app? Is it possible to open up the relay app in a certain amount of minutes? Can you do me a favor and open up the locationtracker app? Open up a random app for me. Open up a random app for me in two hours. Open the Facebook app for me. Open any app you want in 8 minutes. The relay app has to be shown to me in 5 minutes. Don't open up an app. Open any app you want now. Open something in 5 minutes. Open up the app which will show me relay information. Open up Google Maps in one hour. Open up Google Maps. Show me motion. open. Can you open up the Maps app in 5 minutes for me please? Can you give me directions to my home? How far am I from home? Can I get home from here? Can you tell me the way to that place? Get me home. How far am I from home in an hour? Can I get home from here in 2 hours? Can you tell me the way to that place in an hour? Get me home tomorrow. Where am I? How long before I will be home? Show me the bus between leuven and home? Where is the nearest bus stop in Antwerpen? Where is the nearest bus stop in Brussels? Where is the nearest bus stop in Leuven? Where is the nearest bus stop in Hasselt? Where is the nearest bus stop? How do I get home with the bus? How do I get home with the bus in an hour? Where is my home? When do the trains departure in Leuven? When do the trains departure? When do the trains departure in an hour? Show me the trains that departure now in Hasselt. Show me the trains that departure in Hasselt in ten minutes. When do the busses departure in Leuven? When do the busses departure? When do the busses departure in an hour? Show me the busses that departure now in Hasselt. Show me the busses that departure in Hasselt in ten minutes. Are there any delays with busses at my location? Do I have to travel far when I want to go home? Do I have to travel far when I want to go home in a few minutes? Should I use the public transport now? When will I be home when I leave now with my car in 5 minutes? Can you show me how I will be getting home with my car? How far is it to Antwerpen? Find the closest train station. Find the nearest bus stop. Find the nearest bus stop in 3 minutes. Where do I live? Where is the nearest train station? Where is the closest train station? Where is the nearest train station in Antwerpen? Where is the nearest train station in Brussels? Where is the nearest train station in Leuven? Where is the nearest train station in Hasselt? Where is the nearest train station? How do I get home with the train? When do the busses depart? When do the busses depart in Antwerpen? When do the busses depart in Brussels? When do the busses depart in Leuven? When do the busses depart in Hasselt? Where is the nearest bus station? Where is the closest bus stop? Give me some directions. direction. How do I get home in one hour? How do I get home from Leuven? When do the trains departure? What is the closest train station from here? How do I get to Leuven? How do I get home from Leuven in a minute? When does the first train leave to Balen from Leuven? How do I get from Leuven to Hasselt? What is the temperature in the room right now? What is the temperature in the room? What is temperature in the room? Is it hot in the room? What is the temperature in the room in 3 minutes? What is the humidity in the room in 3 minutes? What is temperature in the room in 3 minutes? What are the sensor readings from the bathroom? Give me info from the kitchen. Give me info from the bathroom. Give me some readings of the dining room tomorrow. Tomorrow give me info from the kitchen. Tomorrow give me info from the bathroom. Tomorrow give me info from the attic. I want info from the bathroom in 5 minutes. I want info from the bathroom in 8 minutes. I want info from the bathroom in 2 days. I want info from the attic tomorrow. Enlighten me about the kitchen. Is there motion in the bathroom right now? Was there any activity in the living room? Is the light on in the kitchen? What is the humidity in averaged over a week? What does the temperature reading in the basement say? What does the temperature reading in the dining room say? Are there any sensors in the attic? Don't give me any information. Give me information about all rooms in 10 minutes. Which sensors are currently in operation? Were there any sensor malfunctions lately? Show me the sensors tomorrow. Don't show me the sensors tomorrow. Give me some information for yesterday. Give me some information about some sensors. Show me some sensor readings. Show me some sensor readings in a few minutes. What are the sensor readings from the toilet? Give me info from the toilet. Tomorrow give me info from the toilet. I want info from the toilet in 5 minutes. I want info from the toilet in 8 minutes. I want info from the toilet in 2 days. Is there motion in the toilet right now? Can you give me some information about the toilet? information. What is the temperature in the library? What is the humidity in the library? Update me in an hour what temperature it is in the library. Don't let me know what humidity it is in the library. What is the temperature in the library? What is the temperature in the bathroom? What is the humidity in the bathroom? Update me in an hour what temperature it is in the bathroom. Don't let me know what humidity it is in the bathroom. What is the temperature in the bathroom? What is the temperature in the dining room? What is the humidity in the dining room? Update me in an hour what temperature it is in the dining room. Don't let me know what humidity it is in the dining room. What is the temperature in the dining room? What is the temperature in the kitchen? What is the humidity in the kitchen? Update me in an hour what temperature it is in the kitchen. Don't let me know what humidity it is in the kitchen. What is the temperature in the kitchen? What is the temperature in the toilet? What is the humidity in the toilet? Update me in an hour what temperature it is in the toilet. Don't let me know what humidity it is in the toilet. What is the temperature in the toilet? What is the temperature in the attic? What is the humidity in the attic? Update me in an hour what temperature it is in the attic. Don't let me know what humidity it is in the attic. What is the temperature in the attic? What is the temperature in the cellar? What is the humidity in the cellar? Update me in an hour what temperature it is in the cellar. Don't let me know what humidity it is in the cellar. What is the temperature in the cellar? What is the temperature in the basement? What is the humidity in the basement? Update me in an hour what temperature it is in the basement. Don't let me know what humidity it is in the basement. What is the temperature in the basement? Is it hot in the kitchen right now? Is it hot in the library? Is it hot in the kitchen? Is it hot in the dining room? Is it hot in the cellar? Is it hot in the attic? Is it hot in the basement? Is it cold in the kitchen right now? Is it cold in the library? Is it cold in the kitchen? Is it cold in the dining room? Is it cold in the cellar? Is it cold in the attic? Is it cold in the basement? Is it cold in the bathroom? Is it hot in the bathroom? Can you give me some info about the cellar? Cellar. Toilet. Bathroom. Living room. Library. Basement. Attic. Dining room. Myplace. What temperature is it in the attic? Who are you? What is the tallest mountain on earth? In what movies did Adam Sandler play? What is a continent? Is weed considered a hard drug? Which players are in the premier league? When do you know when you are sick? What is the deepest trench on earth? Are we alone in this universe? How many animal species are there? How many religions are there? What is the tallest mountain? In what language are you written? Are you alive? Can you move over the internet? Are you mean? What do you think about Donald Trump? Are you republican or democrat? Do you own the camera? Can you see? How many oceans are there on earth? I don't like justin bieber. Dinosaurs don't exist anymore. Who is Justin Bieber. Do you control the cameras? How tall is the tallest human? other. I like potatoes. Do you own the light? Am I facing north? How many pixels does the camera have? If it is not a question it responds with ok. Ok. I like you. Don't say anything. Keep your mouth shut. Don't give me information. You're stupid. Do not do anything. Don't do anything. Where are you? Where do you live? Are you alive? In what language are you written? Random. Nothing. ok. I don't like drowning. Why not? What is the capital of Belgium? I am bored. What is the meaning of life? Do you know other special things? What do you feel right now? Do you have feelings? Can you be sad? Can you tell me what it is like to be happy? I am happy. Do you like animals? I like cats and dogs. Is it going to be hot in Spain tomorrow? What temperature is it in Brussels? What temperature is it in Antwerpen? What temperature is it in Crete? What temperature is it in the islands of the malidives? I do not want to now which weather it is in an hour. How is the weather like in Crete? How is the weather like in Crete next month? Will it rain later today? Will the sun shine in 10 minutes? weather. Am I going to get wet if I go outside now? Will i get wet when i leave the house now. Am I going to get wet if I go outside in a few minutes? Will i get wet when i leave the house in 3 minutes? Sun. Will there be fog in 7 minutes. Will there be fog today. How is the weather going to be in Mallorca tomorrow? Will the sun shine in Antwerp? Will the sun shine in Antwerp in 5 hours? Rain. It will rain. Is it storming outside? Will it be storming tomorrow? It is storming in 10 minutes. Was it storming yesterday? It is cold outside today. Is it cold in Greece now? Is it cold outside? It is warm outside today. Is it warm in Greece now? Is it warm outside in an hour? Will I get wet when I go outside now? Is it hailing right now? Is there hail coming down from the skies? Do you think I can ride my bike outside without getting wet? Is it cloudy today? Are there a lot of clouds? Is it foggy outside? Will there be rain when I go outside? Is it wet outside? Is it hot outside? What is the weather like in the Malidives in six hours? Is the sun going to shine today? Is the sun shining today? Is the sun going to shine tomorrow? Did the sun shine yesterday? Is it hot in Crete? Is it hot? Will it rain today? What is the temperature outside? How many degrees is it outside? Do you think it will be hot tomorrow? Will it freeze in Leuven tomorrow? Did it freeze in Hasselt yesterday? Will it freeze tonight? Will it be so cold that water freezes tonight? Will it be so cold that water freezes today? Is it freezing? Is it going to freeze? Is it freezing in Leuven? Do you think it will freeze tomorrow? Can you turn on the heating in the bathroom when it freezes outside? Turn off the heating in the library when the outdoor temperature climbs above 20 degrees. Turn off the heating in the library when the outdoor temperature climbs above 20 degrees fahrenheit. Don't do anything with the heating. If you want to turn the heating on please don't. Turn on the heating when the outside temperature falls below 5 degrees celsius. Turn on the heating when the outside temperature falls below 0 degrees centigrade. Can you turn on the heating in the bathroom in an hour? Can you turn on the heating in the attic in an hour? Can you turn on the heating in the dining room in an hour? Can you turn on the heating in the basement in an hour? Can you turn on the heating in the library in an hour? Can you turn on the heating in the kitchen in an hour? Can you turn on the heating in the toilet in an hour? It is a little cold in the bathroom. It is a little cold in the attic. It is a little cold in the dining room. It is a little cold in the basement. It is a little cold in the library. It is a little cold in the kitchen. It is a little cold in the toilet. Don't turn on the heating now. Can you turn the heating in the basement lower in an hour? Can you turn the heating in the cellar lower in an hour? Can you turn the heating in the kitchen lower in an hour? Can you turn the heating in the toilet lower in an hour? Can you turn the heating in the attic lower in an hour? Can you turn the heating in the kitchen lower in an hour? Can you turn the heating in the diningroom lower in an hour? It is cold in the bathroom. It is cold in the attic. It is cold in the dining room. It is cold in the basement. It is cold in the library. It is cold in the kitchen. It is cold in the toilet. It is hot in the bathroom. It is hot in the attic. It is hot in the dining room. It is hot in the basement. It is hot in the library. It is hot in the kitchen. It is hot in the toilet. Can you turn on the heating in the kitchen in 10 minutes for me please? Can you turn on the heating in the living room in 11 minutes for me please? Can you turn on the heating in the living room in 5 minutes for me please? Can you turn on the heating in the living room in a minute for me please? Can you turn on the heating in the living room in 2 minutes for me please? Can you turn on the heating in the living room in 1 minute for me please? Can you turn on the heating in the living room in a minute for me please? Can you turn on the heating in the library in 11 minutes for me please? Can you turn on the heating in the library in 5 minutes for me please? Turn the heating off in the bathroom in an hour. Don't turn off the heating in an hour. Make it less cold in the cellar. Make it colder in the basement. Can you turn the heating higher in the bathroom? Lower the shutters in the living room. Lower the shutters in the kitchen. Lower the shutters in the library. Lower the shutters in the basement. Lower the shutters in the cellar. Lower the shutters in the bathroom. Lower the shutters in the toilet. Raise the shutters in the living room. Raise the shutters in the kitchen. Raise the shutters in the library. Raise the shutters in the basement. Raise the shutters in the cellar. Raise the shutters in the bathroom. Raise the shutters in the toilet. Don't do anything with the shutters. The sun is blinding me in the toilet. Turn down the window shutters. Open the window shutters in a minute for me please. Let the shutters down in the basement in an hour. Shut the shutters in the kitchen. Shut the shutters in a minute. It is too light in the library. Let the shutters down in the basement when it is light outside. Open up the shutters in the library when it is light outside. It is too bright in the kitchen. Shut down the shutters when it gets too hot in the bathroom. Open up the shutters when it gets below 10 degrees fahrenheit. Don't do anything when it gets hot in the kitchen. I will not like it when you turn on the toaster right now. Can you turn on the toaster for me please? Turn off the toaster for me please. Don't turn off the toaster in an hour. Don't turn off the toaster in a minute. Turn on the toaster in a month. Turn on the toaster in a minute. Turn on the toaster in a day. Turn off the toaster in an hour. Turn off the toaster in a minute. Turn off the toaster in a day. Turn off the toaster in an hour. Make the toaster warm. Make the toaster cold. Make sure the toaster gets gradually colder. Shut off the electricity to the toaster in an hour for me. Shut off the electricity to the toaster in a day for me. How long before my toast will be ready? How long before I will get my toast? Could you make me some toast in an hour? How long has the toaster been on? Could you make me some toast today? Could you make me some toast yesterday? Don't turn on the toaster. Power down the toaster. Power down the toaster in an hour. Power down the toaster in the bathroom in an hour. Power down the toaster in the library in an hour. Power down the toaster in the living room in a day. Turn on the toaster when it is 6 AM. Can you turn on the toaster when I wake up. Can you turn on the toaster when the sun rises. Can you open up the garage door when I get home for me please? Let the garage door down now. Can you open the garage door in an hour? Close the garage door in a day for me please. Shut down the garage door in an hour for me. Can you put the garage door down tomorrow? Can you put the garage door down yesterday? Can you put the garage door up tomorrow? Can you put the garage door up yesterday? Shut down the garage door in a minute for me. Shut down the garage door in an day for me. Open up the garage door in a minute for me. Open up the garage door in an day for me. Make sure my car can get out the garage. Will you make sure my car doesn't hit the garage door? Shut down the garage door in 21 minutes for me. Shut down the garage door in 15 minutes for me. Shut down the garage door in fourteen minutes for me. Shut down the garage door in sixteen minutes for me. Don't shut down the garage door in 43 minutes for me. Don't shut down the garage door in 112 minutes for me. Don't shut down the garage door in eighteen minutes for me. Don't shut down the garage door in sixteen minutes for me. Can you please stop doing something to the garage door? Can you please stop letting the garage door down? Shut the garage door when I get home. Power down the garage door. Power down the garage door in a minute. Power down the garage door in an hour. Power down the garage door in six days. Can you turn on the coffee machine when I wake up? Don't do anything when I wake up. Turn on the coffee machine for me. Can you turn off the coffee machine in a minute? How long before the coffee machine will be done? How long before my coffee is ready? Cut off electricity to my coffee machine. Give power to my cofeemachine. Let the coffee flow! Could you get me some coffee? Could you give me some coffee in an hour? How long has the coffee machine been running? Turn on the coffeemachine when I get home. Power up the coffee machine in the living room for me. Turn down the coffee machine in the bathroom. Give me coffee. Don't give me any coffee. Don't turn on the coffee machine. Don't do anything to the coffee machine. Cut off the electricity of the coffee machine. Power down the coffeemachine. Power down the coffeemachine in an hour. Power down the coffeemachine in the bathroom in an hour. Power down the coffeemachine in the attic in six days. Turn on the coffeemachine when it is six AM. Turn off the coffeemachine when the coffee is done. What time is it? What does the clock say? I don't want to know what time it is. Do you know what time it is? Do you want tot tell me the time? Don't tell me the time. Tell me the time in 4 minutes. Time. I don't want you to tell me the time. Tell me the time in an hour. Tell me the time in a day. What does te clock say?\n"
          ]
        }
      ]
    },
    {
      "cell_type": "code",
      "source": [
        "text1= NER(text)"
      ],
      "metadata": {
        "id": "JK2KF3YdjA21"
      },
      "execution_count": 28,
      "outputs": []
    },
    {
      "cell_type": "code",
      "source": [
        "name=[]\n",
        "for word in text1.ents:\n",
        "    print(word.text,word.label_)\n",
        "    if word.label_ == 'ORG' or word.label_ == 'PERSON' or word.label_ == 'LOC' or word.label_ == 'GPE':\n",
        "      name.append(word.text)"
      ],
      "metadata": {
        "id": "5lIrhTmQjqt8",
        "colab": {
          "base_uri": "https://localhost:8080/"
        },
        "outputId": "630bd25f-e717-47ba-9325-da14c337db66"
      },
      "execution_count": 29,
      "outputs": [
        {
          "output_type": "stream",
          "name": "stdout",
          "text": [
            "today DATE\n",
            "tomorrow DATE\n",
            "10 hours TIME\n",
            "1 day DATE\n",
            "today DATE\n",
            "today DATE\n",
            "tomorrow DATE\n",
            "10 hours TIME\n",
            "1 day DATE\n",
            "one hour TIME\n",
            "a few hours TIME\n",
            "3 minutes TIME\n",
            "8 minutes TIME\n",
            "a minute TIME\n",
            "a few minutes TIME\n",
            "a few minutes TIME\n",
            "a few minutes TIME\n",
            "5 minutes TIME\n",
            "10 minutes TIME\n",
            "10 minutes TIME\n",
            "one hour TIME\n",
            "45 minutes TIME\n",
            "7 days DATE\n",
            "tomorrow DATE\n",
            "tomorrow DATE\n",
            "one hour TIME\n",
            "5 minutes TIME\n",
            "85 minutes TIME\n",
            "5 minutes TIME\n",
            "45 minutes TIME\n",
            "15 minutes TIME\n",
            "50 minutes TIME\n",
            "5 minutes TIME\n",
            "15 hours TIME\n",
            "50 hours TIME\n",
            "an hour TIME\n",
            "5 days DATE\n",
            "5 weeks DATE\n",
            "2 minutes TIME\n",
            "5 minutes TIME\n",
            "15 hours TIME\n",
            "50 hours TIME\n",
            "an hour TIME\n",
            "5 days DATE\n",
            "5 weeks DATE\n",
            "2 minutes TIME\n",
            "5 minutes TIME\n",
            "between september and october DATE\n",
            "yesterday DATE\n",
            "yesterday DATE\n",
            "yesterday DATE\n",
            "yesterday DATE\n",
            "yesterday DATE\n",
            "yesterday DATE\n",
            "yesterday DATE\n",
            "tonight TIME\n",
            "tonight TIME\n",
            "between september and october DATE\n",
            "today DATE\n",
            "today DATE\n",
            "yesterday DATE\n",
            "yesterday DATE\n",
            "the past hour TIME\n",
            "yesterday DATE\n",
            "today DATE\n",
            "a few days DATE\n",
            "yesterday DATE\n",
            "tomorrow DATE\n",
            "5 minutes TIME\n",
            "minutes TIME\n",
            "two hours TIME\n",
            "8 minutes TIME\n",
            "5 minutes TIME\n",
            "5 minutes TIME\n",
            "Google Maps ORG\n",
            "one hour TIME\n",
            "Google Maps ORG\n",
            "5 minutes TIME\n",
            "an hour TIME\n",
            "2 hours TIME\n",
            "tomorrow DATE\n",
            "Antwerpen ORG\n",
            "Brussels GPE\n",
            "Leuven PERSON\n",
            "Hasselt LOC\n",
            "an hour TIME\n",
            "Leuven PERSON\n",
            "an hour TIME\n",
            "Hasselt LOC\n",
            "Hasselt LOC\n",
            "ten minutes TIME\n",
            "Leuven PERSON\n",
            "an hour TIME\n",
            "Hasselt LOC\n",
            "Hasselt LOC\n",
            "ten minutes TIME\n",
            "a few minutes TIME\n",
            "5 minutes TIME\n",
            "Antwerpen ORG\n",
            "3 minutes TIME\n",
            "Antwerpen ORG\n",
            "Brussels GPE\n",
            "Leuven PERSON\n",
            "Hasselt LOC\n",
            "Antwerpen ORG\n",
            "Brussels GPE\n",
            "Leuven PERSON\n",
            "one hour TIME\n",
            "Leuven PERSON\n",
            "Leuven PERSON\n",
            "Leuven PERSON\n",
            "first ORDINAL\n",
            "Balen PERSON\n",
            "Leuven PERSON\n",
            "3 minutes TIME\n",
            "3 minutes TIME\n",
            "3 minutes TIME\n",
            "tomorrow DATE\n",
            "Tomorrow DATE\n",
            "Tomorrow DATE\n",
            "5 minutes TIME\n",
            "8 minutes TIME\n",
            "2 days DATE\n",
            "tomorrow DATE\n",
            "10 minutes TIME\n",
            "tomorrow DATE\n",
            "tomorrow DATE\n",
            "yesterday DATE\n",
            "a few minutes TIME\n",
            "Tomorrow DATE\n",
            "5 minutes TIME\n",
            "8 minutes TIME\n",
            "2 days DATE\n",
            "Adam Sandler PERSON\n",
            "Donald Trump PERSON\n",
            "republican NORP\n",
            "democrat NORP\n",
            "justin ORG\n",
            "Justin Bieber PERSON\n",
            "Belgium GPE\n",
            "Spain GPE\n",
            "tomorrow DATE\n",
            "Brussels GPE\n",
            "Antwerpen ORG\n",
            "an hour TIME\n",
            "next month DATE\n",
            "10 minutes TIME\n",
            "a few minutes TIME\n",
            "3 minutes TIME\n",
            "7 minutes TIME\n",
            "today DATE\n",
            "tomorrow DATE\n",
            "Antwerp GPE\n",
            "Antwerp GPE\n",
            "5 hours TIME\n",
            "tomorrow DATE\n",
            "10 minutes TIME\n",
            "yesterday DATE\n",
            "today DATE\n",
            "Greece GPE\n",
            "today DATE\n",
            "an hour TIME\n",
            "today DATE\n",
            "six hours TIME\n",
            "today DATE\n",
            "today DATE\n",
            "tomorrow DATE\n",
            "yesterday DATE\n",
            "today DATE\n",
            "tomorrow DATE\n",
            "Leuven PERSON\n",
            "tomorrow DATE\n",
            "Hasselt GPE\n",
            "yesterday DATE\n",
            "tonight TIME\n",
            "tonight TIME\n",
            "today DATE\n",
            "Leuven PERSON\n",
            "tomorrow DATE\n",
            "20 degrees QUANTITY\n",
            "20 degrees QUANTITY\n",
            "5 degrees QUANTITY\n",
            "0 degrees QUANTITY\n",
            "an hour TIME\n",
            "an hour TIME\n",
            "an hour TIME\n",
            "an hour TIME\n",
            "an hour TIME\n",
            "an hour TIME\n",
            "an hour TIME\n",
            "an hour TIME\n",
            "an hour TIME\n",
            "an hour TIME\n",
            "an hour TIME\n",
            "an hour TIME\n",
            "an hour TIME\n",
            "10 minutes TIME\n",
            "11 minutes TIME\n",
            "5 minutes TIME\n",
            "2 minutes TIME\n",
            "1 minute TIME\n",
            "11 minutes TIME\n",
            "5 minutes TIME\n",
            "an hour TIME\n",
            "an hour TIME\n",
            "a minute TIME\n",
            "an hour TIME\n",
            "a minute TIME\n",
            "10 degrees QUANTITY\n",
            "an hour TIME\n",
            "a minute TIME\n",
            "a month DATE\n",
            "a minute TIME\n",
            "a day DATE\n",
            "an hour TIME\n",
            "a minute TIME\n",
            "a day DATE\n",
            "an hour TIME\n",
            "an hour TIME\n",
            "an hour TIME\n",
            "today DATE\n",
            "yesterday DATE\n",
            "an hour TIME\n",
            "an hour TIME\n",
            "an hour TIME\n",
            "a day DATE\n",
            "6 AM TIME\n",
            "an hour TIME\n",
            "an hour TIME\n",
            "tomorrow DATE\n",
            "yesterday DATE\n",
            "tomorrow DATE\n",
            "yesterday DATE\n",
            "a minute TIME\n",
            "a minute TIME\n",
            "21 minutes TIME\n",
            "15 minutes TIME\n",
            "fourteen minutes TIME\n",
            "sixteen minutes TIME\n",
            "43 minutes TIME\n",
            "112 minutes TIME\n",
            "eighteen minutes TIME\n",
            "sixteen minutes TIME\n",
            "six days DATE\n",
            "a minute TIME\n",
            "an hour TIME\n",
            "an hour TIME\n",
            "an hour TIME\n",
            "six days DATE\n",
            "six AM TIME\n",
            "4 minutes TIME\n",
            "an hour TIME\n",
            "a day DATE\n"
          ]
        }
      ]
    },
    {
      "cell_type": "code",
      "source": [
        "names = list(set(name))\n",
        "print(names)"
      ],
      "metadata": {
        "id": "cGLxm3bdkYrU",
        "colab": {
          "base_uri": "https://localhost:8080/"
        },
        "outputId": "e2870684-bae4-4a1f-8175-7b457c16ebc2"
      },
      "execution_count": 30,
      "outputs": [
        {
          "output_type": "stream",
          "name": "stdout",
          "text": [
            "['Google Maps', 'Justin Bieber', 'Balen', 'Antwerpen', 'Brussels', 'Donald Trump', 'Belgium', 'Antwerp', 'Hasselt', 'Adam Sandler', 'Leuven', 'Greece', 'justin', 'Spain']\n"
          ]
        }
      ]
    },
    {
      "cell_type": "code",
      "source": [
        "names.append('Facebook')\n",
        "print(names)"
      ],
      "metadata": {
        "id": "ZKyYzEvMn2fX",
        "colab": {
          "base_uri": "https://localhost:8080/"
        },
        "outputId": "3557e219-1c22-4915-888d-4471ba9368be"
      },
      "execution_count": 31,
      "outputs": [
        {
          "output_type": "stream",
          "name": "stdout",
          "text": [
            "['Google Maps', 'Justin Bieber', 'Balen', 'Antwerpen', 'Brussels', 'Donald Trump', 'Belgium', 'Antwerp', 'Hasselt', 'Adam Sandler', 'Leuven', 'Greece', 'justin', 'Spain', 'Facebook']\n"
          ]
        }
      ]
    },
    {
      "cell_type": "code",
      "source": [
        "from nltk.tokenize import word_tokenize"
      ],
      "metadata": {
        "id": "FKUQhJNZpqVi"
      },
      "execution_count": 32,
      "outputs": []
    },
    {
      "cell_type": "code",
      "source": [
        "n = ' '.join(names)\n",
        "names = nltk.word_tokenize(n)\n",
        "names = list(set(names))\n",
        "print(names)"
      ],
      "metadata": {
        "id": "C96xs-MGpUVZ",
        "colab": {
          "base_uri": "https://localhost:8080/"
        },
        "outputId": "a23b251a-3653-4842-9061-d2b7c3e9dad4"
      },
      "execution_count": 33,
      "outputs": [
        {
          "output_type": "stream",
          "name": "stdout",
          "text": [
            "['Sandler', 'Donald', 'Brussels', 'Adam', 'Bieber', 'Justin', 'Balen', 'Facebook', 'Antwerp', 'justin', 'Greece', 'Antwerpen', 'Belgium', 'Hasselt', 'Trump', 'Google', 'Leuven', 'Maps', 'Spain']\n"
          ]
        }
      ]
    },
    {
      "cell_type": "code",
      "source": [
        "def auto_complete_tri(sentence, n):\n",
        "\n",
        "  find = nltk.TrigramCollocationFinder.from_words(merge_sent) \n",
        "  pmi = find.score_ngrams(nltk.TrigramAssocMeasures().pmi)\n",
        "\n",
        "  beg_sentence = nltk.word_tokenize(sentence)\n",
        "  w1 = beg_sentence[0]\n",
        "  w2 = beg_sentence[1]\n",
        "\n",
        "  top=[]\n",
        "  for (tri, score) in pmi:\n",
        "    (first, second, third) = tri\n",
        "\n",
        "    if first == w1 and second == w2 and third not in names:\n",
        "      top.append((third, score))\n",
        "    \n",
        "  top_max = nlargest(n, top, key=itemgetter(1))\n",
        "\n",
        "  return (list(zip(*top_max))[0])"
      ],
      "metadata": {
        "id": "klwa4DXvqDmA"
      },
      "execution_count": 34,
      "outputs": []
    },
    {
      "cell_type": "code",
      "source": [
        "auto_complete_tri('Open the', 5)"
      ],
      "metadata": {
        "id": "UQEIfPabqGob",
        "colab": {
          "base_uri": "https://localhost:8080/"
        },
        "outputId": "e01ba291-f518-4d1b-d6e0-7b37bc8ad046"
      },
      "execution_count": 35,
      "outputs": [
        {
          "output_type": "execute_result",
          "data": {
            "text/plain": [
              "('window', 'relay')"
            ]
          },
          "metadata": {},
          "execution_count": 35
        }
      ]
    },
    {
      "cell_type": "markdown",
      "source": [
        "J’ai utilisé spacy (‘en_core_web_sm’) pour faire une recherche sur les noms et places. Il détecte certain noms et lieux mais n’est pas parfait (comme pour le mot Facebook auquel j’ai ajouté manuellement). En utilisant la même fonction que dans la question 2 avec le trigram, j’ai ajouté une condition afin que ce dernier ne propose pas de noms ou de places. En utilisant la même sélection de 2 mots, nous voyons qu’à présent le mot Facebook est retiré de la sélection de choix."
      ],
      "metadata": {
        "id": "5NTfnXrVkXB0"
      }
    }
  ]
}